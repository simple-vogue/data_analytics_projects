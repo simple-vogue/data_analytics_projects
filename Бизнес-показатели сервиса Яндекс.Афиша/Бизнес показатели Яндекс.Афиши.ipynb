{
 "cells": [
  {
   "cell_type": "markdown",
   "metadata": {},
   "source": [
    "# Исследование бизнес показателей сервиса Яндекс.Афиша. \n",
    "\n"
   ]
  },
  {
   "cell_type": "markdown",
   "metadata": {},
   "source": [
    "Целью проекта является анализ посещаемости, доходов и расходов сервиса Яндекс.Афиша, в результате которого попытаемся выявить невыгодные источники трафика, определим перспективные когорты, сделаем выводы о финансовом положении сервиса и составим рекомендации о перераспределении бюджета для умножения прибыли."
   ]
  },
  {
   "cell_type": "markdown",
   "metadata": {},
   "source": [
    "## Содержание\n",
    "1. [Изучение общей информации.](#paragraph1)\n",
    "2. [Предобработка данных.](#paragraph2)\n",
    "3. [Расчет метрик.](#paragraph3)\n",
    "    1. [Продуктовые метрики](#subparagraph1)\n",
    "    2. [Метрики электронной коммерции](#subparagraph2)\n",
    "    3. [Маркетинговые метрики](#subparagraph3)\n",
    "4. [Вывод](#paragraph4)\n"
   ]
  },
  {
   "cell_type": "code",
   "execution_count": 1,
   "metadata": {},
   "outputs": [],
   "source": [
    "import pandas as pd\n",
    "import numpy as np\n",
    "import matplotlib.pyplot as plt\n",
    "import seaborn as sns\n",
    "import warnings"
   ]
  },
  {
   "cell_type": "code",
   "execution_count": 2,
   "metadata": {},
   "outputs": [],
   "source": [
    "warnings.filterwarnings(\"ignore\")"
   ]
  },
  {
   "cell_type": "code",
   "execution_count": 3,
   "metadata": {},
   "outputs": [],
   "source": [
    "try:\n",
    "    visits = pd.read_csv('/datasets/visits_log.csv')\n",
    "    costs = pd.read_csv('/datasets/costs.csv')\n",
    "    orders = pd.read_csv('/datasets/orders_log.csv')\n",
    "except FileNotFoundError:\n",
    "    visits = pd.read_csv('visits_log.csv')\n",
    "    costs = pd.read_csv('costs.csv')\n",
    "    orders = pd.read_csv('orders_log.csv')"
   ]
  },
  {
   "cell_type": "markdown",
   "metadata": {},
   "source": [
    "## Изучение общей информации.<a name=\"paragraph1\"></a>"
   ]
  },
  {
   "cell_type": "code",
   "execution_count": 4,
   "metadata": {},
   "outputs": [
    {
     "name": "stdout",
     "output_type": "stream",
     "text": [
      "<class 'pandas.core.frame.DataFrame'>\n",
      "RangeIndex: 359400 entries, 0 to 359399\n",
      "Data columns (total 5 columns):\n",
      "Device       359400 non-null object\n",
      "End Ts       359400 non-null object\n",
      "Source Id    359400 non-null int64\n",
      "Start Ts     359400 non-null object\n",
      "Uid          359400 non-null uint64\n",
      "dtypes: int64(1), object(3), uint64(1)\n",
      "memory usage: 13.7+ MB\n"
     ]
    },
    {
     "data": {
      "text/plain": [
       "None"
      ]
     },
     "metadata": {},
     "output_type": "display_data"
    },
    {
     "data": {
      "text/html": [
       "<div>\n",
       "<style scoped>\n",
       "    .dataframe tbody tr th:only-of-type {\n",
       "        vertical-align: middle;\n",
       "    }\n",
       "\n",
       "    .dataframe tbody tr th {\n",
       "        vertical-align: top;\n",
       "    }\n",
       "\n",
       "    .dataframe thead th {\n",
       "        text-align: right;\n",
       "    }\n",
       "</style>\n",
       "<table border=\"1\" class=\"dataframe\">\n",
       "  <thead>\n",
       "    <tr style=\"text-align: right;\">\n",
       "      <th></th>\n",
       "      <th>Device</th>\n",
       "      <th>End Ts</th>\n",
       "      <th>Source Id</th>\n",
       "      <th>Start Ts</th>\n",
       "      <th>Uid</th>\n",
       "    </tr>\n",
       "  </thead>\n",
       "  <tbody>\n",
       "    <tr>\n",
       "      <td>13199</td>\n",
       "      <td>desktop</td>\n",
       "      <td>2017-12-01 22:41:00</td>\n",
       "      <td>3</td>\n",
       "      <td>2017-12-01 22:05:00</td>\n",
       "      <td>13040399607084048109</td>\n",
       "    </tr>\n",
       "    <tr>\n",
       "      <td>93942</td>\n",
       "      <td>desktop</td>\n",
       "      <td>2018-03-09 11:44:00</td>\n",
       "      <td>4</td>\n",
       "      <td>2018-03-09 11:39:00</td>\n",
       "      <td>15800136906393231506</td>\n",
       "    </tr>\n",
       "    <tr>\n",
       "      <td>272926</td>\n",
       "      <td>desktop</td>\n",
       "      <td>2017-08-26 15:00:00</td>\n",
       "      <td>5</td>\n",
       "      <td>2017-08-26 14:55:00</td>\n",
       "      <td>610581513506748990</td>\n",
       "    </tr>\n",
       "    <tr>\n",
       "      <td>5575</td>\n",
       "      <td>desktop</td>\n",
       "      <td>2017-10-03 17:29:00</td>\n",
       "      <td>5</td>\n",
       "      <td>2017-10-03 17:18:00</td>\n",
       "      <td>15353735381794552960</td>\n",
       "    </tr>\n",
       "    <tr>\n",
       "      <td>25510</td>\n",
       "      <td>desktop</td>\n",
       "      <td>2018-03-11 20:42:00</td>\n",
       "      <td>4</td>\n",
       "      <td>2018-03-11 20:41:00</td>\n",
       "      <td>1248638664572397499</td>\n",
       "    </tr>\n",
       "  </tbody>\n",
       "</table>\n",
       "</div>"
      ],
      "text/plain": [
       "         Device               End Ts  Source Id             Start Ts  \\\n",
       "13199   desktop  2017-12-01 22:41:00          3  2017-12-01 22:05:00   \n",
       "93942   desktop  2018-03-09 11:44:00          4  2018-03-09 11:39:00   \n",
       "272926  desktop  2017-08-26 15:00:00          5  2017-08-26 14:55:00   \n",
       "5575    desktop  2017-10-03 17:29:00          5  2017-10-03 17:18:00   \n",
       "25510   desktop  2018-03-11 20:42:00          4  2018-03-11 20:41:00   \n",
       "\n",
       "                         Uid  \n",
       "13199   13040399607084048109  \n",
       "93942   15800136906393231506  \n",
       "272926    610581513506748990  \n",
       "5575    15353735381794552960  \n",
       "25510    1248638664572397499  "
      ]
     },
     "metadata": {},
     "output_type": "display_data"
    },
    {
     "name": "stdout",
     "output_type": "stream",
     "text": [
      "\n",
      "<class 'pandas.core.frame.DataFrame'>\n",
      "RangeIndex: 2542 entries, 0 to 2541\n",
      "Data columns (total 3 columns):\n",
      "source_id    2542 non-null int64\n",
      "dt           2542 non-null object\n",
      "costs        2542 non-null float64\n",
      "dtypes: float64(1), int64(1), object(1)\n",
      "memory usage: 59.7+ KB\n"
     ]
    },
    {
     "data": {
      "text/plain": [
       "None"
      ]
     },
     "metadata": {},
     "output_type": "display_data"
    },
    {
     "data": {
      "text/html": [
       "<div>\n",
       "<style scoped>\n",
       "    .dataframe tbody tr th:only-of-type {\n",
       "        vertical-align: middle;\n",
       "    }\n",
       "\n",
       "    .dataframe tbody tr th {\n",
       "        vertical-align: top;\n",
       "    }\n",
       "\n",
       "    .dataframe thead th {\n",
       "        text-align: right;\n",
       "    }\n",
       "</style>\n",
       "<table border=\"1\" class=\"dataframe\">\n",
       "  <thead>\n",
       "    <tr style=\"text-align: right;\">\n",
       "      <th></th>\n",
       "      <th>source_id</th>\n",
       "      <th>dt</th>\n",
       "      <th>costs</th>\n",
       "    </tr>\n",
       "  </thead>\n",
       "  <tbody>\n",
       "    <tr>\n",
       "      <td>1375</td>\n",
       "      <td>4</td>\n",
       "      <td>2018-03-14</td>\n",
       "      <td>140.16</td>\n",
       "    </tr>\n",
       "    <tr>\n",
       "      <td>1219</td>\n",
       "      <td>4</td>\n",
       "      <td>2017-10-09</td>\n",
       "      <td>263.95</td>\n",
       "    </tr>\n",
       "    <tr>\n",
       "      <td>1121</td>\n",
       "      <td>4</td>\n",
       "      <td>2017-07-03</td>\n",
       "      <td>54.69</td>\n",
       "    </tr>\n",
       "    <tr>\n",
       "      <td>419</td>\n",
       "      <td>2</td>\n",
       "      <td>2017-07-27</td>\n",
       "      <td>53.35</td>\n",
       "    </tr>\n",
       "    <tr>\n",
       "      <td>907</td>\n",
       "      <td>3</td>\n",
       "      <td>2017-11-29</td>\n",
       "      <td>654.18</td>\n",
       "    </tr>\n",
       "  </tbody>\n",
       "</table>\n",
       "</div>"
      ],
      "text/plain": [
       "      source_id          dt   costs\n",
       "1375          4  2018-03-14  140.16\n",
       "1219          4  2017-10-09  263.95\n",
       "1121          4  2017-07-03   54.69\n",
       "419           2  2017-07-27   53.35\n",
       "907           3  2017-11-29  654.18"
      ]
     },
     "metadata": {},
     "output_type": "display_data"
    },
    {
     "name": "stdout",
     "output_type": "stream",
     "text": [
      "\n",
      "<class 'pandas.core.frame.DataFrame'>\n",
      "RangeIndex: 50415 entries, 0 to 50414\n",
      "Data columns (total 3 columns):\n",
      "Buy Ts     50415 non-null object\n",
      "Revenue    50415 non-null float64\n",
      "Uid        50415 non-null uint64\n",
      "dtypes: float64(1), object(1), uint64(1)\n",
      "memory usage: 1.2+ MB\n"
     ]
    },
    {
     "data": {
      "text/plain": [
       "None"
      ]
     },
     "metadata": {},
     "output_type": "display_data"
    },
    {
     "data": {
      "text/html": [
       "<div>\n",
       "<style scoped>\n",
       "    .dataframe tbody tr th:only-of-type {\n",
       "        vertical-align: middle;\n",
       "    }\n",
       "\n",
       "    .dataframe tbody tr th {\n",
       "        vertical-align: top;\n",
       "    }\n",
       "\n",
       "    .dataframe thead th {\n",
       "        text-align: right;\n",
       "    }\n",
       "</style>\n",
       "<table border=\"1\" class=\"dataframe\">\n",
       "  <thead>\n",
       "    <tr style=\"text-align: right;\">\n",
       "      <th></th>\n",
       "      <th>Buy Ts</th>\n",
       "      <th>Revenue</th>\n",
       "      <th>Uid</th>\n",
       "    </tr>\n",
       "  </thead>\n",
       "  <tbody>\n",
       "    <tr>\n",
       "      <td>23554</td>\n",
       "      <td>2017-12-12 12:43:00</td>\n",
       "      <td>1.22</td>\n",
       "      <td>15017766462817232278</td>\n",
       "    </tr>\n",
       "    <tr>\n",
       "      <td>36469</td>\n",
       "      <td>2018-02-22 19:12:00</td>\n",
       "      <td>4.89</td>\n",
       "      <td>14845371677675079908</td>\n",
       "    </tr>\n",
       "    <tr>\n",
       "      <td>1878</td>\n",
       "      <td>2017-06-23 19:31:00</td>\n",
       "      <td>3.67</td>\n",
       "      <td>13975932056717210136</td>\n",
       "    </tr>\n",
       "    <tr>\n",
       "      <td>3477</td>\n",
       "      <td>2017-07-15 14:26:00</td>\n",
       "      <td>1.83</td>\n",
       "      <td>13888745432979765063</td>\n",
       "    </tr>\n",
       "    <tr>\n",
       "      <td>1705</td>\n",
       "      <td>2017-06-20 21:39:00</td>\n",
       "      <td>2.44</td>\n",
       "      <td>8277279839277675811</td>\n",
       "    </tr>\n",
       "  </tbody>\n",
       "</table>\n",
       "</div>"
      ],
      "text/plain": [
       "                    Buy Ts  Revenue                   Uid\n",
       "23554  2017-12-12 12:43:00     1.22  15017766462817232278\n",
       "36469  2018-02-22 19:12:00     4.89  14845371677675079908\n",
       "1878   2017-06-23 19:31:00     3.67  13975932056717210136\n",
       "3477   2017-07-15 14:26:00     1.83  13888745432979765063\n",
       "1705   2017-06-20 21:39:00     2.44   8277279839277675811"
      ]
     },
     "metadata": {},
     "output_type": "display_data"
    },
    {
     "name": "stdout",
     "output_type": "stream",
     "text": [
      "\n"
     ]
    }
   ],
   "source": [
    "list_of_data = [visits, costs, orders]\n",
    "for i in list_of_data:\n",
    "    display(i.info())\n",
    "    display(i.sample(5))\n",
    "    print()"
   ]
  },
  {
   "cell_type": "markdown",
   "metadata": {},
   "source": [
    "## Предобработка данных.<a name=\"paragraph2\"></a>"
   ]
  },
  {
   "cell_type": "markdown",
   "metadata": {},
   "source": [
    "Приведение названий колонок к нижнему регистру."
   ]
  },
  {
   "cell_type": "code",
   "execution_count": 5,
   "metadata": {},
   "outputs": [],
   "source": [
    "visits.columns = visits.columns.str.lower()\n",
    "orders.columns = orders.columns.str.lower()"
   ]
  },
  {
   "cell_type": "markdown",
   "metadata": {},
   "source": [
    "Приведение типов данных к временному. Остальные типы соответствуют."
   ]
  },
  {
   "cell_type": "code",
   "execution_count": 6,
   "metadata": {},
   "outputs": [
    {
     "data": {
      "text/plain": [
       "Index(['device', 'end ts', 'source id', 'start ts', 'uid'], dtype='object')"
      ]
     },
     "metadata": {},
     "output_type": "display_data"
    },
    {
     "data": {
      "text/plain": [
       "Index(['source_id', 'dt', 'costs'], dtype='object')"
      ]
     },
     "metadata": {},
     "output_type": "display_data"
    },
    {
     "data": {
      "text/plain": [
       "Index(['buy ts', 'revenue', 'uid'], dtype='object')"
      ]
     },
     "metadata": {},
     "output_type": "display_data"
    }
   ],
   "source": [
    "display(visits.columns) #выведем названия колонок\n",
    "display(costs.columns)\n",
    "display(orders.columns)"
   ]
  },
  {
   "cell_type": "code",
   "execution_count": 7,
   "metadata": {},
   "outputs": [],
   "source": [
    "visits['end ts'] = pd.to_datetime(visits['end ts'], format = '%Y-%m-%d %H:%M:%S')\n",
    "visits['start ts'] = pd.to_datetime(visits['start ts'], format = '%Y-%m-%d %H:%M:%S')\n",
    "orders['buy ts'] = pd.to_datetime(orders['buy ts'], format = '%Y-%m-%d %H:%M:%S')\n",
    "costs['dt'] = pd.to_datetime(costs['dt'], format = '%Y-%m-%d')"
   ]
  },
  {
   "cell_type": "code",
   "execution_count": 8,
   "metadata": {},
   "outputs": [
    {
     "name": "stdout",
     "output_type": "stream",
     "text": [
      "<class 'pandas.core.frame.DataFrame'>\n",
      "RangeIndex: 359400 entries, 0 to 359399\n",
      "Data columns (total 5 columns):\n",
      "device       359400 non-null object\n",
      "end ts       359400 non-null datetime64[ns]\n",
      "source id    359400 non-null int64\n",
      "start ts     359400 non-null datetime64[ns]\n",
      "uid          359400 non-null uint64\n",
      "dtypes: datetime64[ns](2), int64(1), object(1), uint64(1)\n",
      "memory usage: 13.7+ MB\n"
     ]
    }
   ],
   "source": [
    "visits.info() #проверка"
   ]
  },
  {
   "cell_type": "code",
   "execution_count": 9,
   "metadata": {},
   "outputs": [
    {
     "data": {
      "text/plain": [
       "2"
      ]
     },
     "execution_count": 9,
     "metadata": {},
     "output_type": "execute_result"
    }
   ],
   "source": [
    "visits[visits['start ts'] > visits['end ts']]['uid'].count()"
   ]
  },
  {
   "cell_type": "code",
   "execution_count": 10,
   "metadata": {},
   "outputs": [
    {
     "data": {
      "text/plain": [
       "51"
      ]
     },
     "execution_count": 10,
     "metadata": {},
     "output_type": "execute_result"
    }
   ],
   "source": [
    "orders[orders['revenue']<=0]['uid'].count()"
   ]
  },
  {
   "cell_type": "markdown",
   "metadata": {},
   "source": [
    "## Рассчёт метрик<a name=\"paragraph3\"></a>"
   ]
  },
  {
   "cell_type": "markdown",
   "metadata": {},
   "source": [
    "### Продуктовые метрики. <a name=\"subparagraph1\"></a>"
   ]
  },
  {
   "cell_type": "markdown",
   "metadata": {},
   "source": [
    "#### DAU, WAU и MAU. "
   ]
  },
  {
   "cell_type": "code",
   "execution_count": 11,
   "metadata": {},
   "outputs": [],
   "source": [
    "visits['date'] = visits['start ts'].dt.date\n",
    "visits['week'] = visits['start ts'].dt.week\n",
    "visits['month'] = visits['start ts'].dt.month\n",
    "visits['year'] = visits['start ts'].dt.year"
   ]
  },
  {
   "cell_type": "code",
   "execution_count": 12,
   "metadata": {},
   "outputs": [
    {
     "name": "stdout",
     "output_type": "stream",
     "text": [
      "Среднее количество уникальных посетителей в день: 907\n"
     ]
    }
   ],
   "source": [
    "DAU = visits.groupby('date').agg({'uid':'nunique'})\n",
    "DAU_total = int(DAU.mean())\n",
    "print('Среднее количество уникальных посетителей в день:', DAU_total)"
   ]
  },
  {
   "cell_type": "code",
   "execution_count": 13,
   "metadata": {},
   "outputs": [
    {
     "data": {
      "image/png": "[encoded data removed]",
      "text/plain": [
       "<Figure size 1080x360 with 1 Axes>"
      ]
     },
     "metadata": {
      "needs_background": "light"
     },
     "output_type": "display_data"
    }
   ],
   "source": [
    "DAU.plot(figsize=(15, 5), grid=True)\n",
    "plt.xlabel('Даты') \n",
    "plt.ylabel('Количество')\n",
    "plt.title('Уникальные посетители по дням')\n",
    "plt.show()"
   ]
  },
  {
   "cell_type": "code",
   "execution_count": 14,
   "metadata": {},
   "outputs": [
    {
     "data": {
      "text/html": [
       "<div>\n",
       "<style scoped>\n",
       "    .dataframe tbody tr th:only-of-type {\n",
       "        vertical-align: middle;\n",
       "    }\n",
       "\n",
       "    .dataframe tbody tr th {\n",
       "        vertical-align: top;\n",
       "    }\n",
       "\n",
       "    .dataframe thead th {\n",
       "        text-align: right;\n",
       "    }\n",
       "</style>\n",
       "<table border=\"1\" class=\"dataframe\">\n",
       "  <thead>\n",
       "    <tr style=\"text-align: right;\">\n",
       "      <th></th>\n",
       "      <th>uid</th>\n",
       "    </tr>\n",
       "    <tr>\n",
       "      <th>date</th>\n",
       "      <th></th>\n",
       "    </tr>\n",
       "  </thead>\n",
       "  <tbody>\n",
       "    <tr>\n",
       "      <td>2017-11-24</td>\n",
       "      <td>3319</td>\n",
       "    </tr>\n",
       "  </tbody>\n",
       "</table>\n",
       "</div>"
      ],
      "text/plain": [
       "             uid\n",
       "date            \n",
       "2017-11-24  3319"
      ]
     },
     "execution_count": 14,
     "metadata": {},
     "output_type": "execute_result"
    }
   ],
   "source": [
    "DAU.sort_values(by='uid', ascending=False).head(1) #пик"
   ]
  },
  {
   "cell_type": "code",
   "execution_count": 15,
   "metadata": {},
   "outputs": [
    {
     "data": {
      "text/html": [
       "<div>\n",
       "<style scoped>\n",
       "    .dataframe tbody tr th:only-of-type {\n",
       "        vertical-align: middle;\n",
       "    }\n",
       "\n",
       "    .dataframe tbody tr th {\n",
       "        vertical-align: top;\n",
       "    }\n",
       "\n",
       "    .dataframe thead th {\n",
       "        text-align: right;\n",
       "    }\n",
       "</style>\n",
       "<table border=\"1\" class=\"dataframe\">\n",
       "  <thead>\n",
       "    <tr style=\"text-align: right;\">\n",
       "      <th></th>\n",
       "      <th>uid</th>\n",
       "    </tr>\n",
       "    <tr>\n",
       "      <th>date</th>\n",
       "      <th></th>\n",
       "    </tr>\n",
       "  </thead>\n",
       "  <tbody>\n",
       "    <tr>\n",
       "      <td>2018-03-31</td>\n",
       "      <td>1</td>\n",
       "    </tr>\n",
       "  </tbody>\n",
       "</table>\n",
       "</div>"
      ],
      "text/plain": [
       "            uid\n",
       "date           \n",
       "2018-03-31    1"
      ]
     },
     "execution_count": 15,
     "metadata": {},
     "output_type": "execute_result"
    }
   ],
   "source": [
    "DAU.sort_values(by='uid', ascending=True).head(1) #низшая точка"
   ]
  },
  {
   "cell_type": "markdown",
   "metadata": {},
   "source": [
    "Пиковое значение приходится на знаменитый день распродаж - Черную пятницу. Также есть день с наименьшим показателем в всего один день 31.03.2018. Стоит разобраться в причинах."
   ]
  },
  {
   "cell_type": "code",
   "execution_count": 16,
   "metadata": {},
   "outputs": [
    {
     "name": "stdout",
     "output_type": "stream",
     "text": [
      "Среднее количество уникальных посетителей в неделю: 5716\n"
     ]
    }
   ],
   "source": [
    "WAU = visits.groupby(['year', 'week']).agg({'uid':'nunique'})\n",
    "WAU_total = int(WAU.mean())\n",
    "print('Среднее количество уникальных посетителей в неделю:', WAU_total)"
   ]
  },
  {
   "cell_type": "code",
   "execution_count": 17,
   "metadata": {},
   "outputs": [
    {
     "data": {
      "image/png": "[encoded data removed]",
      "text/plain": [
       "<Figure size 1080x360 with 1 Axes>"
      ]
     },
     "metadata": {
      "needs_background": "light"
     },
     "output_type": "display_data"
    }
   ],
   "source": [
    "WAU.plot(kind='bar', figsize=(15, 5), grid=True)\n",
    "plt.title('Уникальные посетители по неделям'),\n",
    "plt.xlabel('Недели'), \n",
    "plt.ylabel('Количество')\n",
    "plt.show()"
   ]
  },
  {
   "cell_type": "markdown",
   "metadata": {},
   "source": [
    "Пик посещений приходится на 47 неделю. На ней проводится черная пятница - день большой распродажи, отсюда такой ажиотаж."
   ]
  },
  {
   "cell_type": "code",
   "execution_count": 18,
   "metadata": {},
   "outputs": [
    {
     "name": "stdout",
     "output_type": "stream",
     "text": [
      "Среднее количество уникальных посетителей в месяц: 5716\n"
     ]
    }
   ],
   "source": [
    "MAU = visits.groupby(['year', 'month']).agg({'uid':'nunique'})\n",
    "MAU_total = int(WAU.mean())\n",
    "print('Среднее количество уникальных посетителей в месяц:', MAU_total)"
   ]
  },
  {
   "cell_type": "code",
   "execution_count": 19,
   "metadata": {},
   "outputs": [
    {
     "data": {
      "image/png": "[encoded data removed]",
      "text/plain": [
       "<Figure size 720x360 with 1 Axes>"
      ]
     },
     "metadata": {
      "needs_background": "light"
     },
     "output_type": "display_data"
    }
   ],
   "source": [
    "MAU.plot(kind='bar', figsize=(10, 5), grid=True)\n",
    "plt.title('Уникальные посетители по месяцам')\n",
    "plt.xlabel('Месяцы')\n",
    "plt.ylabel('Количество')\n",
    "plt.show()"
   ]
  },
  {
   "cell_type": "markdown",
   "metadata": {},
   "source": [
    "Большая часть визитов на сервис происходит в осенне-зимний период. В летние месяцы наблюдаетя спад. \n",
    "Вероятно из-за периодов отпусков у ползователей отпадает необходимость выбирать мериприятия для посещения. А с наступлением холодного времени, количство посетителей увеличивается в связи с желанием провести интересно время в теплых помещениях."
   ]
  },
  {
   "cell_type": "markdown",
   "metadata": {},
   "source": [
    "#### Cколько раз за день пользователи в среднем заходят на сайт."
   ]
  },
  {
   "cell_type": "code",
   "execution_count": 20,
   "metadata": {},
   "outputs": [],
   "source": [
    "visits_per_user = visits.groupby('date').agg({'uid':['count','nunique']})"
   ]
  },
  {
   "cell_type": "code",
   "execution_count": 21,
   "metadata": {},
   "outputs": [],
   "source": [
    "visits_per_user.columns = ['n_visits', 'n_users']\n",
    "visits_per_user['visits_per_user'] = visits_per_user['n_visits'] / visits_per_user['n_users']"
   ]
  },
  {
   "cell_type": "code",
   "execution_count": 22,
   "metadata": {},
   "outputs": [
    {
     "name": "stdout",
     "output_type": "stream",
     "text": [
      "Среднее количество посещений на одного пользователя в день 1.082169644003972\n"
     ]
    }
   ],
   "source": [
    "print('Среднее количество посещений на одного пользователя в день', visits_per_user['visits_per_user'].mean())"
   ]
  },
  {
   "cell_type": "markdown",
   "metadata": {},
   "source": [
    "#### Сколько времени пользователи проводят на сайте."
   ]
  },
  {
   "cell_type": "code",
   "execution_count": 23,
   "metadata": {},
   "outputs": [],
   "source": [
    "visits['duration'] = (visits['end ts'] - visits['start ts']).dt.seconds"
   ]
  },
  {
   "cell_type": "code",
   "execution_count": 24,
   "metadata": {},
   "outputs": [
    {
     "data": {
      "text/plain": [
       "<matplotlib.axes._subplots.AxesSubplot at 0x7f7237124450>"
      ]
     },
     "execution_count": 24,
     "metadata": {},
     "output_type": "execute_result"
    },
    {
     "data": {
      "image/png": "[encoded data removed]",
      "text/plain": [
       "<Figure size 432x288 with 1 Axes>"
      ]
     },
     "metadata": {
      "needs_background": "light"
     },
     "output_type": "display_data"
    }
   ],
   "source": [
    "visits['duration'].hist(bins=50)"
   ]
  },
  {
   "cell_type": "markdown",
   "metadata": {},
   "source": [
    "График распределения демонстрирует, что большая часть значений сосредоточена у левой границы. Медиану или среднее брать неверно, возьмем самое частое значение с помощью метода .mode()"
   ]
  },
  {
   "cell_type": "code",
   "execution_count": 25,
   "metadata": {},
   "outputs": [
    {
     "name": "stdout",
     "output_type": "stream",
     "text": [
      "Средняя продолжительность визита на cайт 60 секунд\n"
     ]
    }
   ],
   "source": [
    "print('Средняя продолжительность визита на cайт', int(visits['duration'].mode()), 'секунд')"
   ]
  },
  {
   "cell_type": "markdown",
   "metadata": {},
   "source": [
    "#### Рассчитаем Retention Rate.\n",
    "Сколько посетителей сайта возращаются в последующие месяцы"
   ]
  },
  {
   "cell_type": "code",
   "execution_count": 26,
   "metadata": {},
   "outputs": [
    {
     "data": {
      "text/html": [
       "<div>\n",
       "<style scoped>\n",
       "    .dataframe tbody tr th:only-of-type {\n",
       "        vertical-align: middle;\n",
       "    }\n",
       "\n",
       "    .dataframe tbody tr th {\n",
       "        vertical-align: top;\n",
       "    }\n",
       "\n",
       "    .dataframe thead th {\n",
       "        text-align: right;\n",
       "    }\n",
       "</style>\n",
       "<table border=\"1\" class=\"dataframe\">\n",
       "  <thead>\n",
       "    <tr style=\"text-align: right;\">\n",
       "      <th></th>\n",
       "      <th>device</th>\n",
       "      <th>end ts</th>\n",
       "      <th>source id</th>\n",
       "      <th>start ts</th>\n",
       "      <th>uid</th>\n",
       "      <th>date</th>\n",
       "      <th>week</th>\n",
       "      <th>month</th>\n",
       "      <th>year</th>\n",
       "      <th>duration</th>\n",
       "    </tr>\n",
       "  </thead>\n",
       "  <tbody>\n",
       "    <tr>\n",
       "      <td>0</td>\n",
       "      <td>touch</td>\n",
       "      <td>2017-12-20 17:38:00</td>\n",
       "      <td>4</td>\n",
       "      <td>2017-12-20 17:20:00</td>\n",
       "      <td>16879256277535980062</td>\n",
       "      <td>2017-12-20</td>\n",
       "      <td>51</td>\n",
       "      <td>12</td>\n",
       "      <td>2017</td>\n",
       "      <td>1080</td>\n",
       "    </tr>\n",
       "    <tr>\n",
       "      <td>1</td>\n",
       "      <td>desktop</td>\n",
       "      <td>2018-02-19 17:21:00</td>\n",
       "      <td>2</td>\n",
       "      <td>2018-02-19 16:53:00</td>\n",
       "      <td>104060357244891740</td>\n",
       "      <td>2018-02-19</td>\n",
       "      <td>8</td>\n",
       "      <td>2</td>\n",
       "      <td>2018</td>\n",
       "      <td>1680</td>\n",
       "    </tr>\n",
       "    <tr>\n",
       "      <td>2</td>\n",
       "      <td>touch</td>\n",
       "      <td>2017-07-01 01:54:00</td>\n",
       "      <td>5</td>\n",
       "      <td>2017-07-01 01:54:00</td>\n",
       "      <td>7459035603376831527</td>\n",
       "      <td>2017-07-01</td>\n",
       "      <td>26</td>\n",
       "      <td>7</td>\n",
       "      <td>2017</td>\n",
       "      <td>0</td>\n",
       "    </tr>\n",
       "    <tr>\n",
       "      <td>3</td>\n",
       "      <td>desktop</td>\n",
       "      <td>2018-05-20 11:23:00</td>\n",
       "      <td>9</td>\n",
       "      <td>2018-05-20 10:59:00</td>\n",
       "      <td>16174680259334210214</td>\n",
       "      <td>2018-05-20</td>\n",
       "      <td>20</td>\n",
       "      <td>5</td>\n",
       "      <td>2018</td>\n",
       "      <td>1440</td>\n",
       "    </tr>\n",
       "    <tr>\n",
       "      <td>4</td>\n",
       "      <td>desktop</td>\n",
       "      <td>2017-12-27 14:06:00</td>\n",
       "      <td>3</td>\n",
       "      <td>2017-12-27 14:06:00</td>\n",
       "      <td>9969694820036681168</td>\n",
       "      <td>2017-12-27</td>\n",
       "      <td>52</td>\n",
       "      <td>12</td>\n",
       "      <td>2017</td>\n",
       "      <td>0</td>\n",
       "    </tr>\n",
       "    <tr>\n",
       "      <td>5</td>\n",
       "      <td>desktop</td>\n",
       "      <td>2017-09-03 21:36:00</td>\n",
       "      <td>5</td>\n",
       "      <td>2017-09-03 21:35:00</td>\n",
       "      <td>16007536194108375387</td>\n",
       "      <td>2017-09-03</td>\n",
       "      <td>35</td>\n",
       "      <td>9</td>\n",
       "      <td>2017</td>\n",
       "      <td>60</td>\n",
       "    </tr>\n",
       "    <tr>\n",
       "      <td>6</td>\n",
       "      <td>desktop</td>\n",
       "      <td>2018-01-30 12:09:00</td>\n",
       "      <td>1</td>\n",
       "      <td>2018-01-30 11:13:00</td>\n",
       "      <td>6661610529277171451</td>\n",
       "      <td>2018-01-30</td>\n",
       "      <td>5</td>\n",
       "      <td>1</td>\n",
       "      <td>2018</td>\n",
       "      <td>3360</td>\n",
       "    </tr>\n",
       "    <tr>\n",
       "      <td>7</td>\n",
       "      <td>touch</td>\n",
       "      <td>2017-11-05 15:15:00</td>\n",
       "      <td>3</td>\n",
       "      <td>2017-11-05 15:14:00</td>\n",
       "      <td>11423865690854540312</td>\n",
       "      <td>2017-11-05</td>\n",
       "      <td>44</td>\n",
       "      <td>11</td>\n",
       "      <td>2017</td>\n",
       "      <td>60</td>\n",
       "    </tr>\n",
       "    <tr>\n",
       "      <td>8</td>\n",
       "      <td>desktop</td>\n",
       "      <td>2017-07-19 10:44:00</td>\n",
       "      <td>3</td>\n",
       "      <td>2017-07-19 10:41:00</td>\n",
       "      <td>2987360259350925644</td>\n",
       "      <td>2017-07-19</td>\n",
       "      <td>29</td>\n",
       "      <td>7</td>\n",
       "      <td>2017</td>\n",
       "      <td>180</td>\n",
       "    </tr>\n",
       "    <tr>\n",
       "      <td>9</td>\n",
       "      <td>desktop</td>\n",
       "      <td>2017-11-08 13:43:00</td>\n",
       "      <td>5</td>\n",
       "      <td>2017-11-08 13:42:00</td>\n",
       "      <td>1289240080042562063</td>\n",
       "      <td>2017-11-08</td>\n",
       "      <td>45</td>\n",
       "      <td>11</td>\n",
       "      <td>2017</td>\n",
       "      <td>60</td>\n",
       "    </tr>\n",
       "  </tbody>\n",
       "</table>\n",
       "</div>"
      ],
      "text/plain": [
       "    device              end ts  source id            start ts  \\\n",
       "0    touch 2017-12-20 17:38:00          4 2017-12-20 17:20:00   \n",
       "1  desktop 2018-02-19 17:21:00          2 2018-02-19 16:53:00   \n",
       "2    touch 2017-07-01 01:54:00          5 2017-07-01 01:54:00   \n",
       "3  desktop 2018-05-20 11:23:00          9 2018-05-20 10:59:00   \n",
       "4  desktop 2017-12-27 14:06:00          3 2017-12-27 14:06:00   \n",
       "5  desktop 2017-09-03 21:36:00          5 2017-09-03 21:35:00   \n",
       "6  desktop 2018-01-30 12:09:00          1 2018-01-30 11:13:00   \n",
       "7    touch 2017-11-05 15:15:00          3 2017-11-05 15:14:00   \n",
       "8  desktop 2017-07-19 10:44:00          3 2017-07-19 10:41:00   \n",
       "9  desktop 2017-11-08 13:43:00          5 2017-11-08 13:42:00   \n",
       "\n",
       "                    uid        date  week  month  year  duration  \n",
       "0  16879256277535980062  2017-12-20    51     12  2017      1080  \n",
       "1    104060357244891740  2018-02-19     8      2  2018      1680  \n",
       "2   7459035603376831527  2017-07-01    26      7  2017         0  \n",
       "3  16174680259334210214  2018-05-20    20      5  2018      1440  \n",
       "4   9969694820036681168  2017-12-27    52     12  2017         0  \n",
       "5  16007536194108375387  2017-09-03    35      9  2017        60  \n",
       "6   6661610529277171451  2018-01-30     5      1  2018      3360  \n",
       "7  11423865690854540312  2017-11-05    44     11  2017        60  \n",
       "8   2987360259350925644  2017-07-19    29      7  2017       180  \n",
       "9   1289240080042562063  2017-11-08    45     11  2017        60  "
      ]
     },
     "execution_count": 26,
     "metadata": {},
     "output_type": "execute_result"
    }
   ],
   "source": [
    "visits.head(10)"
   ]
  },
  {
   "cell_type": "code",
   "execution_count": 27,
   "metadata": {},
   "outputs": [],
   "source": [
    "first_visit_date = visits.groupby('uid')['start ts'].min()"
   ]
  },
  {
   "cell_type": "code",
   "execution_count": 28,
   "metadata": {},
   "outputs": [
    {
     "data": {
      "text/plain": [
       "uid\n",
       "11863502262781         2018-03-01 17:27:00\n",
       "49537067089222         2018-02-06 15:55:00\n",
       "297729379853735        2017-06-07 18:47:00\n",
       "313578113262317        2017-09-18 22:49:00\n",
       "325320750514679        2017-09-30 14:29:00\n",
       "                               ...        \n",
       "18446403737806311543   2017-11-30 03:36:00\n",
       "18446424184725333426   2017-12-06 20:32:00\n",
       "18446556406699109058   2018-01-01 16:29:00\n",
       "18446621818809592527   2017-12-27 13:27:00\n",
       "18446676030785672386   2017-10-04 16:01:00\n",
       "Name: start ts, Length: 228169, dtype: datetime64[ns]"
      ]
     },
     "execution_count": 28,
     "metadata": {},
     "output_type": "execute_result"
    }
   ],
   "source": [
    "first_visit_date"
   ]
  },
  {
   "cell_type": "code",
   "execution_count": 29,
   "metadata": {},
   "outputs": [],
   "source": [
    "first_visit_date.name = 'first_visit_date'"
   ]
  },
  {
   "cell_type": "code",
   "execution_count": 30,
   "metadata": {},
   "outputs": [],
   "source": [
    "visits = visits.join(first_visit_date, on='uid')"
   ]
  },
  {
   "cell_type": "code",
   "execution_count": 31,
   "metadata": {},
   "outputs": [],
   "source": [
    "visits['first_visit_month'] = visits['first_visit_date'].astype('datetime64[M]')\n",
    "visits['visit_month'] = visits['start ts'].astype('datetime64[M]')"
   ]
  },
  {
   "cell_type": "code",
   "execution_count": 32,
   "metadata": {},
   "outputs": [],
   "source": [
    "# выделяем когорты по месяцам\n",
    "visits['cohort_lifetime'] = visits['visit_month'] - visits['first_visit_month']\n",
    "visits['cohort_lifetime'] = visits['cohort_lifetime'] / np.timedelta64(1, 'M')\n",
    "visits['cohort_lifetime'] = visits['cohort_lifetime'].round().astype('int')"
   ]
  },
  {
   "cell_type": "code",
   "execution_count": 33,
   "metadata": {},
   "outputs": [
    {
     "data": {
      "text/html": [
       "<div>\n",
       "<style scoped>\n",
       "    .dataframe tbody tr th:only-of-type {\n",
       "        vertical-align: middle;\n",
       "    }\n",
       "\n",
       "    .dataframe tbody tr th {\n",
       "        vertical-align: top;\n",
       "    }\n",
       "\n",
       "    .dataframe thead th {\n",
       "        text-align: right;\n",
       "    }\n",
       "</style>\n",
       "<table border=\"1\" class=\"dataframe\">\n",
       "  <thead>\n",
       "    <tr style=\"text-align: right;\">\n",
       "      <th></th>\n",
       "      <th>first_visit_month</th>\n",
       "      <th>cohort_lifetime</th>\n",
       "      <th>uid</th>\n",
       "    </tr>\n",
       "  </thead>\n",
       "  <tbody>\n",
       "    <tr>\n",
       "      <td>0</td>\n",
       "      <td>2017-06-01</td>\n",
       "      <td>0</td>\n",
       "      <td>13259</td>\n",
       "    </tr>\n",
       "    <tr>\n",
       "      <td>1</td>\n",
       "      <td>2017-06-01</td>\n",
       "      <td>1</td>\n",
       "      <td>1043</td>\n",
       "    </tr>\n",
       "    <tr>\n",
       "      <td>2</td>\n",
       "      <td>2017-06-01</td>\n",
       "      <td>2</td>\n",
       "      <td>713</td>\n",
       "    </tr>\n",
       "    <tr>\n",
       "      <td>3</td>\n",
       "      <td>2017-06-01</td>\n",
       "      <td>3</td>\n",
       "      <td>814</td>\n",
       "    </tr>\n",
       "    <tr>\n",
       "      <td>4</td>\n",
       "      <td>2017-06-01</td>\n",
       "      <td>4</td>\n",
       "      <td>909</td>\n",
       "    </tr>\n",
       "    <tr>\n",
       "      <td>...</td>\n",
       "      <td>...</td>\n",
       "      <td>...</td>\n",
       "      <td>...</td>\n",
       "    </tr>\n",
       "    <tr>\n",
       "      <td>73</td>\n",
       "      <td>2018-03-01</td>\n",
       "      <td>1</td>\n",
       "      <td>861</td>\n",
       "    </tr>\n",
       "    <tr>\n",
       "      <td>74</td>\n",
       "      <td>2018-03-01</td>\n",
       "      <td>2</td>\n",
       "      <td>557</td>\n",
       "    </tr>\n",
       "    <tr>\n",
       "      <td>75</td>\n",
       "      <td>2018-04-01</td>\n",
       "      <td>0</td>\n",
       "      <td>15709</td>\n",
       "    </tr>\n",
       "    <tr>\n",
       "      <td>76</td>\n",
       "      <td>2018-04-01</td>\n",
       "      <td>1</td>\n",
       "      <td>760</td>\n",
       "    </tr>\n",
       "    <tr>\n",
       "      <td>77</td>\n",
       "      <td>2018-05-01</td>\n",
       "      <td>0</td>\n",
       "      <td>15273</td>\n",
       "    </tr>\n",
       "  </tbody>\n",
       "</table>\n",
       "<p>78 rows × 3 columns</p>\n",
       "</div>"
      ],
      "text/plain": [
       "   first_visit_month  cohort_lifetime    uid\n",
       "0         2017-06-01                0  13259\n",
       "1         2017-06-01                1   1043\n",
       "2         2017-06-01                2    713\n",
       "3         2017-06-01                3    814\n",
       "4         2017-06-01                4    909\n",
       "..               ...              ...    ...\n",
       "73        2018-03-01                1    861\n",
       "74        2018-03-01                2    557\n",
       "75        2018-04-01                0  15709\n",
       "76        2018-04-01                1    760\n",
       "77        2018-05-01                0  15273\n",
       "\n",
       "[78 rows x 3 columns]"
      ]
     },
     "execution_count": 33,
     "metadata": {},
     "output_type": "execute_result"
    }
   ],
   "source": [
    "cohorts = visits.groupby(['first_visit_month', 'cohort_lifetime']).agg({'uid':'nunique'}).reset_index()\n",
    "cohorts"
   ]
  },
  {
   "cell_type": "code",
   "execution_count": 34,
   "metadata": {},
   "outputs": [
    {
     "data": {
      "text/html": [
       "<div>\n",
       "<style scoped>\n",
       "    .dataframe tbody tr th:only-of-type {\n",
       "        vertical-align: middle;\n",
       "    }\n",
       "\n",
       "    .dataframe tbody tr th {\n",
       "        vertical-align: top;\n",
       "    }\n",
       "\n",
       "    .dataframe thead th {\n",
       "        text-align: right;\n",
       "    }\n",
       "</style>\n",
       "<table border=\"1\" class=\"dataframe\">\n",
       "  <thead>\n",
       "    <tr style=\"text-align: right;\">\n",
       "      <th></th>\n",
       "      <th>first_visit_month</th>\n",
       "      <th>cohort_uids</th>\n",
       "    </tr>\n",
       "  </thead>\n",
       "  <tbody>\n",
       "    <tr>\n",
       "      <td>0</td>\n",
       "      <td>2017-06-01</td>\n",
       "      <td>13259</td>\n",
       "    </tr>\n",
       "    <tr>\n",
       "      <td>12</td>\n",
       "      <td>2017-07-01</td>\n",
       "      <td>13140</td>\n",
       "    </tr>\n",
       "    <tr>\n",
       "      <td>23</td>\n",
       "      <td>2017-08-01</td>\n",
       "      <td>10181</td>\n",
       "    </tr>\n",
       "    <tr>\n",
       "      <td>33</td>\n",
       "      <td>2017-09-01</td>\n",
       "      <td>16704</td>\n",
       "    </tr>\n",
       "    <tr>\n",
       "      <td>42</td>\n",
       "      <td>2017-10-01</td>\n",
       "      <td>25977</td>\n",
       "    </tr>\n",
       "    <tr>\n",
       "      <td>50</td>\n",
       "      <td>2017-11-01</td>\n",
       "      <td>27248</td>\n",
       "    </tr>\n",
       "    <tr>\n",
       "      <td>57</td>\n",
       "      <td>2017-12-01</td>\n",
       "      <td>25268</td>\n",
       "    </tr>\n",
       "    <tr>\n",
       "      <td>63</td>\n",
       "      <td>2018-01-01</td>\n",
       "      <td>22624</td>\n",
       "    </tr>\n",
       "    <tr>\n",
       "      <td>68</td>\n",
       "      <td>2018-02-01</td>\n",
       "      <td>22197</td>\n",
       "    </tr>\n",
       "    <tr>\n",
       "      <td>72</td>\n",
       "      <td>2018-03-01</td>\n",
       "      <td>20589</td>\n",
       "    </tr>\n",
       "    <tr>\n",
       "      <td>75</td>\n",
       "      <td>2018-04-01</td>\n",
       "      <td>15709</td>\n",
       "    </tr>\n",
       "    <tr>\n",
       "      <td>77</td>\n",
       "      <td>2018-05-01</td>\n",
       "      <td>15273</td>\n",
       "    </tr>\n",
       "  </tbody>\n",
       "</table>\n",
       "</div>"
      ],
      "text/plain": [
       "   first_visit_month  cohort_uids\n",
       "0         2017-06-01        13259\n",
       "12        2017-07-01        13140\n",
       "23        2017-08-01        10181\n",
       "33        2017-09-01        16704\n",
       "42        2017-10-01        25977\n",
       "50        2017-11-01        27248\n",
       "57        2017-12-01        25268\n",
       "63        2018-01-01        22624\n",
       "68        2018-02-01        22197\n",
       "72        2018-03-01        20589\n",
       "75        2018-04-01        15709\n",
       "77        2018-05-01        15273"
      ]
     },
     "execution_count": 34,
     "metadata": {},
     "output_type": "execute_result"
    }
   ],
   "source": [
    "# считаем количество пользователей в нулевом lifetime каждой когорты\n",
    "initial_uid_count = cohorts[cohorts['cohort_lifetime'] == 0][['first_visit_month','uid']]\n",
    "initial_uid_count = initial_uid_count.rename(columns={'uid':'cohort_uids'})\n",
    "initial_uid_count"
   ]
  },
  {
   "cell_type": "code",
   "execution_count": 35,
   "metadata": {},
   "outputs": [],
   "source": [
    "cohorts = cohorts.merge(initial_uid_count, on='first_visit_month') # приесодиняем"
   ]
  },
  {
   "cell_type": "code",
   "execution_count": 36,
   "metadata": {},
   "outputs": [],
   "source": [
    "cohorts['retention'] = cohorts['uid'] / cohorts['cohort_uids']"
   ]
  },
  {
   "cell_type": "code",
   "execution_count": 37,
   "metadata": {},
   "outputs": [
    {
     "data": {
      "text/html": [
       "<div>\n",
       "<style scoped>\n",
       "    .dataframe tbody tr th:only-of-type {\n",
       "        vertical-align: middle;\n",
       "    }\n",
       "\n",
       "    .dataframe tbody tr th {\n",
       "        vertical-align: top;\n",
       "    }\n",
       "\n",
       "    .dataframe thead th {\n",
       "        text-align: right;\n",
       "    }\n",
       "</style>\n",
       "<table border=\"1\" class=\"dataframe\">\n",
       "  <thead>\n",
       "    <tr style=\"text-align: right;\">\n",
       "      <th>cohort_lifetime</th>\n",
       "      <th>0</th>\n",
       "      <th>1</th>\n",
       "      <th>2</th>\n",
       "      <th>3</th>\n",
       "      <th>4</th>\n",
       "      <th>5</th>\n",
       "      <th>6</th>\n",
       "      <th>7</th>\n",
       "      <th>8</th>\n",
       "      <th>9</th>\n",
       "      <th>10</th>\n",
       "      <th>11</th>\n",
       "    </tr>\n",
       "    <tr>\n",
       "      <th>first_visit_month</th>\n",
       "      <th></th>\n",
       "      <th></th>\n",
       "      <th></th>\n",
       "      <th></th>\n",
       "      <th></th>\n",
       "      <th></th>\n",
       "      <th></th>\n",
       "      <th></th>\n",
       "      <th></th>\n",
       "      <th></th>\n",
       "      <th></th>\n",
       "      <th></th>\n",
       "    </tr>\n",
       "  </thead>\n",
       "  <tbody>\n",
       "    <tr>\n",
       "      <td>2017-06-01</td>\n",
       "      <td>1.0</td>\n",
       "      <td>0.078664</td>\n",
       "      <td>0.053775</td>\n",
       "      <td>0.061392</td>\n",
       "      <td>0.068557</td>\n",
       "      <td>0.071423</td>\n",
       "      <td>0.061015</td>\n",
       "      <td>0.057772</td>\n",
       "      <td>0.052342</td>\n",
       "      <td>0.050833</td>\n",
       "      <td>0.040652</td>\n",
       "      <td>0.044951</td>\n",
       "    </tr>\n",
       "    <tr>\n",
       "      <td>2017-07-01</td>\n",
       "      <td>1.0</td>\n",
       "      <td>0.056088</td>\n",
       "      <td>0.051294</td>\n",
       "      <td>0.056164</td>\n",
       "      <td>0.058219</td>\n",
       "      <td>0.048174</td>\n",
       "      <td>0.045358</td>\n",
       "      <td>0.045738</td>\n",
       "      <td>0.038813</td>\n",
       "      <td>0.028615</td>\n",
       "      <td>0.027473</td>\n",
       "      <td>NaN</td>\n",
       "    </tr>\n",
       "    <tr>\n",
       "      <td>2017-08-01</td>\n",
       "      <td>1.0</td>\n",
       "      <td>0.076908</td>\n",
       "      <td>0.062862</td>\n",
       "      <td>0.062764</td>\n",
       "      <td>0.050093</td>\n",
       "      <td>0.044004</td>\n",
       "      <td>0.036342</td>\n",
       "      <td>0.039485</td>\n",
       "      <td>0.027895</td>\n",
       "      <td>0.026029</td>\n",
       "      <td>NaN</td>\n",
       "      <td>NaN</td>\n",
       "    </tr>\n",
       "    <tr>\n",
       "      <td>2017-09-01</td>\n",
       "      <td>1.0</td>\n",
       "      <td>0.085489</td>\n",
       "      <td>0.069205</td>\n",
       "      <td>0.050706</td>\n",
       "      <td>0.039392</td>\n",
       "      <td>0.037835</td>\n",
       "      <td>0.035860</td>\n",
       "      <td>0.024186</td>\n",
       "      <td>0.022809</td>\n",
       "      <td>NaN</td>\n",
       "      <td>NaN</td>\n",
       "      <td>NaN</td>\n",
       "    </tr>\n",
       "    <tr>\n",
       "      <td>2017-10-01</td>\n",
       "      <td>1.0</td>\n",
       "      <td>0.078608</td>\n",
       "      <td>0.052239</td>\n",
       "      <td>0.038958</td>\n",
       "      <td>0.034261</td>\n",
       "      <td>0.032221</td>\n",
       "      <td>0.021365</td>\n",
       "      <td>0.020364</td>\n",
       "      <td>NaN</td>\n",
       "      <td>NaN</td>\n",
       "      <td>NaN</td>\n",
       "      <td>NaN</td>\n",
       "    </tr>\n",
       "    <tr>\n",
       "      <td>2017-11-01</td>\n",
       "      <td>1.0</td>\n",
       "      <td>0.078281</td>\n",
       "      <td>0.044113</td>\n",
       "      <td>0.038682</td>\n",
       "      <td>0.033727</td>\n",
       "      <td>0.023415</td>\n",
       "      <td>0.021800</td>\n",
       "      <td>NaN</td>\n",
       "      <td>NaN</td>\n",
       "      <td>NaN</td>\n",
       "      <td>NaN</td>\n",
       "      <td>NaN</td>\n",
       "    </tr>\n",
       "    <tr>\n",
       "      <td>2017-12-01</td>\n",
       "      <td>1.0</td>\n",
       "      <td>0.055802</td>\n",
       "      <td>0.037993</td>\n",
       "      <td>0.031107</td>\n",
       "      <td>0.020263</td>\n",
       "      <td>0.019036</td>\n",
       "      <td>NaN</td>\n",
       "      <td>NaN</td>\n",
       "      <td>NaN</td>\n",
       "      <td>NaN</td>\n",
       "      <td>NaN</td>\n",
       "      <td>NaN</td>\n",
       "    </tr>\n",
       "    <tr>\n",
       "      <td>2018-01-01</td>\n",
       "      <td>1.0</td>\n",
       "      <td>0.059715</td>\n",
       "      <td>0.039339</td>\n",
       "      <td>0.024973</td>\n",
       "      <td>0.020244</td>\n",
       "      <td>NaN</td>\n",
       "      <td>NaN</td>\n",
       "      <td>NaN</td>\n",
       "      <td>NaN</td>\n",
       "      <td>NaN</td>\n",
       "      <td>NaN</td>\n",
       "      <td>NaN</td>\n",
       "    </tr>\n",
       "    <tr>\n",
       "      <td>2018-02-01</td>\n",
       "      <td>1.0</td>\n",
       "      <td>0.057080</td>\n",
       "      <td>0.025454</td>\n",
       "      <td>0.020093</td>\n",
       "      <td>NaN</td>\n",
       "      <td>NaN</td>\n",
       "      <td>NaN</td>\n",
       "      <td>NaN</td>\n",
       "      <td>NaN</td>\n",
       "      <td>NaN</td>\n",
       "      <td>NaN</td>\n",
       "      <td>NaN</td>\n",
       "    </tr>\n",
       "    <tr>\n",
       "      <td>2018-03-01</td>\n",
       "      <td>1.0</td>\n",
       "      <td>0.041818</td>\n",
       "      <td>0.027053</td>\n",
       "      <td>NaN</td>\n",
       "      <td>NaN</td>\n",
       "      <td>NaN</td>\n",
       "      <td>NaN</td>\n",
       "      <td>NaN</td>\n",
       "      <td>NaN</td>\n",
       "      <td>NaN</td>\n",
       "      <td>NaN</td>\n",
       "      <td>NaN</td>\n",
       "    </tr>\n",
       "    <tr>\n",
       "      <td>2018-04-01</td>\n",
       "      <td>1.0</td>\n",
       "      <td>0.048380</td>\n",
       "      <td>NaN</td>\n",
       "      <td>NaN</td>\n",
       "      <td>NaN</td>\n",
       "      <td>NaN</td>\n",
       "      <td>NaN</td>\n",
       "      <td>NaN</td>\n",
       "      <td>NaN</td>\n",
       "      <td>NaN</td>\n",
       "      <td>NaN</td>\n",
       "      <td>NaN</td>\n",
       "    </tr>\n",
       "    <tr>\n",
       "      <td>2018-05-01</td>\n",
       "      <td>1.0</td>\n",
       "      <td>NaN</td>\n",
       "      <td>NaN</td>\n",
       "      <td>NaN</td>\n",
       "      <td>NaN</td>\n",
       "      <td>NaN</td>\n",
       "      <td>NaN</td>\n",
       "      <td>NaN</td>\n",
       "      <td>NaN</td>\n",
       "      <td>NaN</td>\n",
       "      <td>NaN</td>\n",
       "      <td>NaN</td>\n",
       "    </tr>\n",
       "  </tbody>\n",
       "</table>\n",
       "</div>"
      ],
      "text/plain": [
       "cohort_lifetime     0         1         2         3         4         5   \\\n",
       "first_visit_month                                                          \n",
       "2017-06-01         1.0  0.078664  0.053775  0.061392  0.068557  0.071423   \n",
       "2017-07-01         1.0  0.056088  0.051294  0.056164  0.058219  0.048174   \n",
       "2017-08-01         1.0  0.076908  0.062862  0.062764  0.050093  0.044004   \n",
       "2017-09-01         1.0  0.085489  0.069205  0.050706  0.039392  0.037835   \n",
       "2017-10-01         1.0  0.078608  0.052239  0.038958  0.034261  0.032221   \n",
       "2017-11-01         1.0  0.078281  0.044113  0.038682  0.033727  0.023415   \n",
       "2017-12-01         1.0  0.055802  0.037993  0.031107  0.020263  0.019036   \n",
       "2018-01-01         1.0  0.059715  0.039339  0.024973  0.020244       NaN   \n",
       "2018-02-01         1.0  0.057080  0.025454  0.020093       NaN       NaN   \n",
       "2018-03-01         1.0  0.041818  0.027053       NaN       NaN       NaN   \n",
       "2018-04-01         1.0  0.048380       NaN       NaN       NaN       NaN   \n",
       "2018-05-01         1.0       NaN       NaN       NaN       NaN       NaN   \n",
       "\n",
       "cohort_lifetime          6         7         8         9         10        11  \n",
       "first_visit_month                                                              \n",
       "2017-06-01         0.061015  0.057772  0.052342  0.050833  0.040652  0.044951  \n",
       "2017-07-01         0.045358  0.045738  0.038813  0.028615  0.027473       NaN  \n",
       "2017-08-01         0.036342  0.039485  0.027895  0.026029       NaN       NaN  \n",
       "2017-09-01         0.035860  0.024186  0.022809       NaN       NaN       NaN  \n",
       "2017-10-01         0.021365  0.020364       NaN       NaN       NaN       NaN  \n",
       "2017-11-01         0.021800       NaN       NaN       NaN       NaN       NaN  \n",
       "2017-12-01              NaN       NaN       NaN       NaN       NaN       NaN  \n",
       "2018-01-01              NaN       NaN       NaN       NaN       NaN       NaN  \n",
       "2018-02-01              NaN       NaN       NaN       NaN       NaN       NaN  \n",
       "2018-03-01              NaN       NaN       NaN       NaN       NaN       NaN  \n",
       "2018-04-01              NaN       NaN       NaN       NaN       NaN       NaN  \n",
       "2018-05-01              NaN       NaN       NaN       NaN       NaN       NaN  "
      ]
     },
     "execution_count": 37,
     "metadata": {},
     "output_type": "execute_result"
    }
   ],
   "source": [
    "retention_pivot = cohorts.pivot_table(index='first_visit_month', columns='cohort_lifetime', values='retention', aggfunc='sum')\n",
    "retention_pivot"
   ]
  },
  {
   "cell_type": "code",
   "execution_count": 38,
   "metadata": {},
   "outputs": [
    {
     "data": {
      "text/plain": [
       "<matplotlib.axes._subplots.AxesSubplot at 0x7f723633e210>"
      ]
     },
     "execution_count": 38,
     "metadata": {},
     "output_type": "execute_result"
    },
    {
     "data": {
      "image/png": "[encoded data removed]",
      "text/plain": [
       "<Figure size 1080x720 with 2 Axes>"
      ]
     },
     "metadata": {
      "needs_background": "light"
     },
     "output_type": "display_data"
    }
   ],
   "source": [
    "plt.figure(figsize=(15, 10))\n",
    "plt.title('Cohorts: User Retention')\n",
    "sns.heatmap(retention_pivot, annot=True, fmt='.1%', linewidths=1, linecolor='white', vmin=0.0, vmax=0.09)"
   ]
  },
  {
   "cell_type": "code",
   "execution_count": 39,
   "metadata": {},
   "outputs": [
    {
     "name": "stdout",
     "output_type": "stream",
     "text": [
      "Средний Retention Rate на второй месяц «жизни» когорт 6.52%\n"
     ]
    }
   ],
   "source": [
    "second_cohort = cohorts[cohorts['cohort_lifetime'] == 1]\n",
    "avg_second_cohort_retention = second_cohort['retention'].mean()\n",
    "print('Средний Retention Rate на второй месяц «жизни» когорт', '{:.2%}'.format(avg_second_cohort_retention))"
   ]
  },
  {
   "cell_type": "markdown",
   "metadata": {},
   "source": [
    "Судя по графику, частота посещений сервиса ежемесячно снижается. На второй месяц возвращается на сайт всего 6,52% от изначаного количества польвователей. Далее показатели падают и, в зависимости от когорт, колеблются в районе 4-2%. Стоит рассмотреть варианты и сценарии возвращения пользователей. Для этого нужно проанализировать первую когорту, т.к. у нее самые высокие показатели удержания."
   ]
  },
  {
   "cell_type": "markdown",
   "metadata": {},
   "source": [
    "## Метрики электронной коммерции <a name=\"subparagraph3\"></a>"
   ]
  },
  {
   "cell_type": "markdown",
   "metadata": {},
   "source": [
    "### Сколько времени в среднем проходит с момента первого посещения сайта до совершения покупки. "
   ]
  },
  {
   "cell_type": "code",
   "execution_count": 40,
   "metadata": {},
   "outputs": [],
   "source": [
    "first_visit = visits.groupby('uid')['first_visit_date'].min().reset_index()"
   ]
  },
  {
   "cell_type": "code",
   "execution_count": 41,
   "metadata": {},
   "outputs": [],
   "source": [
    "first_order = orders.groupby('uid')['buy ts'].min().reset_index()\n",
    "first_order = first_order.rename(columns={'buy ts': 'first_order_date'})"
   ]
  },
  {
   "cell_type": "code",
   "execution_count": 42,
   "metadata": {},
   "outputs": [],
   "source": [
    "visits_with_orders = first_visit.merge(first_order, on='uid')"
   ]
  },
  {
   "cell_type": "code",
   "execution_count": 43,
   "metadata": {},
   "outputs": [],
   "source": [
    "visits_with_orders['time_for_order'] = visits_with_orders['first_order_date'] - visits_with_orders['first_visit_date']\n",
    "visits_with_orders['time_for_order_days'] = visits_with_orders['time_for_order'] / np.timedelta64(1, 'D') # будем измерять в днях\n",
    "avg_time_for_order = visits_with_orders['time_for_order_days'].mean()"
   ]
  },
  {
   "cell_type": "code",
   "execution_count": 44,
   "metadata": {},
   "outputs": [
    {
     "name": "stdout",
     "output_type": "stream",
     "text": [
      "Среднее время до первой покупки 16.9 дней\n"
     ]
    }
   ],
   "source": [
    "print('Среднее время до первой покупки {:.1f} дней'.format(avg_time_for_order))"
   ]
  },
  {
   "cell_type": "markdown",
   "metadata": {},
   "source": [
    "Нашли среднее, но посмотрим на общее распределение. "
   ]
  },
  {
   "cell_type": "code",
   "execution_count": 45,
   "metadata": {},
   "outputs": [
    {
     "data": {
      "text/plain": [
       "<matplotlib.axes._subplots.AxesSubplot at 0x7f723646ccd0>"
      ]
     },
     "execution_count": 45,
     "metadata": {},
     "output_type": "execute_result"
    },
    {
     "data": {
      "image/png": "[encoded data removed]",
      "text/plain": [
       "<Figure size 216x720 with 1 Axes>"
      ]
     },
     "metadata": {
      "needs_background": "light"
     },
     "output_type": "display_data"
    }
   ],
   "source": [
    "visits_with_orders.boxplot('time_for_order_days', figsize=(3, 10))"
   ]
  },
  {
   "cell_type": "code",
   "execution_count": 46,
   "metadata": {},
   "outputs": [
    {
     "data": {
      "text/plain": [
       "count                      36523\n",
       "mean     16 days 21:40:10.550064\n",
       "std      47 days 01:44:46.481416\n",
       "min              0 days 00:00:00\n",
       "25%              0 days 00:04:00\n",
       "50%              0 days 00:16:00\n",
       "75%              2 days 00:17:00\n",
       "max            363 days 07:04:00\n",
       "Name: time_for_order, dtype: object"
      ]
     },
     "execution_count": 46,
     "metadata": {},
     "output_type": "execute_result"
    }
   ],
   "source": [
    "visits_with_orders['time_for_order'].describe()"
   ]
  },
  {
   "cell_type": "markdown",
   "metadata": {},
   "source": [
    "25% покупателей покупателей заходят на сайт явно с целью покупки. От захода до оплаты проходит менее 5 минут.\n",
    "Более половины всех покупателей справляются со своими целями за 16 минут. \n",
    "\n",
    "Самое частое время, которое у посетителей уходит от момента захода до покупки найдем ниже."
   ]
  },
  {
   "cell_type": "code",
   "execution_count": 47,
   "metadata": {},
   "outputs": [
    {
     "data": {
      "text/plain": [
       "0   00:01:00\n",
       "dtype: timedelta64[ns]"
      ]
     },
     "execution_count": 47,
     "metadata": {},
     "output_type": "execute_result"
    }
   ],
   "source": [
    "visits_with_orders['time_for_order'].mode()"
   ]
  },
  {
   "cell_type": "markdown",
   "metadata": {},
   "source": [
    "Всего одна минута. "
   ]
  },
  {
   "cell_type": "markdown",
   "metadata": {},
   "source": [
    "**Вывод**\n",
    "\n",
    "В целом покупателей можно разделить на две категории: быстрых и медленных. Быстрые посещают сервис с конкретной целью покупки, что демонтрируем время - около 16 минут. Это большая часть людей, а точнее ровно половина от всех покупателей из выборки.\n",
    "Медленные же могут присматриваться и выбирать в течение дней и месяцев, прицениваясь или ожидая анонса на нужное событие. "
   ]
  },
  {
   "cell_type": "markdown",
   "metadata": {},
   "source": [
    "### Среднее количество покупок на одного покупателя за 6 месяцев. "
   ]
  },
  {
   "cell_type": "code",
   "execution_count": 48,
   "metadata": {},
   "outputs": [
    {
     "data": {
      "text/html": [
       "<div>\n",
       "<style scoped>\n",
       "    .dataframe tbody tr th:only-of-type {\n",
       "        vertical-align: middle;\n",
       "    }\n",
       "\n",
       "    .dataframe tbody tr th {\n",
       "        vertical-align: top;\n",
       "    }\n",
       "\n",
       "    .dataframe thead th {\n",
       "        text-align: right;\n",
       "    }\n",
       "</style>\n",
       "<table border=\"1\" class=\"dataframe\">\n",
       "  <thead>\n",
       "    <tr style=\"text-align: right;\">\n",
       "      <th></th>\n",
       "      <th>buy ts</th>\n",
       "      <th>revenue</th>\n",
       "      <th>uid</th>\n",
       "    </tr>\n",
       "  </thead>\n",
       "  <tbody>\n",
       "    <tr>\n",
       "      <td>0</td>\n",
       "      <td>2017-06-01 00:10:00</td>\n",
       "      <td>17.00</td>\n",
       "      <td>10329302124590727494</td>\n",
       "    </tr>\n",
       "    <tr>\n",
       "      <td>1</td>\n",
       "      <td>2017-06-01 00:25:00</td>\n",
       "      <td>0.55</td>\n",
       "      <td>11627257723692907447</td>\n",
       "    </tr>\n",
       "    <tr>\n",
       "      <td>2</td>\n",
       "      <td>2017-06-01 00:27:00</td>\n",
       "      <td>0.37</td>\n",
       "      <td>17903680561304213844</td>\n",
       "    </tr>\n",
       "    <tr>\n",
       "      <td>3</td>\n",
       "      <td>2017-06-01 00:29:00</td>\n",
       "      <td>0.55</td>\n",
       "      <td>16109239769442553005</td>\n",
       "    </tr>\n",
       "    <tr>\n",
       "      <td>4</td>\n",
       "      <td>2017-06-01 07:58:00</td>\n",
       "      <td>0.37</td>\n",
       "      <td>14200605875248379450</td>\n",
       "    </tr>\n",
       "  </tbody>\n",
       "</table>\n",
       "</div>"
      ],
      "text/plain": [
       "               buy ts  revenue                   uid\n",
       "0 2017-06-01 00:10:00    17.00  10329302124590727494\n",
       "1 2017-06-01 00:25:00     0.55  11627257723692907447\n",
       "2 2017-06-01 00:27:00     0.37  17903680561304213844\n",
       "3 2017-06-01 00:29:00     0.55  16109239769442553005\n",
       "4 2017-06-01 07:58:00     0.37  14200605875248379450"
      ]
     },
     "execution_count": 48,
     "metadata": {},
     "output_type": "execute_result"
    }
   ],
   "source": [
    "orders.head()"
   ]
  },
  {
   "cell_type": "markdown",
   "metadata": {},
   "source": [
    "Выделим первый месяц покупки. "
   ]
  },
  {
   "cell_type": "code",
   "execution_count": 49,
   "metadata": {},
   "outputs": [],
   "source": [
    "first_orders_date = orders.groupby('uid')['buy ts'].min()\n",
    "first_orders_date.name = 'first_orders_date'"
   ]
  },
  {
   "cell_type": "code",
   "execution_count": 50,
   "metadata": {},
   "outputs": [],
   "source": [
    "orders = orders.join(first_orders_date, on='uid')"
   ]
  },
  {
   "cell_type": "code",
   "execution_count": 51,
   "metadata": {},
   "outputs": [],
   "source": [
    "orders['first_orders_month'] = orders['first_orders_date'].astype('datetime64[M]')\n",
    "orders['orders_month'] = orders['buy ts'].astype('datetime64[M]')"
   ]
  },
  {
   "cell_type": "markdown",
   "metadata": {},
   "source": [
    "Сформируем когорты."
   ]
  },
  {
   "cell_type": "code",
   "execution_count": 52,
   "metadata": {},
   "outputs": [],
   "source": [
    "orders['lifetime'] = orders['orders_month'] - orders['first_orders_month']\n",
    "orders['lifetime'] = orders['lifetime'] / np.timedelta64(1, 'M')\n",
    "orders['lifetime'] = orders['lifetime'].round().astype('int')"
   ]
  },
  {
   "cell_type": "code",
   "execution_count": 53,
   "metadata": {},
   "outputs": [],
   "source": [
    "order_cohorts = orders.groupby(['first_orders_month', 'lifetime']).agg({'uid':['count', 'nunique']}).reset_index()"
   ]
  },
  {
   "cell_type": "code",
   "execution_count": 54,
   "metadata": {},
   "outputs": [],
   "source": [
    "order_cohorts.columns = ['first_orders_month', 'lifetime', 'orders_sum', 'orders_count']"
   ]
  },
  {
   "cell_type": "code",
   "execution_count": 55,
   "metadata": {},
   "outputs": [],
   "source": [
    "order_cohorts['order_per_buyer'] = order_cohorts['orders_sum'] / order_cohorts['orders_count']"
   ]
  },
  {
   "cell_type": "markdown",
   "metadata": {},
   "source": [
    "Соберем данные в сводную таблицу и расчитываем среднее количество покупок на одного покупателя по месяцам жизни когорт."
   ]
  },
  {
   "cell_type": "code",
   "execution_count": 56,
   "metadata": {},
   "outputs": [
    {
     "data": {
      "text/html": [
       "<div>\n",
       "<style scoped>\n",
       "    .dataframe tbody tr th:only-of-type {\n",
       "        vertical-align: middle;\n",
       "    }\n",
       "\n",
       "    .dataframe tbody tr th {\n",
       "        vertical-align: top;\n",
       "    }\n",
       "\n",
       "    .dataframe thead th {\n",
       "        text-align: right;\n",
       "    }\n",
       "</style>\n",
       "<table border=\"1\" class=\"dataframe\">\n",
       "  <thead>\n",
       "    <tr style=\"text-align: right;\">\n",
       "      <th>lifetime</th>\n",
       "      <th>0</th>\n",
       "      <th>1</th>\n",
       "      <th>2</th>\n",
       "      <th>3</th>\n",
       "      <th>4</th>\n",
       "      <th>5</th>\n",
       "      <th>6</th>\n",
       "      <th>7</th>\n",
       "      <th>8</th>\n",
       "      <th>9</th>\n",
       "      <th>10</th>\n",
       "      <th>11</th>\n",
       "    </tr>\n",
       "    <tr>\n",
       "      <th>first_orders_month</th>\n",
       "      <th></th>\n",
       "      <th></th>\n",
       "      <th></th>\n",
       "      <th></th>\n",
       "      <th></th>\n",
       "      <th></th>\n",
       "      <th></th>\n",
       "      <th></th>\n",
       "      <th></th>\n",
       "      <th></th>\n",
       "      <th></th>\n",
       "      <th></th>\n",
       "    </tr>\n",
       "  </thead>\n",
       "  <tbody>\n",
       "    <tr>\n",
       "      <td>2017-06-01</td>\n",
       "      <td>1.163618</td>\n",
       "      <td>2.901639</td>\n",
       "      <td>3.480000</td>\n",
       "      <td>4.185185</td>\n",
       "      <td>3.318182</td>\n",
       "      <td>3.253731</td>\n",
       "      <td>4.451613</td>\n",
       "      <td>3.702128</td>\n",
       "      <td>3.655172</td>\n",
       "      <td>3.400000</td>\n",
       "      <td>2.133333</td>\n",
       "      <td>1.622642</td>\n",
       "    </tr>\n",
       "    <tr>\n",
       "      <td>2017-07-01</td>\n",
       "      <td>1.136765</td>\n",
       "      <td>1.923077</td>\n",
       "      <td>2.105263</td>\n",
       "      <td>1.625000</td>\n",
       "      <td>1.469388</td>\n",
       "      <td>2.157895</td>\n",
       "      <td>1.694444</td>\n",
       "      <td>1.282051</td>\n",
       "      <td>1.380952</td>\n",
       "      <td>1.090909</td>\n",
       "      <td>2.038462</td>\n",
       "      <td>NaN</td>\n",
       "    </tr>\n",
       "    <tr>\n",
       "      <td>2017-08-01</td>\n",
       "      <td>1.118978</td>\n",
       "      <td>1.862069</td>\n",
       "      <td>1.886792</td>\n",
       "      <td>1.840909</td>\n",
       "      <td>2.125000</td>\n",
       "      <td>1.937500</td>\n",
       "      <td>1.633333</td>\n",
       "      <td>1.772727</td>\n",
       "      <td>2.421053</td>\n",
       "      <td>1.483871</td>\n",
       "      <td>NaN</td>\n",
       "      <td>NaN</td>\n",
       "    </tr>\n",
       "    <tr>\n",
       "      <td>2017-09-01</td>\n",
       "      <td>1.136381</td>\n",
       "      <td>1.684615</td>\n",
       "      <td>1.610000</td>\n",
       "      <td>2.216216</td>\n",
       "      <td>1.288462</td>\n",
       "      <td>1.703125</td>\n",
       "      <td>1.636364</td>\n",
       "      <td>1.513514</td>\n",
       "      <td>1.418605</td>\n",
       "      <td>NaN</td>\n",
       "      <td>NaN</td>\n",
       "      <td>NaN</td>\n",
       "    </tr>\n",
       "    <tr>\n",
       "      <td>2017-10-01</td>\n",
       "      <td>1.143779</td>\n",
       "      <td>1.524272</td>\n",
       "      <td>1.317073</td>\n",
       "      <td>1.326087</td>\n",
       "      <td>1.387097</td>\n",
       "      <td>1.430556</td>\n",
       "      <td>1.535714</td>\n",
       "      <td>1.865672</td>\n",
       "      <td>NaN</td>\n",
       "      <td>NaN</td>\n",
       "      <td>NaN</td>\n",
       "      <td>NaN</td>\n",
       "    </tr>\n",
       "    <tr>\n",
       "      <td>2017-11-01</td>\n",
       "      <td>1.179368</td>\n",
       "      <td>1.788288</td>\n",
       "      <td>1.516667</td>\n",
       "      <td>1.990566</td>\n",
       "      <td>1.679012</td>\n",
       "      <td>1.229167</td>\n",
       "      <td>1.645161</td>\n",
       "      <td>NaN</td>\n",
       "      <td>NaN</td>\n",
       "      <td>NaN</td>\n",
       "      <td>NaN</td>\n",
       "      <td>NaN</td>\n",
       "    </tr>\n",
       "    <tr>\n",
       "      <td>2017-12-01</td>\n",
       "      <td>1.152635</td>\n",
       "      <td>1.849315</td>\n",
       "      <td>1.961165</td>\n",
       "      <td>1.845361</td>\n",
       "      <td>1.720000</td>\n",
       "      <td>1.666667</td>\n",
       "      <td>NaN</td>\n",
       "      <td>NaN</td>\n",
       "      <td>NaN</td>\n",
       "      <td>NaN</td>\n",
       "      <td>NaN</td>\n",
       "      <td>NaN</td>\n",
       "    </tr>\n",
       "    <tr>\n",
       "      <td>2018-01-01</td>\n",
       "      <td>1.121554</td>\n",
       "      <td>1.964912</td>\n",
       "      <td>1.915663</td>\n",
       "      <td>1.488372</td>\n",
       "      <td>1.733333</td>\n",
       "      <td>NaN</td>\n",
       "      <td>NaN</td>\n",
       "      <td>NaN</td>\n",
       "      <td>NaN</td>\n",
       "      <td>NaN</td>\n",
       "      <td>NaN</td>\n",
       "      <td>NaN</td>\n",
       "    </tr>\n",
       "    <tr>\n",
       "      <td>2018-02-01</td>\n",
       "      <td>1.121611</td>\n",
       "      <td>1.881356</td>\n",
       "      <td>1.431034</td>\n",
       "      <td>1.794872</td>\n",
       "      <td>NaN</td>\n",
       "      <td>NaN</td>\n",
       "      <td>NaN</td>\n",
       "      <td>NaN</td>\n",
       "      <td>NaN</td>\n",
       "      <td>NaN</td>\n",
       "      <td>NaN</td>\n",
       "      <td>NaN</td>\n",
       "    </tr>\n",
       "    <tr>\n",
       "      <td>2018-03-01</td>\n",
       "      <td>1.168978</td>\n",
       "      <td>1.977778</td>\n",
       "      <td>3.034483</td>\n",
       "      <td>NaN</td>\n",
       "      <td>NaN</td>\n",
       "      <td>NaN</td>\n",
       "      <td>NaN</td>\n",
       "      <td>NaN</td>\n",
       "      <td>NaN</td>\n",
       "      <td>NaN</td>\n",
       "      <td>NaN</td>\n",
       "      <td>NaN</td>\n",
       "    </tr>\n",
       "    <tr>\n",
       "      <td>2018-04-01</td>\n",
       "      <td>1.096221</td>\n",
       "      <td>2.826087</td>\n",
       "      <td>NaN</td>\n",
       "      <td>NaN</td>\n",
       "      <td>NaN</td>\n",
       "      <td>NaN</td>\n",
       "      <td>NaN</td>\n",
       "      <td>NaN</td>\n",
       "      <td>NaN</td>\n",
       "      <td>NaN</td>\n",
       "      <td>NaN</td>\n",
       "      <td>NaN</td>\n",
       "    </tr>\n",
       "    <tr>\n",
       "      <td>2018-05-01</td>\n",
       "      <td>1.087349</td>\n",
       "      <td>NaN</td>\n",
       "      <td>NaN</td>\n",
       "      <td>NaN</td>\n",
       "      <td>NaN</td>\n",
       "      <td>NaN</td>\n",
       "      <td>NaN</td>\n",
       "      <td>NaN</td>\n",
       "      <td>NaN</td>\n",
       "      <td>NaN</td>\n",
       "      <td>NaN</td>\n",
       "      <td>NaN</td>\n",
       "    </tr>\n",
       "    <tr>\n",
       "      <td>2018-06-01</td>\n",
       "      <td>1.000000</td>\n",
       "      <td>NaN</td>\n",
       "      <td>NaN</td>\n",
       "      <td>NaN</td>\n",
       "      <td>NaN</td>\n",
       "      <td>NaN</td>\n",
       "      <td>NaN</td>\n",
       "      <td>NaN</td>\n",
       "      <td>NaN</td>\n",
       "      <td>NaN</td>\n",
       "      <td>NaN</td>\n",
       "      <td>NaN</td>\n",
       "    </tr>\n",
       "  </tbody>\n",
       "</table>\n",
       "</div>"
      ],
      "text/plain": [
       "lifetime                  0         1         2         3         4   \\\n",
       "first_orders_month                                                     \n",
       "2017-06-01          1.163618  2.901639  3.480000  4.185185  3.318182   \n",
       "2017-07-01          1.136765  1.923077  2.105263  1.625000  1.469388   \n",
       "2017-08-01          1.118978  1.862069  1.886792  1.840909  2.125000   \n",
       "2017-09-01          1.136381  1.684615  1.610000  2.216216  1.288462   \n",
       "2017-10-01          1.143779  1.524272  1.317073  1.326087  1.387097   \n",
       "2017-11-01          1.179368  1.788288  1.516667  1.990566  1.679012   \n",
       "2017-12-01          1.152635  1.849315  1.961165  1.845361  1.720000   \n",
       "2018-01-01          1.121554  1.964912  1.915663  1.488372  1.733333   \n",
       "2018-02-01          1.121611  1.881356  1.431034  1.794872       NaN   \n",
       "2018-03-01          1.168978  1.977778  3.034483       NaN       NaN   \n",
       "2018-04-01          1.096221  2.826087       NaN       NaN       NaN   \n",
       "2018-05-01          1.087349       NaN       NaN       NaN       NaN   \n",
       "2018-06-01          1.000000       NaN       NaN       NaN       NaN   \n",
       "\n",
       "lifetime                  5         6         7         8         9   \\\n",
       "first_orders_month                                                     \n",
       "2017-06-01          3.253731  4.451613  3.702128  3.655172  3.400000   \n",
       "2017-07-01          2.157895  1.694444  1.282051  1.380952  1.090909   \n",
       "2017-08-01          1.937500  1.633333  1.772727  2.421053  1.483871   \n",
       "2017-09-01          1.703125  1.636364  1.513514  1.418605       NaN   \n",
       "2017-10-01          1.430556  1.535714  1.865672       NaN       NaN   \n",
       "2017-11-01          1.229167  1.645161       NaN       NaN       NaN   \n",
       "2017-12-01          1.666667       NaN       NaN       NaN       NaN   \n",
       "2018-01-01               NaN       NaN       NaN       NaN       NaN   \n",
       "2018-02-01               NaN       NaN       NaN       NaN       NaN   \n",
       "2018-03-01               NaN       NaN       NaN       NaN       NaN   \n",
       "2018-04-01               NaN       NaN       NaN       NaN       NaN   \n",
       "2018-05-01               NaN       NaN       NaN       NaN       NaN   \n",
       "2018-06-01               NaN       NaN       NaN       NaN       NaN   \n",
       "\n",
       "lifetime                  10        11  \n",
       "first_orders_month                      \n",
       "2017-06-01          2.133333  1.622642  \n",
       "2017-07-01          2.038462       NaN  \n",
       "2017-08-01               NaN       NaN  \n",
       "2017-09-01               NaN       NaN  \n",
       "2017-10-01               NaN       NaN  \n",
       "2017-11-01               NaN       NaN  \n",
       "2017-12-01               NaN       NaN  \n",
       "2018-01-01               NaN       NaN  \n",
       "2018-02-01               NaN       NaN  \n",
       "2018-03-01               NaN       NaN  \n",
       "2018-04-01               NaN       NaN  \n",
       "2018-05-01               NaN       NaN  \n",
       "2018-06-01               NaN       NaN  "
      ]
     },
     "execution_count": 56,
     "metadata": {},
     "output_type": "execute_result"
    }
   ],
   "source": [
    "order_cohorts_pivot = order_cohorts.pivot_table(index='first_orders_month', columns='lifetime', values='order_per_buyer', aggfunc='mean')\n",
    "order_cohorts_pivot"
   ]
  },
  {
   "cell_type": "code",
   "execution_count": 57,
   "metadata": {},
   "outputs": [
    {
     "data": {
      "text/plain": [
       "<matplotlib.axes._subplots.AxesSubplot at 0x7f7236abda90>"
      ]
     },
     "execution_count": 57,
     "metadata": {},
     "output_type": "execute_result"
    },
    {
     "data": {
      "image/png": "[encoded data removed]",
      "text/plain": [
       "<Figure size 720x360 with 2 Axes>"
      ]
     },
     "metadata": {
      "needs_background": "light"
     },
     "output_type": "display_data"
    }
   ],
   "source": [
    "plt.figure(figsize=(10, 5))\n",
    "plt.title('Среднее количество покупок на одного человека')\n",
    "sns.heatmap(order_cohorts_pivot, annot=True, fmt='.1f', linewidths=1, linecolor='white', vmin=0.0, vmax=5)"
   ]
  },
  {
   "cell_type": "markdown",
   "metadata": {},
   "source": [
    "Возьмем только те когорты которые прожили полные 6 месяцев и посчитаем среднее по их первому полугодию. Это будут когорты с июня по декабрь."
   ]
  },
  {
   "cell_type": "code",
   "execution_count": 58,
   "metadata": {},
   "outputs": [
    {
     "name": "stdout",
     "output_type": "stream",
     "text": [
      "Cреднее количество покупок на одного покупателя 1.83\n"
     ]
    }
   ],
   "source": [
    "order_cohorts_query = order_cohorts[(order_cohorts['first_orders_month'] < '2018-01-01') & (order_cohorts['lifetime'] < 6)]\n",
    "avg_order_per_buyer = order_cohorts_query['order_per_buyer'].mean()\n",
    "print('Cреднее количество покупок на одного покупателя {:.2f}'.format(avg_order_per_buyer))"
   ]
  },
  {
   "cell_type": "markdown",
   "metadata": {},
   "source": [
    "Хороший показатель, но есть куда стремиться. Первая когорта это отлично показывает."
   ]
  },
  {
   "cell_type": "markdown",
   "metadata": {},
   "source": [
    "### Рассчитаем средний чек."
   ]
  },
  {
   "cell_type": "markdown",
   "metadata": {},
   "source": [
    "Разворачивать график среднего чека буду по календарным месяцам, а не по месяцу жизни когорты, потому что необходимо увидеть какой месяц более прибыльный в абсолюте."
   ]
  },
  {
   "cell_type": "code",
   "execution_count": 59,
   "metadata": {},
   "outputs": [],
   "source": [
    "revenue_cohorts = orders.groupby(['first_orders_month', 'orders_month']).agg({'revenue':'sum', 'uid':'nunique'}).reset_index()"
   ]
  },
  {
   "cell_type": "code",
   "execution_count": 60,
   "metadata": {},
   "outputs": [],
   "source": [
    "revenue_cohorts['revenue_per_user'] = revenue_cohorts['revenue'] / revenue_cohorts['uid']"
   ]
  },
  {
   "cell_type": "code",
   "execution_count": 61,
   "metadata": {},
   "outputs": [],
   "source": [
    "revenue_cohorts['first_orders_month'] = revenue_cohorts['first_orders_month'].astype('datetime64[M]')"
   ]
  },
  {
   "cell_type": "code",
   "execution_count": 62,
   "metadata": {},
   "outputs": [],
   "source": [
    "revenue_cohorts_pivot = revenue_cohorts.pivot_table(index='first_orders_month', columns='orders_month', values='revenue_per_user', aggfunc='mean')"
   ]
  },
  {
   "cell_type": "code",
   "execution_count": 63,
   "metadata": {},
   "outputs": [
    {
     "data": {
      "text/html": [
       "<div>\n",
       "<style scoped>\n",
       "    .dataframe tbody tr th:only-of-type {\n",
       "        vertical-align: middle;\n",
       "    }\n",
       "\n",
       "    .dataframe tbody tr th {\n",
       "        vertical-align: top;\n",
       "    }\n",
       "\n",
       "    .dataframe thead th {\n",
       "        text-align: right;\n",
       "    }\n",
       "</style>\n",
       "<table border=\"1\" class=\"dataframe\">\n",
       "  <thead>\n",
       "    <tr style=\"text-align: right;\">\n",
       "      <th>orders_month</th>\n",
       "      <th>2017-06-01</th>\n",
       "      <th>2017-07-01</th>\n",
       "      <th>2017-08-01</th>\n",
       "      <th>2017-09-01</th>\n",
       "      <th>2017-10-01</th>\n",
       "      <th>2017-11-01</th>\n",
       "      <th>2017-12-01</th>\n",
       "      <th>2018-01-01</th>\n",
       "      <th>2018-02-01</th>\n",
       "      <th>2018-03-01</th>\n",
       "      <th>2018-04-01</th>\n",
       "      <th>2018-05-01</th>\n",
       "      <th>2018-06-01</th>\n",
       "    </tr>\n",
       "    <tr>\n",
       "      <th>first_orders_month</th>\n",
       "      <th></th>\n",
       "      <th></th>\n",
       "      <th></th>\n",
       "      <th></th>\n",
       "      <th></th>\n",
       "      <th></th>\n",
       "      <th></th>\n",
       "      <th></th>\n",
       "      <th></th>\n",
       "      <th></th>\n",
       "      <th></th>\n",
       "      <th></th>\n",
       "      <th></th>\n",
       "    </tr>\n",
       "  </thead>\n",
       "  <tbody>\n",
       "    <tr>\n",
       "      <td>2017-06-01</td>\n",
       "      <td>4.724414</td>\n",
       "      <td>16.095410</td>\n",
       "      <td>17.706800</td>\n",
       "      <td>35.764815</td>\n",
       "      <td>23.506591</td>\n",
       "      <td>22.207761</td>\n",
       "      <td>31.011935</td>\n",
       "      <td>25.033191</td>\n",
       "      <td>19.295690</td>\n",
       "      <td>27.233556</td>\n",
       "      <td>25.681333</td>\n",
       "      <td>9.804151</td>\n",
       "      <td>NaN</td>\n",
       "    </tr>\n",
       "    <tr>\n",
       "      <td>2017-07-01</td>\n",
       "      <td>NaN</td>\n",
       "      <td>6.010218</td>\n",
       "      <td>12.396346</td>\n",
       "      <td>21.035965</td>\n",
       "      <td>10.786094</td>\n",
       "      <td>6.938163</td>\n",
       "      <td>7.896842</td>\n",
       "      <td>6.421111</td>\n",
       "      <td>6.992821</td>\n",
       "      <td>7.382143</td>\n",
       "      <td>12.861818</td>\n",
       "      <td>11.513846</td>\n",
       "      <td>NaN</td>\n",
       "    </tr>\n",
       "    <tr>\n",
       "      <td>2017-08-01</td>\n",
       "      <td>NaN</td>\n",
       "      <td>NaN</td>\n",
       "      <td>5.276518</td>\n",
       "      <td>11.148793</td>\n",
       "      <td>11.851321</td>\n",
       "      <td>12.182955</td>\n",
       "      <td>16.921250</td>\n",
       "      <td>12.139063</td>\n",
       "      <td>9.620333</td>\n",
       "      <td>12.610455</td>\n",
       "      <td>21.070000</td>\n",
       "      <td>8.307419</td>\n",
       "      <td>NaN</td>\n",
       "    </tr>\n",
       "    <tr>\n",
       "      <td>2017-09-01</td>\n",
       "      <td>NaN</td>\n",
       "      <td>NaN</td>\n",
       "      <td>NaN</td>\n",
       "      <td>5.644529</td>\n",
       "      <td>22.188385</td>\n",
       "      <td>13.445200</td>\n",
       "      <td>138.669189</td>\n",
       "      <td>19.881538</td>\n",
       "      <td>26.095000</td>\n",
       "      <td>27.437121</td>\n",
       "      <td>16.961351</td>\n",
       "      <td>11.044651</td>\n",
       "      <td>NaN</td>\n",
       "    </tr>\n",
       "    <tr>\n",
       "      <td>2017-10-01</td>\n",
       "      <td>NaN</td>\n",
       "      <td>NaN</td>\n",
       "      <td>NaN</td>\n",
       "      <td>NaN</td>\n",
       "      <td>5.003733</td>\n",
       "      <td>11.287427</td>\n",
       "      <td>6.753252</td>\n",
       "      <td>7.413152</td>\n",
       "      <td>7.072796</td>\n",
       "      <td>7.255139</td>\n",
       "      <td>6.573214</td>\n",
       "      <td>7.479701</td>\n",
       "      <td>NaN</td>\n",
       "    </tr>\n",
       "    <tr>\n",
       "      <td>2017-11-01</td>\n",
       "      <td>NaN</td>\n",
       "      <td>NaN</td>\n",
       "      <td>NaN</td>\n",
       "      <td>NaN</td>\n",
       "      <td>NaN</td>\n",
       "      <td>5.154683</td>\n",
       "      <td>7.339054</td>\n",
       "      <td>6.786583</td>\n",
       "      <td>12.510660</td>\n",
       "      <td>7.457284</td>\n",
       "      <td>4.580833</td>\n",
       "      <td>7.564839</td>\n",
       "      <td>NaN</td>\n",
       "    </tr>\n",
       "    <tr>\n",
       "      <td>2017-12-01</td>\n",
       "      <td>NaN</td>\n",
       "      <td>NaN</td>\n",
       "      <td>NaN</td>\n",
       "      <td>NaN</td>\n",
       "      <td>NaN</td>\n",
       "      <td>NaN</td>\n",
       "      <td>4.738191</td>\n",
       "      <td>7.816575</td>\n",
       "      <td>39.366019</td>\n",
       "      <td>48.135052</td>\n",
       "      <td>27.431400</td>\n",
       "      <td>23.518413</td>\n",
       "      <td>NaN</td>\n",
       "    </tr>\n",
       "    <tr>\n",
       "      <td>2018-01-01</td>\n",
       "      <td>NaN</td>\n",
       "      <td>NaN</td>\n",
       "      <td>NaN</td>\n",
       "      <td>NaN</td>\n",
       "      <td>NaN</td>\n",
       "      <td>NaN</td>\n",
       "      <td>NaN</td>\n",
       "      <td>4.135636</td>\n",
       "      <td>8.721228</td>\n",
       "      <td>12.365542</td>\n",
       "      <td>11.199767</td>\n",
       "      <td>4.699556</td>\n",
       "      <td>NaN</td>\n",
       "    </tr>\n",
       "    <tr>\n",
       "      <td>2018-02-01</td>\n",
       "      <td>NaN</td>\n",
       "      <td>NaN</td>\n",
       "      <td>NaN</td>\n",
       "      <td>NaN</td>\n",
       "      <td>NaN</td>\n",
       "      <td>NaN</td>\n",
       "      <td>NaN</td>\n",
       "      <td>NaN</td>\n",
       "      <td>4.156987</td>\n",
       "      <td>8.610000</td>\n",
       "      <td>4.942414</td>\n",
       "      <td>6.941026</td>\n",
       "      <td>NaN</td>\n",
       "    </tr>\n",
       "    <tr>\n",
       "      <td>2018-03-01</td>\n",
       "      <td>NaN</td>\n",
       "      <td>NaN</td>\n",
       "      <td>NaN</td>\n",
       "      <td>NaN</td>\n",
       "      <td>NaN</td>\n",
       "      <td>NaN</td>\n",
       "      <td>NaN</td>\n",
       "      <td>NaN</td>\n",
       "      <td>NaN</td>\n",
       "      <td>4.838803</td>\n",
       "      <td>11.811667</td>\n",
       "      <td>19.221897</td>\n",
       "      <td>NaN</td>\n",
       "    </tr>\n",
       "    <tr>\n",
       "      <td>2018-04-01</td>\n",
       "      <td>NaN</td>\n",
       "      <td>NaN</td>\n",
       "      <td>NaN</td>\n",
       "      <td>NaN</td>\n",
       "      <td>NaN</td>\n",
       "      <td>NaN</td>\n",
       "      <td>NaN</td>\n",
       "      <td>NaN</td>\n",
       "      <td>NaN</td>\n",
       "      <td>NaN</td>\n",
       "      <td>4.657597</td>\n",
       "      <td>17.535072</td>\n",
       "      <td>NaN</td>\n",
       "    </tr>\n",
       "    <tr>\n",
       "      <td>2018-05-01</td>\n",
       "      <td>NaN</td>\n",
       "      <td>NaN</td>\n",
       "      <td>NaN</td>\n",
       "      <td>NaN</td>\n",
       "      <td>NaN</td>\n",
       "      <td>NaN</td>\n",
       "      <td>NaN</td>\n",
       "      <td>NaN</td>\n",
       "      <td>NaN</td>\n",
       "      <td>NaN</td>\n",
       "      <td>NaN</td>\n",
       "      <td>4.660562</td>\n",
       "      <td>NaN</td>\n",
       "    </tr>\n",
       "    <tr>\n",
       "      <td>2018-06-01</td>\n",
       "      <td>NaN</td>\n",
       "      <td>NaN</td>\n",
       "      <td>NaN</td>\n",
       "      <td>NaN</td>\n",
       "      <td>NaN</td>\n",
       "      <td>NaN</td>\n",
       "      <td>NaN</td>\n",
       "      <td>NaN</td>\n",
       "      <td>NaN</td>\n",
       "      <td>NaN</td>\n",
       "      <td>NaN</td>\n",
       "      <td>NaN</td>\n",
       "      <td>3.42</td>\n",
       "    </tr>\n",
       "  </tbody>\n",
       "</table>\n",
       "</div>"
      ],
      "text/plain": [
       "orders_month        2017-06-01  2017-07-01  2017-08-01  2017-09-01  \\\n",
       "first_orders_month                                                   \n",
       "2017-06-01            4.724414   16.095410   17.706800   35.764815   \n",
       "2017-07-01                 NaN    6.010218   12.396346   21.035965   \n",
       "2017-08-01                 NaN         NaN    5.276518   11.148793   \n",
       "2017-09-01                 NaN         NaN         NaN    5.644529   \n",
       "2017-10-01                 NaN         NaN         NaN         NaN   \n",
       "2017-11-01                 NaN         NaN         NaN         NaN   \n",
       "2017-12-01                 NaN         NaN         NaN         NaN   \n",
       "2018-01-01                 NaN         NaN         NaN         NaN   \n",
       "2018-02-01                 NaN         NaN         NaN         NaN   \n",
       "2018-03-01                 NaN         NaN         NaN         NaN   \n",
       "2018-04-01                 NaN         NaN         NaN         NaN   \n",
       "2018-05-01                 NaN         NaN         NaN         NaN   \n",
       "2018-06-01                 NaN         NaN         NaN         NaN   \n",
       "\n",
       "orders_month        2017-10-01  2017-11-01  2017-12-01  2018-01-01  \\\n",
       "first_orders_month                                                   \n",
       "2017-06-01           23.506591   22.207761   31.011935   25.033191   \n",
       "2017-07-01           10.786094    6.938163    7.896842    6.421111   \n",
       "2017-08-01           11.851321   12.182955   16.921250   12.139063   \n",
       "2017-09-01           22.188385   13.445200  138.669189   19.881538   \n",
       "2017-10-01            5.003733   11.287427    6.753252    7.413152   \n",
       "2017-11-01                 NaN    5.154683    7.339054    6.786583   \n",
       "2017-12-01                 NaN         NaN    4.738191    7.816575   \n",
       "2018-01-01                 NaN         NaN         NaN    4.135636   \n",
       "2018-02-01                 NaN         NaN         NaN         NaN   \n",
       "2018-03-01                 NaN         NaN         NaN         NaN   \n",
       "2018-04-01                 NaN         NaN         NaN         NaN   \n",
       "2018-05-01                 NaN         NaN         NaN         NaN   \n",
       "2018-06-01                 NaN         NaN         NaN         NaN   \n",
       "\n",
       "orders_month        2018-02-01  2018-03-01  2018-04-01  2018-05-01  2018-06-01  \n",
       "first_orders_month                                                              \n",
       "2017-06-01           19.295690   27.233556   25.681333    9.804151         NaN  \n",
       "2017-07-01            6.992821    7.382143   12.861818   11.513846         NaN  \n",
       "2017-08-01            9.620333   12.610455   21.070000    8.307419         NaN  \n",
       "2017-09-01           26.095000   27.437121   16.961351   11.044651         NaN  \n",
       "2017-10-01            7.072796    7.255139    6.573214    7.479701         NaN  \n",
       "2017-11-01           12.510660    7.457284    4.580833    7.564839         NaN  \n",
       "2017-12-01           39.366019   48.135052   27.431400   23.518413         NaN  \n",
       "2018-01-01            8.721228   12.365542   11.199767    4.699556         NaN  \n",
       "2018-02-01            4.156987    8.610000    4.942414    6.941026         NaN  \n",
       "2018-03-01                 NaN    4.838803   11.811667   19.221897         NaN  \n",
       "2018-04-01                 NaN         NaN    4.657597   17.535072         NaN  \n",
       "2018-05-01                 NaN         NaN         NaN    4.660562         NaN  \n",
       "2018-06-01                 NaN         NaN         NaN         NaN        3.42  "
      ]
     },
     "execution_count": 63,
     "metadata": {},
     "output_type": "execute_result"
    }
   ],
   "source": [
    "revenue_cohorts_pivot"
   ]
  },
  {
   "cell_type": "code",
   "execution_count": 64,
   "metadata": {},
   "outputs": [
    {
     "data": {
      "image/png": "[encoded data removed]",
      "text/plain": [
       "<Figure size 1080x720 with 2 Axes>"
      ]
     },
     "metadata": {
      "needs_background": "light"
     },
     "output_type": "display_data"
    }
   ],
   "source": [
    "plt.figure(figsize=(15, 10))\n",
    "plt.title('Средний чек')\n",
    "sns.heatmap(revenue_cohorts_pivot, annot=True, fmt='.2f', linewidths=1, linecolor='white', vmin=0.0, vmax=50)\n",
    "plt.show()"
   ]
  },
  {
   "cell_type": "markdown",
   "metadata": {},
   "source": [
    "Самые высокие показатели среднего чека у первой когорты 2017-06-01 покупателей на протяжении всей жизни.Эта когорта точно перспективная.\n",
    "Также хорошие показатели у когорты 2017-09-01, особенно средний чек за декабрь - абсолютный лидер.\n",
    "И стои отметить декбрьскую когорту 2017-12-01, в которой тоже высокие показатели среднего чека."
   ]
  },
  {
   "cell_type": "markdown",
   "metadata": {},
   "source": [
    "### Как меняется во времени LTV на покупателя по когортам. "
   ]
  },
  {
   "cell_type": "markdown",
   "metadata": {},
   "source": [
    "Сгруппируем заказы по когортам и возрасту когорты. Выручку сложим."
   ]
  },
  {
   "cell_type": "code",
   "execution_count": 65,
   "metadata": {},
   "outputs": [
    {
     "data": {
      "text/html": [
       "<div>\n",
       "<style scoped>\n",
       "    .dataframe tbody tr th:only-of-type {\n",
       "        vertical-align: middle;\n",
       "    }\n",
       "\n",
       "    .dataframe tbody tr th {\n",
       "        vertical-align: top;\n",
       "    }\n",
       "\n",
       "    .dataframe thead th {\n",
       "        text-align: right;\n",
       "    }\n",
       "</style>\n",
       "<table border=\"1\" class=\"dataframe\">\n",
       "  <thead>\n",
       "    <tr style=\"text-align: right;\">\n",
       "      <th></th>\n",
       "      <th>first_orders_month</th>\n",
       "      <th>lifetime</th>\n",
       "      <th>revenue</th>\n",
       "    </tr>\n",
       "  </thead>\n",
       "  <tbody>\n",
       "    <tr>\n",
       "      <td>0</td>\n",
       "      <td>2017-06-01</td>\n",
       "      <td>0</td>\n",
       "      <td>9557.49</td>\n",
       "    </tr>\n",
       "    <tr>\n",
       "      <td>1</td>\n",
       "      <td>2017-06-01</td>\n",
       "      <td>1</td>\n",
       "      <td>981.82</td>\n",
       "    </tr>\n",
       "    <tr>\n",
       "      <td>2</td>\n",
       "      <td>2017-06-01</td>\n",
       "      <td>2</td>\n",
       "      <td>885.34</td>\n",
       "    </tr>\n",
       "    <tr>\n",
       "      <td>3</td>\n",
       "      <td>2017-06-01</td>\n",
       "      <td>3</td>\n",
       "      <td>1931.30</td>\n",
       "    </tr>\n",
       "    <tr>\n",
       "      <td>4</td>\n",
       "      <td>2017-06-01</td>\n",
       "      <td>4</td>\n",
       "      <td>2068.58</td>\n",
       "    </tr>\n",
       "    <tr>\n",
       "      <td>...</td>\n",
       "      <td>...</td>\n",
       "      <td>...</td>\n",
       "      <td>...</td>\n",
       "    </tr>\n",
       "    <tr>\n",
       "      <td>74</td>\n",
       "      <td>2018-03-01</td>\n",
       "      <td>2</td>\n",
       "      <td>1114.87</td>\n",
       "    </tr>\n",
       "    <tr>\n",
       "      <td>75</td>\n",
       "      <td>2018-04-01</td>\n",
       "      <td>0</td>\n",
       "      <td>10600.69</td>\n",
       "    </tr>\n",
       "    <tr>\n",
       "      <td>76</td>\n",
       "      <td>2018-04-01</td>\n",
       "      <td>1</td>\n",
       "      <td>1209.92</td>\n",
       "    </tr>\n",
       "    <tr>\n",
       "      <td>77</td>\n",
       "      <td>2018-05-01</td>\n",
       "      <td>0</td>\n",
       "      <td>13925.76</td>\n",
       "    </tr>\n",
       "    <tr>\n",
       "      <td>78</td>\n",
       "      <td>2018-06-01</td>\n",
       "      <td>0</td>\n",
       "      <td>3.42</td>\n",
       "    </tr>\n",
       "  </tbody>\n",
       "</table>\n",
       "<p>79 rows × 3 columns</p>\n",
       "</div>"
      ],
      "text/plain": [
       "   first_orders_month  lifetime   revenue\n",
       "0          2017-06-01         0   9557.49\n",
       "1          2017-06-01         1    981.82\n",
       "2          2017-06-01         2    885.34\n",
       "3          2017-06-01         3   1931.30\n",
       "4          2017-06-01         4   2068.58\n",
       "..                ...       ...       ...\n",
       "74         2018-03-01         2   1114.87\n",
       "75         2018-04-01         0  10600.69\n",
       "76         2018-04-01         1   1209.92\n",
       "77         2018-05-01         0  13925.76\n",
       "78         2018-06-01         0      3.42\n",
       "\n",
       "[79 rows x 3 columns]"
      ]
     },
     "execution_count": 65,
     "metadata": {},
     "output_type": "execute_result"
    }
   ],
   "source": [
    "ltv_cohorts = orders.groupby(['first_orders_month', 'lifetime']).agg({'revenue':'sum'}).reset_index()\n",
    "ltv_cohorts"
   ]
  },
  {
   "cell_type": "markdown",
   "metadata": {},
   "source": [
    "Выделим размеры когорт."
   ]
  },
  {
   "cell_type": "code",
   "execution_count": 66,
   "metadata": {},
   "outputs": [
    {
     "data": {
      "text/html": [
       "<div>\n",
       "<style scoped>\n",
       "    .dataframe tbody tr th:only-of-type {\n",
       "        vertical-align: middle;\n",
       "    }\n",
       "\n",
       "    .dataframe tbody tr th {\n",
       "        vertical-align: top;\n",
       "    }\n",
       "\n",
       "    .dataframe thead th {\n",
       "        text-align: right;\n",
       "    }\n",
       "</style>\n",
       "<table border=\"1\" class=\"dataframe\">\n",
       "  <thead>\n",
       "    <tr style=\"text-align: right;\">\n",
       "      <th></th>\n",
       "      <th>uid</th>\n",
       "    </tr>\n",
       "    <tr>\n",
       "      <th>first_orders_month</th>\n",
       "      <th></th>\n",
       "    </tr>\n",
       "  </thead>\n",
       "  <tbody>\n",
       "    <tr>\n",
       "      <td>2017-06-01</td>\n",
       "      <td>2023</td>\n",
       "    </tr>\n",
       "    <tr>\n",
       "      <td>2017-07-01</td>\n",
       "      <td>1923</td>\n",
       "    </tr>\n",
       "    <tr>\n",
       "      <td>2017-08-01</td>\n",
       "      <td>1370</td>\n",
       "    </tr>\n",
       "    <tr>\n",
       "      <td>2017-09-01</td>\n",
       "      <td>2581</td>\n",
       "    </tr>\n",
       "    <tr>\n",
       "      <td>2017-10-01</td>\n",
       "      <td>4340</td>\n",
       "    </tr>\n",
       "    <tr>\n",
       "      <td>2017-11-01</td>\n",
       "      <td>4081</td>\n",
       "    </tr>\n",
       "    <tr>\n",
       "      <td>2017-12-01</td>\n",
       "      <td>4383</td>\n",
       "    </tr>\n",
       "    <tr>\n",
       "      <td>2018-01-01</td>\n",
       "      <td>3373</td>\n",
       "    </tr>\n",
       "    <tr>\n",
       "      <td>2018-02-01</td>\n",
       "      <td>3651</td>\n",
       "    </tr>\n",
       "    <tr>\n",
       "      <td>2018-03-01</td>\n",
       "      <td>3533</td>\n",
       "    </tr>\n",
       "    <tr>\n",
       "      <td>2018-04-01</td>\n",
       "      <td>2276</td>\n",
       "    </tr>\n",
       "    <tr>\n",
       "      <td>2018-05-01</td>\n",
       "      <td>2988</td>\n",
       "    </tr>\n",
       "    <tr>\n",
       "      <td>2018-06-01</td>\n",
       "      <td>1</td>\n",
       "    </tr>\n",
       "  </tbody>\n",
       "</table>\n",
       "</div>"
      ],
      "text/plain": [
       "                     uid\n",
       "first_orders_month      \n",
       "2017-06-01          2023\n",
       "2017-07-01          1923\n",
       "2017-08-01          1370\n",
       "2017-09-01          2581\n",
       "2017-10-01          4340\n",
       "2017-11-01          4081\n",
       "2017-12-01          4383\n",
       "2018-01-01          3373\n",
       "2018-02-01          3651\n",
       "2018-03-01          3533\n",
       "2018-04-01          2276\n",
       "2018-05-01          2988\n",
       "2018-06-01             1"
      ]
     },
     "execution_count": 66,
     "metadata": {},
     "output_type": "execute_result"
    }
   ],
   "source": [
    "cohort_sizes = orders.groupby('first_orders_month').agg({'uid': 'nunique'})\n",
    "cohort_sizes"
   ]
  },
  {
   "cell_type": "code",
   "execution_count": 67,
   "metadata": {},
   "outputs": [],
   "source": [
    "ltv_cohorts = ltv_cohorts.join(cohort_sizes, on='first_orders_month')"
   ]
  },
  {
   "cell_type": "markdown",
   "metadata": {},
   "source": [
    "Счиатем LTV. Делим доход от покупателей в когортах и месяцах жизни на количество покупателей в когорте"
   ]
  },
  {
   "cell_type": "code",
   "execution_count": 68,
   "metadata": {},
   "outputs": [
    {
     "data": {
      "text/html": [
       "<div>\n",
       "<style scoped>\n",
       "    .dataframe tbody tr th:only-of-type {\n",
       "        vertical-align: middle;\n",
       "    }\n",
       "\n",
       "    .dataframe tbody tr th {\n",
       "        vertical-align: top;\n",
       "    }\n",
       "\n",
       "    .dataframe thead th {\n",
       "        text-align: right;\n",
       "    }\n",
       "</style>\n",
       "<table border=\"1\" class=\"dataframe\">\n",
       "  <thead>\n",
       "    <tr style=\"text-align: right;\">\n",
       "      <th></th>\n",
       "      <th>first_orders_month</th>\n",
       "      <th>lifetime</th>\n",
       "      <th>revenue</th>\n",
       "      <th>uid</th>\n",
       "      <th>ltv</th>\n",
       "    </tr>\n",
       "  </thead>\n",
       "  <tbody>\n",
       "    <tr>\n",
       "      <td>0</td>\n",
       "      <td>2017-06-01</td>\n",
       "      <td>0</td>\n",
       "      <td>9557.49</td>\n",
       "      <td>2023</td>\n",
       "      <td>4.724414</td>\n",
       "    </tr>\n",
       "    <tr>\n",
       "      <td>1</td>\n",
       "      <td>2017-06-01</td>\n",
       "      <td>1</td>\n",
       "      <td>981.82</td>\n",
       "      <td>2023</td>\n",
       "      <td>0.485329</td>\n",
       "    </tr>\n",
       "    <tr>\n",
       "      <td>2</td>\n",
       "      <td>2017-06-01</td>\n",
       "      <td>2</td>\n",
       "      <td>885.34</td>\n",
       "      <td>2023</td>\n",
       "      <td>0.437637</td>\n",
       "    </tr>\n",
       "    <tr>\n",
       "      <td>3</td>\n",
       "      <td>2017-06-01</td>\n",
       "      <td>3</td>\n",
       "      <td>1931.30</td>\n",
       "      <td>2023</td>\n",
       "      <td>0.954671</td>\n",
       "    </tr>\n",
       "    <tr>\n",
       "      <td>4</td>\n",
       "      <td>2017-06-01</td>\n",
       "      <td>4</td>\n",
       "      <td>2068.58</td>\n",
       "      <td>2023</td>\n",
       "      <td>1.022531</td>\n",
       "    </tr>\n",
       "    <tr>\n",
       "      <td>...</td>\n",
       "      <td>...</td>\n",
       "      <td>...</td>\n",
       "      <td>...</td>\n",
       "      <td>...</td>\n",
       "      <td>...</td>\n",
       "    </tr>\n",
       "    <tr>\n",
       "      <td>74</td>\n",
       "      <td>2018-03-01</td>\n",
       "      <td>2</td>\n",
       "      <td>1114.87</td>\n",
       "      <td>3533</td>\n",
       "      <td>0.315559</td>\n",
       "    </tr>\n",
       "    <tr>\n",
       "      <td>75</td>\n",
       "      <td>2018-04-01</td>\n",
       "      <td>0</td>\n",
       "      <td>10600.69</td>\n",
       "      <td>2276</td>\n",
       "      <td>4.657597</td>\n",
       "    </tr>\n",
       "    <tr>\n",
       "      <td>76</td>\n",
       "      <td>2018-04-01</td>\n",
       "      <td>1</td>\n",
       "      <td>1209.92</td>\n",
       "      <td>2276</td>\n",
       "      <td>0.531599</td>\n",
       "    </tr>\n",
       "    <tr>\n",
       "      <td>77</td>\n",
       "      <td>2018-05-01</td>\n",
       "      <td>0</td>\n",
       "      <td>13925.76</td>\n",
       "      <td>2988</td>\n",
       "      <td>4.660562</td>\n",
       "    </tr>\n",
       "    <tr>\n",
       "      <td>78</td>\n",
       "      <td>2018-06-01</td>\n",
       "      <td>0</td>\n",
       "      <td>3.42</td>\n",
       "      <td>1</td>\n",
       "      <td>3.420000</td>\n",
       "    </tr>\n",
       "  </tbody>\n",
       "</table>\n",
       "<p>79 rows × 5 columns</p>\n",
       "</div>"
      ],
      "text/plain": [
       "   first_orders_month  lifetime   revenue   uid       ltv\n",
       "0          2017-06-01         0   9557.49  2023  4.724414\n",
       "1          2017-06-01         1    981.82  2023  0.485329\n",
       "2          2017-06-01         2    885.34  2023  0.437637\n",
       "3          2017-06-01         3   1931.30  2023  0.954671\n",
       "4          2017-06-01         4   2068.58  2023  1.022531\n",
       "..                ...       ...       ...   ...       ...\n",
       "74         2018-03-01         2   1114.87  3533  0.315559\n",
       "75         2018-04-01         0  10600.69  2276  4.657597\n",
       "76         2018-04-01         1   1209.92  2276  0.531599\n",
       "77         2018-05-01         0  13925.76  2988  4.660562\n",
       "78         2018-06-01         0      3.42     1  3.420000\n",
       "\n",
       "[79 rows x 5 columns]"
      ]
     },
     "execution_count": 68,
     "metadata": {},
     "output_type": "execute_result"
    }
   ],
   "source": [
    "ltv_cohorts['ltv'] = ltv_cohorts['revenue'] / ltv_cohorts['uid']\n",
    "ltv_cohorts"
   ]
  },
  {
   "cell_type": "markdown",
   "metadata": {},
   "source": [
    "Как меняется во времени LTV на покупателя по когортам."
   ]
  },
  {
   "cell_type": "code",
   "execution_count": 69,
   "metadata": {},
   "outputs": [
    {
     "data": {
      "text/html": [
       "<div>\n",
       "<style scoped>\n",
       "    .dataframe tbody tr th:only-of-type {\n",
       "        vertical-align: middle;\n",
       "    }\n",
       "\n",
       "    .dataframe tbody tr th {\n",
       "        vertical-align: top;\n",
       "    }\n",
       "\n",
       "    .dataframe thead th {\n",
       "        text-align: right;\n",
       "    }\n",
       "</style>\n",
       "<table border=\"1\" class=\"dataframe\">\n",
       "  <thead>\n",
       "    <tr style=\"text-align: right;\">\n",
       "      <th>lifetime</th>\n",
       "      <th>0</th>\n",
       "      <th>1</th>\n",
       "      <th>2</th>\n",
       "      <th>3</th>\n",
       "      <th>4</th>\n",
       "      <th>5</th>\n",
       "      <th>6</th>\n",
       "      <th>7</th>\n",
       "      <th>8</th>\n",
       "      <th>9</th>\n",
       "      <th>10</th>\n",
       "      <th>11</th>\n",
       "    </tr>\n",
       "    <tr>\n",
       "      <th>first_orders_month</th>\n",
       "      <th></th>\n",
       "      <th></th>\n",
       "      <th></th>\n",
       "      <th></th>\n",
       "      <th></th>\n",
       "      <th></th>\n",
       "      <th></th>\n",
       "      <th></th>\n",
       "      <th></th>\n",
       "      <th></th>\n",
       "      <th></th>\n",
       "      <th></th>\n",
       "    </tr>\n",
       "  </thead>\n",
       "  <tbody>\n",
       "    <tr>\n",
       "      <td>2017-06-01</td>\n",
       "      <td>4.724414</td>\n",
       "      <td>5.209743</td>\n",
       "      <td>5.647380</td>\n",
       "      <td>6.602051</td>\n",
       "      <td>7.624582</td>\n",
       "      <td>8.360084</td>\n",
       "      <td>9.310524</td>\n",
       "      <td>9.892116</td>\n",
       "      <td>10.445329</td>\n",
       "      <td>11.051117</td>\n",
       "      <td>11.622378</td>\n",
       "      <td>11.879234</td>\n",
       "    </tr>\n",
       "    <tr>\n",
       "      <td>2017-07-01</td>\n",
       "      <td>6.010218</td>\n",
       "      <td>6.345429</td>\n",
       "      <td>6.968960</td>\n",
       "      <td>7.327936</td>\n",
       "      <td>7.504727</td>\n",
       "      <td>7.660775</td>\n",
       "      <td>7.780983</td>\n",
       "      <td>7.922803</td>\n",
       "      <td>8.084035</td>\n",
       "      <td>8.231180</td>\n",
       "      <td>8.386854</td>\n",
       "      <td>NaN</td>\n",
       "    </tr>\n",
       "    <tr>\n",
       "      <td>2017-08-01</td>\n",
       "      <td>5.276518</td>\n",
       "      <td>5.748511</td>\n",
       "      <td>6.206993</td>\n",
       "      <td>6.598270</td>\n",
       "      <td>7.092321</td>\n",
       "      <td>7.375861</td>\n",
       "      <td>7.586526</td>\n",
       "      <td>7.991533</td>\n",
       "      <td>8.283745</td>\n",
       "      <td>8.471723</td>\n",
       "      <td>NaN</td>\n",
       "      <td>NaN</td>\n",
       "    </tr>\n",
       "    <tr>\n",
       "      <td>2017-09-01</td>\n",
       "      <td>5.644529</td>\n",
       "      <td>6.762115</td>\n",
       "      <td>7.283045</td>\n",
       "      <td>11.258838</td>\n",
       "      <td>11.659396</td>\n",
       "      <td>12.306463</td>\n",
       "      <td>13.008071</td>\n",
       "      <td>13.251220</td>\n",
       "      <td>13.435227</td>\n",
       "      <td>NaN</td>\n",
       "      <td>NaN</td>\n",
       "      <td>NaN</td>\n",
       "    </tr>\n",
       "    <tr>\n",
       "      <td>2017-10-01</td>\n",
       "      <td>5.003733</td>\n",
       "      <td>5.539495</td>\n",
       "      <td>5.730889</td>\n",
       "      <td>5.888035</td>\n",
       "      <td>6.039594</td>\n",
       "      <td>6.159956</td>\n",
       "      <td>6.244772</td>\n",
       "      <td>6.360242</td>\n",
       "      <td>NaN</td>\n",
       "      <td>NaN</td>\n",
       "      <td>NaN</td>\n",
       "      <td>NaN</td>\n",
       "    </tr>\n",
       "    <tr>\n",
       "      <td>2017-11-01</td>\n",
       "      <td>5.154683</td>\n",
       "      <td>5.553916</td>\n",
       "      <td>5.753472</td>\n",
       "      <td>6.078424</td>\n",
       "      <td>6.226437</td>\n",
       "      <td>6.280316</td>\n",
       "      <td>6.395244</td>\n",
       "      <td>NaN</td>\n",
       "      <td>NaN</td>\n",
       "      <td>NaN</td>\n",
       "      <td>NaN</td>\n",
       "      <td>NaN</td>\n",
       "    </tr>\n",
       "    <tr>\n",
       "      <td>2017-12-01</td>\n",
       "      <td>4.738191</td>\n",
       "      <td>4.998565</td>\n",
       "      <td>5.923662</td>\n",
       "      <td>6.988937</td>\n",
       "      <td>7.301866</td>\n",
       "      <td>7.639913</td>\n",
       "      <td>NaN</td>\n",
       "      <td>NaN</td>\n",
       "      <td>NaN</td>\n",
       "      <td>NaN</td>\n",
       "      <td>NaN</td>\n",
       "      <td>NaN</td>\n",
       "    </tr>\n",
       "    <tr>\n",
       "      <td>2018-01-01</td>\n",
       "      <td>4.135636</td>\n",
       "      <td>4.430394</td>\n",
       "      <td>4.734675</td>\n",
       "      <td>4.877453</td>\n",
       "      <td>4.940151</td>\n",
       "      <td>NaN</td>\n",
       "      <td>NaN</td>\n",
       "      <td>NaN</td>\n",
       "      <td>NaN</td>\n",
       "      <td>NaN</td>\n",
       "      <td>NaN</td>\n",
       "      <td>NaN</td>\n",
       "    </tr>\n",
       "    <tr>\n",
       "      <td>2018-02-01</td>\n",
       "      <td>4.156987</td>\n",
       "      <td>4.435262</td>\n",
       "      <td>4.513777</td>\n",
       "      <td>4.587921</td>\n",
       "      <td>NaN</td>\n",
       "      <td>NaN</td>\n",
       "      <td>NaN</td>\n",
       "      <td>NaN</td>\n",
       "      <td>NaN</td>\n",
       "      <td>NaN</td>\n",
       "      <td>NaN</td>\n",
       "      <td>NaN</td>\n",
       "    </tr>\n",
       "    <tr>\n",
       "      <td>2018-03-01</td>\n",
       "      <td>4.838803</td>\n",
       "      <td>5.139694</td>\n",
       "      <td>5.455253</td>\n",
       "      <td>NaN</td>\n",
       "      <td>NaN</td>\n",
       "      <td>NaN</td>\n",
       "      <td>NaN</td>\n",
       "      <td>NaN</td>\n",
       "      <td>NaN</td>\n",
       "      <td>NaN</td>\n",
       "      <td>NaN</td>\n",
       "      <td>NaN</td>\n",
       "    </tr>\n",
       "    <tr>\n",
       "      <td>2018-04-01</td>\n",
       "      <td>4.657597</td>\n",
       "      <td>5.189196</td>\n",
       "      <td>NaN</td>\n",
       "      <td>NaN</td>\n",
       "      <td>NaN</td>\n",
       "      <td>NaN</td>\n",
       "      <td>NaN</td>\n",
       "      <td>NaN</td>\n",
       "      <td>NaN</td>\n",
       "      <td>NaN</td>\n",
       "      <td>NaN</td>\n",
       "      <td>NaN</td>\n",
       "    </tr>\n",
       "    <tr>\n",
       "      <td>2018-05-01</td>\n",
       "      <td>4.660562</td>\n",
       "      <td>NaN</td>\n",
       "      <td>NaN</td>\n",
       "      <td>NaN</td>\n",
       "      <td>NaN</td>\n",
       "      <td>NaN</td>\n",
       "      <td>NaN</td>\n",
       "      <td>NaN</td>\n",
       "      <td>NaN</td>\n",
       "      <td>NaN</td>\n",
       "      <td>NaN</td>\n",
       "      <td>NaN</td>\n",
       "    </tr>\n",
       "    <tr>\n",
       "      <td>2018-06-01</td>\n",
       "      <td>3.420000</td>\n",
       "      <td>NaN</td>\n",
       "      <td>NaN</td>\n",
       "      <td>NaN</td>\n",
       "      <td>NaN</td>\n",
       "      <td>NaN</td>\n",
       "      <td>NaN</td>\n",
       "      <td>NaN</td>\n",
       "      <td>NaN</td>\n",
       "      <td>NaN</td>\n",
       "      <td>NaN</td>\n",
       "      <td>NaN</td>\n",
       "    </tr>\n",
       "  </tbody>\n",
       "</table>\n",
       "</div>"
      ],
      "text/plain": [
       "lifetime                  0         1         2          3          4   \\\n",
       "first_orders_month                                                       \n",
       "2017-06-01          4.724414  5.209743  5.647380   6.602051   7.624582   \n",
       "2017-07-01          6.010218  6.345429  6.968960   7.327936   7.504727   \n",
       "2017-08-01          5.276518  5.748511  6.206993   6.598270   7.092321   \n",
       "2017-09-01          5.644529  6.762115  7.283045  11.258838  11.659396   \n",
       "2017-10-01          5.003733  5.539495  5.730889   5.888035   6.039594   \n",
       "2017-11-01          5.154683  5.553916  5.753472   6.078424   6.226437   \n",
       "2017-12-01          4.738191  4.998565  5.923662   6.988937   7.301866   \n",
       "2018-01-01          4.135636  4.430394  4.734675   4.877453   4.940151   \n",
       "2018-02-01          4.156987  4.435262  4.513777   4.587921        NaN   \n",
       "2018-03-01          4.838803  5.139694  5.455253        NaN        NaN   \n",
       "2018-04-01          4.657597  5.189196       NaN        NaN        NaN   \n",
       "2018-05-01          4.660562       NaN       NaN        NaN        NaN   \n",
       "2018-06-01          3.420000       NaN       NaN        NaN        NaN   \n",
       "\n",
       "lifetime                   5          6          7          8          9   \\\n",
       "first_orders_month                                                          \n",
       "2017-06-01           8.360084   9.310524   9.892116  10.445329  11.051117   \n",
       "2017-07-01           7.660775   7.780983   7.922803   8.084035   8.231180   \n",
       "2017-08-01           7.375861   7.586526   7.991533   8.283745   8.471723   \n",
       "2017-09-01          12.306463  13.008071  13.251220  13.435227        NaN   \n",
       "2017-10-01           6.159956   6.244772   6.360242        NaN        NaN   \n",
       "2017-11-01           6.280316   6.395244        NaN        NaN        NaN   \n",
       "2017-12-01           7.639913        NaN        NaN        NaN        NaN   \n",
       "2018-01-01                NaN        NaN        NaN        NaN        NaN   \n",
       "2018-02-01                NaN        NaN        NaN        NaN        NaN   \n",
       "2018-03-01                NaN        NaN        NaN        NaN        NaN   \n",
       "2018-04-01                NaN        NaN        NaN        NaN        NaN   \n",
       "2018-05-01                NaN        NaN        NaN        NaN        NaN   \n",
       "2018-06-01                NaN        NaN        NaN        NaN        NaN   \n",
       "\n",
       "lifetime                   10         11  \n",
       "first_orders_month                        \n",
       "2017-06-01          11.622378  11.879234  \n",
       "2017-07-01           8.386854        NaN  \n",
       "2017-08-01                NaN        NaN  \n",
       "2017-09-01                NaN        NaN  \n",
       "2017-10-01                NaN        NaN  \n",
       "2017-11-01                NaN        NaN  \n",
       "2017-12-01                NaN        NaN  \n",
       "2018-01-01                NaN        NaN  \n",
       "2018-02-01                NaN        NaN  \n",
       "2018-03-01                NaN        NaN  \n",
       "2018-04-01                NaN        NaN  \n",
       "2018-05-01                NaN        NaN  \n",
       "2018-06-01                NaN        NaN  "
      ]
     },
     "execution_count": 69,
     "metadata": {},
     "output_type": "execute_result"
    }
   ],
   "source": [
    "report_1 = ltv_cohorts.pivot_table(index='first_orders_month', columns='lifetime', values='ltv', aggfunc='mean')\n",
    "report_1.cumsum(axis=1)"
   ]
  },
  {
   "cell_type": "code",
   "execution_count": 70,
   "metadata": {},
   "outputs": [
    {
     "data": {
      "image/png": "[encoded data removed]",
      "text/plain": [
       "<Figure size 720x360 with 2 Axes>"
      ]
     },
     "metadata": {
      "needs_background": "light"
     },
     "output_type": "display_data"
    }
   ],
   "source": [
    "plt.figure(figsize=(10, 5))\n",
    "plt.title('LTV')\n",
    "sns.heatmap(report_1.cumsum(axis=1), annot=True, fmt='.2f', linewidths=1, linecolor='white', vmin=0.0, vmax=15)\n",
    "plt.show()"
   ]
  },
  {
   "cell_type": "markdown",
   "metadata": {},
   "source": [
    "Сделаем срез и возьмем только те когорты, которые прожили не менее 6 месяцев."
   ]
  },
  {
   "cell_type": "code",
   "execution_count": 71,
   "metadata": {},
   "outputs": [],
   "source": [
    "ltv_cohorts_query = ltv_cohorts[(ltv_cohorts['first_orders_month'] < '2018-01-01') & (ltv_cohorts['lifetime'] < 6)]"
   ]
  },
  {
   "cell_type": "markdown",
   "metadata": {},
   "source": [
    "### Рассчитаем средний LTV по когортам за 6 месяцев."
   ]
  },
  {
   "cell_type": "code",
   "execution_count": 72,
   "metadata": {},
   "outputs": [
    {
     "data": {
      "text/plain": [
       "first_orders_month\n",
       "2017-06-01     8.360084\n",
       "2017-07-01     7.660775\n",
       "2017-08-01     7.375861\n",
       "2017-09-01    12.306463\n",
       "2017-10-01     6.159956\n",
       "2017-11-01     6.280316\n",
       "2017-12-01     7.639913\n",
       "Name: ltv, dtype: float64"
      ]
     },
     "execution_count": 72,
     "metadata": {},
     "output_type": "execute_result"
    }
   ],
   "source": [
    "avg_ltv_cohorts_query = ltv_cohorts_query.groupby('first_orders_month')['ltv'].sum()\n",
    "avg_ltv_cohorts_query #  сумма LTV на одного пользователя для каждой из 7 когорт "
   ]
  },
  {
   "cell_type": "code",
   "execution_count": 73,
   "metadata": {},
   "outputs": [
    {
     "name": "stdout",
     "output_type": "stream",
     "text": [
      "Cредний LTV по когортам за 6 месяцев 7.97\n"
     ]
    }
   ],
   "source": [
    "print('Cредний LTV по когортам за 6 месяцев {:.2f}'.format(avg_ltv_cohorts_query.mean()))"
   ]
  },
  {
   "cell_type": "markdown",
   "metadata": {},
   "source": [
    "**Вывод**\n",
    "\n",
    "Судя по тепловой карте, у когорт разный темп наколения LTV. Так сентябрьская когорта уже на 4й месяц жизни показывает очень хорошие результаты, тогда как большинство других когорт не демонтрируют такого прироста и к 8 месяцу. Сентябрьская и декабрьская когорты выглядит перспективно.\n",
    "\n",
    "Взяв период в 6 месяцев и только те когорты, которые прожили 6 месяцев, выяснили, что в среднем один пользователь за полгода приносит 7,97 у.е. валовой прибыли.\n",
    "Нужно ориентироваться на этот показатель как целевой."
   ]
  },
  {
   "cell_type": "markdown",
   "metadata": {},
   "source": [
    "## Маркетинговые метрики. <a name=\"subparagraph3\"></a> "
   ]
  },
  {
   "cell_type": "markdown",
   "metadata": {},
   "source": [
    "### Сумма расходов на маркетинг. Распредение трат по источникам."
   ]
  },
  {
   "cell_type": "code",
   "execution_count": 74,
   "metadata": {},
   "outputs": [
    {
     "name": "stdout",
     "output_type": "stream",
     "text": [
      "Общая сумма рекламных расходов 329131.62\n"
     ]
    }
   ],
   "source": [
    "total_costs = costs['costs'].sum()\n",
    "print('Общая сумма рекламных расходов', total_costs)"
   ]
  },
  {
   "cell_type": "markdown",
   "metadata": {},
   "source": [
    "Взглянем на распределение."
   ]
  },
  {
   "cell_type": "code",
   "execution_count": 75,
   "metadata": {},
   "outputs": [
    {
     "data": {
      "text/plain": [
       "source_id\n",
       "1      20833.27\n",
       "2      42806.04\n",
       "3     141321.63\n",
       "4      61073.60\n",
       "5      51757.10\n",
       "9       5517.49\n",
       "10      5822.49\n",
       "Name: costs, dtype: float64"
      ]
     },
     "execution_count": 75,
     "metadata": {},
     "output_type": "execute_result"
    }
   ],
   "source": [
    "costs_by_source = costs.groupby('source_id')['costs'].sum()\n",
    "costs_by_source"
   ]
  },
  {
   "cell_type": "code",
   "execution_count": 76,
   "metadata": {},
   "outputs": [
    {
     "data": {
      "image/png": "[encoded data removed]",
      "text/plain": [
       "<Figure size 576x576 with 1 Axes>"
      ]
     },
     "metadata": {},
     "output_type": "display_data"
    }
   ],
   "source": [
    "costs_by_source.plot(kind='pie', figsize=(8, 8), autopct='%1.f%%')\n",
    "plt.title('Распределение маркетинговых расходов по источникам рекламы')\n",
    "plt.show()"
   ]
  },
  {
   "cell_type": "markdown",
   "metadata": {},
   "source": [
    "Как изменялись затраты во времени."
   ]
  },
  {
   "cell_type": "code",
   "execution_count": 77,
   "metadata": {},
   "outputs": [],
   "source": [
    "costs['first_orders_month'] = costs['dt'].astype('datetime64[M]')"
   ]
  },
  {
   "cell_type": "code",
   "execution_count": 78,
   "metadata": {},
   "outputs": [
    {
     "data": {
      "image/png": "[encoded data removed]",
      "text/plain": [
       "<Figure size 648x360 with 1 Axes>"
      ]
     },
     "metadata": {
      "needs_background": "light"
     },
     "output_type": "display_data"
    }
   ],
   "source": [
    "costs.pivot_table(index='source_id', \n",
    "                  columns='first_orders_month', \n",
    "                  values='costs', \n",
    "                  aggfunc='sum'\n",
    "                 ).T.plot(linewidth = 1, figsize=(9, 5))\n",
    "\n",
    "plt.ylabel('Сумма затрат')\n",
    "plt.xlabel('Месяц')\n",
    "plt.title('Затраты на каждый источник по месяцам')\n",
    "plt.show()"
   ]
  },
  {
   "cell_type": "markdown",
   "metadata": {},
   "source": [
    "Самые большие расходы приходятся на 3 источник: 43% от общей суммы. С большим отрывом следует группа из источников 2, 4, 5 со схожими показателями между собой: от 19 до 13%.В последнюю группу входят источники 1, 9, 10 - на них тратится менее 7%.\n",
    "График изменения затрат во времени показывает, что с сентября 2017 года в источник 3 стали вкладывать очень большие средства.\n",
    "Также немного увеличи финансирование по источникам 5, 4, 2 также с сентября."
   ]
  },
  {
   "cell_type": "markdown",
   "metadata": {},
   "source": [
    "#### Рассчитываем средний CAC на одного покупателя"
   ]
  },
  {
   "cell_type": "markdown",
   "metadata": {},
   "source": [
    "Посчитаем CAC для всего проекта. Поделим расходы когорт на количество людей в когорте."
   ]
  },
  {
   "cell_type": "markdown",
   "metadata": {},
   "source": [
    "Посмотрим на расходы по месяцам."
   ]
  },
  {
   "cell_type": "code",
   "execution_count": 79,
   "metadata": {},
   "outputs": [
    {
     "data": {
      "text/plain": [
       "first_orders_month\n",
       "2017-06-01    18015.00\n",
       "2017-07-01    18240.59\n",
       "2017-08-01    14790.54\n",
       "2017-09-01    24368.91\n",
       "2017-10-01    36322.88\n",
       "2017-11-01    37907.88\n",
       "2017-12-01    38315.35\n",
       "2018-01-01    33518.52\n",
       "2018-02-01    32723.03\n",
       "2018-03-01    30415.27\n",
       "2018-04-01    22289.38\n",
       "2018-05-01    22224.27\n",
       "Name: costs, dtype: float64"
      ]
     },
     "execution_count": 79,
     "metadata": {},
     "output_type": "execute_result"
    }
   ],
   "source": [
    "costs_date = costs.groupby('first_orders_month')['costs'].sum()\n",
    "costs_date"
   ]
  },
  {
   "cell_type": "markdown",
   "metadata": {},
   "source": [
    "Присоединяем расходы и рассчитываем CAC."
   ]
  },
  {
   "cell_type": "code",
   "execution_count": 80,
   "metadata": {},
   "outputs": [
    {
     "data": {
      "text/html": [
       "<div>\n",
       "<style scoped>\n",
       "    .dataframe tbody tr th:only-of-type {\n",
       "        vertical-align: middle;\n",
       "    }\n",
       "\n",
       "    .dataframe tbody tr th {\n",
       "        vertical-align: top;\n",
       "    }\n",
       "\n",
       "    .dataframe thead th {\n",
       "        text-align: right;\n",
       "    }\n",
       "</style>\n",
       "<table border=\"1\" class=\"dataframe\">\n",
       "  <thead>\n",
       "    <tr style=\"text-align: right;\">\n",
       "      <th></th>\n",
       "      <th>first_orders_month</th>\n",
       "      <th>uid</th>\n",
       "      <th>costs</th>\n",
       "      <th>cac</th>\n",
       "    </tr>\n",
       "  </thead>\n",
       "  <tbody>\n",
       "    <tr>\n",
       "      <td>0</td>\n",
       "      <td>2017-06-01</td>\n",
       "      <td>2023</td>\n",
       "      <td>18015.00</td>\n",
       "      <td>8.905091</td>\n",
       "    </tr>\n",
       "    <tr>\n",
       "      <td>1</td>\n",
       "      <td>2017-07-01</td>\n",
       "      <td>1923</td>\n",
       "      <td>18240.59</td>\n",
       "      <td>9.485486</td>\n",
       "    </tr>\n",
       "    <tr>\n",
       "      <td>2</td>\n",
       "      <td>2017-08-01</td>\n",
       "      <td>1370</td>\n",
       "      <td>14790.54</td>\n",
       "      <td>10.796015</td>\n",
       "    </tr>\n",
       "    <tr>\n",
       "      <td>3</td>\n",
       "      <td>2017-09-01</td>\n",
       "      <td>2581</td>\n",
       "      <td>24368.91</td>\n",
       "      <td>9.441654</td>\n",
       "    </tr>\n",
       "    <tr>\n",
       "      <td>4</td>\n",
       "      <td>2017-10-01</td>\n",
       "      <td>4340</td>\n",
       "      <td>36322.88</td>\n",
       "      <td>8.369327</td>\n",
       "    </tr>\n",
       "    <tr>\n",
       "      <td>5</td>\n",
       "      <td>2017-11-01</td>\n",
       "      <td>4081</td>\n",
       "      <td>37907.88</td>\n",
       "      <td>9.288870</td>\n",
       "    </tr>\n",
       "    <tr>\n",
       "      <td>6</td>\n",
       "      <td>2017-12-01</td>\n",
       "      <td>4383</td>\n",
       "      <td>38315.35</td>\n",
       "      <td>8.741809</td>\n",
       "    </tr>\n",
       "    <tr>\n",
       "      <td>7</td>\n",
       "      <td>2018-01-01</td>\n",
       "      <td>3373</td>\n",
       "      <td>33518.52</td>\n",
       "      <td>9.937302</td>\n",
       "    </tr>\n",
       "    <tr>\n",
       "      <td>8</td>\n",
       "      <td>2018-02-01</td>\n",
       "      <td>3651</td>\n",
       "      <td>32723.03</td>\n",
       "      <td>8.962758</td>\n",
       "    </tr>\n",
       "    <tr>\n",
       "      <td>9</td>\n",
       "      <td>2018-03-01</td>\n",
       "      <td>3533</td>\n",
       "      <td>30415.27</td>\n",
       "      <td>8.608907</td>\n",
       "    </tr>\n",
       "    <tr>\n",
       "      <td>10</td>\n",
       "      <td>2018-04-01</td>\n",
       "      <td>2276</td>\n",
       "      <td>22289.38</td>\n",
       "      <td>9.793225</td>\n",
       "    </tr>\n",
       "    <tr>\n",
       "      <td>11</td>\n",
       "      <td>2018-05-01</td>\n",
       "      <td>2988</td>\n",
       "      <td>22224.27</td>\n",
       "      <td>7.437841</td>\n",
       "    </tr>\n",
       "    <tr>\n",
       "      <td>12</td>\n",
       "      <td>2018-06-01</td>\n",
       "      <td>1</td>\n",
       "      <td>NaN</td>\n",
       "      <td>NaN</td>\n",
       "    </tr>\n",
       "  </tbody>\n",
       "</table>\n",
       "</div>"
      ],
      "text/plain": [
       "   first_orders_month   uid     costs        cac\n",
       "0          2017-06-01  2023  18015.00   8.905091\n",
       "1          2017-07-01  1923  18240.59   9.485486\n",
       "2          2017-08-01  1370  14790.54  10.796015\n",
       "3          2017-09-01  2581  24368.91   9.441654\n",
       "4          2017-10-01  4340  36322.88   8.369327\n",
       "5          2017-11-01  4081  37907.88   9.288870\n",
       "6          2017-12-01  4383  38315.35   8.741809\n",
       "7          2018-01-01  3373  33518.52   9.937302\n",
       "8          2018-02-01  3651  32723.03   8.962758\n",
       "9          2018-03-01  3533  30415.27   8.608907\n",
       "10         2018-04-01  2276  22289.38   9.793225\n",
       "11         2018-05-01  2988  22224.27   7.437841\n",
       "12         2018-06-01     1       NaN        NaN"
      ]
     },
     "execution_count": 80,
     "metadata": {},
     "output_type": "execute_result"
    }
   ],
   "source": [
    "cac_cohorts = ltv_cohorts.groupby('first_orders_month')['uid'].mean().reset_index()\n",
    "cac_cohorts = cac_cohorts.join(costs_date, on='first_orders_month')\n",
    "cac_cohorts['cac'] = cac_cohorts['costs'] / cac_cohorts['uid']\n",
    "cac_cohorts"
   ]
  },
  {
   "cell_type": "code",
   "execution_count": 81,
   "metadata": {},
   "outputs": [
    {
     "name": "stdout",
     "output_type": "stream",
     "text": [
      "Cредний CAC на одного покупателя 9.15\n"
     ]
    }
   ],
   "source": [
    "total_avg_cac = cac_cohorts['cac'].mean()\n",
    "print('Cредний CAC на одного покупателя {:.2f}'.format(total_avg_cac))"
   ]
  },
  {
   "cell_type": "markdown",
   "metadata": {},
   "source": [
    "**Вывод**\n",
    "\n",
    "Выяснили, что в среднем на одного покупателя уходит 9,15 у.е. маркетинговых расходов. Это больше, чем средний показатель LTV за 6 месяцев. Выглядит, как убыточная ситуация, необходимо развернуть расходы по источникам и найти тот, который не возвращает вложенных средств."
   ]
  },
  {
   "cell_type": "markdown",
   "metadata": {},
   "source": [
    "### Рассчитываем средний CAC на одного покупателя для каждого источника трафика."
   ]
  },
  {
   "cell_type": "markdown",
   "metadata": {},
   "source": [
    "Найдем первый источник для каждого юзера по первому заходу на сайт."
   ]
  },
  {
   "cell_type": "code",
   "execution_count": 82,
   "metadata": {},
   "outputs": [],
   "source": [
    "first_visit_date = first_visit_date.reset_index()"
   ]
  },
  {
   "cell_type": "code",
   "execution_count": 83,
   "metadata": {},
   "outputs": [],
   "source": [
    "all_sources = visits.loc[:, 'source id': 'uid']"
   ]
  },
  {
   "cell_type": "code",
   "execution_count": 84,
   "metadata": {},
   "outputs": [
    {
     "data": {
      "text/html": [
       "<div>\n",
       "<style scoped>\n",
       "    .dataframe tbody tr th:only-of-type {\n",
       "        vertical-align: middle;\n",
       "    }\n",
       "\n",
       "    .dataframe tbody tr th {\n",
       "        vertical-align: top;\n",
       "    }\n",
       "\n",
       "    .dataframe thead th {\n",
       "        text-align: right;\n",
       "    }\n",
       "</style>\n",
       "<table border=\"1\" class=\"dataframe\">\n",
       "  <thead>\n",
       "    <tr style=\"text-align: right;\">\n",
       "      <th></th>\n",
       "      <th>source id</th>\n",
       "      <th>start ts</th>\n",
       "      <th>uid</th>\n",
       "    </tr>\n",
       "  </thead>\n",
       "  <tbody>\n",
       "    <tr>\n",
       "      <td>0</td>\n",
       "      <td>4</td>\n",
       "      <td>2017-12-20 17:20:00</td>\n",
       "      <td>16879256277535980062</td>\n",
       "    </tr>\n",
       "    <tr>\n",
       "      <td>1</td>\n",
       "      <td>2</td>\n",
       "      <td>2018-02-19 16:53:00</td>\n",
       "      <td>104060357244891740</td>\n",
       "    </tr>\n",
       "    <tr>\n",
       "      <td>2</td>\n",
       "      <td>5</td>\n",
       "      <td>2017-07-01 01:54:00</td>\n",
       "      <td>7459035603376831527</td>\n",
       "    </tr>\n",
       "    <tr>\n",
       "      <td>3</td>\n",
       "      <td>9</td>\n",
       "      <td>2018-05-20 10:59:00</td>\n",
       "      <td>16174680259334210214</td>\n",
       "    </tr>\n",
       "    <tr>\n",
       "      <td>4</td>\n",
       "      <td>3</td>\n",
       "      <td>2017-12-27 14:06:00</td>\n",
       "      <td>9969694820036681168</td>\n",
       "    </tr>\n",
       "    <tr>\n",
       "      <td>...</td>\n",
       "      <td>...</td>\n",
       "      <td>...</td>\n",
       "      <td>...</td>\n",
       "    </tr>\n",
       "    <tr>\n",
       "      <td>359395</td>\n",
       "      <td>2</td>\n",
       "      <td>2017-07-29 19:07:00</td>\n",
       "      <td>18363291481961487539</td>\n",
       "    </tr>\n",
       "    <tr>\n",
       "      <td>359396</td>\n",
       "      <td>1</td>\n",
       "      <td>2018-01-25 17:38:00</td>\n",
       "      <td>18370831553019119586</td>\n",
       "    </tr>\n",
       "    <tr>\n",
       "      <td>359397</td>\n",
       "      <td>4</td>\n",
       "      <td>2018-03-03 10:12:00</td>\n",
       "      <td>18387297585500748294</td>\n",
       "    </tr>\n",
       "    <tr>\n",
       "      <td>359398</td>\n",
       "      <td>5</td>\n",
       "      <td>2017-11-02 10:12:00</td>\n",
       "      <td>18388616944624776485</td>\n",
       "    </tr>\n",
       "    <tr>\n",
       "      <td>359399</td>\n",
       "      <td>2</td>\n",
       "      <td>2017-09-10 13:13:00</td>\n",
       "      <td>18396128934054549559</td>\n",
       "    </tr>\n",
       "  </tbody>\n",
       "</table>\n",
       "<p>359400 rows × 3 columns</p>\n",
       "</div>"
      ],
      "text/plain": [
       "        source id            start ts                   uid\n",
       "0               4 2017-12-20 17:20:00  16879256277535980062\n",
       "1               2 2018-02-19 16:53:00    104060357244891740\n",
       "2               5 2017-07-01 01:54:00   7459035603376831527\n",
       "3               9 2018-05-20 10:59:00  16174680259334210214\n",
       "4               3 2017-12-27 14:06:00   9969694820036681168\n",
       "...           ...                 ...                   ...\n",
       "359395          2 2017-07-29 19:07:00  18363291481961487539\n",
       "359396          1 2018-01-25 17:38:00  18370831553019119586\n",
       "359397          4 2018-03-03 10:12:00  18387297585500748294\n",
       "359398          5 2017-11-02 10:12:00  18388616944624776485\n",
       "359399          2 2017-09-10 13:13:00  18396128934054549559\n",
       "\n",
       "[359400 rows x 3 columns]"
      ]
     },
     "execution_count": 84,
     "metadata": {},
     "output_type": "execute_result"
    }
   ],
   "source": [
    "all_sources"
   ]
  },
  {
   "cell_type": "markdown",
   "metadata": {},
   "source": [
    "Присоединим к таблице с юзерами и датами первых посещений столбец с источником. Благодаря тому, что присоединяем по первой дате, присоединится и самый первый источник."
   ]
  },
  {
   "cell_type": "code",
   "execution_count": 85,
   "metadata": {},
   "outputs": [],
   "source": [
    "first_sourse = first_visit_date.merge(all_sources, left_on=['first_visit_date', 'uid'], right_on=['start ts', 'uid'])"
   ]
  },
  {
   "cell_type": "code",
   "execution_count": 86,
   "metadata": {},
   "outputs": [
    {
     "data": {
      "text/html": [
       "<div>\n",
       "<style scoped>\n",
       "    .dataframe tbody tr th:only-of-type {\n",
       "        vertical-align: middle;\n",
       "    }\n",
       "\n",
       "    .dataframe tbody tr th {\n",
       "        vertical-align: top;\n",
       "    }\n",
       "\n",
       "    .dataframe thead th {\n",
       "        text-align: right;\n",
       "    }\n",
       "</style>\n",
       "<table border=\"1\" class=\"dataframe\">\n",
       "  <thead>\n",
       "    <tr style=\"text-align: right;\">\n",
       "      <th></th>\n",
       "      <th>uid</th>\n",
       "      <th>first_visit_date</th>\n",
       "      <th>source id</th>\n",
       "      <th>start ts</th>\n",
       "    </tr>\n",
       "  </thead>\n",
       "  <tbody>\n",
       "    <tr>\n",
       "      <td>0</td>\n",
       "      <td>11863502262781</td>\n",
       "      <td>2018-03-01 17:27:00</td>\n",
       "      <td>3</td>\n",
       "      <td>2018-03-01 17:27:00</td>\n",
       "    </tr>\n",
       "    <tr>\n",
       "      <td>1</td>\n",
       "      <td>49537067089222</td>\n",
       "      <td>2018-02-06 15:55:00</td>\n",
       "      <td>2</td>\n",
       "      <td>2018-02-06 15:55:00</td>\n",
       "    </tr>\n",
       "    <tr>\n",
       "      <td>2</td>\n",
       "      <td>297729379853735</td>\n",
       "      <td>2017-06-07 18:47:00</td>\n",
       "      <td>3</td>\n",
       "      <td>2017-06-07 18:47:00</td>\n",
       "    </tr>\n",
       "    <tr>\n",
       "      <td>3</td>\n",
       "      <td>313578113262317</td>\n",
       "      <td>2017-09-18 22:49:00</td>\n",
       "      <td>2</td>\n",
       "      <td>2017-09-18 22:49:00</td>\n",
       "    </tr>\n",
       "    <tr>\n",
       "      <td>4</td>\n",
       "      <td>325320750514679</td>\n",
       "      <td>2017-09-30 14:29:00</td>\n",
       "      <td>5</td>\n",
       "      <td>2017-09-30 14:29:00</td>\n",
       "    </tr>\n",
       "    <tr>\n",
       "      <td>...</td>\n",
       "      <td>...</td>\n",
       "      <td>...</td>\n",
       "      <td>...</td>\n",
       "      <td>...</td>\n",
       "    </tr>\n",
       "    <tr>\n",
       "      <td>228165</td>\n",
       "      <td>18446403737806311543</td>\n",
       "      <td>2017-11-30 03:36:00</td>\n",
       "      <td>5</td>\n",
       "      <td>2017-11-30 03:36:00</td>\n",
       "    </tr>\n",
       "    <tr>\n",
       "      <td>228166</td>\n",
       "      <td>18446424184725333426</td>\n",
       "      <td>2017-12-06 20:32:00</td>\n",
       "      <td>4</td>\n",
       "      <td>2017-12-06 20:32:00</td>\n",
       "    </tr>\n",
       "    <tr>\n",
       "      <td>228167</td>\n",
       "      <td>18446556406699109058</td>\n",
       "      <td>2018-01-01 16:29:00</td>\n",
       "      <td>3</td>\n",
       "      <td>2018-01-01 16:29:00</td>\n",
       "    </tr>\n",
       "    <tr>\n",
       "      <td>228168</td>\n",
       "      <td>18446621818809592527</td>\n",
       "      <td>2017-12-27 13:27:00</td>\n",
       "      <td>4</td>\n",
       "      <td>2017-12-27 13:27:00</td>\n",
       "    </tr>\n",
       "    <tr>\n",
       "      <td>228169</td>\n",
       "      <td>18446676030785672386</td>\n",
       "      <td>2017-10-04 16:01:00</td>\n",
       "      <td>3</td>\n",
       "      <td>2017-10-04 16:01:00</td>\n",
       "    </tr>\n",
       "  </tbody>\n",
       "</table>\n",
       "<p>228170 rows × 4 columns</p>\n",
       "</div>"
      ],
      "text/plain": [
       "                         uid    first_visit_date  source id  \\\n",
       "0             11863502262781 2018-03-01 17:27:00          3   \n",
       "1             49537067089222 2018-02-06 15:55:00          2   \n",
       "2            297729379853735 2017-06-07 18:47:00          3   \n",
       "3            313578113262317 2017-09-18 22:49:00          2   \n",
       "4            325320750514679 2017-09-30 14:29:00          5   \n",
       "...                      ...                 ...        ...   \n",
       "228165  18446403737806311543 2017-11-30 03:36:00          5   \n",
       "228166  18446424184725333426 2017-12-06 20:32:00          4   \n",
       "228167  18446556406699109058 2018-01-01 16:29:00          3   \n",
       "228168  18446621818809592527 2017-12-27 13:27:00          4   \n",
       "228169  18446676030785672386 2017-10-04 16:01:00          3   \n",
       "\n",
       "                  start ts  \n",
       "0      2018-03-01 17:27:00  \n",
       "1      2018-02-06 15:55:00  \n",
       "2      2017-06-07 18:47:00  \n",
       "3      2017-09-18 22:49:00  \n",
       "4      2017-09-30 14:29:00  \n",
       "...                    ...  \n",
       "228165 2017-11-30 03:36:00  \n",
       "228166 2017-12-06 20:32:00  \n",
       "228167 2018-01-01 16:29:00  \n",
       "228168 2017-12-27 13:27:00  \n",
       "228169 2017-10-04 16:01:00  \n",
       "\n",
       "[228170 rows x 4 columns]"
      ]
     },
     "execution_count": 86,
     "metadata": {},
     "output_type": "execute_result"
    }
   ],
   "source": [
    "first_sourse"
   ]
  },
  {
   "cell_type": "markdown",
   "metadata": {},
   "source": [
    "Нашли для каждого посетителя первый источник, присоединим этот столбец к датафрейму orders."
   ]
  },
  {
   "cell_type": "code",
   "execution_count": 87,
   "metadata": {},
   "outputs": [],
   "source": [
    "first_sourse = first_sourse.rename(columns={'source id':'first_source'}).drop(columns = ['start ts', 'first_visit_date']) #переименуем и удалим лишнее"
   ]
  },
  {
   "cell_type": "code",
   "execution_count": 88,
   "metadata": {},
   "outputs": [],
   "source": [
    "orders = orders.merge(first_sourse, how='left', left_on='uid', right_on='uid')"
   ]
  },
  {
   "cell_type": "code",
   "execution_count": 89,
   "metadata": {},
   "outputs": [
    {
     "data": {
      "text/html": [
       "<div>\n",
       "<style scoped>\n",
       "    .dataframe tbody tr th:only-of-type {\n",
       "        vertical-align: middle;\n",
       "    }\n",
       "\n",
       "    .dataframe tbody tr th {\n",
       "        vertical-align: top;\n",
       "    }\n",
       "\n",
       "    .dataframe thead th {\n",
       "        text-align: right;\n",
       "    }\n",
       "</style>\n",
       "<table border=\"1\" class=\"dataframe\">\n",
       "  <thead>\n",
       "    <tr style=\"text-align: right;\">\n",
       "      <th></th>\n",
       "      <th>buy ts</th>\n",
       "      <th>revenue</th>\n",
       "      <th>uid</th>\n",
       "      <th>first_orders_date</th>\n",
       "      <th>first_orders_month</th>\n",
       "      <th>orders_month</th>\n",
       "      <th>lifetime</th>\n",
       "      <th>first_source</th>\n",
       "    </tr>\n",
       "  </thead>\n",
       "  <tbody>\n",
       "    <tr>\n",
       "      <td>0</td>\n",
       "      <td>2017-06-01 00:10:00</td>\n",
       "      <td>17.00</td>\n",
       "      <td>10329302124590727494</td>\n",
       "      <td>2017-06-01 00:10:00</td>\n",
       "      <td>2017-06-01</td>\n",
       "      <td>2017-06-01</td>\n",
       "      <td>0</td>\n",
       "      <td>1</td>\n",
       "    </tr>\n",
       "    <tr>\n",
       "      <td>1</td>\n",
       "      <td>2017-06-01 00:25:00</td>\n",
       "      <td>0.55</td>\n",
       "      <td>11627257723692907447</td>\n",
       "      <td>2017-06-01 00:25:00</td>\n",
       "      <td>2017-06-01</td>\n",
       "      <td>2017-06-01</td>\n",
       "      <td>0</td>\n",
       "      <td>2</td>\n",
       "    </tr>\n",
       "    <tr>\n",
       "      <td>2</td>\n",
       "      <td>2017-06-01 00:27:00</td>\n",
       "      <td>0.37</td>\n",
       "      <td>17903680561304213844</td>\n",
       "      <td>2017-06-01 00:27:00</td>\n",
       "      <td>2017-06-01</td>\n",
       "      <td>2017-06-01</td>\n",
       "      <td>0</td>\n",
       "      <td>2</td>\n",
       "    </tr>\n",
       "    <tr>\n",
       "      <td>3</td>\n",
       "      <td>2017-06-01 00:29:00</td>\n",
       "      <td>0.55</td>\n",
       "      <td>16109239769442553005</td>\n",
       "      <td>2017-06-01 00:29:00</td>\n",
       "      <td>2017-06-01</td>\n",
       "      <td>2017-06-01</td>\n",
       "      <td>0</td>\n",
       "      <td>2</td>\n",
       "    </tr>\n",
       "    <tr>\n",
       "      <td>4</td>\n",
       "      <td>2017-06-01 07:58:00</td>\n",
       "      <td>0.37</td>\n",
       "      <td>14200605875248379450</td>\n",
       "      <td>2017-06-01 07:58:00</td>\n",
       "      <td>2017-06-01</td>\n",
       "      <td>2017-06-01</td>\n",
       "      <td>0</td>\n",
       "      <td>3</td>\n",
       "    </tr>\n",
       "    <tr>\n",
       "      <td>...</td>\n",
       "      <td>...</td>\n",
       "      <td>...</td>\n",
       "      <td>...</td>\n",
       "      <td>...</td>\n",
       "      <td>...</td>\n",
       "      <td>...</td>\n",
       "      <td>...</td>\n",
       "      <td>...</td>\n",
       "    </tr>\n",
       "    <tr>\n",
       "      <td>50410</td>\n",
       "      <td>2018-05-31 23:50:00</td>\n",
       "      <td>4.64</td>\n",
       "      <td>12296626599487328624</td>\n",
       "      <td>2018-05-31 23:50:00</td>\n",
       "      <td>2018-05-01</td>\n",
       "      <td>2018-05-01</td>\n",
       "      <td>0</td>\n",
       "      <td>4</td>\n",
       "    </tr>\n",
       "    <tr>\n",
       "      <td>50411</td>\n",
       "      <td>2018-05-31 23:50:00</td>\n",
       "      <td>5.80</td>\n",
       "      <td>11369640365507475976</td>\n",
       "      <td>2018-05-31 23:50:00</td>\n",
       "      <td>2018-05-01</td>\n",
       "      <td>2018-05-01</td>\n",
       "      <td>0</td>\n",
       "      <td>10</td>\n",
       "    </tr>\n",
       "    <tr>\n",
       "      <td>50412</td>\n",
       "      <td>2018-05-31 23:54:00</td>\n",
       "      <td>0.30</td>\n",
       "      <td>1786462140797698849</td>\n",
       "      <td>2018-05-31 23:54:00</td>\n",
       "      <td>2018-05-01</td>\n",
       "      <td>2018-05-01</td>\n",
       "      <td>0</td>\n",
       "      <td>3</td>\n",
       "    </tr>\n",
       "    <tr>\n",
       "      <td>50413</td>\n",
       "      <td>2018-05-31 23:56:00</td>\n",
       "      <td>3.67</td>\n",
       "      <td>3993697860786194247</td>\n",
       "      <td>2018-05-31 23:56:00</td>\n",
       "      <td>2018-05-01</td>\n",
       "      <td>2018-05-01</td>\n",
       "      <td>0</td>\n",
       "      <td>3</td>\n",
       "    </tr>\n",
       "    <tr>\n",
       "      <td>50414</td>\n",
       "      <td>2018-06-01 00:02:00</td>\n",
       "      <td>3.42</td>\n",
       "      <td>83872787173869366</td>\n",
       "      <td>2018-06-01 00:02:00</td>\n",
       "      <td>2018-06-01</td>\n",
       "      <td>2018-06-01</td>\n",
       "      <td>0</td>\n",
       "      <td>4</td>\n",
       "    </tr>\n",
       "  </tbody>\n",
       "</table>\n",
       "<p>50415 rows × 8 columns</p>\n",
       "</div>"
      ],
      "text/plain": [
       "                   buy ts  revenue                   uid   first_orders_date  \\\n",
       "0     2017-06-01 00:10:00    17.00  10329302124590727494 2017-06-01 00:10:00   \n",
       "1     2017-06-01 00:25:00     0.55  11627257723692907447 2017-06-01 00:25:00   \n",
       "2     2017-06-01 00:27:00     0.37  17903680561304213844 2017-06-01 00:27:00   \n",
       "3     2017-06-01 00:29:00     0.55  16109239769442553005 2017-06-01 00:29:00   \n",
       "4     2017-06-01 07:58:00     0.37  14200605875248379450 2017-06-01 07:58:00   \n",
       "...                   ...      ...                   ...                 ...   \n",
       "50410 2018-05-31 23:50:00     4.64  12296626599487328624 2018-05-31 23:50:00   \n",
       "50411 2018-05-31 23:50:00     5.80  11369640365507475976 2018-05-31 23:50:00   \n",
       "50412 2018-05-31 23:54:00     0.30   1786462140797698849 2018-05-31 23:54:00   \n",
       "50413 2018-05-31 23:56:00     3.67   3993697860786194247 2018-05-31 23:56:00   \n",
       "50414 2018-06-01 00:02:00     3.42     83872787173869366 2018-06-01 00:02:00   \n",
       "\n",
       "      first_orders_month orders_month  lifetime  first_source  \n",
       "0             2017-06-01   2017-06-01         0             1  \n",
       "1             2017-06-01   2017-06-01         0             2  \n",
       "2             2017-06-01   2017-06-01         0             2  \n",
       "3             2017-06-01   2017-06-01         0             2  \n",
       "4             2017-06-01   2017-06-01         0             3  \n",
       "...                  ...          ...       ...           ...  \n",
       "50410         2018-05-01   2018-05-01         0             4  \n",
       "50411         2018-05-01   2018-05-01         0            10  \n",
       "50412         2018-05-01   2018-05-01         0             3  \n",
       "50413         2018-05-01   2018-05-01         0             3  \n",
       "50414         2018-06-01   2018-06-01         0             4  \n",
       "\n",
       "[50415 rows x 8 columns]"
      ]
     },
     "execution_count": 89,
     "metadata": {},
     "output_type": "execute_result"
    }
   ],
   "source": [
    "orders #проверка"
   ]
  },
  {
   "cell_type": "markdown",
   "metadata": {},
   "source": [
    "Найдем расходы по когортам и источникам."
   ]
  },
  {
   "cell_type": "code",
   "execution_count": 90,
   "metadata": {},
   "outputs": [
    {
     "data": {
      "text/html": [
       "<div>\n",
       "<style scoped>\n",
       "    .dataframe tbody tr th:only-of-type {\n",
       "        vertical-align: middle;\n",
       "    }\n",
       "\n",
       "    .dataframe tbody tr th {\n",
       "        vertical-align: top;\n",
       "    }\n",
       "\n",
       "    .dataframe thead th {\n",
       "        text-align: right;\n",
       "    }\n",
       "</style>\n",
       "<table border=\"1\" class=\"dataframe\">\n",
       "  <thead>\n",
       "    <tr style=\"text-align: right;\">\n",
       "      <th></th>\n",
       "      <th>first_orders_month</th>\n",
       "      <th>source_id</th>\n",
       "      <th>costs</th>\n",
       "    </tr>\n",
       "  </thead>\n",
       "  <tbody>\n",
       "    <tr>\n",
       "      <td>0</td>\n",
       "      <td>2017-06-01</td>\n",
       "      <td>1</td>\n",
       "      <td>1125.61</td>\n",
       "    </tr>\n",
       "    <tr>\n",
       "      <td>1</td>\n",
       "      <td>2017-06-01</td>\n",
       "      <td>2</td>\n",
       "      <td>2427.38</td>\n",
       "    </tr>\n",
       "    <tr>\n",
       "      <td>2</td>\n",
       "      <td>2017-06-01</td>\n",
       "      <td>3</td>\n",
       "      <td>7731.65</td>\n",
       "    </tr>\n",
       "    <tr>\n",
       "      <td>3</td>\n",
       "      <td>2017-06-01</td>\n",
       "      <td>4</td>\n",
       "      <td>3514.80</td>\n",
       "    </tr>\n",
       "    <tr>\n",
       "      <td>4</td>\n",
       "      <td>2017-06-01</td>\n",
       "      <td>5</td>\n",
       "      <td>2616.12</td>\n",
       "    </tr>\n",
       "    <tr>\n",
       "      <td>...</td>\n",
       "      <td>...</td>\n",
       "      <td>...</td>\n",
       "      <td>...</td>\n",
       "    </tr>\n",
       "    <tr>\n",
       "      <td>79</td>\n",
       "      <td>2018-05-01</td>\n",
       "      <td>3</td>\n",
       "      <td>9411.42</td>\n",
       "    </tr>\n",
       "    <tr>\n",
       "      <td>80</td>\n",
       "      <td>2018-05-01</td>\n",
       "      <td>4</td>\n",
       "      <td>4214.21</td>\n",
       "    </tr>\n",
       "    <tr>\n",
       "      <td>81</td>\n",
       "      <td>2018-05-01</td>\n",
       "      <td>5</td>\n",
       "      <td>3669.56</td>\n",
       "    </tr>\n",
       "    <tr>\n",
       "      <td>82</td>\n",
       "      <td>2018-05-01</td>\n",
       "      <td>9</td>\n",
       "      <td>362.17</td>\n",
       "    </tr>\n",
       "    <tr>\n",
       "      <td>83</td>\n",
       "      <td>2018-05-01</td>\n",
       "      <td>10</td>\n",
       "      <td>409.86</td>\n",
       "    </tr>\n",
       "  </tbody>\n",
       "</table>\n",
       "<p>84 rows × 3 columns</p>\n",
       "</div>"
      ],
      "text/plain": [
       "   first_orders_month  source_id    costs\n",
       "0          2017-06-01          1  1125.61\n",
       "1          2017-06-01          2  2427.38\n",
       "2          2017-06-01          3  7731.65\n",
       "3          2017-06-01          4  3514.80\n",
       "4          2017-06-01          5  2616.12\n",
       "..                ...        ...      ...\n",
       "79         2018-05-01          3  9411.42\n",
       "80         2018-05-01          4  4214.21\n",
       "81         2018-05-01          5  3669.56\n",
       "82         2018-05-01          9   362.17\n",
       "83         2018-05-01         10   409.86\n",
       "\n",
       "[84 rows x 3 columns]"
      ]
     },
     "execution_count": 90,
     "metadata": {},
     "output_type": "execute_result"
    }
   ],
   "source": [
    "costs_by_sources = costs.groupby(['first_orders_month','source_id']).agg({'costs':'sum'}).reset_index() \n",
    "costs_by_sources # расходы по когортам и источникам"
   ]
  },
  {
   "cell_type": "markdown",
   "metadata": {},
   "source": [
    "Найдем кол-во покупателей по когортам и источникам."
   ]
  },
  {
   "cell_type": "code",
   "execution_count": 91,
   "metadata": {},
   "outputs": [
    {
     "data": {
      "text/html": [
       "<div>\n",
       "<style scoped>\n",
       "    .dataframe tbody tr th:only-of-type {\n",
       "        vertical-align: middle;\n",
       "    }\n",
       "\n",
       "    .dataframe tbody tr th {\n",
       "        vertical-align: top;\n",
       "    }\n",
       "\n",
       "    .dataframe thead th {\n",
       "        text-align: right;\n",
       "    }\n",
       "</style>\n",
       "<table border=\"1\" class=\"dataframe\">\n",
       "  <thead>\n",
       "    <tr style=\"text-align: right;\">\n",
       "      <th></th>\n",
       "      <th>first_orders_month</th>\n",
       "      <th>first_source</th>\n",
       "      <th>uid</th>\n",
       "    </tr>\n",
       "  </thead>\n",
       "  <tbody>\n",
       "    <tr>\n",
       "      <td>0</td>\n",
       "      <td>2017-06-01</td>\n",
       "      <td>1</td>\n",
       "      <td>190</td>\n",
       "    </tr>\n",
       "    <tr>\n",
       "      <td>1</td>\n",
       "      <td>2017-06-01</td>\n",
       "      <td>2</td>\n",
       "      <td>235</td>\n",
       "    </tr>\n",
       "    <tr>\n",
       "      <td>2</td>\n",
       "      <td>2017-06-01</td>\n",
       "      <td>3</td>\n",
       "      <td>638</td>\n",
       "    </tr>\n",
       "    <tr>\n",
       "      <td>3</td>\n",
       "      <td>2017-06-01</td>\n",
       "      <td>4</td>\n",
       "      <td>413</td>\n",
       "    </tr>\n",
       "    <tr>\n",
       "      <td>4</td>\n",
       "      <td>2017-06-01</td>\n",
       "      <td>5</td>\n",
       "      <td>384</td>\n",
       "    </tr>\n",
       "    <tr>\n",
       "      <td>...</td>\n",
       "      <td>...</td>\n",
       "      <td>...</td>\n",
       "      <td>...</td>\n",
       "    </tr>\n",
       "    <tr>\n",
       "      <td>81</td>\n",
       "      <td>2018-05-01</td>\n",
       "      <td>4</td>\n",
       "      <td>804</td>\n",
       "    </tr>\n",
       "    <tr>\n",
       "      <td>82</td>\n",
       "      <td>2018-05-01</td>\n",
       "      <td>5</td>\n",
       "      <td>497</td>\n",
       "    </tr>\n",
       "    <tr>\n",
       "      <td>83</td>\n",
       "      <td>2018-05-01</td>\n",
       "      <td>9</td>\n",
       "      <td>60</td>\n",
       "    </tr>\n",
       "    <tr>\n",
       "      <td>84</td>\n",
       "      <td>2018-05-01</td>\n",
       "      <td>10</td>\n",
       "      <td>130</td>\n",
       "    </tr>\n",
       "    <tr>\n",
       "      <td>85</td>\n",
       "      <td>2018-06-01</td>\n",
       "      <td>4</td>\n",
       "      <td>1</td>\n",
       "    </tr>\n",
       "  </tbody>\n",
       "</table>\n",
       "<p>86 rows × 3 columns</p>\n",
       "</div>"
      ],
      "text/plain": [
       "   first_orders_month  first_source  uid\n",
       "0          2017-06-01             1  190\n",
       "1          2017-06-01             2  235\n",
       "2          2017-06-01             3  638\n",
       "3          2017-06-01             4  413\n",
       "4          2017-06-01             5  384\n",
       "..                ...           ...  ...\n",
       "81         2018-05-01             4  804\n",
       "82         2018-05-01             5  497\n",
       "83         2018-05-01             9   60\n",
       "84         2018-05-01            10  130\n",
       "85         2018-06-01             4    1\n",
       "\n",
       "[86 rows x 3 columns]"
      ]
     },
     "execution_count": 91,
     "metadata": {},
     "output_type": "execute_result"
    }
   ],
   "source": [
    "sizes_sources = orders.groupby(['first_orders_month', 'first_source']).agg({'uid': 'nunique'}).reset_index()\n",
    "sizes_sources # кол-во покупателей по источникам"
   ]
  },
  {
   "cell_type": "markdown",
   "metadata": {},
   "source": [
    "Соединим расходы и кол-во покупателей"
   ]
  },
  {
   "cell_type": "code",
   "execution_count": 92,
   "metadata": {},
   "outputs": [],
   "source": [
    "costs_by_sources = costs_by_sources.merge(sizes_sources, left_on=['first_orders_month', 'source_id'], right_on=['first_orders_month', 'first_source'])"
   ]
  },
  {
   "cell_type": "code",
   "execution_count": 93,
   "metadata": {},
   "outputs": [
    {
     "data": {
      "text/html": [
       "<div>\n",
       "<style scoped>\n",
       "    .dataframe tbody tr th:only-of-type {\n",
       "        vertical-align: middle;\n",
       "    }\n",
       "\n",
       "    .dataframe tbody tr th {\n",
       "        vertical-align: top;\n",
       "    }\n",
       "\n",
       "    .dataframe thead th {\n",
       "        text-align: right;\n",
       "    }\n",
       "</style>\n",
       "<table border=\"1\" class=\"dataframe\">\n",
       "  <thead>\n",
       "    <tr style=\"text-align: right;\">\n",
       "      <th></th>\n",
       "      <th>first_orders_month</th>\n",
       "      <th>source_id</th>\n",
       "      <th>costs</th>\n",
       "      <th>first_source</th>\n",
       "      <th>uid</th>\n",
       "    </tr>\n",
       "  </thead>\n",
       "  <tbody>\n",
       "    <tr>\n",
       "      <td>0</td>\n",
       "      <td>2017-06-01</td>\n",
       "      <td>1</td>\n",
       "      <td>1125.61</td>\n",
       "      <td>1</td>\n",
       "      <td>190</td>\n",
       "    </tr>\n",
       "    <tr>\n",
       "      <td>1</td>\n",
       "      <td>2017-06-01</td>\n",
       "      <td>2</td>\n",
       "      <td>2427.38</td>\n",
       "      <td>2</td>\n",
       "      <td>235</td>\n",
       "    </tr>\n",
       "    <tr>\n",
       "      <td>2</td>\n",
       "      <td>2017-06-01</td>\n",
       "      <td>3</td>\n",
       "      <td>7731.65</td>\n",
       "      <td>3</td>\n",
       "      <td>638</td>\n",
       "    </tr>\n",
       "    <tr>\n",
       "      <td>3</td>\n",
       "      <td>2017-06-01</td>\n",
       "      <td>4</td>\n",
       "      <td>3514.80</td>\n",
       "      <td>4</td>\n",
       "      <td>413</td>\n",
       "    </tr>\n",
       "    <tr>\n",
       "      <td>4</td>\n",
       "      <td>2017-06-01</td>\n",
       "      <td>5</td>\n",
       "      <td>2616.12</td>\n",
       "      <td>5</td>\n",
       "      <td>384</td>\n",
       "    </tr>\n",
       "    <tr>\n",
       "      <td>...</td>\n",
       "      <td>...</td>\n",
       "      <td>...</td>\n",
       "      <td>...</td>\n",
       "      <td>...</td>\n",
       "      <td>...</td>\n",
       "    </tr>\n",
       "    <tr>\n",
       "      <td>79</td>\n",
       "      <td>2018-05-01</td>\n",
       "      <td>3</td>\n",
       "      <td>9411.42</td>\n",
       "      <td>3</td>\n",
       "      <td>844</td>\n",
       "    </tr>\n",
       "    <tr>\n",
       "      <td>80</td>\n",
       "      <td>2018-05-01</td>\n",
       "      <td>4</td>\n",
       "      <td>4214.21</td>\n",
       "      <td>4</td>\n",
       "      <td>804</td>\n",
       "    </tr>\n",
       "    <tr>\n",
       "      <td>81</td>\n",
       "      <td>2018-05-01</td>\n",
       "      <td>5</td>\n",
       "      <td>3669.56</td>\n",
       "      <td>5</td>\n",
       "      <td>497</td>\n",
       "    </tr>\n",
       "    <tr>\n",
       "      <td>82</td>\n",
       "      <td>2018-05-01</td>\n",
       "      <td>9</td>\n",
       "      <td>362.17</td>\n",
       "      <td>9</td>\n",
       "      <td>60</td>\n",
       "    </tr>\n",
       "    <tr>\n",
       "      <td>83</td>\n",
       "      <td>2018-05-01</td>\n",
       "      <td>10</td>\n",
       "      <td>409.86</td>\n",
       "      <td>10</td>\n",
       "      <td>130</td>\n",
       "    </tr>\n",
       "  </tbody>\n",
       "</table>\n",
       "<p>84 rows × 5 columns</p>\n",
       "</div>"
      ],
      "text/plain": [
       "   first_orders_month  source_id    costs  first_source  uid\n",
       "0          2017-06-01          1  1125.61             1  190\n",
       "1          2017-06-01          2  2427.38             2  235\n",
       "2          2017-06-01          3  7731.65             3  638\n",
       "3          2017-06-01          4  3514.80             4  413\n",
       "4          2017-06-01          5  2616.12             5  384\n",
       "..                ...        ...      ...           ...  ...\n",
       "79         2018-05-01          3  9411.42             3  844\n",
       "80         2018-05-01          4  4214.21             4  804\n",
       "81         2018-05-01          5  3669.56             5  497\n",
       "82         2018-05-01          9   362.17             9   60\n",
       "83         2018-05-01         10   409.86            10  130\n",
       "\n",
       "[84 rows x 5 columns]"
      ]
     },
     "execution_count": 93,
     "metadata": {},
     "output_type": "execute_result"
    }
   ],
   "source": [
    "costs_by_sources"
   ]
  },
  {
   "cell_type": "markdown",
   "metadata": {},
   "source": [
    "Группировка по когортам, источнику"
   ]
  },
  {
   "cell_type": "code",
   "execution_count": 94,
   "metadata": {},
   "outputs": [],
   "source": [
    "cac_by_sources = costs_by_sources.groupby('first_source').agg({'uid':'sum', 'costs':'sum'}).reset_index()"
   ]
  },
  {
   "cell_type": "code",
   "execution_count": 95,
   "metadata": {},
   "outputs": [
    {
     "data": {
      "text/html": [
       "<div>\n",
       "<style scoped>\n",
       "    .dataframe tbody tr th:only-of-type {\n",
       "        vertical-align: middle;\n",
       "    }\n",
       "\n",
       "    .dataframe tbody tr th {\n",
       "        vertical-align: top;\n",
       "    }\n",
       "\n",
       "    .dataframe thead th {\n",
       "        text-align: right;\n",
       "    }\n",
       "</style>\n",
       "<table border=\"1\" class=\"dataframe\">\n",
       "  <thead>\n",
       "    <tr style=\"text-align: right;\">\n",
       "      <th></th>\n",
       "      <th>first_source</th>\n",
       "      <th>uid</th>\n",
       "      <th>costs</th>\n",
       "    </tr>\n",
       "  </thead>\n",
       "  <tbody>\n",
       "    <tr>\n",
       "      <td>0</td>\n",
       "      <td>1</td>\n",
       "      <td>2899</td>\n",
       "      <td>20833.27</td>\n",
       "    </tr>\n",
       "    <tr>\n",
       "      <td>1</td>\n",
       "      <td>2</td>\n",
       "      <td>3506</td>\n",
       "      <td>42806.04</td>\n",
       "    </tr>\n",
       "    <tr>\n",
       "      <td>2</td>\n",
       "      <td>3</td>\n",
       "      <td>10473</td>\n",
       "      <td>141321.63</td>\n",
       "    </tr>\n",
       "    <tr>\n",
       "      <td>3</td>\n",
       "      <td>4</td>\n",
       "      <td>10295</td>\n",
       "      <td>61073.60</td>\n",
       "    </tr>\n",
       "    <tr>\n",
       "      <td>4</td>\n",
       "      <td>5</td>\n",
       "      <td>6931</td>\n",
       "      <td>51757.10</td>\n",
       "    </tr>\n",
       "    <tr>\n",
       "      <td>5</td>\n",
       "      <td>9</td>\n",
       "      <td>1088</td>\n",
       "      <td>5517.49</td>\n",
       "    </tr>\n",
       "    <tr>\n",
       "      <td>6</td>\n",
       "      <td>10</td>\n",
       "      <td>1329</td>\n",
       "      <td>5822.49</td>\n",
       "    </tr>\n",
       "  </tbody>\n",
       "</table>\n",
       "</div>"
      ],
      "text/plain": [
       "   first_source    uid      costs\n",
       "0             1   2899   20833.27\n",
       "1             2   3506   42806.04\n",
       "2             3  10473  141321.63\n",
       "3             4  10295   61073.60\n",
       "4             5   6931   51757.10\n",
       "5             9   1088    5517.49\n",
       "6            10   1329    5822.49"
      ]
     },
     "execution_count": 95,
     "metadata": {},
     "output_type": "execute_result"
    }
   ],
   "source": [
    "cac_by_sources"
   ]
  },
  {
   "cell_type": "markdown",
   "metadata": {},
   "source": [
    "Считаем CAC для одного покупателя по источникам."
   ]
  },
  {
   "cell_type": "code",
   "execution_count": 96,
   "metadata": {},
   "outputs": [],
   "source": [
    "cac_by_sources['cac'] = cac_by_sources['costs'] / cac_by_sources['uid']"
   ]
  },
  {
   "cell_type": "code",
   "execution_count": 97,
   "metadata": {},
   "outputs": [
    {
     "data": {
      "text/html": [
       "<div>\n",
       "<style scoped>\n",
       "    .dataframe tbody tr th:only-of-type {\n",
       "        vertical-align: middle;\n",
       "    }\n",
       "\n",
       "    .dataframe tbody tr th {\n",
       "        vertical-align: top;\n",
       "    }\n",
       "\n",
       "    .dataframe thead th {\n",
       "        text-align: right;\n",
       "    }\n",
       "</style>\n",
       "<table border=\"1\" class=\"dataframe\">\n",
       "  <thead>\n",
       "    <tr style=\"text-align: right;\">\n",
       "      <th></th>\n",
       "      <th>first_source</th>\n",
       "      <th>uid</th>\n",
       "      <th>costs</th>\n",
       "      <th>cac</th>\n",
       "    </tr>\n",
       "  </thead>\n",
       "  <tbody>\n",
       "    <tr>\n",
       "      <td>0</td>\n",
       "      <td>1</td>\n",
       "      <td>2899</td>\n",
       "      <td>20833.27</td>\n",
       "      <td>7.186364</td>\n",
       "    </tr>\n",
       "    <tr>\n",
       "      <td>1</td>\n",
       "      <td>2</td>\n",
       "      <td>3506</td>\n",
       "      <td>42806.04</td>\n",
       "      <td>12.209367</td>\n",
       "    </tr>\n",
       "    <tr>\n",
       "      <td>2</td>\n",
       "      <td>3</td>\n",
       "      <td>10473</td>\n",
       "      <td>141321.63</td>\n",
       "      <td>13.493901</td>\n",
       "    </tr>\n",
       "    <tr>\n",
       "      <td>3</td>\n",
       "      <td>4</td>\n",
       "      <td>10295</td>\n",
       "      <td>61073.60</td>\n",
       "      <td>5.932356</td>\n",
       "    </tr>\n",
       "    <tr>\n",
       "      <td>4</td>\n",
       "      <td>5</td>\n",
       "      <td>6931</td>\n",
       "      <td>51757.10</td>\n",
       "      <td>7.467479</td>\n",
       "    </tr>\n",
       "    <tr>\n",
       "      <td>5</td>\n",
       "      <td>9</td>\n",
       "      <td>1088</td>\n",
       "      <td>5517.49</td>\n",
       "      <td>5.071222</td>\n",
       "    </tr>\n",
       "    <tr>\n",
       "      <td>6</td>\n",
       "      <td>10</td>\n",
       "      <td>1329</td>\n",
       "      <td>5822.49</td>\n",
       "      <td>4.381106</td>\n",
       "    </tr>\n",
       "  </tbody>\n",
       "</table>\n",
       "</div>"
      ],
      "text/plain": [
       "   first_source    uid      costs        cac\n",
       "0             1   2899   20833.27   7.186364\n",
       "1             2   3506   42806.04  12.209367\n",
       "2             3  10473  141321.63  13.493901\n",
       "3             4  10295   61073.60   5.932356\n",
       "4             5   6931   51757.10   7.467479\n",
       "5             9   1088    5517.49   5.071222\n",
       "6            10   1329    5822.49   4.381106"
      ]
     },
     "execution_count": 97,
     "metadata": {},
     "output_type": "execute_result"
    }
   ],
   "source": [
    "cac_by_sources # средний CAC в разрезе источников"
   ]
  },
  {
   "cell_type": "code",
   "execution_count": 98,
   "metadata": {},
   "outputs": [],
   "source": [
    "cac_by_sources_clean = cac_by_sources.loc[0:, ['first_source', 'cac']]"
   ]
  },
  {
   "cell_type": "code",
   "execution_count": 99,
   "metadata": {},
   "outputs": [
    {
     "data": {
      "image/png": "[encoded data removed]",
      "text/plain": [
       "<Figure size 432x288 with 1 Axes>"
      ]
     },
     "metadata": {
      "needs_background": "light"
     },
     "output_type": "display_data"
    }
   ],
   "source": [
    "cac_by_sources_clean.plot(kind='bar', x='first_source')\n",
    "plt.title('Средний CAC по источникам')\n",
    "plt.show()"
   ]
  },
  {
   "cell_type": "code",
   "execution_count": 100,
   "metadata": {},
   "outputs": [],
   "source": [
    "costs_by_sources['cac'] = costs_by_sources['costs'] / costs_by_sources['uid']"
   ]
  },
  {
   "cell_type": "code",
   "execution_count": 101,
   "metadata": {},
   "outputs": [
    {
     "data": {
      "image/png": "[encoded data removed]",
      "text/plain": [
       "<Figure size 648x360 with 1 Axes>"
      ]
     },
     "metadata": {
      "needs_background": "light"
     },
     "output_type": "display_data"
    }
   ],
   "source": [
    "costs_by_sources.pivot_table(index='source_id', \n",
    "                  columns='first_orders_month', \n",
    "                  values='cac', \n",
    "                  aggfunc='sum'\n",
    "                 ).T.plot(linewidth = 2, figsize=(9, 5))\n",
    "\n",
    "plt.ylabel('Сумма затрат на человека')\n",
    "plt.xlabel('Месяц')\n",
    "plt.title('CAC на каждый источник по месяцам')\n",
    "plt.show()"
   ]
  },
  {
   "cell_type": "markdown",
   "metadata": {},
   "source": [
    "**Вывод**\n",
    "Самые большие затраты на привлечение одного покупателя идут в источники 3 и 2. Это лидеры. Средние затраты идут на источники 1 и 5, там около 7 у.е. уходит в среднем на привлечение одного покупателя. Остальные источники показывают самые маленькие затраты - менее 7.\n",
    "Интересно, что CAC 3 самого затратного источника снизился в сентябре, как раз тогда, когда общие рекламные расходы на него возросли. Значит, реклама принесла свои плоды и привлекла дополнительную аудиторию.\n",
    "CAC источника 4 тоже снизились на фоне повышения рекламных расходов, значит тут тоже сработал маркетинг.\n",
    "А вот с источником 2 проблема. Расходы подняли, но CAC нестабилен и сильно скачет. Нужно разобраться. \n",
    "\n",
    "Взглянем на окупаемость.\n"
   ]
  },
  {
   "cell_type": "markdown",
   "metadata": {},
   "source": [
    "### ROMI по когортам в разрезе источников. "
   ]
  },
  {
   "cell_type": "code",
   "execution_count": 102,
   "metadata": {},
   "outputs": [
    {
     "data": {
      "text/html": [
       "<div>\n",
       "<style scoped>\n",
       "    .dataframe tbody tr th:only-of-type {\n",
       "        vertical-align: middle;\n",
       "    }\n",
       "\n",
       "    .dataframe tbody tr th {\n",
       "        vertical-align: top;\n",
       "    }\n",
       "\n",
       "    .dataframe thead th {\n",
       "        text-align: right;\n",
       "    }\n",
       "</style>\n",
       "<table border=\"1\" class=\"dataframe\">\n",
       "  <thead>\n",
       "    <tr style=\"text-align: right;\">\n",
       "      <th></th>\n",
       "      <th>buy ts</th>\n",
       "      <th>revenue</th>\n",
       "      <th>uid</th>\n",
       "      <th>first_orders_date</th>\n",
       "      <th>first_orders_month</th>\n",
       "      <th>orders_month</th>\n",
       "      <th>lifetime</th>\n",
       "      <th>first_source</th>\n",
       "    </tr>\n",
       "  </thead>\n",
       "  <tbody>\n",
       "    <tr>\n",
       "      <td>0</td>\n",
       "      <td>2017-06-01 00:10:00</td>\n",
       "      <td>17.00</td>\n",
       "      <td>10329302124590727494</td>\n",
       "      <td>2017-06-01 00:10:00</td>\n",
       "      <td>2017-06-01</td>\n",
       "      <td>2017-06-01</td>\n",
       "      <td>0</td>\n",
       "      <td>1</td>\n",
       "    </tr>\n",
       "    <tr>\n",
       "      <td>1</td>\n",
       "      <td>2017-06-01 00:25:00</td>\n",
       "      <td>0.55</td>\n",
       "      <td>11627257723692907447</td>\n",
       "      <td>2017-06-01 00:25:00</td>\n",
       "      <td>2017-06-01</td>\n",
       "      <td>2017-06-01</td>\n",
       "      <td>0</td>\n",
       "      <td>2</td>\n",
       "    </tr>\n",
       "    <tr>\n",
       "      <td>2</td>\n",
       "      <td>2017-06-01 00:27:00</td>\n",
       "      <td>0.37</td>\n",
       "      <td>17903680561304213844</td>\n",
       "      <td>2017-06-01 00:27:00</td>\n",
       "      <td>2017-06-01</td>\n",
       "      <td>2017-06-01</td>\n",
       "      <td>0</td>\n",
       "      <td>2</td>\n",
       "    </tr>\n",
       "    <tr>\n",
       "      <td>3</td>\n",
       "      <td>2017-06-01 00:29:00</td>\n",
       "      <td>0.55</td>\n",
       "      <td>16109239769442553005</td>\n",
       "      <td>2017-06-01 00:29:00</td>\n",
       "      <td>2017-06-01</td>\n",
       "      <td>2017-06-01</td>\n",
       "      <td>0</td>\n",
       "      <td>2</td>\n",
       "    </tr>\n",
       "    <tr>\n",
       "      <td>4</td>\n",
       "      <td>2017-06-01 07:58:00</td>\n",
       "      <td>0.37</td>\n",
       "      <td>14200605875248379450</td>\n",
       "      <td>2017-06-01 07:58:00</td>\n",
       "      <td>2017-06-01</td>\n",
       "      <td>2017-06-01</td>\n",
       "      <td>0</td>\n",
       "      <td>3</td>\n",
       "    </tr>\n",
       "    <tr>\n",
       "      <td>5</td>\n",
       "      <td>2017-06-01 08:43:00</td>\n",
       "      <td>0.18</td>\n",
       "      <td>10402394430196413321</td>\n",
       "      <td>2017-06-01 08:43:00</td>\n",
       "      <td>2017-06-01</td>\n",
       "      <td>2017-06-01</td>\n",
       "      <td>0</td>\n",
       "      <td>3</td>\n",
       "    </tr>\n",
       "    <tr>\n",
       "      <td>6</td>\n",
       "      <td>2017-06-01 08:54:00</td>\n",
       "      <td>1.83</td>\n",
       "      <td>12464626743129688638</td>\n",
       "      <td>2017-06-01 08:54:00</td>\n",
       "      <td>2017-06-01</td>\n",
       "      <td>2017-06-01</td>\n",
       "      <td>0</td>\n",
       "      <td>5</td>\n",
       "    </tr>\n",
       "    <tr>\n",
       "      <td>7</td>\n",
       "      <td>2017-06-01 09:22:00</td>\n",
       "      <td>1.22</td>\n",
       "      <td>3644482766749211722</td>\n",
       "      <td>2017-06-01 09:22:00</td>\n",
       "      <td>2017-06-01</td>\n",
       "      <td>2017-06-01</td>\n",
       "      <td>0</td>\n",
       "      <td>1</td>\n",
       "    </tr>\n",
       "    <tr>\n",
       "      <td>8</td>\n",
       "      <td>2017-06-01 09:22:00</td>\n",
       "      <td>3.30</td>\n",
       "      <td>17542070709969841479</td>\n",
       "      <td>2017-06-01 09:22:00</td>\n",
       "      <td>2017-06-01</td>\n",
       "      <td>2017-06-01</td>\n",
       "      <td>0</td>\n",
       "      <td>4</td>\n",
       "    </tr>\n",
       "    <tr>\n",
       "      <td>9</td>\n",
       "      <td>2017-06-01 09:23:00</td>\n",
       "      <td>0.37</td>\n",
       "      <td>1074355127080856382</td>\n",
       "      <td>2017-06-01 09:23:00</td>\n",
       "      <td>2017-06-01</td>\n",
       "      <td>2017-06-01</td>\n",
       "      <td>0</td>\n",
       "      <td>1</td>\n",
       "    </tr>\n",
       "  </tbody>\n",
       "</table>\n",
       "</div>"
      ],
      "text/plain": [
       "               buy ts  revenue                   uid   first_orders_date  \\\n",
       "0 2017-06-01 00:10:00    17.00  10329302124590727494 2017-06-01 00:10:00   \n",
       "1 2017-06-01 00:25:00     0.55  11627257723692907447 2017-06-01 00:25:00   \n",
       "2 2017-06-01 00:27:00     0.37  17903680561304213844 2017-06-01 00:27:00   \n",
       "3 2017-06-01 00:29:00     0.55  16109239769442553005 2017-06-01 00:29:00   \n",
       "4 2017-06-01 07:58:00     0.37  14200605875248379450 2017-06-01 07:58:00   \n",
       "5 2017-06-01 08:43:00     0.18  10402394430196413321 2017-06-01 08:43:00   \n",
       "6 2017-06-01 08:54:00     1.83  12464626743129688638 2017-06-01 08:54:00   \n",
       "7 2017-06-01 09:22:00     1.22   3644482766749211722 2017-06-01 09:22:00   \n",
       "8 2017-06-01 09:22:00     3.30  17542070709969841479 2017-06-01 09:22:00   \n",
       "9 2017-06-01 09:23:00     0.37   1074355127080856382 2017-06-01 09:23:00   \n",
       "\n",
       "  first_orders_month orders_month  lifetime  first_source  \n",
       "0         2017-06-01   2017-06-01         0             1  \n",
       "1         2017-06-01   2017-06-01         0             2  \n",
       "2         2017-06-01   2017-06-01         0             2  \n",
       "3         2017-06-01   2017-06-01         0             2  \n",
       "4         2017-06-01   2017-06-01         0             3  \n",
       "5         2017-06-01   2017-06-01         0             3  \n",
       "6         2017-06-01   2017-06-01         0             5  \n",
       "7         2017-06-01   2017-06-01         0             1  \n",
       "8         2017-06-01   2017-06-01         0             4  \n",
       "9         2017-06-01   2017-06-01         0             1  "
      ]
     },
     "execution_count": 102,
     "metadata": {},
     "output_type": "execute_result"
    }
   ],
   "source": [
    "orders.head(10)"
   ]
  },
  {
   "cell_type": "markdown",
   "metadata": {},
   "source": [
    "Сгруппируем заказы по когортам и источникам. Присоединим датафрейм с затратами и источниками."
   ]
  },
  {
   "cell_type": "code",
   "execution_count": 103,
   "metadata": {},
   "outputs": [],
   "source": [
    "romi_cohorts = orders.groupby(['first_orders_month', 'first_source']).agg({'revenue':'sum'}).reset_index()\n",
    "romi_cohorts_2 = romi_cohorts.merge(costs_by_sources, left_on=['first_source', 'first_orders_month'], right_on=['first_source', 'first_orders_month'])"
   ]
  },
  {
   "cell_type": "markdown",
   "metadata": {},
   "source": [
    "Рассчитаем метрики LTV, CAC и ROMI по когортам в разрезе источников"
   ]
  },
  {
   "cell_type": "code",
   "execution_count": 104,
   "metadata": {},
   "outputs": [
    {
     "data": {
      "text/html": [
       "<div>\n",
       "<style scoped>\n",
       "    .dataframe tbody tr th:only-of-type {\n",
       "        vertical-align: middle;\n",
       "    }\n",
       "\n",
       "    .dataframe tbody tr th {\n",
       "        vertical-align: top;\n",
       "    }\n",
       "\n",
       "    .dataframe thead th {\n",
       "        text-align: right;\n",
       "    }\n",
       "</style>\n",
       "<table border=\"1\" class=\"dataframe\">\n",
       "  <thead>\n",
       "    <tr style=\"text-align: right;\">\n",
       "      <th></th>\n",
       "      <th>first_orders_month</th>\n",
       "      <th>first_source</th>\n",
       "      <th>revenue</th>\n",
       "      <th>source_id</th>\n",
       "      <th>costs</th>\n",
       "      <th>uid</th>\n",
       "      <th>cac</th>\n",
       "      <th>ltv</th>\n",
       "      <th>romi</th>\n",
       "    </tr>\n",
       "  </thead>\n",
       "  <tbody>\n",
       "    <tr>\n",
       "      <td>0</td>\n",
       "      <td>2017-06-01</td>\n",
       "      <td>1</td>\n",
       "      <td>6392.39</td>\n",
       "      <td>1</td>\n",
       "      <td>1125.61</td>\n",
       "      <td>190</td>\n",
       "      <td>5.924263</td>\n",
       "      <td>33.644158</td>\n",
       "      <td>5.679045</td>\n",
       "    </tr>\n",
       "    <tr>\n",
       "      <td>1</td>\n",
       "      <td>2017-06-01</td>\n",
       "      <td>2</td>\n",
       "      <td>3915.26</td>\n",
       "      <td>2</td>\n",
       "      <td>2427.38</td>\n",
       "      <td>235</td>\n",
       "      <td>10.329277</td>\n",
       "      <td>16.660681</td>\n",
       "      <td>1.612957</td>\n",
       "    </tr>\n",
       "    <tr>\n",
       "      <td>2</td>\n",
       "      <td>2017-06-01</td>\n",
       "      <td>3</td>\n",
       "      <td>3640.32</td>\n",
       "      <td>3</td>\n",
       "      <td>7731.65</td>\n",
       "      <td>638</td>\n",
       "      <td>12.118574</td>\n",
       "      <td>5.705831</td>\n",
       "      <td>0.470834</td>\n",
       "    </tr>\n",
       "    <tr>\n",
       "      <td>3</td>\n",
       "      <td>2017-06-01</td>\n",
       "      <td>4</td>\n",
       "      <td>4992.67</td>\n",
       "      <td>4</td>\n",
       "      <td>3514.80</td>\n",
       "      <td>413</td>\n",
       "      <td>8.510412</td>\n",
       "      <td>12.088789</td>\n",
       "      <td>1.420471</td>\n",
       "    </tr>\n",
       "    <tr>\n",
       "      <td>4</td>\n",
       "      <td>2017-06-01</td>\n",
       "      <td>5</td>\n",
       "      <td>4377.64</td>\n",
       "      <td>5</td>\n",
       "      <td>2616.12</td>\n",
       "      <td>384</td>\n",
       "      <td>6.812813</td>\n",
       "      <td>11.400104</td>\n",
       "      <td>1.673333</td>\n",
       "    </tr>\n",
       "    <tr>\n",
       "      <td>...</td>\n",
       "      <td>...</td>\n",
       "      <td>...</td>\n",
       "      <td>...</td>\n",
       "      <td>...</td>\n",
       "      <td>...</td>\n",
       "      <td>...</td>\n",
       "      <td>...</td>\n",
       "      <td>...</td>\n",
       "      <td>...</td>\n",
       "    </tr>\n",
       "    <tr>\n",
       "      <td>79</td>\n",
       "      <td>2018-05-01</td>\n",
       "      <td>3</td>\n",
       "      <td>3256.54</td>\n",
       "      <td>3</td>\n",
       "      <td>9411.42</td>\n",
       "      <td>844</td>\n",
       "      <td>11.150972</td>\n",
       "      <td>3.858460</td>\n",
       "      <td>0.346020</td>\n",
       "    </tr>\n",
       "    <tr>\n",
       "      <td>80</td>\n",
       "      <td>2018-05-01</td>\n",
       "      <td>4</td>\n",
       "      <td>3802.91</td>\n",
       "      <td>4</td>\n",
       "      <td>4214.21</td>\n",
       "      <td>804</td>\n",
       "      <td>5.241555</td>\n",
       "      <td>4.729988</td>\n",
       "      <td>0.902402</td>\n",
       "    </tr>\n",
       "    <tr>\n",
       "      <td>81</td>\n",
       "      <td>2018-05-01</td>\n",
       "      <td>5</td>\n",
       "      <td>2094.04</td>\n",
       "      <td>5</td>\n",
       "      <td>3669.56</td>\n",
       "      <td>497</td>\n",
       "      <td>7.383421</td>\n",
       "      <td>4.213360</td>\n",
       "      <td>0.570652</td>\n",
       "    </tr>\n",
       "    <tr>\n",
       "      <td>82</td>\n",
       "      <td>2018-05-01</td>\n",
       "      <td>9</td>\n",
       "      <td>223.05</td>\n",
       "      <td>9</td>\n",
       "      <td>362.17</td>\n",
       "      <td>60</td>\n",
       "      <td>6.036167</td>\n",
       "      <td>3.717500</td>\n",
       "      <td>0.615871</td>\n",
       "    </tr>\n",
       "    <tr>\n",
       "      <td>83</td>\n",
       "      <td>2018-05-01</td>\n",
       "      <td>10</td>\n",
       "      <td>470.89</td>\n",
       "      <td>10</td>\n",
       "      <td>409.86</td>\n",
       "      <td>130</td>\n",
       "      <td>3.152769</td>\n",
       "      <td>3.622231</td>\n",
       "      <td>1.148905</td>\n",
       "    </tr>\n",
       "  </tbody>\n",
       "</table>\n",
       "<p>84 rows × 9 columns</p>\n",
       "</div>"
      ],
      "text/plain": [
       "   first_orders_month  first_source  revenue  source_id    costs  uid  \\\n",
       "0          2017-06-01             1  6392.39          1  1125.61  190   \n",
       "1          2017-06-01             2  3915.26          2  2427.38  235   \n",
       "2          2017-06-01             3  3640.32          3  7731.65  638   \n",
       "3          2017-06-01             4  4992.67          4  3514.80  413   \n",
       "4          2017-06-01             5  4377.64          5  2616.12  384   \n",
       "..                ...           ...      ...        ...      ...  ...   \n",
       "79         2018-05-01             3  3256.54          3  9411.42  844   \n",
       "80         2018-05-01             4  3802.91          4  4214.21  804   \n",
       "81         2018-05-01             5  2094.04          5  3669.56  497   \n",
       "82         2018-05-01             9   223.05          9   362.17   60   \n",
       "83         2018-05-01            10   470.89         10   409.86  130   \n",
       "\n",
       "          cac        ltv      romi  \n",
       "0    5.924263  33.644158  5.679045  \n",
       "1   10.329277  16.660681  1.612957  \n",
       "2   12.118574   5.705831  0.470834  \n",
       "3    8.510412  12.088789  1.420471  \n",
       "4    6.812813  11.400104  1.673333  \n",
       "..        ...        ...       ...  \n",
       "79  11.150972   3.858460  0.346020  \n",
       "80   5.241555   4.729988  0.902402  \n",
       "81   7.383421   4.213360  0.570652  \n",
       "82   6.036167   3.717500  0.615871  \n",
       "83   3.152769   3.622231  1.148905  \n",
       "\n",
       "[84 rows x 9 columns]"
      ]
     },
     "execution_count": 104,
     "metadata": {},
     "output_type": "execute_result"
    }
   ],
   "source": [
    "romi_cohorts_2['ltv'] = romi_cohorts_2['revenue'] / romi_cohorts_2['uid']\n",
    "romi_cohorts_2['cac'] = romi_cohorts_2['costs'] / romi_cohorts_2['uid']\n",
    "romi_cohorts_2['romi'] = romi_cohorts_2['ltv'] / romi_cohorts_2['cac']\n",
    "romi_cohorts_2"
   ]
  },
  {
   "cell_type": "code",
   "execution_count": 105,
   "metadata": {},
   "outputs": [],
   "source": [
    "romi_cohorts_2_pivot = romi_cohorts_2.pivot_table(index='first_orders_month', columns='first_source', values='romi', aggfunc='sum')"
   ]
  },
  {
   "cell_type": "code",
   "execution_count": 106,
   "metadata": {},
   "outputs": [
    {
     "data": {
      "image/png": "[encoded data removed]",
      "text/plain": [
       "<Figure size 720x360 with 2 Axes>"
      ]
     },
     "metadata": {
      "needs_background": "light"
     },
     "output_type": "display_data"
    }
   ],
   "source": [
    "plt.figure(figsize=(10, 5))\n",
    "plt.title('ROMI по когортам в разрезе источников')\n",
    "sns.heatmap(romi_cohorts_2_pivot, annot=True, fmt='.2f', linewidths=1, linecolor='white', vmin=0.0, vmax=1)\n",
    "plt.show()"
   ]
  },
  {
   "cell_type": "markdown",
   "metadata": {},
   "source": [
    "Как видно на графике, источник 3 не окупился ни в одной из когорт - все ячейки темного цвета, а значит, не дотягивают до предельного значения в единицу.\n",
    "Для чистоты данных обратимся только к тем когортам, которые прожили не менее 6 месяцев, возьмем период в 6 месяцев."
   ]
  },
  {
   "cell_type": "markdown",
   "metadata": {},
   "source": [
    "### Окупаемость за одинаковые периоды жизни когорт."
   ]
  },
  {
   "cell_type": "code",
   "execution_count": 107,
   "metadata": {},
   "outputs": [],
   "source": [
    "romi_cohorts3 = orders[(orders['first_orders_month'] < '2018-01-01') & (orders['lifetime'] < 6)] #срез"
   ]
  },
  {
   "cell_type": "code",
   "execution_count": 108,
   "metadata": {},
   "outputs": [],
   "source": [
    "romi_cohorts4 = romi_cohorts3.groupby(['first_orders_month', 'first_source']).agg({'revenue':'sum'}).reset_index() #группировка по когорте и источнику"
   ]
  },
  {
   "cell_type": "code",
   "execution_count": 109,
   "metadata": {},
   "outputs": [],
   "source": [
    "romi_cohorts4 = romi_cohorts4.merge(costs_by_sources, left_on=['first_source', 'first_orders_month'], right_on=['first_source', 'first_orders_month']) \n",
    "# мерджим с затратами"
   ]
  },
  {
   "cell_type": "code",
   "execution_count": 110,
   "metadata": {},
   "outputs": [
    {
     "data": {
      "text/html": [
       "<div>\n",
       "<style scoped>\n",
       "    .dataframe tbody tr th:only-of-type {\n",
       "        vertical-align: middle;\n",
       "    }\n",
       "\n",
       "    .dataframe tbody tr th {\n",
       "        vertical-align: top;\n",
       "    }\n",
       "\n",
       "    .dataframe thead th {\n",
       "        text-align: right;\n",
       "    }\n",
       "</style>\n",
       "<table border=\"1\" class=\"dataframe\">\n",
       "  <thead>\n",
       "    <tr style=\"text-align: right;\">\n",
       "      <th></th>\n",
       "      <th>first_orders_month</th>\n",
       "      <th>first_source</th>\n",
       "      <th>revenue</th>\n",
       "      <th>source_id</th>\n",
       "      <th>costs</th>\n",
       "      <th>uid</th>\n",
       "      <th>cac</th>\n",
       "    </tr>\n",
       "  </thead>\n",
       "  <tbody>\n",
       "    <tr>\n",
       "      <td>0</td>\n",
       "      <td>2017-06-01</td>\n",
       "      <td>1</td>\n",
       "      <td>4127.89</td>\n",
       "      <td>1</td>\n",
       "      <td>1125.61</td>\n",
       "      <td>190</td>\n",
       "      <td>5.924263</td>\n",
       "    </tr>\n",
       "    <tr>\n",
       "      <td>1</td>\n",
       "      <td>2017-06-01</td>\n",
       "      <td>2</td>\n",
       "      <td>2283.13</td>\n",
       "      <td>2</td>\n",
       "      <td>2427.38</td>\n",
       "      <td>235</td>\n",
       "      <td>10.329277</td>\n",
       "    </tr>\n",
       "    <tr>\n",
       "      <td>2</td>\n",
       "      <td>2017-06-01</td>\n",
       "      <td>3</td>\n",
       "      <td>3435.55</td>\n",
       "      <td>3</td>\n",
       "      <td>7731.65</td>\n",
       "      <td>638</td>\n",
       "      <td>12.118574</td>\n",
       "    </tr>\n",
       "    <tr>\n",
       "      <td>3</td>\n",
       "      <td>2017-06-01</td>\n",
       "      <td>4</td>\n",
       "      <td>3326.02</td>\n",
       "      <td>4</td>\n",
       "      <td>3514.80</td>\n",
       "      <td>413</td>\n",
       "      <td>8.510412</td>\n",
       "    </tr>\n",
       "    <tr>\n",
       "      <td>4</td>\n",
       "      <td>2017-06-01</td>\n",
       "      <td>5</td>\n",
       "      <td>3122.32</td>\n",
       "      <td>5</td>\n",
       "      <td>2616.12</td>\n",
       "      <td>384</td>\n",
       "      <td>6.812813</td>\n",
       "    </tr>\n",
       "  </tbody>\n",
       "</table>\n",
       "</div>"
      ],
      "text/plain": [
       "  first_orders_month  first_source  revenue  source_id    costs  uid  \\\n",
       "0         2017-06-01             1  4127.89          1  1125.61  190   \n",
       "1         2017-06-01             2  2283.13          2  2427.38  235   \n",
       "2         2017-06-01             3  3435.55          3  7731.65  638   \n",
       "3         2017-06-01             4  3326.02          4  3514.80  413   \n",
       "4         2017-06-01             5  3122.32          5  2616.12  384   \n",
       "\n",
       "         cac  \n",
       "0   5.924263  \n",
       "1  10.329277  \n",
       "2  12.118574  \n",
       "3   8.510412  \n",
       "4   6.812813  "
      ]
     },
     "execution_count": 110,
     "metadata": {},
     "output_type": "execute_result"
    }
   ],
   "source": [
    "romi_cohorts4.head()"
   ]
  },
  {
   "cell_type": "code",
   "execution_count": 111,
   "metadata": {},
   "outputs": [],
   "source": [
    "#расчеты метрик\n",
    "romi_cohorts4['ltv'] = romi_cohorts4['revenue'] / romi_cohorts4['uid']\n",
    "romi_cohorts4['cac'] = romi_cohorts4['costs'] / romi_cohorts4['uid']\n",
    "romi_cohorts4['romi'] = romi_cohorts4['ltv'] / romi_cohorts4['cac']"
   ]
  },
  {
   "cell_type": "code",
   "execution_count": 112,
   "metadata": {},
   "outputs": [
    {
     "data": {
      "text/html": [
       "<div>\n",
       "<style scoped>\n",
       "    .dataframe tbody tr th:only-of-type {\n",
       "        vertical-align: middle;\n",
       "    }\n",
       "\n",
       "    .dataframe tbody tr th {\n",
       "        vertical-align: top;\n",
       "    }\n",
       "\n",
       "    .dataframe thead th {\n",
       "        text-align: right;\n",
       "    }\n",
       "</style>\n",
       "<table border=\"1\" class=\"dataframe\">\n",
       "  <thead>\n",
       "    <tr style=\"text-align: right;\">\n",
       "      <th>first_source</th>\n",
       "      <th>1</th>\n",
       "      <th>2</th>\n",
       "      <th>3</th>\n",
       "      <th>4</th>\n",
       "      <th>5</th>\n",
       "      <th>9</th>\n",
       "      <th>10</th>\n",
       "    </tr>\n",
       "    <tr>\n",
       "      <th>first_orders_month</th>\n",
       "      <th></th>\n",
       "      <th></th>\n",
       "      <th></th>\n",
       "      <th></th>\n",
       "      <th></th>\n",
       "      <th></th>\n",
       "      <th></th>\n",
       "    </tr>\n",
       "  </thead>\n",
       "  <tbody>\n",
       "    <tr>\n",
       "      <td>2017-06-01</td>\n",
       "      <td>3.67</td>\n",
       "      <td>0.94</td>\n",
       "      <td>0.44</td>\n",
       "      <td>0.95</td>\n",
       "      <td>1.19</td>\n",
       "      <td>1.32</td>\n",
       "      <td>0.77</td>\n",
       "    </tr>\n",
       "    <tr>\n",
       "      <td>2017-07-01</td>\n",
       "      <td>2.54</td>\n",
       "      <td>0.91</td>\n",
       "      <td>0.47</td>\n",
       "      <td>0.87</td>\n",
       "      <td>0.91</td>\n",
       "      <td>1.06</td>\n",
       "      <td>0.56</td>\n",
       "    </tr>\n",
       "    <tr>\n",
       "      <td>2017-08-01</td>\n",
       "      <td>1.47</td>\n",
       "      <td>0.52</td>\n",
       "      <td>0.32</td>\n",
       "      <td>0.63</td>\n",
       "      <td>1.49</td>\n",
       "      <td>1.29</td>\n",
       "      <td>0.87</td>\n",
       "    </tr>\n",
       "    <tr>\n",
       "      <td>2017-09-01</td>\n",
       "      <td>1.43</td>\n",
       "      <td>1.63</td>\n",
       "      <td>0.51</td>\n",
       "      <td>0.70</td>\n",
       "      <td>3.93</td>\n",
       "      <td>1.57</td>\n",
       "      <td>0.49</td>\n",
       "    </tr>\n",
       "    <tr>\n",
       "      <td>2017-10-01</td>\n",
       "      <td>1.16</td>\n",
       "      <td>0.99</td>\n",
       "      <td>0.41</td>\n",
       "      <td>0.91</td>\n",
       "      <td>0.95</td>\n",
       "      <td>1.44</td>\n",
       "      <td>0.93</td>\n",
       "    </tr>\n",
       "    <tr>\n",
       "      <td>2017-11-01</td>\n",
       "      <td>1.34</td>\n",
       "      <td>0.73</td>\n",
       "      <td>0.35</td>\n",
       "      <td>1.43</td>\n",
       "      <td>0.56</td>\n",
       "      <td>0.96</td>\n",
       "      <td>0.81</td>\n",
       "    </tr>\n",
       "    <tr>\n",
       "      <td>2017-12-01</td>\n",
       "      <td>0.78</td>\n",
       "      <td>2.88</td>\n",
       "      <td>0.38</td>\n",
       "      <td>0.82</td>\n",
       "      <td>0.70</td>\n",
       "      <td>0.87</td>\n",
       "      <td>0.52</td>\n",
       "    </tr>\n",
       "  </tbody>\n",
       "</table>\n",
       "</div>"
      ],
      "text/plain": [
       "first_source          1     2     3     4     5     9     10\n",
       "first_orders_month                                          \n",
       "2017-06-01          3.67  0.94  0.44  0.95  1.19  1.32  0.77\n",
       "2017-07-01          2.54  0.91  0.47  0.87  0.91  1.06  0.56\n",
       "2017-08-01          1.47  0.52  0.32  0.63  1.49  1.29  0.87\n",
       "2017-09-01          1.43  1.63  0.51  0.70  3.93  1.57  0.49\n",
       "2017-10-01          1.16  0.99  0.41  0.91  0.95  1.44  0.93\n",
       "2017-11-01          1.34  0.73  0.35  1.43  0.56  0.96  0.81\n",
       "2017-12-01          0.78  2.88  0.38  0.82  0.70  0.87  0.52"
      ]
     },
     "execution_count": 112,
     "metadata": {},
     "output_type": "execute_result"
    }
   ],
   "source": [
    "romi_cohorts4_pivot = romi_cohorts4.pivot_table(index='first_orders_month', columns='first_source', values='romi', aggfunc='sum')\n",
    "romi_cohorts4_pivot.round(2)"
   ]
  },
  {
   "cell_type": "code",
   "execution_count": 113,
   "metadata": {},
   "outputs": [
    {
     "data": {
      "image/png": "[encoded data removed]",
      "text/plain": [
       "<Figure size 720x360 with 2 Axes>"
      ]
     },
     "metadata": {
      "needs_background": "light"
     },
     "output_type": "display_data"
    }
   ],
   "source": [
    "plt.figure(figsize=(10, 5))\n",
    "plt.title('ROMI по когортам в разрезе источников за 6 полных месяцев жизни')\n",
    "sns.heatmap(romi_cohorts4_pivot, annot=True, fmt='.2f', linewidths=1, linecolor='white', vmin=0.0, vmax=1)\n",
    "plt.show()"
   ]
  },
  {
   "cell_type": "markdown",
   "metadata": {},
   "source": [
    "Самые прибыльные источники - это 1 и 9, они окупаются лучше всего во всех выбранных когортах за полгода.\n",
    "Хорошие показатели у источников 2, 4, в некоторых когортах они являются лидерами по окупаемости, нужно понять, зависит ли это от сезонности и как можно увеличить поток с этих источников.\n",
    "\n",
    "Стоит обратить внимание на падение показателей окупаемости источника 5, в сентябрьской когорте он был самым прибыльным, а потом результаты ухудшились.\n",
    "\n",
    "Источники 3 и 10 не окупились ни в одной когорте за полгода. Хотя у 10 есть показатели, близкие к 1, возможно просто нужно больше времени. А вот 3 показыает худшие результаты. Это самый убыточный источник."
   ]
  },
  {
   "cell_type": "markdown",
   "metadata": {},
   "source": [
    "## Вывод.<a name=\"paragraph4\"></a>"
   ]
  },
  {
   "cell_type": "markdown",
   "metadata": {},
   "source": [
    "**Источники.** Расчет среднего CAC на одного покупателя показал, что большая часть средств уходить на привлечение покупателей через источники 2 и 3, но рассчитав ROMI мы увидели, что у источника №3 не было окупаемости ни в одной из когорт. Необходимо пересмотреть расходы на него.\n",
    "Стоит проанализировать падение окупаемости источника 5, показатели у него ухудшились в более молодых когортах. \n",
    "\n",
    "Перераспредление рекламного бюджета можно пустить на источник 4, у него невысокий средний CAC, но есть перспективы окупаемости, судя по прошлым месяцам.\n",
    "Самым перспективными является источник 1 и 9, стабильно положительный ROMI почти во всех когортах.\n",
    "\n",
    "**Анализ метрик** показал, что чаще всего люди заходят на сервис в осенне-зимний период, пиковая неделя и день приходится на черную пятницу, что ожидаемо. Также высокая посещаемость у декабря. \n",
    "Был обнаружен день с рекордно-низким показателем в одно посещение - 31.03.2018. Необходимо выявить причины сбоя. \n",
    "\n",
    "Половина всех покупок совершается за 16 мин от первого посещения, пользователи заходят на сервис с конкретной целью или по прямой рекламе. Другая часть покупателей - более медленных - тратят больше времени (дни и недели), ожидая снижения цен или появления более интересного события.\n",
    "\n",
    "**Когорты.** Retention Rate на второй месяц дает средний результат возвратов в 6,52% покупателей от общего изначального числа. Далее показатель снижается до 4-2%. Самые высокие показатели возвратов у декабрьской когорты.Также декабрьская когорта демонстрирует отличные результаты по накапливаемости LTV и среднему чеку. Это самая персективная когорта. Хорошие показатели LTV и среднего чека у сентябрьской когорты. Стоит также обратить внимание на ее перспективы. \n"
   ]
  },
  {
   "cell_type": "code",
   "execution_count": null,
   "metadata": {},
   "outputs": [],
   "source": []
  }
 ],
 "metadata": {
  "kernelspec": {
   "display_name": "Python 3 (ipykernel)",
   "language": "python",
   "name": "python3"
  },
  "language_info": {
   "codemirror_mode": {
    "name": "ipython",
    "version": 3
   },
   "file_extension": ".py",
   "mimetype": "text/x-python",
   "name": "python",
   "nbconvert_exporter": "python",
   "pygments_lexer": "ipython3",
   "version": "3.9.6"
  },
  "toc": {
   "base_numbering": 1,
   "nav_menu": {},
   "number_sections": true,
   "sideBar": true,
   "skip_h1_title": true,
   "title_cell": "Table of Contents",
   "title_sidebar": "Contents",
   "toc_cell": false,
   "toc_position": {},
   "toc_section_display": true,
   "toc_window_display": false
  }
 },
 "nbformat": 4,
 "nbformat_minor": 4
}
