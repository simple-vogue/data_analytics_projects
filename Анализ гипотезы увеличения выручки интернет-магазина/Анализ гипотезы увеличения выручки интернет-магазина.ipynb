{
 "cells": [
  {
   "cell_type": "markdown",
   "metadata": {},
   "source": [
    "# Анализ гипотезы увеличения выручки интернет-магазина."
   ]
  },
  {
   "cell_type": "markdown",
   "metadata": {},
   "source": [
    "Целью в данном проекте является приоритезировать выдвинутые гипотезы, которые смогут повысить выручку интернет-магазина, запустить A/B-тест для проверки гипотезы, проанализировать его результаты и сделать выводы на основе полученных данных.\n",
    "В распоряжении имеем несколько наборов данных: гипотезы, датасет с информацией о заказах и группой A/B-теста, в которую попал заказ, а также датасет с участниками A/B-теста."
   ]
  },
  {
   "cell_type": "code",
   "execution_count": 1,
   "metadata": {},
   "outputs": [],
   "source": [
    "import pandas as pd\n",
    "import numpy as np\n",
    "import matplotlib.pyplot as plt\n",
    "from scipy import stats as st\n",
    "import datetime as dt\n",
    "import warnings"
   ]
  },
  {
   "cell_type": "markdown",
   "metadata": {},
   "source": [
    "## Содержание. \n",
    "1. [Приоритизация гипотез.](#paragraph1)\n",
    "2. [Анализ A/B теста.](#paragraph2)\n",
    "3. [График кумулятивной выручки по группам.](#paragraph3)\n",
    "4. [График кумулятивного среднего чека по группам.](#paragraph4)\n",
    "5. [График относительного изменения кумулятивного среднего чека группы B к группе A.](#paragraph5) \n",
    "6. [График кумулятивной конверсии по группам.](#paragraph6)\n",
    "7. [График относительного изменения кумулятивной конверсии группы B к группе A.](#paragraph7)\n",
    "8. [Точечный график количества заказов по пользователям.](#paragraph8)\n",
    "9. [95-й и 99-й перцентили количества заказов на пользователя.](#paragraph9) \n",
    "10. [Точечный график стоимостей заказов.](#paragraph10) \n",
    "11. [95-й и 99-й перцентили стоимости заказов.](#paragraph11) \n",
    "12. [Статистическая значимость различий в конверсии между группами по «сырым» данным.](#paragraph12) \n",
    "13. [Статистическая значимость различий в среднем чеке заказа между группами по «сырым» данным.](#paragraph13) \n",
    "14. [Статистическая значимость различий в конверсии между группами по «очищенным» данным.](#paragraph14) \n",
    "15. [Статистическая значимость различий в среднем чеке заказа между группами по «очищенным» данным.](#paragraph15) \n",
    "16. [Общий вывод.](#paragraph16)"
   ]
  },
  {
   "cell_type": "markdown",
   "metadata": {},
   "source": [
    "## Приоритизация гипотез. <a name=\"paragraph1\"></a>"
   ]
  },
  {
   "cell_type": "code",
   "execution_count": 2,
   "metadata": {},
   "outputs": [],
   "source": [
    "try:\n",
    "    df = pd.read_csv('/datasets/hypothesis.csv')\n",
    "    orders = pd.read_csv('/datasets/orders.csv')\n",
    "    visitors = pd.read_csv('/datasets/visitors.csv')\n",
    "except FileNotFoundError:\n",
    "    df = pd.read_csv('hypothesis.csv')\n",
    "    orders = pd.read_csv('orders.csv')\n",
    "    visitors = pd.read_csv('visitors.csv')"
   ]
  },
  {
   "cell_type": "code",
   "execution_count": 3,
   "metadata": {},
   "outputs": [],
   "source": [
    "pd.set_option(\"max_colwidth\", 110) # установливаем максимальный размер колонки"
   ]
  },
  {
   "cell_type": "code",
   "execution_count": 4,
   "metadata": {},
   "outputs": [
    {
     "data": {
      "text/html": [
       "<div>\n",
       "<style scoped>\n",
       "    .dataframe tbody tr th:only-of-type {\n",
       "        vertical-align: middle;\n",
       "    }\n",
       "\n",
       "    .dataframe tbody tr th {\n",
       "        vertical-align: top;\n",
       "    }\n",
       "\n",
       "    .dataframe thead th {\n",
       "        text-align: right;\n",
       "    }\n",
       "</style>\n",
       "<table border=\"1\" class=\"dataframe\">\n",
       "  <thead>\n",
       "    <tr style=\"text-align: right;\">\n",
       "      <th></th>\n",
       "      <th>Hypothesis</th>\n",
       "      <th>Reach</th>\n",
       "      <th>Impact</th>\n",
       "      <th>Confidence</th>\n",
       "      <th>Efforts</th>\n",
       "    </tr>\n",
       "  </thead>\n",
       "  <tbody>\n",
       "    <tr>\n",
       "      <th>0</th>\n",
       "      <td>Добавить два новых канала привлечения трафика, что позволит привлекать на 30% больше пользователей</td>\n",
       "      <td>3</td>\n",
       "      <td>10</td>\n",
       "      <td>8</td>\n",
       "      <td>6</td>\n",
       "    </tr>\n",
       "    <tr>\n",
       "      <th>1</th>\n",
       "      <td>Запустить собственную службу доставки, что сократит срок доставки заказов</td>\n",
       "      <td>2</td>\n",
       "      <td>5</td>\n",
       "      <td>4</td>\n",
       "      <td>10</td>\n",
       "    </tr>\n",
       "    <tr>\n",
       "      <th>2</th>\n",
       "      <td>Добавить блоки рекомендаций товаров на сайт интернет магазина, чтобы повысить конверсию и средний чек заказа</td>\n",
       "      <td>8</td>\n",
       "      <td>3</td>\n",
       "      <td>7</td>\n",
       "      <td>3</td>\n",
       "    </tr>\n",
       "    <tr>\n",
       "      <th>3</th>\n",
       "      <td>Изменить структура категорий, что увеличит конверсию, т.к. пользователи быстрее найдут нужный товар</td>\n",
       "      <td>8</td>\n",
       "      <td>3</td>\n",
       "      <td>3</td>\n",
       "      <td>8</td>\n",
       "    </tr>\n",
       "    <tr>\n",
       "      <th>4</th>\n",
       "      <td>Изменить цвет фона главной страницы, чтобы увеличить вовлеченность пользователей</td>\n",
       "      <td>3</td>\n",
       "      <td>1</td>\n",
       "      <td>1</td>\n",
       "      <td>1</td>\n",
       "    </tr>\n",
       "    <tr>\n",
       "      <th>5</th>\n",
       "      <td>Добавить страницу отзывов клиентов о магазине, что позволит увеличить количество заказов</td>\n",
       "      <td>3</td>\n",
       "      <td>2</td>\n",
       "      <td>2</td>\n",
       "      <td>3</td>\n",
       "    </tr>\n",
       "    <tr>\n",
       "      <th>6</th>\n",
       "      <td>Показать на главной странице баннеры с актуальными акциями и распродажами, чтобы увеличить конверсию</td>\n",
       "      <td>5</td>\n",
       "      <td>3</td>\n",
       "      <td>8</td>\n",
       "      <td>3</td>\n",
       "    </tr>\n",
       "    <tr>\n",
       "      <th>7</th>\n",
       "      <td>Добавить форму подписки на все основные страницы, чтобы собрать базу клиентов для email-рассылок</td>\n",
       "      <td>10</td>\n",
       "      <td>7</td>\n",
       "      <td>8</td>\n",
       "      <td>5</td>\n",
       "    </tr>\n",
       "    <tr>\n",
       "      <th>8</th>\n",
       "      <td>Запустить акцию, дающую скидку на товар в день рождения</td>\n",
       "      <td>1</td>\n",
       "      <td>9</td>\n",
       "      <td>9</td>\n",
       "      <td>5</td>\n",
       "    </tr>\n",
       "  </tbody>\n",
       "</table>\n",
       "</div>"
      ],
      "text/plain": [
       "                                                                                                     Hypothesis  \\\n",
       "0            Добавить два новых канала привлечения трафика, что позволит привлекать на 30% больше пользователей   \n",
       "1                                     Запустить собственную службу доставки, что сократит срок доставки заказов   \n",
       "2  Добавить блоки рекомендаций товаров на сайт интернет магазина, чтобы повысить конверсию и средний чек заказа   \n",
       "3           Изменить структура категорий, что увеличит конверсию, т.к. пользователи быстрее найдут нужный товар   \n",
       "4                              Изменить цвет фона главной страницы, чтобы увеличить вовлеченность пользователей   \n",
       "5                      Добавить страницу отзывов клиентов о магазине, что позволит увеличить количество заказов   \n",
       "6          Показать на главной странице баннеры с актуальными акциями и распродажами, чтобы увеличить конверсию   \n",
       "7              Добавить форму подписки на все основные страницы, чтобы собрать базу клиентов для email-рассылок   \n",
       "8                                                       Запустить акцию, дающую скидку на товар в день рождения   \n",
       "\n",
       "   Reach  Impact  Confidence  Efforts  \n",
       "0      3      10           8        6  \n",
       "1      2       5           4       10  \n",
       "2      8       3           7        3  \n",
       "3      8       3           3        8  \n",
       "4      3       1           1        1  \n",
       "5      3       2           2        3  \n",
       "6      5       3           8        3  \n",
       "7     10       7           8        5  \n",
       "8      1       9           9        5  "
      ]
     },
     "execution_count": 4,
     "metadata": {},
     "output_type": "execute_result"
    }
   ],
   "source": [
    "df"
   ]
  },
  {
   "cell_type": "code",
   "execution_count": 5,
   "metadata": {},
   "outputs": [],
   "source": [
    "df.columns = df.columns.str.lower()"
   ]
  },
  {
   "cell_type": "code",
   "execution_count": 6,
   "metadata": {},
   "outputs": [],
   "source": [
    "df['ice'] = (df['impact'] * df['confidence']) / df['efforts']"
   ]
  },
  {
   "cell_type": "code",
   "execution_count": 7,
   "metadata": {},
   "outputs": [],
   "source": [
    "df['rice'] = (df['reach'] * df['impact'] * df['confidence']) / df['efforts']"
   ]
  },
  {
   "cell_type": "code",
   "execution_count": 8,
   "metadata": {},
   "outputs": [
    {
     "data": {
      "text/html": [
       "<div>\n",
       "<style scoped>\n",
       "    .dataframe tbody tr th:only-of-type {\n",
       "        vertical-align: middle;\n",
       "    }\n",
       "\n",
       "    .dataframe tbody tr th {\n",
       "        vertical-align: top;\n",
       "    }\n",
       "\n",
       "    .dataframe thead th {\n",
       "        text-align: right;\n",
       "    }\n",
       "</style>\n",
       "<table border=\"1\" class=\"dataframe\">\n",
       "  <thead>\n",
       "    <tr style=\"text-align: right;\">\n",
       "      <th></th>\n",
       "      <th>hypothesis</th>\n",
       "      <th>ice</th>\n",
       "    </tr>\n",
       "  </thead>\n",
       "  <tbody>\n",
       "    <tr>\n",
       "      <th>8</th>\n",
       "      <td>Запустить акцию, дающую скидку на товар в день рождения</td>\n",
       "      <td>16.200000</td>\n",
       "    </tr>\n",
       "    <tr>\n",
       "      <th>0</th>\n",
       "      <td>Добавить два новых канала привлечения трафика, что позволит привлекать на 30% больше пользователей</td>\n",
       "      <td>13.333333</td>\n",
       "    </tr>\n",
       "    <tr>\n",
       "      <th>7</th>\n",
       "      <td>Добавить форму подписки на все основные страницы, чтобы собрать базу клиентов для email-рассылок</td>\n",
       "      <td>11.200000</td>\n",
       "    </tr>\n",
       "    <tr>\n",
       "      <th>6</th>\n",
       "      <td>Показать на главной странице баннеры с актуальными акциями и распродажами, чтобы увеличить конверсию</td>\n",
       "      <td>8.000000</td>\n",
       "    </tr>\n",
       "    <tr>\n",
       "      <th>2</th>\n",
       "      <td>Добавить блоки рекомендаций товаров на сайт интернет магазина, чтобы повысить конверсию и средний чек заказа</td>\n",
       "      <td>7.000000</td>\n",
       "    </tr>\n",
       "    <tr>\n",
       "      <th>1</th>\n",
       "      <td>Запустить собственную службу доставки, что сократит срок доставки заказов</td>\n",
       "      <td>2.000000</td>\n",
       "    </tr>\n",
       "    <tr>\n",
       "      <th>5</th>\n",
       "      <td>Добавить страницу отзывов клиентов о магазине, что позволит увеличить количество заказов</td>\n",
       "      <td>1.333333</td>\n",
       "    </tr>\n",
       "    <tr>\n",
       "      <th>3</th>\n",
       "      <td>Изменить структура категорий, что увеличит конверсию, т.к. пользователи быстрее найдут нужный товар</td>\n",
       "      <td>1.125000</td>\n",
       "    </tr>\n",
       "    <tr>\n",
       "      <th>4</th>\n",
       "      <td>Изменить цвет фона главной страницы, чтобы увеличить вовлеченность пользователей</td>\n",
       "      <td>1.000000</td>\n",
       "    </tr>\n",
       "  </tbody>\n",
       "</table>\n",
       "</div>"
      ],
      "text/plain": [
       "                                                                                                     hypothesis  \\\n",
       "8                                                       Запустить акцию, дающую скидку на товар в день рождения   \n",
       "0            Добавить два новых канала привлечения трафика, что позволит привлекать на 30% больше пользователей   \n",
       "7              Добавить форму подписки на все основные страницы, чтобы собрать базу клиентов для email-рассылок   \n",
       "6          Показать на главной странице баннеры с актуальными акциями и распродажами, чтобы увеличить конверсию   \n",
       "2  Добавить блоки рекомендаций товаров на сайт интернет магазина, чтобы повысить конверсию и средний чек заказа   \n",
       "1                                     Запустить собственную службу доставки, что сократит срок доставки заказов   \n",
       "5                      Добавить страницу отзывов клиентов о магазине, что позволит увеличить количество заказов   \n",
       "3           Изменить структура категорий, что увеличит конверсию, т.к. пользователи быстрее найдут нужный товар   \n",
       "4                              Изменить цвет фона главной страницы, чтобы увеличить вовлеченность пользователей   \n",
       "\n",
       "         ice  \n",
       "8  16.200000  \n",
       "0  13.333333  \n",
       "7  11.200000  \n",
       "6   8.000000  \n",
       "2   7.000000  \n",
       "1   2.000000  \n",
       "5   1.333333  \n",
       "3   1.125000  \n",
       "4   1.000000  "
      ]
     },
     "execution_count": 8,
     "metadata": {},
     "output_type": "execute_result"
    }
   ],
   "source": [
    "df[['hypothesis', 'ice']].sort_values(by='ice', ascending=False)"
   ]
  },
  {
   "cell_type": "code",
   "execution_count": 9,
   "metadata": {},
   "outputs": [
    {
     "data": {
      "text/html": [
       "<div>\n",
       "<style scoped>\n",
       "    .dataframe tbody tr th:only-of-type {\n",
       "        vertical-align: middle;\n",
       "    }\n",
       "\n",
       "    .dataframe tbody tr th {\n",
       "        vertical-align: top;\n",
       "    }\n",
       "\n",
       "    .dataframe thead th {\n",
       "        text-align: right;\n",
       "    }\n",
       "</style>\n",
       "<table border=\"1\" class=\"dataframe\">\n",
       "  <thead>\n",
       "    <tr style=\"text-align: right;\">\n",
       "      <th></th>\n",
       "      <th>hypothesis</th>\n",
       "      <th>rice</th>\n",
       "    </tr>\n",
       "  </thead>\n",
       "  <tbody>\n",
       "    <tr>\n",
       "      <th>7</th>\n",
       "      <td>Добавить форму подписки на все основные страницы, чтобы собрать базу клиентов для email-рассылок</td>\n",
       "      <td>112.0</td>\n",
       "    </tr>\n",
       "    <tr>\n",
       "      <th>2</th>\n",
       "      <td>Добавить блоки рекомендаций товаров на сайт интернет магазина, чтобы повысить конверсию и средний чек заказа</td>\n",
       "      <td>56.0</td>\n",
       "    </tr>\n",
       "    <tr>\n",
       "      <th>0</th>\n",
       "      <td>Добавить два новых канала привлечения трафика, что позволит привлекать на 30% больше пользователей</td>\n",
       "      <td>40.0</td>\n",
       "    </tr>\n",
       "    <tr>\n",
       "      <th>6</th>\n",
       "      <td>Показать на главной странице баннеры с актуальными акциями и распродажами, чтобы увеличить конверсию</td>\n",
       "      <td>40.0</td>\n",
       "    </tr>\n",
       "    <tr>\n",
       "      <th>8</th>\n",
       "      <td>Запустить акцию, дающую скидку на товар в день рождения</td>\n",
       "      <td>16.2</td>\n",
       "    </tr>\n",
       "    <tr>\n",
       "      <th>3</th>\n",
       "      <td>Изменить структура категорий, что увеличит конверсию, т.к. пользователи быстрее найдут нужный товар</td>\n",
       "      <td>9.0</td>\n",
       "    </tr>\n",
       "    <tr>\n",
       "      <th>1</th>\n",
       "      <td>Запустить собственную службу доставки, что сократит срок доставки заказов</td>\n",
       "      <td>4.0</td>\n",
       "    </tr>\n",
       "    <tr>\n",
       "      <th>5</th>\n",
       "      <td>Добавить страницу отзывов клиентов о магазине, что позволит увеличить количество заказов</td>\n",
       "      <td>4.0</td>\n",
       "    </tr>\n",
       "    <tr>\n",
       "      <th>4</th>\n",
       "      <td>Изменить цвет фона главной страницы, чтобы увеличить вовлеченность пользователей</td>\n",
       "      <td>3.0</td>\n",
       "    </tr>\n",
       "  </tbody>\n",
       "</table>\n",
       "</div>"
      ],
      "text/plain": [
       "                                                                                                     hypothesis  \\\n",
       "7              Добавить форму подписки на все основные страницы, чтобы собрать базу клиентов для email-рассылок   \n",
       "2  Добавить блоки рекомендаций товаров на сайт интернет магазина, чтобы повысить конверсию и средний чек заказа   \n",
       "0            Добавить два новых канала привлечения трафика, что позволит привлекать на 30% больше пользователей   \n",
       "6          Показать на главной странице баннеры с актуальными акциями и распродажами, чтобы увеличить конверсию   \n",
       "8                                                       Запустить акцию, дающую скидку на товар в день рождения   \n",
       "3           Изменить структура категорий, что увеличит конверсию, т.к. пользователи быстрее найдут нужный товар   \n",
       "1                                     Запустить собственную службу доставки, что сократит срок доставки заказов   \n",
       "5                      Добавить страницу отзывов клиентов о магазине, что позволит увеличить количество заказов   \n",
       "4                              Изменить цвет фона главной страницы, чтобы увеличить вовлеченность пользователей   \n",
       "\n",
       "    rice  \n",
       "7  112.0  \n",
       "2   56.0  \n",
       "0   40.0  \n",
       "6   40.0  \n",
       "8   16.2  \n",
       "3    9.0  \n",
       "1    4.0  \n",
       "5    4.0  \n",
       "4    3.0  "
      ]
     },
     "execution_count": 9,
     "metadata": {},
     "output_type": "execute_result"
    }
   ],
   "source": [
    "df[['hypothesis', 'rice']].sort_values(by='rice', ascending=False)"
   ]
  },
  {
   "cell_type": "markdown",
   "metadata": {},
   "source": [
    "Гипотеза №8 **Запустить акцию в день рождения** была самой приоритетной во фреймворке ICE, но в RICE ее приоритет зачительно снизился, потому что охват у данной гипотезы оценивается всего в 1 балл.\n",
    "\n",
    "Вообще, если не учитывать акцию на День рождения, первая половина обоих рейтингов гипотез содержит одни и те же - это гипотезы 0, 2, 6, 7. Выходит оба фремворка дают похожие результаты и решающую роль играет охват.\n",
    "\n",
    "Самая приоритетная гипотеза с рекордным показателем RICE в 112 баллов - это гипотеза 7 - **Добавить форму подписки на все основные страницы, чтобы собрать базу клиентов для email-рассылок**."
   ]
  },
  {
   "cell_type": "markdown",
   "metadata": {},
   "source": [
    "## Анализ A/B-теста <a name=\"paragraph2\"></a>"
   ]
  },
  {
   "cell_type": "markdown",
   "metadata": {},
   "source": [
    "Прочитаем данные."
   ]
  },
  {
   "cell_type": "code",
   "execution_count": 10,
   "metadata": {},
   "outputs": [
    {
     "data": {
      "text/html": [
       "<div>\n",
       "<style scoped>\n",
       "    .dataframe tbody tr th:only-of-type {\n",
       "        vertical-align: middle;\n",
       "    }\n",
       "\n",
       "    .dataframe tbody tr th {\n",
       "        vertical-align: top;\n",
       "    }\n",
       "\n",
       "    .dataframe thead th {\n",
       "        text-align: right;\n",
       "    }\n",
       "</style>\n",
       "<table border=\"1\" class=\"dataframe\">\n",
       "  <thead>\n",
       "    <tr style=\"text-align: right;\">\n",
       "      <th></th>\n",
       "      <th>transactionId</th>\n",
       "      <th>visitorId</th>\n",
       "      <th>date</th>\n",
       "      <th>revenue</th>\n",
       "      <th>group</th>\n",
       "    </tr>\n",
       "  </thead>\n",
       "  <tbody>\n",
       "    <tr>\n",
       "      <th>0</th>\n",
       "      <td>3667963787</td>\n",
       "      <td>3312258926</td>\n",
       "      <td>2019-08-15</td>\n",
       "      <td>1650</td>\n",
       "      <td>B</td>\n",
       "    </tr>\n",
       "    <tr>\n",
       "      <th>1</th>\n",
       "      <td>2804400009</td>\n",
       "      <td>3642806036</td>\n",
       "      <td>2019-08-15</td>\n",
       "      <td>730</td>\n",
       "      <td>B</td>\n",
       "    </tr>\n",
       "    <tr>\n",
       "      <th>2</th>\n",
       "      <td>2961555356</td>\n",
       "      <td>4069496402</td>\n",
       "      <td>2019-08-15</td>\n",
       "      <td>400</td>\n",
       "      <td>A</td>\n",
       "    </tr>\n",
       "    <tr>\n",
       "      <th>3</th>\n",
       "      <td>3797467345</td>\n",
       "      <td>1196621759</td>\n",
       "      <td>2019-08-15</td>\n",
       "      <td>9759</td>\n",
       "      <td>B</td>\n",
       "    </tr>\n",
       "    <tr>\n",
       "      <th>4</th>\n",
       "      <td>2282983706</td>\n",
       "      <td>2322279887</td>\n",
       "      <td>2019-08-15</td>\n",
       "      <td>2308</td>\n",
       "      <td>B</td>\n",
       "    </tr>\n",
       "  </tbody>\n",
       "</table>\n",
       "</div>"
      ],
      "text/plain": [
       "   transactionId   visitorId        date  revenue group\n",
       "0     3667963787  3312258926  2019-08-15     1650     B\n",
       "1     2804400009  3642806036  2019-08-15      730     B\n",
       "2     2961555356  4069496402  2019-08-15      400     A\n",
       "3     3797467345  1196621759  2019-08-15     9759     B\n",
       "4     2282983706  2322279887  2019-08-15     2308     B"
      ]
     },
     "metadata": {},
     "output_type": "display_data"
    },
    {
     "data": {
      "text/html": [
       "<div>\n",
       "<style scoped>\n",
       "    .dataframe tbody tr th:only-of-type {\n",
       "        vertical-align: middle;\n",
       "    }\n",
       "\n",
       "    .dataframe tbody tr th {\n",
       "        vertical-align: top;\n",
       "    }\n",
       "\n",
       "    .dataframe thead th {\n",
       "        text-align: right;\n",
       "    }\n",
       "</style>\n",
       "<table border=\"1\" class=\"dataframe\">\n",
       "  <thead>\n",
       "    <tr style=\"text-align: right;\">\n",
       "      <th></th>\n",
       "      <th>date</th>\n",
       "      <th>group</th>\n",
       "      <th>visitors</th>\n",
       "    </tr>\n",
       "  </thead>\n",
       "  <tbody>\n",
       "    <tr>\n",
       "      <th>0</th>\n",
       "      <td>2019-08-01</td>\n",
       "      <td>A</td>\n",
       "      <td>719</td>\n",
       "    </tr>\n",
       "    <tr>\n",
       "      <th>1</th>\n",
       "      <td>2019-08-02</td>\n",
       "      <td>A</td>\n",
       "      <td>619</td>\n",
       "    </tr>\n",
       "    <tr>\n",
       "      <th>2</th>\n",
       "      <td>2019-08-03</td>\n",
       "      <td>A</td>\n",
       "      <td>507</td>\n",
       "    </tr>\n",
       "    <tr>\n",
       "      <th>3</th>\n",
       "      <td>2019-08-04</td>\n",
       "      <td>A</td>\n",
       "      <td>717</td>\n",
       "    </tr>\n",
       "    <tr>\n",
       "      <th>4</th>\n",
       "      <td>2019-08-05</td>\n",
       "      <td>A</td>\n",
       "      <td>756</td>\n",
       "    </tr>\n",
       "  </tbody>\n",
       "</table>\n",
       "</div>"
      ],
      "text/plain": [
       "         date group  visitors\n",
       "0  2019-08-01     A       719\n",
       "1  2019-08-02     A       619\n",
       "2  2019-08-03     A       507\n",
       "3  2019-08-04     A       717\n",
       "4  2019-08-05     A       756"
      ]
     },
     "metadata": {},
     "output_type": "display_data"
    }
   ],
   "source": [
    "display(orders.head())\n",
    "display(visitors.head())"
   ]
  },
  {
   "cell_type": "code",
   "execution_count": 11,
   "metadata": {},
   "outputs": [
    {
     "name": "stdout",
     "output_type": "stream",
     "text": [
      "<class 'pandas.core.frame.DataFrame'>\n",
      "RangeIndex: 1197 entries, 0 to 1196\n",
      "Data columns (total 5 columns):\n",
      " #   Column         Non-Null Count  Dtype \n",
      "---  ------         --------------  ----- \n",
      " 0   transactionId  1197 non-null   int64 \n",
      " 1   visitorId      1197 non-null   int64 \n",
      " 2   date           1197 non-null   object\n",
      " 3   revenue        1197 non-null   int64 \n",
      " 4   group          1197 non-null   object\n",
      "dtypes: int64(3), object(2)\n",
      "memory usage: 46.9+ KB\n",
      "<class 'pandas.core.frame.DataFrame'>\n",
      "RangeIndex: 62 entries, 0 to 61\n",
      "Data columns (total 3 columns):\n",
      " #   Column    Non-Null Count  Dtype \n",
      "---  ------    --------------  ----- \n",
      " 0   date      62 non-null     object\n",
      " 1   group     62 non-null     object\n",
      " 2   visitors  62 non-null     int64 \n",
      "dtypes: int64(1), object(2)\n",
      "memory usage: 1.6+ KB\n"
     ]
    }
   ],
   "source": [
    "orders.info()\n",
    "visitors.info()"
   ]
  },
  {
   "cell_type": "markdown",
   "metadata": {},
   "source": [
    "#### Приведем типы данных."
   ]
  },
  {
   "cell_type": "code",
   "execution_count": 12,
   "metadata": {},
   "outputs": [],
   "source": [
    "visitors['date'] = pd.to_datetime(visitors['date'], format = '%Y-%m-%d')\n",
    "orders['date'] = pd.to_datetime(orders['date'], format = '%Y-%m-%d')"
   ]
  },
  {
   "cell_type": "markdown",
   "metadata": {},
   "source": [
    "Проверим на дубликаты весь orders и отдельные столбцы."
   ]
  },
  {
   "cell_type": "code",
   "execution_count": 13,
   "metadata": {},
   "outputs": [
    {
     "name": "stdout",
     "output_type": "stream",
     "text": [
      "0\n",
      "0\n",
      "166\n"
     ]
    }
   ],
   "source": [
    "print(orders.duplicated().sum())\n",
    "print(orders['transactionId'].duplicated().sum())\n",
    "print(orders['visitorId'].duplicated().sum())"
   ]
  },
  {
   "cell_type": "markdown",
   "metadata": {},
   "source": [
    "Проверим, не попали ли дубликаты покупателей в разные группы."
   ]
  },
  {
   "cell_type": "code",
   "execution_count": 14,
   "metadata": {},
   "outputs": [],
   "source": [
    "ordersA = orders.query('group == \"A\"')\n",
    "ordersB = orders.query('group == \"B\"')"
   ]
  },
  {
   "cell_type": "code",
   "execution_count": 15,
   "metadata": {},
   "outputs": [
    {
     "data": {
      "text/plain": [
       "58"
      ]
     },
     "execution_count": 15,
     "metadata": {},
     "output_type": "execute_result"
    }
   ],
   "source": [
    "c = list(set(ordersA['visitorId']) & set(ordersB['visitorId']))\n",
    "len(c)"
   ]
  },
  {
   "cell_type": "markdown",
   "metadata": {},
   "source": [
    "58 покупателей попали в разные группы, удалим из данных информацию о них. Мы не можем точно знать, в какой группе эти пользователи должны были оказаться, решать это самостоятельно некорректно. Мы могли бы изменить им всем группы на ту, в которой была совершена первая покупка, но нам неизвестна природа ошибки. Поэтому мы удалим данные. "
   ]
  },
  {
   "cell_type": "code",
   "execution_count": 16,
   "metadata": {},
   "outputs": [
    {
     "name": "stdout",
     "output_type": "stream",
     "text": [
      "1197\n"
     ]
    }
   ],
   "source": [
    "old_len = len(orders)\n",
    "print(old_len)"
   ]
  },
  {
   "cell_type": "code",
   "execution_count": 17,
   "metadata": {},
   "outputs": [],
   "source": [
    "orders.drop(orders[orders['visitorId'].isin(c)].index, inplace=True)"
   ]
  },
  {
   "cell_type": "code",
   "execution_count": 18,
   "metadata": {},
   "outputs": [
    {
     "name": "stdout",
     "output_type": "stream",
     "text": [
      "181\n"
     ]
    }
   ],
   "source": [
    "new_len = len(orders)\n",
    "print(old_len - new_len)"
   ]
  },
  {
   "cell_type": "markdown",
   "metadata": {},
   "source": [
    "Удалили 181 строку."
   ]
  },
  {
   "cell_type": "markdown",
   "metadata": {},
   "source": [
    "### График кумулятивной выручки по группам. <a name=\"paragraph3\"></a>\n",
    "\n"
   ]
  },
  {
   "cell_type": "code",
   "execution_count": 19,
   "metadata": {},
   "outputs": [
    {
     "data": {
      "text/html": [
       "<div>\n",
       "<style scoped>\n",
       "    .dataframe tbody tr th:only-of-type {\n",
       "        vertical-align: middle;\n",
       "    }\n",
       "\n",
       "    .dataframe tbody tr th {\n",
       "        vertical-align: top;\n",
       "    }\n",
       "\n",
       "    .dataframe thead th {\n",
       "        text-align: right;\n",
       "    }\n",
       "</style>\n",
       "<table border=\"1\" class=\"dataframe\">\n",
       "  <thead>\n",
       "    <tr style=\"text-align: right;\">\n",
       "      <th></th>\n",
       "      <th>date</th>\n",
       "      <th>group</th>\n",
       "    </tr>\n",
       "  </thead>\n",
       "  <tbody>\n",
       "    <tr>\n",
       "      <th>0</th>\n",
       "      <td>2019-08-15</td>\n",
       "      <td>B</td>\n",
       "    </tr>\n",
       "    <tr>\n",
       "      <th>7</th>\n",
       "      <td>2019-08-15</td>\n",
       "      <td>A</td>\n",
       "    </tr>\n",
       "    <tr>\n",
       "      <th>45</th>\n",
       "      <td>2019-08-16</td>\n",
       "      <td>A</td>\n",
       "    </tr>\n",
       "    <tr>\n",
       "      <th>47</th>\n",
       "      <td>2019-08-16</td>\n",
       "      <td>B</td>\n",
       "    </tr>\n",
       "    <tr>\n",
       "      <th>55</th>\n",
       "      <td>2019-08-01</td>\n",
       "      <td>A</td>\n",
       "    </tr>\n",
       "    <tr>\n",
       "      <th>...</th>\n",
       "      <td>...</td>\n",
       "      <td>...</td>\n",
       "    </tr>\n",
       "    <tr>\n",
       "      <th>1068</th>\n",
       "      <td>2019-08-12</td>\n",
       "      <td>A</td>\n",
       "    </tr>\n",
       "    <tr>\n",
       "      <th>1114</th>\n",
       "      <td>2019-08-13</td>\n",
       "      <td>B</td>\n",
       "    </tr>\n",
       "    <tr>\n",
       "      <th>1116</th>\n",
       "      <td>2019-08-13</td>\n",
       "      <td>A</td>\n",
       "    </tr>\n",
       "    <tr>\n",
       "      <th>1149</th>\n",
       "      <td>2019-08-14</td>\n",
       "      <td>B</td>\n",
       "    </tr>\n",
       "    <tr>\n",
       "      <th>1150</th>\n",
       "      <td>2019-08-14</td>\n",
       "      <td>A</td>\n",
       "    </tr>\n",
       "  </tbody>\n",
       "</table>\n",
       "<p>62 rows × 2 columns</p>\n",
       "</div>"
      ],
      "text/plain": [
       "           date group\n",
       "0    2019-08-15     B\n",
       "7    2019-08-15     A\n",
       "45   2019-08-16     A\n",
       "47   2019-08-16     B\n",
       "55   2019-08-01     A\n",
       "...         ...   ...\n",
       "1068 2019-08-12     A\n",
       "1114 2019-08-13     B\n",
       "1116 2019-08-13     A\n",
       "1149 2019-08-14     B\n",
       "1150 2019-08-14     A\n",
       "\n",
       "[62 rows x 2 columns]"
      ]
     },
     "execution_count": 19,
     "metadata": {},
     "output_type": "execute_result"
    }
   ],
   "source": [
    "datesGroups = orders[['date', 'group']].drop_duplicates()\n",
    "datesGroups"
   ]
  },
  {
   "cell_type": "code",
   "execution_count": 20,
   "metadata": {},
   "outputs": [],
   "source": [
    "ordersAggregated = datesGroups.apply(lambda x: orders[np.logical_and(orders['date'] <= x['date'], orders['group'] == x['group'])].agg({\n",
    "                                         'date':'max', \n",
    "                                         'group':'max', \n",
    "                                         'revenue':'sum', \n",
    "                                         'transactionId': pd.Series.nunique,\n",
    "                                         'visitorId': pd.Series.nunique}), axis=1).sort_values(by=['date', 'group'])"
   ]
  },
  {
   "cell_type": "code",
   "execution_count": 21,
   "metadata": {},
   "outputs": [
    {
     "data": {
      "text/html": [
       "<div>\n",
       "<style scoped>\n",
       "    .dataframe tbody tr th:only-of-type {\n",
       "        vertical-align: middle;\n",
       "    }\n",
       "\n",
       "    .dataframe tbody tr th {\n",
       "        vertical-align: top;\n",
       "    }\n",
       "\n",
       "    .dataframe thead th {\n",
       "        text-align: right;\n",
       "    }\n",
       "</style>\n",
       "<table border=\"1\" class=\"dataframe\">\n",
       "  <thead>\n",
       "    <tr style=\"text-align: right;\">\n",
       "      <th></th>\n",
       "      <th>date</th>\n",
       "      <th>group</th>\n",
       "      <th>revenue</th>\n",
       "      <th>transactionId</th>\n",
       "      <th>visitorId</th>\n",
       "    </tr>\n",
       "  </thead>\n",
       "  <tbody>\n",
       "    <tr>\n",
       "      <th>55</th>\n",
       "      <td>2019-08-01</td>\n",
       "      <td>A</td>\n",
       "      <td>142779</td>\n",
       "      <td>23</td>\n",
       "      <td>19</td>\n",
       "    </tr>\n",
       "    <tr>\n",
       "      <th>66</th>\n",
       "      <td>2019-08-01</td>\n",
       "      <td>B</td>\n",
       "      <td>59758</td>\n",
       "      <td>17</td>\n",
       "      <td>17</td>\n",
       "    </tr>\n",
       "    <tr>\n",
       "      <th>175</th>\n",
       "      <td>2019-08-02</td>\n",
       "      <td>A</td>\n",
       "      <td>234381</td>\n",
       "      <td>42</td>\n",
       "      <td>36</td>\n",
       "    </tr>\n",
       "    <tr>\n",
       "      <th>173</th>\n",
       "      <td>2019-08-02</td>\n",
       "      <td>B</td>\n",
       "      <td>221801</td>\n",
       "      <td>40</td>\n",
       "      <td>39</td>\n",
       "    </tr>\n",
       "    <tr>\n",
       "      <th>291</th>\n",
       "      <td>2019-08-03</td>\n",
       "      <td>A</td>\n",
       "      <td>346854</td>\n",
       "      <td>66</td>\n",
       "      <td>60</td>\n",
       "    </tr>\n",
       "    <tr>\n",
       "      <th>...</th>\n",
       "      <td>...</td>\n",
       "      <td>...</td>\n",
       "      <td>...</td>\n",
       "      <td>...</td>\n",
       "      <td>...</td>\n",
       "    </tr>\n",
       "    <tr>\n",
       "      <th>533</th>\n",
       "      <td>2019-08-29</td>\n",
       "      <td>B</td>\n",
       "      <td>4746610</td>\n",
       "      <td>510</td>\n",
       "      <td>490</td>\n",
       "    </tr>\n",
       "    <tr>\n",
       "      <th>757</th>\n",
       "      <td>2019-08-30</td>\n",
       "      <td>A</td>\n",
       "      <td>3311413</td>\n",
       "      <td>460</td>\n",
       "      <td>437</td>\n",
       "    </tr>\n",
       "    <tr>\n",
       "      <th>690</th>\n",
       "      <td>2019-08-30</td>\n",
       "      <td>B</td>\n",
       "      <td>4955833</td>\n",
       "      <td>531</td>\n",
       "      <td>511</td>\n",
       "    </tr>\n",
       "    <tr>\n",
       "      <th>958</th>\n",
       "      <td>2019-08-31</td>\n",
       "      <td>A</td>\n",
       "      <td>3364656</td>\n",
       "      <td>468</td>\n",
       "      <td>445</td>\n",
       "    </tr>\n",
       "    <tr>\n",
       "      <th>930</th>\n",
       "      <td>2019-08-31</td>\n",
       "      <td>B</td>\n",
       "      <td>5068972</td>\n",
       "      <td>548</td>\n",
       "      <td>528</td>\n",
       "    </tr>\n",
       "  </tbody>\n",
       "</table>\n",
       "<p>62 rows × 5 columns</p>\n",
       "</div>"
      ],
      "text/plain": [
       "          date group  revenue  transactionId  visitorId\n",
       "55  2019-08-01     A   142779             23         19\n",
       "66  2019-08-01     B    59758             17         17\n",
       "175 2019-08-02     A   234381             42         36\n",
       "173 2019-08-02     B   221801             40         39\n",
       "291 2019-08-03     A   346854             66         60\n",
       "..         ...   ...      ...            ...        ...\n",
       "533 2019-08-29     B  4746610            510        490\n",
       "757 2019-08-30     A  3311413            460        437\n",
       "690 2019-08-30     B  4955833            531        511\n",
       "958 2019-08-31     A  3364656            468        445\n",
       "930 2019-08-31     B  5068972            548        528\n",
       "\n",
       "[62 rows x 5 columns]"
      ]
     },
     "execution_count": 21,
     "metadata": {},
     "output_type": "execute_result"
    }
   ],
   "source": [
    "ordersAggregated"
   ]
  },
  {
   "cell_type": "code",
   "execution_count": 22,
   "metadata": {},
   "outputs": [],
   "source": [
    "vititorsAggregated = datesGroups.apply(lambda x: visitors[np.logical_and(visitors['date'] <= x['date'], visitors['group'] == x['group'])].agg({\n",
    "    'date':'max',\n",
    "    'group':'max',\n",
    "    'visitors':'sum'\n",
    "}), axis=1).sort_values(by=['date', 'group'])"
   ]
  },
  {
   "cell_type": "code",
   "execution_count": 23,
   "metadata": {},
   "outputs": [
    {
     "data": {
      "text/html": [
       "<div>\n",
       "<style scoped>\n",
       "    .dataframe tbody tr th:only-of-type {\n",
       "        vertical-align: middle;\n",
       "    }\n",
       "\n",
       "    .dataframe tbody tr th {\n",
       "        vertical-align: top;\n",
       "    }\n",
       "\n",
       "    .dataframe thead th {\n",
       "        text-align: right;\n",
       "    }\n",
       "</style>\n",
       "<table border=\"1\" class=\"dataframe\">\n",
       "  <thead>\n",
       "    <tr style=\"text-align: right;\">\n",
       "      <th></th>\n",
       "      <th>date</th>\n",
       "      <th>group</th>\n",
       "      <th>revenue</th>\n",
       "      <th>transactionId</th>\n",
       "      <th>visitorId</th>\n",
       "      <th>visitors</th>\n",
       "    </tr>\n",
       "  </thead>\n",
       "  <tbody>\n",
       "    <tr>\n",
       "      <th>0</th>\n",
       "      <td>2019-08-01</td>\n",
       "      <td>A</td>\n",
       "      <td>142779</td>\n",
       "      <td>23</td>\n",
       "      <td>19</td>\n",
       "      <td>719</td>\n",
       "    </tr>\n",
       "    <tr>\n",
       "      <th>1</th>\n",
       "      <td>2019-08-01</td>\n",
       "      <td>B</td>\n",
       "      <td>59758</td>\n",
       "      <td>17</td>\n",
       "      <td>17</td>\n",
       "      <td>713</td>\n",
       "    </tr>\n",
       "    <tr>\n",
       "      <th>2</th>\n",
       "      <td>2019-08-02</td>\n",
       "      <td>A</td>\n",
       "      <td>234381</td>\n",
       "      <td>42</td>\n",
       "      <td>36</td>\n",
       "      <td>1338</td>\n",
       "    </tr>\n",
       "    <tr>\n",
       "      <th>3</th>\n",
       "      <td>2019-08-02</td>\n",
       "      <td>B</td>\n",
       "      <td>221801</td>\n",
       "      <td>40</td>\n",
       "      <td>39</td>\n",
       "      <td>1294</td>\n",
       "    </tr>\n",
       "    <tr>\n",
       "      <th>4</th>\n",
       "      <td>2019-08-03</td>\n",
       "      <td>A</td>\n",
       "      <td>346854</td>\n",
       "      <td>66</td>\n",
       "      <td>60</td>\n",
       "      <td>1845</td>\n",
       "    </tr>\n",
       "    <tr>\n",
       "      <th>...</th>\n",
       "      <td>...</td>\n",
       "      <td>...</td>\n",
       "      <td>...</td>\n",
       "      <td>...</td>\n",
       "      <td>...</td>\n",
       "      <td>...</td>\n",
       "    </tr>\n",
       "    <tr>\n",
       "      <th>57</th>\n",
       "      <td>2019-08-29</td>\n",
       "      <td>B</td>\n",
       "      <td>4746610</td>\n",
       "      <td>510</td>\n",
       "      <td>490</td>\n",
       "      <td>17708</td>\n",
       "    </tr>\n",
       "    <tr>\n",
       "      <th>58</th>\n",
       "      <td>2019-08-30</td>\n",
       "      <td>A</td>\n",
       "      <td>3311413</td>\n",
       "      <td>460</td>\n",
       "      <td>437</td>\n",
       "      <td>18037</td>\n",
       "    </tr>\n",
       "    <tr>\n",
       "      <th>59</th>\n",
       "      <td>2019-08-30</td>\n",
       "      <td>B</td>\n",
       "      <td>4955833</td>\n",
       "      <td>531</td>\n",
       "      <td>511</td>\n",
       "      <td>18198</td>\n",
       "    </tr>\n",
       "    <tr>\n",
       "      <th>60</th>\n",
       "      <td>2019-08-31</td>\n",
       "      <td>A</td>\n",
       "      <td>3364656</td>\n",
       "      <td>468</td>\n",
       "      <td>445</td>\n",
       "      <td>18736</td>\n",
       "    </tr>\n",
       "    <tr>\n",
       "      <th>61</th>\n",
       "      <td>2019-08-31</td>\n",
       "      <td>B</td>\n",
       "      <td>5068972</td>\n",
       "      <td>548</td>\n",
       "      <td>528</td>\n",
       "      <td>18916</td>\n",
       "    </tr>\n",
       "  </tbody>\n",
       "</table>\n",
       "<p>62 rows × 6 columns</p>\n",
       "</div>"
      ],
      "text/plain": [
       "         date group  revenue  transactionId  visitorId  visitors\n",
       "0  2019-08-01     A   142779             23         19       719\n",
       "1  2019-08-01     B    59758             17         17       713\n",
       "2  2019-08-02     A   234381             42         36      1338\n",
       "3  2019-08-02     B   221801             40         39      1294\n",
       "4  2019-08-03     A   346854             66         60      1845\n",
       "..        ...   ...      ...            ...        ...       ...\n",
       "57 2019-08-29     B  4746610            510        490     17708\n",
       "58 2019-08-30     A  3311413            460        437     18037\n",
       "59 2019-08-30     B  4955833            531        511     18198\n",
       "60 2019-08-31     A  3364656            468        445     18736\n",
       "61 2019-08-31     B  5068972            548        528     18916\n",
       "\n",
       "[62 rows x 6 columns]"
      ]
     },
     "execution_count": 23,
     "metadata": {},
     "output_type": "execute_result"
    }
   ],
   "source": [
    "cumulativeData = ordersAggregated.merge(vititorsAggregated, left_on=['date', 'group'], right_on=['date', 'group'])\n",
    "cumulativeData"
   ]
  },
  {
   "cell_type": "code",
   "execution_count": 24,
   "metadata": {},
   "outputs": [],
   "source": [
    "cumulativeData.columns = ['date', 'group', 'revenue', 'orders', 'buyers', 'visitors']"
   ]
  },
  {
   "cell_type": "code",
   "execution_count": 25,
   "metadata": {},
   "outputs": [],
   "source": [
    "cumulativeDataA = cumulativeData[cumulativeData['group'] == 'A']\n",
    "cumulativeDataB = cumulativeData[cumulativeData['group'] == 'B']"
   ]
  },
  {
   "cell_type": "code",
   "execution_count": 26,
   "metadata": {},
   "outputs": [
    {
     "data": {
      "text/plain": [
       "<matplotlib.legend.Legend at 0x168fe047eb0>"
      ]
     },
     "execution_count": 26,
     "metadata": {},
     "output_type": "execute_result"
    },
    {
     "data": {
      "image/png": "[encoded data removed]",
      "text/plain": [
       "<Figure size 1080x360 with 1 Axes>"
      ]
     },
     "metadata": {
      "needs_background": "light"
     },
     "output_type": "display_data"
    }
   ],
   "source": [
    "plt.figure(figsize=(15, 5))\n",
    "plt.plot(cumulativeDataA['date'], cumulativeDataA['revenue'], label='A')\n",
    "plt.plot(cumulativeDataB['date'], cumulativeDataB['revenue'], label='B')\n",
    "plt.grid()\n",
    "plt.title('Кумулятивная выручка по группам')\n",
    "plt.legend()"
   ]
  },
  {
   "cell_type": "markdown",
   "metadata": {},
   "source": [
    "График показывает ровный набор кумулятивной выручки обеих групп, но во второй трети августа в группе B выручка резко возрастает и сохраняет свой отрыв до конца теста. "
   ]
  },
  {
   "cell_type": "markdown",
   "metadata": {},
   "source": [
    "### График кумулятивного среднего чека по группам. Сделайте выводы и предположения. <a name=\"paragraph4\"></a>"
   ]
  },
  {
   "cell_type": "code",
   "execution_count": 27,
   "metadata": {},
   "outputs": [
    {
     "data": {
      "text/plain": [
       "<matplotlib.legend.Legend at 0x168ed27e190>"
      ]
     },
     "execution_count": 27,
     "metadata": {},
     "output_type": "execute_result"
    },
    {
     "data": {
      "image/png": "[encoded data removed]",
      "text/plain": [
       "<Figure size 1080x360 with 1 Axes>"
      ]
     },
     "metadata": {
      "needs_background": "light"
     },
     "output_type": "display_data"
    }
   ],
   "source": [
    "plt.figure(figsize=(15, 5))\n",
    "plt.plot(cumulativeDataA['date'], cumulativeDataA['revenue']/cumulativeDataA['orders'], label='A')\n",
    "plt.plot(cumulativeDataB['date'], cumulativeDataB['revenue']/cumulativeDataB['orders'], label='B')\n",
    "plt.grid()\n",
    "plt.title('Кумулятивный средний чек')\n",
    "plt.legend()"
   ]
  },
  {
   "cell_type": "markdown",
   "metadata": {},
   "source": [
    "Результаты очень противоречивые. \n",
    "Средний чек скачет группы A сначала падает, потом идет на подъем и наконец стабилизируется. \n",
    "Средний чек группы B имеет волнообразный график в первой половине месяцы, поом резкий скачок и постепенная стабилизация с уменьшением. Необходимо будет проверить данные на аномалии, резкий скачок мог возникнуть из-за очень крупной покупки."
   ]
  },
  {
   "cell_type": "markdown",
   "metadata": {},
   "source": [
    "### График относительного изменения кумулятивного среднего чека группы B к группе A. <a name=\"paragraph5\"></a>"
   ]
  },
  {
   "cell_type": "markdown",
   "metadata": {},
   "source": [
    "Соединим две таблицы групп так, чтобы результаты групп отображались в отдельных столбцах."
   ]
  },
  {
   "cell_type": "code",
   "execution_count": 28,
   "metadata": {},
   "outputs": [
    {
     "data": {
      "text/html": [
       "<div>\n",
       "<style scoped>\n",
       "    .dataframe tbody tr th:only-of-type {\n",
       "        vertical-align: middle;\n",
       "    }\n",
       "\n",
       "    .dataframe tbody tr th {\n",
       "        vertical-align: top;\n",
       "    }\n",
       "\n",
       "    .dataframe thead th {\n",
       "        text-align: right;\n",
       "    }\n",
       "</style>\n",
       "<table border=\"1\" class=\"dataframe\">\n",
       "  <thead>\n",
       "    <tr style=\"text-align: right;\">\n",
       "      <th></th>\n",
       "      <th>date</th>\n",
       "      <th>group_A</th>\n",
       "      <th>revenue_A</th>\n",
       "      <th>orders_A</th>\n",
       "      <th>buyers_A</th>\n",
       "      <th>visitors_A</th>\n",
       "      <th>group_B</th>\n",
       "      <th>revenue_B</th>\n",
       "      <th>orders_B</th>\n",
       "      <th>buyers_B</th>\n",
       "      <th>visitors_B</th>\n",
       "    </tr>\n",
       "  </thead>\n",
       "  <tbody>\n",
       "    <tr>\n",
       "      <th>0</th>\n",
       "      <td>2019-08-01</td>\n",
       "      <td>A</td>\n",
       "      <td>142779</td>\n",
       "      <td>23</td>\n",
       "      <td>19</td>\n",
       "      <td>719</td>\n",
       "      <td>B</td>\n",
       "      <td>59758</td>\n",
       "      <td>17</td>\n",
       "      <td>17</td>\n",
       "      <td>713</td>\n",
       "    </tr>\n",
       "    <tr>\n",
       "      <th>1</th>\n",
       "      <td>2019-08-02</td>\n",
       "      <td>A</td>\n",
       "      <td>234381</td>\n",
       "      <td>42</td>\n",
       "      <td>36</td>\n",
       "      <td>1338</td>\n",
       "      <td>B</td>\n",
       "      <td>221801</td>\n",
       "      <td>40</td>\n",
       "      <td>39</td>\n",
       "      <td>1294</td>\n",
       "    </tr>\n",
       "    <tr>\n",
       "      <th>2</th>\n",
       "      <td>2019-08-03</td>\n",
       "      <td>A</td>\n",
       "      <td>346854</td>\n",
       "      <td>66</td>\n",
       "      <td>60</td>\n",
       "      <td>1845</td>\n",
       "      <td>B</td>\n",
       "      <td>288850</td>\n",
       "      <td>54</td>\n",
       "      <td>53</td>\n",
       "      <td>1803</td>\n",
       "    </tr>\n",
       "    <tr>\n",
       "      <th>3</th>\n",
       "      <td>2019-08-04</td>\n",
       "      <td>A</td>\n",
       "      <td>388030</td>\n",
       "      <td>77</td>\n",
       "      <td>71</td>\n",
       "      <td>2562</td>\n",
       "      <td>B</td>\n",
       "      <td>385740</td>\n",
       "      <td>68</td>\n",
       "      <td>66</td>\n",
       "      <td>2573</td>\n",
       "    </tr>\n",
       "    <tr>\n",
       "      <th>4</th>\n",
       "      <td>2019-08-05</td>\n",
       "      <td>A</td>\n",
       "      <td>474413</td>\n",
       "      <td>99</td>\n",
       "      <td>92</td>\n",
       "      <td>3318</td>\n",
       "      <td>B</td>\n",
       "      <td>475648</td>\n",
       "      <td>89</td>\n",
       "      <td>87</td>\n",
       "      <td>3280</td>\n",
       "    </tr>\n",
       "    <tr>\n",
       "      <th>5</th>\n",
       "      <td>2019-08-06</td>\n",
       "      <td>A</td>\n",
       "      <td>515332</td>\n",
       "      <td>114</td>\n",
       "      <td>104</td>\n",
       "      <td>3985</td>\n",
       "      <td>B</td>\n",
       "      <td>690490</td>\n",
       "      <td>112</td>\n",
       "      <td>109</td>\n",
       "      <td>3935</td>\n",
       "    </tr>\n",
       "    <tr>\n",
       "      <th>6</th>\n",
       "      <td>2019-08-07</td>\n",
       "      <td>A</td>\n",
       "      <td>638580</td>\n",
       "      <td>130</td>\n",
       "      <td>120</td>\n",
       "      <td>4629</td>\n",
       "      <td>B</td>\n",
       "      <td>909654</td>\n",
       "      <td>135</td>\n",
       "      <td>132</td>\n",
       "      <td>4644</td>\n",
       "    </tr>\n",
       "    <tr>\n",
       "      <th>7</th>\n",
       "      <td>2019-08-08</td>\n",
       "      <td>A</td>\n",
       "      <td>727219</td>\n",
       "      <td>144</td>\n",
       "      <td>133</td>\n",
       "      <td>5239</td>\n",
       "      <td>B</td>\n",
       "      <td>1059795</td>\n",
       "      <td>157</td>\n",
       "      <td>154</td>\n",
       "      <td>5298</td>\n",
       "    </tr>\n",
       "    <tr>\n",
       "      <th>8</th>\n",
       "      <td>2019-08-09</td>\n",
       "      <td>A</td>\n",
       "      <td>861456</td>\n",
       "      <td>155</td>\n",
       "      <td>143</td>\n",
       "      <td>5856</td>\n",
       "      <td>B</td>\n",
       "      <td>1162961</td>\n",
       "      <td>176</td>\n",
       "      <td>173</td>\n",
       "      <td>5908</td>\n",
       "    </tr>\n",
       "    <tr>\n",
       "      <th>9</th>\n",
       "      <td>2019-08-10</td>\n",
       "      <td>A</td>\n",
       "      <td>1013731</td>\n",
       "      <td>170</td>\n",
       "      <td>158</td>\n",
       "      <td>6262</td>\n",
       "      <td>B</td>\n",
       "      <td>1268123</td>\n",
       "      <td>198</td>\n",
       "      <td>195</td>\n",
       "      <td>6277</td>\n",
       "    </tr>\n",
       "    <tr>\n",
       "      <th>10</th>\n",
       "      <td>2019-08-11</td>\n",
       "      <td>A</td>\n",
       "      <td>1074396</td>\n",
       "      <td>181</td>\n",
       "      <td>169</td>\n",
       "      <td>6980</td>\n",
       "      <td>B</td>\n",
       "      <td>1321183</td>\n",
       "      <td>210</td>\n",
       "      <td>207</td>\n",
       "      <td>6998</td>\n",
       "    </tr>\n",
       "    <tr>\n",
       "      <th>11</th>\n",
       "      <td>2019-08-12</td>\n",
       "      <td>A</td>\n",
       "      <td>1294788</td>\n",
       "      <td>200</td>\n",
       "      <td>188</td>\n",
       "      <td>7575</td>\n",
       "      <td>B</td>\n",
       "      <td>1425237</td>\n",
       "      <td>229</td>\n",
       "      <td>225</td>\n",
       "      <td>7541</td>\n",
       "    </tr>\n",
       "    <tr>\n",
       "      <th>12</th>\n",
       "      <td>2019-08-13</td>\n",
       "      <td>A</td>\n",
       "      <td>1558426</td>\n",
       "      <td>214</td>\n",
       "      <td>201</td>\n",
       "      <td>8323</td>\n",
       "      <td>B</td>\n",
       "      <td>1542928</td>\n",
       "      <td>249</td>\n",
       "      <td>244</td>\n",
       "      <td>8310</td>\n",
       "    </tr>\n",
       "    <tr>\n",
       "      <th>13</th>\n",
       "      <td>2019-08-14</td>\n",
       "      <td>A</td>\n",
       "      <td>1601692</td>\n",
       "      <td>231</td>\n",
       "      <td>218</td>\n",
       "      <td>9058</td>\n",
       "      <td>B</td>\n",
       "      <td>1650268</td>\n",
       "      <td>263</td>\n",
       "      <td>258</td>\n",
       "      <td>9056</td>\n",
       "    </tr>\n",
       "    <tr>\n",
       "      <th>14</th>\n",
       "      <td>2019-08-15</td>\n",
       "      <td>A</td>\n",
       "      <td>1682569</td>\n",
       "      <td>241</td>\n",
       "      <td>228</td>\n",
       "      <td>9686</td>\n",
       "      <td>B</td>\n",
       "      <td>1960427</td>\n",
       "      <td>289</td>\n",
       "      <td>284</td>\n",
       "      <td>9600</td>\n",
       "    </tr>\n",
       "    <tr>\n",
       "      <th>15</th>\n",
       "      <td>2019-08-16</td>\n",
       "      <td>A</td>\n",
       "      <td>1782420</td>\n",
       "      <td>259</td>\n",
       "      <td>246</td>\n",
       "      <td>10047</td>\n",
       "      <td>B</td>\n",
       "      <td>2074677</td>\n",
       "      <td>307</td>\n",
       "      <td>302</td>\n",
       "      <td>10013</td>\n",
       "    </tr>\n",
       "    <tr>\n",
       "      <th>16</th>\n",
       "      <td>2019-08-17</td>\n",
       "      <td>A</td>\n",
       "      <td>1817160</td>\n",
       "      <td>265</td>\n",
       "      <td>251</td>\n",
       "      <td>10459</td>\n",
       "      <td>B</td>\n",
       "      <td>2155542</td>\n",
       "      <td>320</td>\n",
       "      <td>314</td>\n",
       "      <td>10434</td>\n",
       "    </tr>\n",
       "    <tr>\n",
       "      <th>17</th>\n",
       "      <td>2019-08-18</td>\n",
       "      <td>A</td>\n",
       "      <td>1876741</td>\n",
       "      <td>278</td>\n",
       "      <td>264</td>\n",
       "      <td>11127</td>\n",
       "      <td>B</td>\n",
       "      <td>2190865</td>\n",
       "      <td>327</td>\n",
       "      <td>321</td>\n",
       "      <td>11171</td>\n",
       "    </tr>\n",
       "    <tr>\n",
       "      <th>18</th>\n",
       "      <td>2019-08-19</td>\n",
       "      <td>A</td>\n",
       "      <td>2044934</td>\n",
       "      <td>299</td>\n",
       "      <td>283</td>\n",
       "      <td>11629</td>\n",
       "      <td>B</td>\n",
       "      <td>3620785</td>\n",
       "      <td>348</td>\n",
       "      <td>341</td>\n",
       "      <td>11658</td>\n",
       "    </tr>\n",
       "    <tr>\n",
       "      <th>19</th>\n",
       "      <td>2019-08-20</td>\n",
       "      <td>A</td>\n",
       "      <td>2103613</td>\n",
       "      <td>309</td>\n",
       "      <td>293</td>\n",
       "      <td>12204</td>\n",
       "      <td>B</td>\n",
       "      <td>3768059</td>\n",
       "      <td>368</td>\n",
       "      <td>360</td>\n",
       "      <td>12218</td>\n",
       "    </tr>\n",
       "    <tr>\n",
       "      <th>20</th>\n",
       "      <td>2019-08-21</td>\n",
       "      <td>A</td>\n",
       "      <td>2273782</td>\n",
       "      <td>329</td>\n",
       "      <td>311</td>\n",
       "      <td>12850</td>\n",
       "      <td>B</td>\n",
       "      <td>3908406</td>\n",
       "      <td>380</td>\n",
       "      <td>370</td>\n",
       "      <td>12874</td>\n",
       "    </tr>\n",
       "    <tr>\n",
       "      <th>21</th>\n",
       "      <td>2019-08-22</td>\n",
       "      <td>A</td>\n",
       "      <td>2366147</td>\n",
       "      <td>339</td>\n",
       "      <td>321</td>\n",
       "      <td>13459</td>\n",
       "      <td>B</td>\n",
       "      <td>4050134</td>\n",
       "      <td>401</td>\n",
       "      <td>388</td>\n",
       "      <td>13524</td>\n",
       "    </tr>\n",
       "    <tr>\n",
       "      <th>22</th>\n",
       "      <td>2019-08-23</td>\n",
       "      <td>A</td>\n",
       "      <td>2424010</td>\n",
       "      <td>359</td>\n",
       "      <td>341</td>\n",
       "      <td>13927</td>\n",
       "      <td>B</td>\n",
       "      <td>4127403</td>\n",
       "      <td>414</td>\n",
       "      <td>400</td>\n",
       "      <td>14070</td>\n",
       "    </tr>\n",
       "    <tr>\n",
       "      <th>23</th>\n",
       "      <td>2019-08-24</td>\n",
       "      <td>A</td>\n",
       "      <td>2546023</td>\n",
       "      <td>372</td>\n",
       "      <td>354</td>\n",
       "      <td>14322</td>\n",
       "      <td>B</td>\n",
       "      <td>4215269</td>\n",
       "      <td>428</td>\n",
       "      <td>412</td>\n",
       "      <td>14448</td>\n",
       "    </tr>\n",
       "    <tr>\n",
       "      <th>24</th>\n",
       "      <td>2019-08-25</td>\n",
       "      <td>A</td>\n",
       "      <td>2597907</td>\n",
       "      <td>380</td>\n",
       "      <td>362</td>\n",
       "      <td>14943</td>\n",
       "      <td>B</td>\n",
       "      <td>4294526</td>\n",
       "      <td>440</td>\n",
       "      <td>424</td>\n",
       "      <td>15127</td>\n",
       "    </tr>\n",
       "    <tr>\n",
       "      <th>25</th>\n",
       "      <td>2019-08-26</td>\n",
       "      <td>A</td>\n",
       "      <td>2755121</td>\n",
       "      <td>396</td>\n",
       "      <td>378</td>\n",
       "      <td>15665</td>\n",
       "      <td>B</td>\n",
       "      <td>4467965</td>\n",
       "      <td>462</td>\n",
       "      <td>446</td>\n",
       "      <td>15803</td>\n",
       "    </tr>\n",
       "    <tr>\n",
       "      <th>26</th>\n",
       "      <td>2019-08-27</td>\n",
       "      <td>A</td>\n",
       "      <td>2940471</td>\n",
       "      <td>419</td>\n",
       "      <td>400</td>\n",
       "      <td>16376</td>\n",
       "      <td>B</td>\n",
       "      <td>4579312</td>\n",
       "      <td>473</td>\n",
       "      <td>456</td>\n",
       "      <td>16523</td>\n",
       "    </tr>\n",
       "    <tr>\n",
       "      <th>27</th>\n",
       "      <td>2019-08-28</td>\n",
       "      <td>A</td>\n",
       "      <td>3036933</td>\n",
       "      <td>434</td>\n",
       "      <td>413</td>\n",
       "      <td>16970</td>\n",
       "      <td>B</td>\n",
       "      <td>4640510</td>\n",
       "      <td>495</td>\n",
       "      <td>476</td>\n",
       "      <td>17177</td>\n",
       "    </tr>\n",
       "    <tr>\n",
       "      <th>28</th>\n",
       "      <td>2019-08-29</td>\n",
       "      <td>A</td>\n",
       "      <td>3233233</td>\n",
       "      <td>451</td>\n",
       "      <td>430</td>\n",
       "      <td>17547</td>\n",
       "      <td>B</td>\n",
       "      <td>4746610</td>\n",
       "      <td>510</td>\n",
       "      <td>490</td>\n",
       "      <td>17708</td>\n",
       "    </tr>\n",
       "    <tr>\n",
       "      <th>29</th>\n",
       "      <td>2019-08-30</td>\n",
       "      <td>A</td>\n",
       "      <td>3311413</td>\n",
       "      <td>460</td>\n",
       "      <td>437</td>\n",
       "      <td>18037</td>\n",
       "      <td>B</td>\n",
       "      <td>4955833</td>\n",
       "      <td>531</td>\n",
       "      <td>511</td>\n",
       "      <td>18198</td>\n",
       "    </tr>\n",
       "    <tr>\n",
       "      <th>30</th>\n",
       "      <td>2019-08-31</td>\n",
       "      <td>A</td>\n",
       "      <td>3364656</td>\n",
       "      <td>468</td>\n",
       "      <td>445</td>\n",
       "      <td>18736</td>\n",
       "      <td>B</td>\n",
       "      <td>5068972</td>\n",
       "      <td>548</td>\n",
       "      <td>528</td>\n",
       "      <td>18916</td>\n",
       "    </tr>\n",
       "  </tbody>\n",
       "</table>\n",
       "</div>"
      ],
      "text/plain": [
       "         date group_A  revenue_A  orders_A  buyers_A  visitors_A group_B  \\\n",
       "0  2019-08-01       A     142779        23        19         719       B   \n",
       "1  2019-08-02       A     234381        42        36        1338       B   \n",
       "2  2019-08-03       A     346854        66        60        1845       B   \n",
       "3  2019-08-04       A     388030        77        71        2562       B   \n",
       "4  2019-08-05       A     474413        99        92        3318       B   \n",
       "5  2019-08-06       A     515332       114       104        3985       B   \n",
       "6  2019-08-07       A     638580       130       120        4629       B   \n",
       "7  2019-08-08       A     727219       144       133        5239       B   \n",
       "8  2019-08-09       A     861456       155       143        5856       B   \n",
       "9  2019-08-10       A    1013731       170       158        6262       B   \n",
       "10 2019-08-11       A    1074396       181       169        6980       B   \n",
       "11 2019-08-12       A    1294788       200       188        7575       B   \n",
       "12 2019-08-13       A    1558426       214       201        8323       B   \n",
       "13 2019-08-14       A    1601692       231       218        9058       B   \n",
       "14 2019-08-15       A    1682569       241       228        9686       B   \n",
       "15 2019-08-16       A    1782420       259       246       10047       B   \n",
       "16 2019-08-17       A    1817160       265       251       10459       B   \n",
       "17 2019-08-18       A    1876741       278       264       11127       B   \n",
       "18 2019-08-19       A    2044934       299       283       11629       B   \n",
       "19 2019-08-20       A    2103613       309       293       12204       B   \n",
       "20 2019-08-21       A    2273782       329       311       12850       B   \n",
       "21 2019-08-22       A    2366147       339       321       13459       B   \n",
       "22 2019-08-23       A    2424010       359       341       13927       B   \n",
       "23 2019-08-24       A    2546023       372       354       14322       B   \n",
       "24 2019-08-25       A    2597907       380       362       14943       B   \n",
       "25 2019-08-26       A    2755121       396       378       15665       B   \n",
       "26 2019-08-27       A    2940471       419       400       16376       B   \n",
       "27 2019-08-28       A    3036933       434       413       16970       B   \n",
       "28 2019-08-29       A    3233233       451       430       17547       B   \n",
       "29 2019-08-30       A    3311413       460       437       18037       B   \n",
       "30 2019-08-31       A    3364656       468       445       18736       B   \n",
       "\n",
       "    revenue_B  orders_B  buyers_B  visitors_B  \n",
       "0       59758        17        17         713  \n",
       "1      221801        40        39        1294  \n",
       "2      288850        54        53        1803  \n",
       "3      385740        68        66        2573  \n",
       "4      475648        89        87        3280  \n",
       "5      690490       112       109        3935  \n",
       "6      909654       135       132        4644  \n",
       "7     1059795       157       154        5298  \n",
       "8     1162961       176       173        5908  \n",
       "9     1268123       198       195        6277  \n",
       "10    1321183       210       207        6998  \n",
       "11    1425237       229       225        7541  \n",
       "12    1542928       249       244        8310  \n",
       "13    1650268       263       258        9056  \n",
       "14    1960427       289       284        9600  \n",
       "15    2074677       307       302       10013  \n",
       "16    2155542       320       314       10434  \n",
       "17    2190865       327       321       11171  \n",
       "18    3620785       348       341       11658  \n",
       "19    3768059       368       360       12218  \n",
       "20    3908406       380       370       12874  \n",
       "21    4050134       401       388       13524  \n",
       "22    4127403       414       400       14070  \n",
       "23    4215269       428       412       14448  \n",
       "24    4294526       440       424       15127  \n",
       "25    4467965       462       446       15803  \n",
       "26    4579312       473       456       16523  \n",
       "27    4640510       495       476       17177  \n",
       "28    4746610       510       490       17708  \n",
       "29    4955833       531       511       18198  \n",
       "30    5068972       548       528       18916  "
      ]
     },
     "execution_count": 28,
     "metadata": {},
     "output_type": "execute_result"
    }
   ],
   "source": [
    "mergedcumulativeData = cumulativeDataA.merge(cumulativeDataB, left_on='date', right_on='date', suffixes=['_A', '_B'])\n",
    "mergedcumulativeData"
   ]
  },
  {
   "cell_type": "code",
   "execution_count": 29,
   "metadata": {},
   "outputs": [
    {
     "data": {
      "text/plain": [
       "Text(0.5, 1.0, 'Относительное изменение кумулятивного среднего чека')"
      ]
     },
     "execution_count": 29,
     "metadata": {},
     "output_type": "execute_result"
    },
    {
     "data": {
      "image/png": "[encoded data removed]",
      "text/plain": [
       "<Figure size 1080x360 with 1 Axes>"
      ]
     },
     "metadata": {
      "needs_background": "light"
     },
     "output_type": "display_data"
    }
   ],
   "source": [
    "plt.figure(figsize=(15, 5))\n",
    "plt.plot(mergedcumulativeData['date'], (mergedcumulativeData['revenue_B']/mergedcumulativeData['orders_B']) /\n",
    "         (mergedcumulativeData['revenue_A'] / mergedcumulativeData['orders_A'])-1)\n",
    "plt.axhline(y=0)\n",
    "plt.grid()\n",
    "plt.title('Относительное изменение кумулятивного среднего чека')"
   ]
  },
  {
   "cell_type": "markdown",
   "metadata": {},
   "source": [
    "График сильно скачет в показателях до 17 августа. Поначалу группа B вырывается вперед, потом просаживается, потом снова и резко показатель взлетает. Это говорит о вероятном наличии выбросов и аномалий."
   ]
  },
  {
   "cell_type": "markdown",
   "metadata": {},
   "source": [
    "### График кумулятивной конверсии по группам. <a name=\"paragraph6\"></a>"
   ]
  },
  {
   "cell_type": "code",
   "execution_count": 30,
   "metadata": {},
   "outputs": [],
   "source": [
    "mergedcumulativeData['conversion_A'] = mergedcumulativeData['orders_A'] / mergedcumulativeData['visitors_A']\n",
    "mergedcumulativeData['conversion_B'] = mergedcumulativeData['orders_B'] / mergedcumulativeData['visitors_B']"
   ]
  },
  {
   "cell_type": "code",
   "execution_count": 31,
   "metadata": {},
   "outputs": [
    {
     "data": {
      "text/plain": [
       "<matplotlib.legend.Legend at 0x168fe1ca2b0>"
      ]
     },
     "execution_count": 31,
     "metadata": {},
     "output_type": "execute_result"
    },
    {
     "data": {
      "image/png": "[encoded data removed]",
      "text/plain": [
       "<Figure size 1080x360 with 1 Axes>"
      ]
     },
     "metadata": {
      "needs_background": "light"
     },
     "output_type": "display_data"
    }
   ],
   "source": [
    "plt.figure(figsize=(15, 5))\n",
    "plt.plot(mergedcumulativeData['date'], mergedcumulativeData['conversion_A'], label='A')\n",
    "plt.plot(mergedcumulativeData['date'], mergedcumulativeData['conversion_B'], label='B')\n",
    "plt.title('Кумулятивная конверсия')\n",
    "plt.grid()\n",
    "plt.axis([dt.datetime(2019, 8, 1), dt.datetime(2019, 8, 31), 0, 0.05])\n",
    "plt.legend()"
   ]
  },
  {
   "cell_type": "markdown",
   "metadata": {},
   "source": [
    "На графике конверсии Группа B поначалу отставала, но после вырвалась вперед и держала лидерство до конца теста.\n",
    "\n",
    "Без установки масштаба, границы оси Y - это максимальное и минимальные значения кумулятивных конверсий групп, поэтому без масшаба кажется, что колебания конверсий сильны и они не установились вокруг средних значений.\n",
    "\n",
    "В начале теста действительно наблюдаем сильные колебания в связи с малым количеством данных. Так группа А сначала лидирует, но потом ее показатели снижаются и стабилизируются вокруг значения в 2,5%. Группа B показывает результаты хуже до 6 августа, после конверсия улучшается, метрика стабилизируется у 3%, под конец теста конверсия падает немного ниже.\n"
   ]
  },
  {
   "cell_type": "markdown",
   "metadata": {},
   "source": [
    "### График относительного изменения кумулятивной конверсии группы B к группе A <a name=\"paragraph7\"></a>"
   ]
  },
  {
   "cell_type": "code",
   "execution_count": 32,
   "metadata": {},
   "outputs": [
    {
     "data": {
      "text/plain": [
       "(18109.0, 18139.0, -0.6, 0.6)"
      ]
     },
     "execution_count": 32,
     "metadata": {},
     "output_type": "execute_result"
    },
    {
     "data": {
      "image/png": "[encoded data removed]",
      "text/plain": [
       "<Figure size 1080x360 with 1 Axes>"
      ]
     },
     "metadata": {
      "needs_background": "light"
     },
     "output_type": "display_data"
    }
   ],
   "source": [
    "plt.figure(figsize=(15, 5))\n",
    "plt.plot(mergedcumulativeData['date'], mergedcumulativeData['conversion_B'] / mergedcumulativeData['conversion_A'] - 1)\n",
    "plt.title('Относительное изменение кумулятивной конверсии B к A')\n",
    "plt.grid()\n",
    "plt.axhline(y=0, color='black', linestyle='--')\n",
    "plt.axhline(y=0.1, color='red', linestyle='--')\n",
    "plt.axhline(y=0.2, color='yellow', linestyle='--')\n",
    "plt.axis([dt.datetime(2019, 8, 1), dt.datetime(2019, 8, 31), -0.6, 0.6])"
   ]
  },
  {
   "cell_type": "markdown",
   "metadata": {},
   "source": [
    "К середине теста куммулятивная конверсия группы B имела прирост в 20% относительно группы А, но потом показатель снизился до 10%. Высокие показаnели возникли на все той же проблемной дате 17 августа, где могут быть аномалии."
   ]
  },
  {
   "cell_type": "markdown",
   "metadata": {},
   "source": [
    "### Точечный график количества заказов по пользователям. <a name=\"paragraph8\"></a>"
   ]
  },
  {
   "cell_type": "code",
   "execution_count": 33,
   "metadata": {},
   "outputs": [
    {
     "data": {
      "text/html": [
       "<div>\n",
       "<style scoped>\n",
       "    .dataframe tbody tr th:only-of-type {\n",
       "        vertical-align: middle;\n",
       "    }\n",
       "\n",
       "    .dataframe tbody tr th {\n",
       "        vertical-align: top;\n",
       "    }\n",
       "\n",
       "    .dataframe thead th {\n",
       "        text-align: right;\n",
       "    }\n",
       "</style>\n",
       "<table border=\"1\" class=\"dataframe\">\n",
       "  <thead>\n",
       "    <tr style=\"text-align: right;\">\n",
       "      <th></th>\n",
       "      <th>transactionId</th>\n",
       "      <th>visitorId</th>\n",
       "      <th>date</th>\n",
       "      <th>revenue</th>\n",
       "      <th>group</th>\n",
       "    </tr>\n",
       "  </thead>\n",
       "  <tbody>\n",
       "    <tr>\n",
       "      <th>0</th>\n",
       "      <td>3667963787</td>\n",
       "      <td>3312258926</td>\n",
       "      <td>2019-08-15</td>\n",
       "      <td>1650</td>\n",
       "      <td>B</td>\n",
       "    </tr>\n",
       "    <tr>\n",
       "      <th>1</th>\n",
       "      <td>2804400009</td>\n",
       "      <td>3642806036</td>\n",
       "      <td>2019-08-15</td>\n",
       "      <td>730</td>\n",
       "      <td>B</td>\n",
       "    </tr>\n",
       "    <tr>\n",
       "      <th>3</th>\n",
       "      <td>3797467345</td>\n",
       "      <td>1196621759</td>\n",
       "      <td>2019-08-15</td>\n",
       "      <td>9759</td>\n",
       "      <td>B</td>\n",
       "    </tr>\n",
       "    <tr>\n",
       "      <th>4</th>\n",
       "      <td>2282983706</td>\n",
       "      <td>2322279887</td>\n",
       "      <td>2019-08-15</td>\n",
       "      <td>2308</td>\n",
       "      <td>B</td>\n",
       "    </tr>\n",
       "    <tr>\n",
       "      <th>5</th>\n",
       "      <td>182168103</td>\n",
       "      <td>935554773</td>\n",
       "      <td>2019-08-15</td>\n",
       "      <td>2210</td>\n",
       "      <td>B</td>\n",
       "    </tr>\n",
       "  </tbody>\n",
       "</table>\n",
       "</div>"
      ],
      "text/plain": [
       "   transactionId   visitorId       date  revenue group\n",
       "0     3667963787  3312258926 2019-08-15     1650     B\n",
       "1     2804400009  3642806036 2019-08-15      730     B\n",
       "3     3797467345  1196621759 2019-08-15     9759     B\n",
       "4     2282983706  2322279887 2019-08-15     2308     B\n",
       "5      182168103   935554773 2019-08-15     2210     B"
      ]
     },
     "metadata": {},
     "output_type": "display_data"
    }
   ],
   "source": [
    "display(orders.head())"
   ]
  },
  {
   "cell_type": "markdown",
   "metadata": {},
   "source": [
    "Сгуппируем датафрейм по пользователям и подсчитаем количество заказов."
   ]
  },
  {
   "cell_type": "code",
   "execution_count": 34,
   "metadata": {},
   "outputs": [],
   "source": [
    "orders_users = orders.groupby('visitorId').agg({'transactionId':pd.Series.nunique})"
   ]
  },
  {
   "cell_type": "code",
   "execution_count": 35,
   "metadata": {},
   "outputs": [
    {
     "data": {
      "text/plain": [
       "Text(0.5, 1.0, 'Распределение количества заказов по покупателям')"
      ]
     },
     "execution_count": 35,
     "metadata": {},
     "output_type": "execute_result"
    },
    {
     "data": {
      "image/png": "[encoded data removed]",
      "text/plain": [
       "<Figure size 432x288 with 1 Axes>"
      ]
     },
     "metadata": {
      "needs_background": "light"
     },
     "output_type": "display_data"
    }
   ],
   "source": [
    "x_values = pd.Series(range(0,len(orders_users))) # задаем  значения х в размере датафрейма orders_users\n",
    "\n",
    "plt.scatter(x_values, orders_users['transactionId'])\n",
    "plt.title('Распределение количества заказов по покупателям')"
   ]
  },
  {
   "cell_type": "markdown",
   "metadata": {},
   "source": [
    "Большая часть покупателей совершает от 1 до 3 заказов. "
   ]
  },
  {
   "cell_type": "markdown",
   "metadata": {},
   "source": [
    "### 95-й и 99-й перцентили количества заказов на пользователя. <a name=\"paragraph9\"></a>"
   ]
  },
  {
   "cell_type": "code",
   "execution_count": 36,
   "metadata": {},
   "outputs": [
    {
     "data": {
      "text/plain": [
       "array([1., 2.])"
      ]
     },
     "execution_count": 36,
     "metadata": {},
     "output_type": "execute_result"
    }
   ],
   "source": [
    "np.percentile(orders_users, [95, 99])"
   ]
  },
  {
   "cell_type": "markdown",
   "metadata": {},
   "source": [
    "99% пользователей делают максимум 2 покупки, остальные 1% совершают 3 покупки. \n",
    "**Отсечем тех, кто совершает 3 покупки.**\n",
    "\n"
   ]
  },
  {
   "cell_type": "markdown",
   "metadata": {},
   "source": [
    "### Точечный график стоимостей заказов. <a name=\"paragraph10\"></a>\n"
   ]
  },
  {
   "cell_type": "code",
   "execution_count": 37,
   "metadata": {},
   "outputs": [
    {
     "data": {
      "text/plain": [
       "Text(0.5, 1.0, 'Распределение стоимостей заказов')"
      ]
     },
     "execution_count": 37,
     "metadata": {},
     "output_type": "execute_result"
    },
    {
     "data": {
      "image/png": "[encoded data removed]",
      "text/plain": [
       "<Figure size 432x288 with 1 Axes>"
      ]
     },
     "metadata": {
      "needs_background": "light"
     },
     "output_type": "display_data"
    }
   ],
   "source": [
    "xx_values = pd.Series(range(0,len(orders['revenue']))) # задаем  значения х в размере датафрейма orders_users\n",
    "\n",
    "plt.scatter(xx_values, orders['revenue'])\n",
    "plt.ylabel('Стоимость в млн')\n",
    "plt.title('Распределение стоимостей заказов')"
   ]
  },
  {
   "cell_type": "markdown",
   "metadata": {},
   "source": [
    "Большинство заказов в сумме до 20 тыс. Есть один значительный выброс со стоимостью свыше миллиона."
   ]
  },
  {
   "cell_type": "markdown",
   "metadata": {},
   "source": [
    "### 95-й и 99-й перцентили стоимости заказов. <a name=\"paragraph11\"></a>"
   ]
  },
  {
   "cell_type": "code",
   "execution_count": 38,
   "metadata": {},
   "outputs": [
    {
     "data": {
      "text/plain": [
       "array([26785., 53904.])"
      ]
     },
     "execution_count": 38,
     "metadata": {},
     "output_type": "execute_result"
    }
   ],
   "source": [
    "np.percentile(orders['revenue'], [95, 99])"
   ]
  },
  {
   "cell_type": "markdown",
   "metadata": {},
   "source": [
    "95% заказов со стоимостью не более 28 тыс., 99% до 59 тыс. **Отсечем 1 процент максимальных заказов.**"
   ]
  },
  {
   "cell_type": "markdown",
   "metadata": {},
   "source": [
    "### Статистическая значимость различий в конверсии между группами по «сырым» данным. <a name=\"paragraph12\"></a>\n",
    "\n"
   ]
  },
  {
   "cell_type": "markdown",
   "metadata": {},
   "source": [
    "Создадим финальный датафрейм со всеми данными по группам. Для этого присоединим к кумулятивному датафрему mergedcumulativeData данные по посетителям и заказам в день по группам."
   ]
  },
  {
   "cell_type": "code",
   "execution_count": 39,
   "metadata": {},
   "outputs": [],
   "source": [
    "visitorsPerDateA = visitors[visitors['group'] == 'A'][['date', 'visitors']]\n",
    "visitorsPerDateB = visitors[visitors['group'] == 'B'][['date', 'visitors']]\n",
    "visitorsPerDateA.columns = ['date', 'daily_visitors_A']\n",
    "visitorsPerDateB.columns = ['date', 'daily_visitors_B']"
   ]
  },
  {
   "cell_type": "code",
   "execution_count": 40,
   "metadata": {},
   "outputs": [],
   "source": [
    "ordersPerDateA = orders[orders['group'] == 'A'].groupby('date').agg({'transactionId': pd.Series.nunique, 'revenue':'max'}).reset_index()\n",
    "ordersPerDateB = orders[orders['group'] == 'B'].groupby('date').agg({'transactionId': pd.Series.nunique, 'revenue':'max'}).reset_index()\n",
    "ordersPerDateA.columns = ['date', 'daily_orders_A', 'daily_rev_A']\n",
    "ordersPerDateB.columns = ['date', 'daily_orders_B', 'daily_rev_A']"
   ]
  },
  {
   "cell_type": "code",
   "execution_count": 41,
   "metadata": {},
   "outputs": [],
   "source": [
    "final_data = (mergedcumulativeData.merge(visitorsPerDateA, left_on='date', right_on='date', how='left')\n",
    "              .merge(visitorsPerDateB, left_on='date', right_on='date', how='left')\n",
    "              .merge(ordersPerDateA, left_on='date', right_on='date', how='left')\n",
    "              .merge(ordersPerDateB, left_on='date', right_on='date', how='left')\n",
    "             )"
   ]
  },
  {
   "cell_type": "code",
   "execution_count": 42,
   "metadata": {},
   "outputs": [
    {
     "data": {
      "text/html": [
       "<div>\n",
       "<style scoped>\n",
       "    .dataframe tbody tr th:only-of-type {\n",
       "        vertical-align: middle;\n",
       "    }\n",
       "\n",
       "    .dataframe tbody tr th {\n",
       "        vertical-align: top;\n",
       "    }\n",
       "\n",
       "    .dataframe thead th {\n",
       "        text-align: right;\n",
       "    }\n",
       "</style>\n",
       "<table border=\"1\" class=\"dataframe\">\n",
       "  <thead>\n",
       "    <tr style=\"text-align: right;\">\n",
       "      <th></th>\n",
       "      <th>date</th>\n",
       "      <th>group_A</th>\n",
       "      <th>revenue_A</th>\n",
       "      <th>orders_A</th>\n",
       "      <th>buyers_A</th>\n",
       "      <th>visitors_A</th>\n",
       "      <th>group_B</th>\n",
       "      <th>revenue_B</th>\n",
       "      <th>orders_B</th>\n",
       "      <th>buyers_B</th>\n",
       "      <th>visitors_B</th>\n",
       "      <th>conversion_A</th>\n",
       "      <th>conversion_B</th>\n",
       "      <th>daily_visitors_A</th>\n",
       "      <th>daily_visitors_B</th>\n",
       "      <th>daily_orders_A</th>\n",
       "      <th>daily_rev_A_x</th>\n",
       "      <th>daily_orders_B</th>\n",
       "      <th>daily_rev_A_y</th>\n",
       "    </tr>\n",
       "  </thead>\n",
       "  <tbody>\n",
       "    <tr>\n",
       "      <th>0</th>\n",
       "      <td>2019-08-01</td>\n",
       "      <td>A</td>\n",
       "      <td>142779</td>\n",
       "      <td>23</td>\n",
       "      <td>19</td>\n",
       "      <td>719</td>\n",
       "      <td>B</td>\n",
       "      <td>59758</td>\n",
       "      <td>17</td>\n",
       "      <td>17</td>\n",
       "      <td>713</td>\n",
       "      <td>0.031989</td>\n",
       "      <td>0.023843</td>\n",
       "      <td>719</td>\n",
       "      <td>713</td>\n",
       "      <td>23</td>\n",
       "      <td>29499</td>\n",
       "      <td>17</td>\n",
       "      <td>9980</td>\n",
       "    </tr>\n",
       "    <tr>\n",
       "      <th>1</th>\n",
       "      <td>2019-08-02</td>\n",
       "      <td>A</td>\n",
       "      <td>234381</td>\n",
       "      <td>42</td>\n",
       "      <td>36</td>\n",
       "      <td>1338</td>\n",
       "      <td>B</td>\n",
       "      <td>221801</td>\n",
       "      <td>40</td>\n",
       "      <td>39</td>\n",
       "      <td>1294</td>\n",
       "      <td>0.031390</td>\n",
       "      <td>0.030912</td>\n",
       "      <td>619</td>\n",
       "      <td>581</td>\n",
       "      <td>19</td>\n",
       "      <td>17422</td>\n",
       "      <td>23</td>\n",
       "      <td>38160</td>\n",
       "    </tr>\n",
       "    <tr>\n",
       "      <th>2</th>\n",
       "      <td>2019-08-03</td>\n",
       "      <td>A</td>\n",
       "      <td>346854</td>\n",
       "      <td>66</td>\n",
       "      <td>60</td>\n",
       "      <td>1845</td>\n",
       "      <td>B</td>\n",
       "      <td>288850</td>\n",
       "      <td>54</td>\n",
       "      <td>53</td>\n",
       "      <td>1803</td>\n",
       "      <td>0.035772</td>\n",
       "      <td>0.029950</td>\n",
       "      <td>507</td>\n",
       "      <td>509</td>\n",
       "      <td>24</td>\n",
       "      <td>20990</td>\n",
       "      <td>14</td>\n",
       "      <td>18464</td>\n",
       "    </tr>\n",
       "    <tr>\n",
       "      <th>3</th>\n",
       "      <td>2019-08-04</td>\n",
       "      <td>A</td>\n",
       "      <td>388030</td>\n",
       "      <td>77</td>\n",
       "      <td>71</td>\n",
       "      <td>2562</td>\n",
       "      <td>B</td>\n",
       "      <td>385740</td>\n",
       "      <td>68</td>\n",
       "      <td>66</td>\n",
       "      <td>2573</td>\n",
       "      <td>0.030055</td>\n",
       "      <td>0.026428</td>\n",
       "      <td>717</td>\n",
       "      <td>770</td>\n",
       "      <td>11</td>\n",
       "      <td>13990</td>\n",
       "      <td>14</td>\n",
       "      <td>31350</td>\n",
       "    </tr>\n",
       "    <tr>\n",
       "      <th>4</th>\n",
       "      <td>2019-08-05</td>\n",
       "      <td>A</td>\n",
       "      <td>474413</td>\n",
       "      <td>99</td>\n",
       "      <td>92</td>\n",
       "      <td>3318</td>\n",
       "      <td>B</td>\n",
       "      <td>475648</td>\n",
       "      <td>89</td>\n",
       "      <td>87</td>\n",
       "      <td>3280</td>\n",
       "      <td>0.029837</td>\n",
       "      <td>0.027134</td>\n",
       "      <td>756</td>\n",
       "      <td>707</td>\n",
       "      <td>22</td>\n",
       "      <td>24744</td>\n",
       "      <td>21</td>\n",
       "      <td>28350</td>\n",
       "    </tr>\n",
       "  </tbody>\n",
       "</table>\n",
       "</div>"
      ],
      "text/plain": [
       "        date group_A  revenue_A  orders_A  buyers_A  visitors_A group_B  \\\n",
       "0 2019-08-01       A     142779        23        19         719       B   \n",
       "1 2019-08-02       A     234381        42        36        1338       B   \n",
       "2 2019-08-03       A     346854        66        60        1845       B   \n",
       "3 2019-08-04       A     388030        77        71        2562       B   \n",
       "4 2019-08-05       A     474413        99        92        3318       B   \n",
       "\n",
       "   revenue_B  orders_B  buyers_B  visitors_B  conversion_A  conversion_B  \\\n",
       "0      59758        17        17         713      0.031989      0.023843   \n",
       "1     221801        40        39        1294      0.031390      0.030912   \n",
       "2     288850        54        53        1803      0.035772      0.029950   \n",
       "3     385740        68        66        2573      0.030055      0.026428   \n",
       "4     475648        89        87        3280      0.029837      0.027134   \n",
       "\n",
       "   daily_visitors_A  daily_visitors_B  daily_orders_A  daily_rev_A_x  \\\n",
       "0               719               713              23          29499   \n",
       "1               619               581              19          17422   \n",
       "2               507               509              24          20990   \n",
       "3               717               770              11          13990   \n",
       "4               756               707              22          24744   \n",
       "\n",
       "   daily_orders_B  daily_rev_A_y  \n",
       "0              17           9980  \n",
       "1              23          38160  \n",
       "2              14          18464  \n",
       "3              14          31350  \n",
       "4              21          28350  "
      ]
     },
     "execution_count": 42,
     "metadata": {},
     "output_type": "execute_result"
    }
   ],
   "source": [
    "final_data.head()"
   ]
  },
  {
   "cell_type": "markdown",
   "metadata": {},
   "source": [
    "Создадим списки: покупатель + кол-во заказов по группам."
   ]
  },
  {
   "cell_type": "code",
   "execution_count": 43,
   "metadata": {},
   "outputs": [],
   "source": [
    "ordersByUsersA = (orders[orders['group'] == 'A'].groupby('visitorId', as_index=False).agg({'transactionId': pd.Series.nunique}))\n",
    "ordersByUsersA.columns = ['userId', 'orders']\n",
    "ordersByUsersB = (orders[orders['group'] == 'B'].groupby('visitorId', as_index=False).agg({'transactionId': pd.Series.nunique}))\n",
    "ordersByUsersB.columns = ['userId', 'orders'] "
   ]
  },
  {
   "cell_type": "markdown",
   "metadata": {},
   "source": [
    "Прицепим также посетителей, чей визит не превратился в заказ, т.е. в столбце orders будет 0. \n",
    "\n",
    "Конверсия - отношение суммы заказов к количеству посетителей. Рассчитаем с помощью метода mean.  "
   ]
  },
  {
   "cell_type": "code",
   "execution_count": 44,
   "metadata": {},
   "outputs": [],
   "source": [
    "sampleA = pd.concat([ordersByUsersA['orders'],pd.Series(0, index=np.arange(final_data['daily_visitors_A'].sum() \n",
    "                                                                           - len(ordersByUsersA['orders'])), name='orders')],axis=0)\n",
    "\n",
    "sampleB = pd.concat([ordersByUsersB['orders'],pd.Series(0, index=np.arange(final_data['daily_visitors_B'].sum() \n",
    "                                                                           - len(ordersByUsersB['orders'])), name='orders')],axis=0) "
   ]
  },
  {
   "cell_type": "markdown",
   "metadata": {},
   "source": [
    "Итого sampleA и sampleB - наборы данных с количеством посетителей и совершенных ими заказов."
   ]
  },
  {
   "cell_type": "markdown",
   "metadata": {},
   "source": [
    "### Выдвинем гипотезы: ####\n",
    "**H0** = между группами нет статистически значимого различия в конверсии\n",
    "\n",
    "**H1** = между группами есть статистически значимое различие в конверсии\n",
    "\n",
    "Задим уровень статистической значимости **альфа 0,05**"
   ]
  },
  {
   "cell_type": "code",
   "execution_count": 45,
   "metadata": {},
   "outputs": [
    {
     "name": "stdout",
     "output_type": "stream",
     "text": [
      "0.011\n",
      "0.160\n"
     ]
    }
   ],
   "source": [
    "print(\"{0:.3f}\".format(st.mannwhitneyu(sampleA, sampleB)[1]))\n",
    "\n",
    "print(\"{0:.3f}\".format(sampleB.mean() / sampleA.mean() - 1))"
   ]
  },
  {
   "cell_type": "markdown",
   "metadata": {},
   "source": [
    "Наше значение меньше уровня стат.значимости, значит нулевую гипотезу об отсутсивии стат. значимого различия между группами по их конверии **мы отвергаем**.\n",
    "Статистическая значимость различия есть, по крайней мере по сырым данным. Относительное различие конверсий группы B к А почти 16%."
   ]
  },
  {
   "cell_type": "markdown",
   "metadata": {},
   "source": [
    "### Статистическая значимость различий в среднем чеке заказа между группами по «сырым» данным. <a name=\"paragraph13\"></a>"
   ]
  },
  {
   "cell_type": "markdown",
   "metadata": {},
   "source": [
    "### Выдвинем гипотезы: ####\n",
    "**H0** = между группами нет статистически значимого различия в среднем чеке\n",
    "\n",
    "**H1** = между группами есть статистически значимое различие в среднем чеке\n",
    "\n",
    "Задим уровень статистической значимости **альфа 0,05**"
   ]
  },
  {
   "cell_type": "code",
   "execution_count": 46,
   "metadata": {},
   "outputs": [
    {
     "name": "stdout",
     "output_type": "stream",
     "text": [
      "0.829\n",
      "0.287\n"
     ]
    }
   ],
   "source": [
    "print('{0:.3f}'.format(st.mannwhitneyu(orders[orders['group']=='A']['revenue'], orders[orders['group']=='B']['revenue'])[1]))\n",
    "print('{0:.3f}'.format(orders[orders['group']=='B']['revenue'].mean()/orders[orders['group']=='A']['revenue'].mean()-1)) "
   ]
  },
  {
   "cell_type": "markdown",
   "metadata": {},
   "source": [
    "А здесь статистически значимого различия в средних чеках групп нет, наше значение p-value больше alpha, поэтому мы не можем отвергнуть нулевую гипотезу. \n",
    "\n",
    "Хотя относительное различие между группами почти 28% в пользу группы B."
   ]
  },
  {
   "cell_type": "markdown",
   "metadata": {},
   "source": [
    "### Статистическая значимость различий в конверсии между группами по «очищенным» данным. <a name=\"paragraph14\"></a>\n",
    "\n"
   ]
  },
  {
   "cell_type": "markdown",
   "metadata": {},
   "source": [
    "Отсечем заказы стоимостью выше 58 тыс и пользователей с покупками больше 2х."
   ]
  },
  {
   "cell_type": "code",
   "execution_count": 47,
   "metadata": {},
   "outputs": [],
   "source": [
    "orders_users = orders_users.reset_index()"
   ]
  },
  {
   "cell_type": "code",
   "execution_count": 48,
   "metadata": {},
   "outputs": [],
   "source": [
    "abnormalUsers = pd.concat([orders_users[orders_users['transactionId'] > 2]['visitorId'], \n",
    "                           orders[orders['revenue'] > 58000]['visitorId']], axis=0).drop_duplicates()"
   ]
  },
  {
   "cell_type": "code",
   "execution_count": 49,
   "metadata": {},
   "outputs": [
    {
     "data": {
      "text/plain": [
       "(16,)"
      ]
     },
     "execution_count": 49,
     "metadata": {},
     "output_type": "execute_result"
    }
   ],
   "source": [
    "abnormalUsers.shape"
   ]
  },
  {
   "cell_type": "markdown",
   "metadata": {},
   "source": [
    "24 аномальных покупателя."
   ]
  },
  {
   "cell_type": "markdown",
   "metadata": {},
   "source": [
    "Считаем стат значимость"
   ]
  },
  {
   "cell_type": "code",
   "execution_count": 50,
   "metadata": {},
   "outputs": [],
   "source": [
    "clean_sampleA = pd.concat(\n",
    "    [\n",
    "        ordersByUsersA[\n",
    "            np.logical_not(ordersByUsersA['userId'].isin(abnormalUsers))\n",
    "        ]['orders'],\n",
    "        pd.Series(\n",
    "            0, \n",
    "            index=np.arange(\n",
    "                final_data['daily_visitors_A'].sum() - len(ordersByUsersA['orders'])\n",
    "            ), \n",
    "            name='orders')],axis=0)"
   ]
  },
  {
   "cell_type": "code",
   "execution_count": 51,
   "metadata": {},
   "outputs": [],
   "source": [
    "clean_sampleB = pd.concat(\n",
    "    [\n",
    "        ordersByUsersB[\n",
    "            np.logical_not(ordersByUsersB['userId'].isin(abnormalUsers))\n",
    "        ]['orders'],\n",
    "        pd.Series(\n",
    "            0, \n",
    "            index=np.arange(\n",
    "                final_data['daily_visitors_B'].sum() - len(ordersByUsersB['orders'])\n",
    "            ), \n",
    "            name='orders')],axis=0) "
   ]
  },
  {
   "cell_type": "code",
   "execution_count": 52,
   "metadata": {},
   "outputs": [
    {
     "name": "stdout",
     "output_type": "stream",
     "text": [
      "0.007\n",
      "0.189\n"
     ]
    }
   ],
   "source": [
    "print(\"{0:.3f}\".format(st.mannwhitneyu(clean_sampleA, clean_sampleB)[1]))\n",
    "\n",
    "print(\"{0:.3f}\".format(clean_sampleB.mean() / clean_sampleA.mean() - 1))"
   ]
  },
  {
   "cell_type": "markdown",
   "metadata": {},
   "source": [
    "Очистка данных от пользователей с большим количеством заказов почти не повлияла на результаты теста. Стат значимость различий все еще есть. Нулевую гипотезу об отсутсвии разницы в конверсиях мы отвергаем.\n",
    "\n",
    "Конверсия группы B лучше относительно конверсии группы A на 15%."
   ]
  },
  {
   "cell_type": "markdown",
   "metadata": {},
   "source": [
    "### Статистическая значимость различий в среднем чеке заказа между группами по «очищенным» данным. <a name=\"paragraph15\"></a>"
   ]
  },
  {
   "cell_type": "code",
   "execution_count": 53,
   "metadata": {},
   "outputs": [],
   "source": [
    "clean_orders = orders[np.logical_not(orders['visitorId'].isin(abnormalUsers))]"
   ]
  },
  {
   "cell_type": "code",
   "execution_count": 54,
   "metadata": {},
   "outputs": [
    {
     "name": "stdout",
     "output_type": "stream",
     "text": [
      "0.788\n",
      "-0.032\n"
     ]
    }
   ],
   "source": [
    "print('{0:.3f}'.format(st.mannwhitneyu(clean_orders[clean_orders['group']=='A']['revenue'], \n",
    "                                       clean_orders[clean_orders['group']=='B']['revenue'])[1]))\n",
    "print('{0:.3f}'.format(clean_orders[clean_orders['group']=='B']['revenue'].mean()/clean_orders[clean_orders['group']=='A']['revenue'].mean()-1)) "
   ]
  },
  {
   "cell_type": "markdown",
   "metadata": {},
   "source": [
    "Статистической значимости различия средних чеков не возникло, нулевую гипотезу об отсутвии разницы в средних чеках отвернуть не можем, но относительная разница сильно изменилась. До этого средний чек группы B был лучше на 28%, но после очистки данных он стал хуже на 3%. Выходит, все преимущество ему принес тот крупный миллионный выброс."
   ]
  },
  {
   "cell_type": "markdown",
   "metadata": {},
   "source": [
    "## Вывод. <a name=\"paragraph16\"></a>"
   ]
  },
  {
   "cell_type": "markdown",
   "metadata": {},
   "source": [
    "Анализ результатов A/B теста показал, что группа B демострирует лучше результаты по конверсии, чем контрольная группа А, между ними есть статистически значимое различие как по сырым, так и по очищенным данным.\n",
    "\n",
    "В тоже время между группами нет статистически значимого различия по размеру среднего чека. Очистка данных показала, что у группы B средний чек снизился относительно контрольной группы A на 2%. \n",
    "\n",
    "Это говорит о том, что в связи с изменениями, внесененными по нашей гипотезе, в интернет магазине больше посетителей стали совершать покупки, но траты стали мельче, и средний чек не увеличился. Значит цель не была достигнула, нужно остановить тест, зафиксировать провал и перейти к анализу причин провала. "
   ]
  }
 ],
 "metadata": {
  "kernelspec": {
   "display_name": "Python 3 (ipykernel)",
   "language": "python",
   "name": "python3"
  },
  "language_info": {
   "codemirror_mode": {
    "name": "ipython",
    "version": 3
   },
   "file_extension": ".py",
   "mimetype": "text/x-python",
   "name": "python",
   "nbconvert_exporter": "python",
   "pygments_lexer": "ipython3",
   "version": "3.9.6"
  },
  "toc": {
   "base_numbering": 1,
   "nav_menu": {},
   "number_sections": true,
   "sideBar": true,
   "skip_h1_title": true,
   "title_cell": "Table of Contents",
   "title_sidebar": "Contents",
   "toc_cell": false,
   "toc_position": {},
   "toc_section_display": true,
   "toc_window_display": false
  }
 },
 "nbformat": 4,
 "nbformat_minor": 4
}
