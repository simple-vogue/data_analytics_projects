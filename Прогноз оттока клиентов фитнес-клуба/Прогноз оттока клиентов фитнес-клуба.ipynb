{
 "cells": [
  {
   "cell_type": "markdown",
   "metadata": {},
   "source": [
    "# Анализ оттока посетителей фитнес-клуба."
   ]
  },
  {
   "cell_type": "markdown",
   "metadata": {},
   "source": [
    "**Цель проекта.**\n",
    "\n",
    "С помощью данных множется клиентских анкет посетителей клуба мы проанализируем отток клиентов клуба, выявим основные признаки, наиболее сильно влияющие на отток, спрогнозируем вероятность ухода клиентов в будущем с помощью методов машинного обучения, а также классифицируем клиентов по группам схожего поведения.\n",
    "Все это поможет найти индивидальный подход к особенностям поведения каждого клиента и сформировать стратегию по удержанию клиентов на максимальный срок."
   ]
  },
  {
   "cell_type": "markdown",
   "metadata": {},
   "source": [
    "## Содержание. \n",
    "1. [Загрузка данных](#paragraph1)\n",
    "2. [Иследовательский анализ данных](#paragraph2)\n",
    "3. [Матрица корреляций признаков](#paragraph3)\n",
    "4. [Построение модели прогнозирования оттока клиентов](#paragraph4)\n",
    "5. [Кластеризация клиентов](#paragraph5) \n",
    "6. [Выводы](#paragraph6) "
   ]
  },
  {
   "cell_type": "code",
   "execution_count": 1,
   "metadata": {},
   "outputs": [],
   "source": [
    "import pandas as  pd\n",
    "import seaborn as sns\n",
    "import matplotlib.pyplot as plt\n",
    "from sklearn.model_selection import train_test_split\n",
    "from sklearn.linear_model import LogisticRegression\n",
    "from sklearn.ensemble import RandomForestClassifier\n",
    "from sklearn.metrics import accuracy_score, precision_score, recall_score\n",
    "from sklearn.preprocessing import StandardScaler\n",
    "from scipy.cluster.hierarchy import dendrogram, linkage\n",
    "from sklearn.cluster import KMeans"
   ]
  },
  {
   "cell_type": "markdown",
   "metadata": {},
   "source": [
    "## Загрузка данных <a name=\"paragraph1\"></a>"
   ]
  },
  {
   "cell_type": "code",
   "execution_count": 2,
   "metadata": {},
   "outputs": [],
   "source": [
    "data = pd.read_csv('/datasets/gym_churn.csv')"
   ]
  },
  {
   "cell_type": "code",
   "execution_count": 3,
   "metadata": {},
   "outputs": [
    {
     "data": {
      "text/html": [
       "<div>\n",
       "<style scoped>\n",
       "    .dataframe tbody tr th:only-of-type {\n",
       "        vertical-align: middle;\n",
       "    }\n",
       "\n",
       "    .dataframe tbody tr th {\n",
       "        vertical-align: top;\n",
       "    }\n",
       "\n",
       "    .dataframe thead th {\n",
       "        text-align: right;\n",
       "    }\n",
       "</style>\n",
       "<table border=\"1\" class=\"dataframe\">\n",
       "  <thead>\n",
       "    <tr style=\"text-align: right;\">\n",
       "      <th></th>\n",
       "      <th>gender</th>\n",
       "      <th>Near_Location</th>\n",
       "      <th>Partner</th>\n",
       "      <th>Promo_friends</th>\n",
       "      <th>Phone</th>\n",
       "      <th>Contract_period</th>\n",
       "      <th>Group_visits</th>\n",
       "      <th>Age</th>\n",
       "      <th>Avg_additional_charges_total</th>\n",
       "      <th>Month_to_end_contract</th>\n",
       "      <th>Lifetime</th>\n",
       "      <th>Avg_class_frequency_total</th>\n",
       "      <th>Avg_class_frequency_current_month</th>\n",
       "      <th>Churn</th>\n",
       "    </tr>\n",
       "  </thead>\n",
       "  <tbody>\n",
       "    <tr>\n",
       "      <td>0</td>\n",
       "      <td>1</td>\n",
       "      <td>1</td>\n",
       "      <td>1</td>\n",
       "      <td>1</td>\n",
       "      <td>0</td>\n",
       "      <td>6</td>\n",
       "      <td>1</td>\n",
       "      <td>29</td>\n",
       "      <td>14.227470</td>\n",
       "      <td>5.0</td>\n",
       "      <td>3</td>\n",
       "      <td>0.020398</td>\n",
       "      <td>0.000000</td>\n",
       "      <td>0</td>\n",
       "    </tr>\n",
       "    <tr>\n",
       "      <td>1</td>\n",
       "      <td>0</td>\n",
       "      <td>1</td>\n",
       "      <td>0</td>\n",
       "      <td>0</td>\n",
       "      <td>1</td>\n",
       "      <td>12</td>\n",
       "      <td>1</td>\n",
       "      <td>31</td>\n",
       "      <td>113.202938</td>\n",
       "      <td>12.0</td>\n",
       "      <td>7</td>\n",
       "      <td>1.922936</td>\n",
       "      <td>1.910244</td>\n",
       "      <td>0</td>\n",
       "    </tr>\n",
       "    <tr>\n",
       "      <td>2</td>\n",
       "      <td>0</td>\n",
       "      <td>1</td>\n",
       "      <td>1</td>\n",
       "      <td>0</td>\n",
       "      <td>1</td>\n",
       "      <td>1</td>\n",
       "      <td>0</td>\n",
       "      <td>28</td>\n",
       "      <td>129.448479</td>\n",
       "      <td>1.0</td>\n",
       "      <td>2</td>\n",
       "      <td>1.859098</td>\n",
       "      <td>1.736502</td>\n",
       "      <td>0</td>\n",
       "    </tr>\n",
       "    <tr>\n",
       "      <td>3</td>\n",
       "      <td>0</td>\n",
       "      <td>1</td>\n",
       "      <td>1</td>\n",
       "      <td>1</td>\n",
       "      <td>1</td>\n",
       "      <td>12</td>\n",
       "      <td>1</td>\n",
       "      <td>33</td>\n",
       "      <td>62.669863</td>\n",
       "      <td>12.0</td>\n",
       "      <td>2</td>\n",
       "      <td>3.205633</td>\n",
       "      <td>3.357215</td>\n",
       "      <td>0</td>\n",
       "    </tr>\n",
       "    <tr>\n",
       "      <td>4</td>\n",
       "      <td>1</td>\n",
       "      <td>1</td>\n",
       "      <td>1</td>\n",
       "      <td>1</td>\n",
       "      <td>1</td>\n",
       "      <td>1</td>\n",
       "      <td>0</td>\n",
       "      <td>26</td>\n",
       "      <td>198.362265</td>\n",
       "      <td>1.0</td>\n",
       "      <td>3</td>\n",
       "      <td>1.113884</td>\n",
       "      <td>1.120078</td>\n",
       "      <td>0</td>\n",
       "    </tr>\n",
       "  </tbody>\n",
       "</table>\n",
       "</div>"
      ],
      "text/plain": [
       "   gender  Near_Location  Partner  Promo_friends  Phone  Contract_period  \\\n",
       "0       1              1        1              1      0                6   \n",
       "1       0              1        0              0      1               12   \n",
       "2       0              1        1              0      1                1   \n",
       "3       0              1        1              1      1               12   \n",
       "4       1              1        1              1      1                1   \n",
       "\n",
       "   Group_visits  Age  Avg_additional_charges_total  Month_to_end_contract  \\\n",
       "0             1   29                     14.227470                    5.0   \n",
       "1             1   31                    113.202938                   12.0   \n",
       "2             0   28                    129.448479                    1.0   \n",
       "3             1   33                     62.669863                   12.0   \n",
       "4             0   26                    198.362265                    1.0   \n",
       "\n",
       "   Lifetime  Avg_class_frequency_total  Avg_class_frequency_current_month  \\\n",
       "0         3                   0.020398                           0.000000   \n",
       "1         7                   1.922936                           1.910244   \n",
       "2         2                   1.859098                           1.736502   \n",
       "3         2                   3.205633                           3.357215   \n",
       "4         3                   1.113884                           1.120078   \n",
       "\n",
       "   Churn  \n",
       "0      0  \n",
       "1      0  \n",
       "2      0  \n",
       "3      0  \n",
       "4      0  "
      ]
     },
     "execution_count": 3,
     "metadata": {},
     "output_type": "execute_result"
    }
   ],
   "source": [
    "data.head()"
   ]
  },
  {
   "cell_type": "markdown",
   "metadata": {},
   "source": [
    "В данной задаче будем использовать метод обучения с учителем, поскольку целевая переменная у нас есть, и с бинарной классификацией, т.к. целевая переменная принимает два значения: ушел клиент или остался."
   ]
  },
  {
   "cell_type": "markdown",
   "metadata": {},
   "source": [
    "## Исследовательский анализ данных (EDA) <a name=\"paragraph2\"></a>"
   ]
  },
  {
   "cell_type": "markdown",
   "metadata": {},
   "source": [
    "Изучим основную информацию о предоставленных данных. "
   ]
  },
  {
   "cell_type": "code",
   "execution_count": 4,
   "metadata": {},
   "outputs": [
    {
     "name": "stdout",
     "output_type": "stream",
     "text": [
      "<class 'pandas.core.frame.DataFrame'>\n",
      "RangeIndex: 4000 entries, 0 to 3999\n",
      "Data columns (total 14 columns):\n",
      "gender                               4000 non-null int64\n",
      "Near_Location                        4000 non-null int64\n",
      "Partner                              4000 non-null int64\n",
      "Promo_friends                        4000 non-null int64\n",
      "Phone                                4000 non-null int64\n",
      "Contract_period                      4000 non-null int64\n",
      "Group_visits                         4000 non-null int64\n",
      "Age                                  4000 non-null int64\n",
      "Avg_additional_charges_total         4000 non-null float64\n",
      "Month_to_end_contract                4000 non-null float64\n",
      "Lifetime                             4000 non-null int64\n",
      "Avg_class_frequency_total            4000 non-null float64\n",
      "Avg_class_frequency_current_month    4000 non-null float64\n",
      "Churn                                4000 non-null int64\n",
      "dtypes: float64(4), int64(10)\n",
      "memory usage: 437.6 KB\n"
     ]
    },
    {
     "data": {
      "text/html": [
       "<div>\n",
       "<style scoped>\n",
       "    .dataframe tbody tr th:only-of-type {\n",
       "        vertical-align: middle;\n",
       "    }\n",
       "\n",
       "    .dataframe tbody tr th {\n",
       "        vertical-align: top;\n",
       "    }\n",
       "\n",
       "    .dataframe thead th {\n",
       "        text-align: right;\n",
       "    }\n",
       "</style>\n",
       "<table border=\"1\" class=\"dataframe\">\n",
       "  <thead>\n",
       "    <tr style=\"text-align: right;\">\n",
       "      <th></th>\n",
       "      <th>gender</th>\n",
       "      <th>Near_Location</th>\n",
       "      <th>Partner</th>\n",
       "      <th>Promo_friends</th>\n",
       "      <th>Phone</th>\n",
       "      <th>Contract_period</th>\n",
       "      <th>Group_visits</th>\n",
       "      <th>Age</th>\n",
       "      <th>Avg_additional_charges_total</th>\n",
       "      <th>Month_to_end_contract</th>\n",
       "      <th>Lifetime</th>\n",
       "      <th>Avg_class_frequency_total</th>\n",
       "      <th>Avg_class_frequency_current_month</th>\n",
       "      <th>Churn</th>\n",
       "    </tr>\n",
       "  </thead>\n",
       "  <tbody>\n",
       "    <tr>\n",
       "      <td>count</td>\n",
       "      <td>4000.000000</td>\n",
       "      <td>4000.000000</td>\n",
       "      <td>4000.000000</td>\n",
       "      <td>4000.000000</td>\n",
       "      <td>4000.000000</td>\n",
       "      <td>4000.000000</td>\n",
       "      <td>4000.000000</td>\n",
       "      <td>4000.000000</td>\n",
       "      <td>4000.000000</td>\n",
       "      <td>4000.000000</td>\n",
       "      <td>4000.000000</td>\n",
       "      <td>4000.000000</td>\n",
       "      <td>4000.000000</td>\n",
       "      <td>4000.000000</td>\n",
       "    </tr>\n",
       "    <tr>\n",
       "      <td>mean</td>\n",
       "      <td>0.510250</td>\n",
       "      <td>0.845250</td>\n",
       "      <td>0.486750</td>\n",
       "      <td>0.308500</td>\n",
       "      <td>0.903500</td>\n",
       "      <td>4.681250</td>\n",
       "      <td>0.412250</td>\n",
       "      <td>29.184250</td>\n",
       "      <td>146.943728</td>\n",
       "      <td>4.322750</td>\n",
       "      <td>3.724750</td>\n",
       "      <td>1.879020</td>\n",
       "      <td>1.767052</td>\n",
       "      <td>0.265250</td>\n",
       "    </tr>\n",
       "    <tr>\n",
       "      <td>std</td>\n",
       "      <td>0.499957</td>\n",
       "      <td>0.361711</td>\n",
       "      <td>0.499887</td>\n",
       "      <td>0.461932</td>\n",
       "      <td>0.295313</td>\n",
       "      <td>4.549706</td>\n",
       "      <td>0.492301</td>\n",
       "      <td>3.258367</td>\n",
       "      <td>96.355602</td>\n",
       "      <td>4.191297</td>\n",
       "      <td>3.749267</td>\n",
       "      <td>0.972245</td>\n",
       "      <td>1.052906</td>\n",
       "      <td>0.441521</td>\n",
       "    </tr>\n",
       "    <tr>\n",
       "      <td>min</td>\n",
       "      <td>0.000000</td>\n",
       "      <td>0.000000</td>\n",
       "      <td>0.000000</td>\n",
       "      <td>0.000000</td>\n",
       "      <td>0.000000</td>\n",
       "      <td>1.000000</td>\n",
       "      <td>0.000000</td>\n",
       "      <td>18.000000</td>\n",
       "      <td>0.148205</td>\n",
       "      <td>1.000000</td>\n",
       "      <td>0.000000</td>\n",
       "      <td>0.000000</td>\n",
       "      <td>0.000000</td>\n",
       "      <td>0.000000</td>\n",
       "    </tr>\n",
       "    <tr>\n",
       "      <td>25%</td>\n",
       "      <td>0.000000</td>\n",
       "      <td>1.000000</td>\n",
       "      <td>0.000000</td>\n",
       "      <td>0.000000</td>\n",
       "      <td>1.000000</td>\n",
       "      <td>1.000000</td>\n",
       "      <td>0.000000</td>\n",
       "      <td>27.000000</td>\n",
       "      <td>68.868830</td>\n",
       "      <td>1.000000</td>\n",
       "      <td>1.000000</td>\n",
       "      <td>1.180875</td>\n",
       "      <td>0.963003</td>\n",
       "      <td>0.000000</td>\n",
       "    </tr>\n",
       "    <tr>\n",
       "      <td>50%</td>\n",
       "      <td>1.000000</td>\n",
       "      <td>1.000000</td>\n",
       "      <td>0.000000</td>\n",
       "      <td>0.000000</td>\n",
       "      <td>1.000000</td>\n",
       "      <td>1.000000</td>\n",
       "      <td>0.000000</td>\n",
       "      <td>29.000000</td>\n",
       "      <td>136.220159</td>\n",
       "      <td>1.000000</td>\n",
       "      <td>3.000000</td>\n",
       "      <td>1.832768</td>\n",
       "      <td>1.719574</td>\n",
       "      <td>0.000000</td>\n",
       "    </tr>\n",
       "    <tr>\n",
       "      <td>75%</td>\n",
       "      <td>1.000000</td>\n",
       "      <td>1.000000</td>\n",
       "      <td>1.000000</td>\n",
       "      <td>1.000000</td>\n",
       "      <td>1.000000</td>\n",
       "      <td>6.000000</td>\n",
       "      <td>1.000000</td>\n",
       "      <td>31.000000</td>\n",
       "      <td>210.949625</td>\n",
       "      <td>6.000000</td>\n",
       "      <td>5.000000</td>\n",
       "      <td>2.536078</td>\n",
       "      <td>2.510336</td>\n",
       "      <td>1.000000</td>\n",
       "    </tr>\n",
       "    <tr>\n",
       "      <td>max</td>\n",
       "      <td>1.000000</td>\n",
       "      <td>1.000000</td>\n",
       "      <td>1.000000</td>\n",
       "      <td>1.000000</td>\n",
       "      <td>1.000000</td>\n",
       "      <td>12.000000</td>\n",
       "      <td>1.000000</td>\n",
       "      <td>41.000000</td>\n",
       "      <td>552.590740</td>\n",
       "      <td>12.000000</td>\n",
       "      <td>31.000000</td>\n",
       "      <td>6.023668</td>\n",
       "      <td>6.146783</td>\n",
       "      <td>1.000000</td>\n",
       "    </tr>\n",
       "  </tbody>\n",
       "</table>\n",
       "</div>"
      ],
      "text/plain": [
       "            gender  Near_Location      Partner  Promo_friends        Phone  \\\n",
       "count  4000.000000    4000.000000  4000.000000    4000.000000  4000.000000   \n",
       "mean      0.510250       0.845250     0.486750       0.308500     0.903500   \n",
       "std       0.499957       0.361711     0.499887       0.461932     0.295313   \n",
       "min       0.000000       0.000000     0.000000       0.000000     0.000000   \n",
       "25%       0.000000       1.000000     0.000000       0.000000     1.000000   \n",
       "50%       1.000000       1.000000     0.000000       0.000000     1.000000   \n",
       "75%       1.000000       1.000000     1.000000       1.000000     1.000000   \n",
       "max       1.000000       1.000000     1.000000       1.000000     1.000000   \n",
       "\n",
       "       Contract_period  Group_visits          Age  \\\n",
       "count      4000.000000   4000.000000  4000.000000   \n",
       "mean          4.681250      0.412250    29.184250   \n",
       "std           4.549706      0.492301     3.258367   \n",
       "min           1.000000      0.000000    18.000000   \n",
       "25%           1.000000      0.000000    27.000000   \n",
       "50%           1.000000      0.000000    29.000000   \n",
       "75%           6.000000      1.000000    31.000000   \n",
       "max          12.000000      1.000000    41.000000   \n",
       "\n",
       "       Avg_additional_charges_total  Month_to_end_contract     Lifetime  \\\n",
       "count                   4000.000000            4000.000000  4000.000000   \n",
       "mean                     146.943728               4.322750     3.724750   \n",
       "std                       96.355602               4.191297     3.749267   \n",
       "min                        0.148205               1.000000     0.000000   \n",
       "25%                       68.868830               1.000000     1.000000   \n",
       "50%                      136.220159               1.000000     3.000000   \n",
       "75%                      210.949625               6.000000     5.000000   \n",
       "max                      552.590740              12.000000    31.000000   \n",
       "\n",
       "       Avg_class_frequency_total  Avg_class_frequency_current_month  \\\n",
       "count                4000.000000                        4000.000000   \n",
       "mean                    1.879020                           1.767052   \n",
       "std                     0.972245                           1.052906   \n",
       "min                     0.000000                           0.000000   \n",
       "25%                     1.180875                           0.963003   \n",
       "50%                     1.832768                           1.719574   \n",
       "75%                     2.536078                           2.510336   \n",
       "max                     6.023668                           6.146783   \n",
       "\n",
       "             Churn  \n",
       "count  4000.000000  \n",
       "mean      0.265250  \n",
       "std       0.441521  \n",
       "min       0.000000  \n",
       "25%       0.000000  \n",
       "50%       0.000000  \n",
       "75%       1.000000  \n",
       "max       1.000000  "
      ]
     },
     "execution_count": 4,
     "metadata": {},
     "output_type": "execute_result"
    }
   ],
   "source": [
    "data.info()\n",
    "data.describe()"
   ]
  },
  {
   "cell_type": "markdown",
   "metadata": {},
   "source": [
    "**Проверка на дубликаты.**"
   ]
  },
  {
   "cell_type": "code",
   "execution_count": 9,
   "metadata": {},
   "outputs": [
    {
     "name": "stdout",
     "output_type": "stream",
     "text": [
      "Количество дубликатов в данных: 0\n"
     ]
    }
   ],
   "source": [
    "print('Количество дубликатов в данных:', data.duplicated().sum())"
   ]
  },
  {
   "cell_type": "markdown",
   "metadata": {},
   "source": [
    "По средним значениям, полученным выше, можно составить портрет среднестатистического клиента. С примено равной вероятностью это может быть и мужчина, и женщина, 29 лет, клиент живет довольно близко к клубу, с абонементом на 5 месяцев.\n",
    "С момента первого посещения прошло 4 месяца, групповые занятия скорее не посещает, в зал ходит в среднем около 2х раз в неделю, на доп. услуги тратит около 147 денежных единиц.\n",
    "\n"
   ]
  },
  {
   "cell_type": "markdown",
   "metadata": {},
   "source": [
    "Всего в наборе данных 4 тысячи наблюдений, 13 признаков и одна целевая переменная, отсуствующих признаков нет. Признаки как числовые, так и категориальные. Такого количества достаточно для анализа и прогнозирования.\n",
    "Важно отметить, что количественные признаки имеют разную размерность (например, возраст и траты на доп. услуги клуба). Это потребует стандартизации признаков перед обучением моделей машинного обучения для того, чтобы избежать перевеса некоторых из них."
   ]
  },
  {
   "cell_type": "markdown",
   "metadata": {},
   "source": [
    "Посмотрим на средние значения признаков в двух группах — тех, кто ушел в отток и тех, кто остался."
   ]
  },
  {
   "cell_type": "code",
   "execution_count": 5,
   "metadata": {},
   "outputs": [
    {
     "data": {
      "text/html": [
       "<div>\n",
       "<style scoped>\n",
       "    .dataframe tbody tr th:only-of-type {\n",
       "        vertical-align: middle;\n",
       "    }\n",
       "\n",
       "    .dataframe tbody tr th {\n",
       "        vertical-align: top;\n",
       "    }\n",
       "\n",
       "    .dataframe thead th {\n",
       "        text-align: right;\n",
       "    }\n",
       "</style>\n",
       "<table border=\"1\" class=\"dataframe\">\n",
       "  <thead>\n",
       "    <tr style=\"text-align: right;\">\n",
       "      <th>Churn</th>\n",
       "      <th>0</th>\n",
       "      <th>1</th>\n",
       "    </tr>\n",
       "  </thead>\n",
       "  <tbody>\n",
       "    <tr>\n",
       "      <td>gender</td>\n",
       "      <td>0.510037</td>\n",
       "      <td>0.510839</td>\n",
       "    </tr>\n",
       "    <tr>\n",
       "      <td>Near_Location</td>\n",
       "      <td>0.873086</td>\n",
       "      <td>0.768143</td>\n",
       "    </tr>\n",
       "    <tr>\n",
       "      <td>Partner</td>\n",
       "      <td>0.534195</td>\n",
       "      <td>0.355325</td>\n",
       "    </tr>\n",
       "    <tr>\n",
       "      <td>Promo_friends</td>\n",
       "      <td>0.353522</td>\n",
       "      <td>0.183789</td>\n",
       "    </tr>\n",
       "    <tr>\n",
       "      <td>Phone</td>\n",
       "      <td>0.903709</td>\n",
       "      <td>0.902922</td>\n",
       "    </tr>\n",
       "    <tr>\n",
       "      <td>Contract_period</td>\n",
       "      <td>5.747193</td>\n",
       "      <td>1.728558</td>\n",
       "    </tr>\n",
       "    <tr>\n",
       "      <td>Group_visits</td>\n",
       "      <td>0.464103</td>\n",
       "      <td>0.268615</td>\n",
       "    </tr>\n",
       "    <tr>\n",
       "      <td>Age</td>\n",
       "      <td>29.976523</td>\n",
       "      <td>26.989632</td>\n",
       "    </tr>\n",
       "    <tr>\n",
       "      <td>Avg_additional_charges_total</td>\n",
       "      <td>158.445715</td>\n",
       "      <td>115.082899</td>\n",
       "    </tr>\n",
       "    <tr>\n",
       "      <td>Month_to_end_contract</td>\n",
       "      <td>5.283089</td>\n",
       "      <td>1.662582</td>\n",
       "    </tr>\n",
       "    <tr>\n",
       "      <td>Lifetime</td>\n",
       "      <td>4.711807</td>\n",
       "      <td>0.990575</td>\n",
       "    </tr>\n",
       "    <tr>\n",
       "      <td>Avg_class_frequency_total</td>\n",
       "      <td>2.024876</td>\n",
       "      <td>1.474995</td>\n",
       "    </tr>\n",
       "    <tr>\n",
       "      <td>Avg_class_frequency_current_month</td>\n",
       "      <td>2.027882</td>\n",
       "      <td>1.044546</td>\n",
       "    </tr>\n",
       "  </tbody>\n",
       "</table>\n",
       "</div>"
      ],
      "text/plain": [
       "Churn                                       0           1\n",
       "gender                               0.510037    0.510839\n",
       "Near_Location                        0.873086    0.768143\n",
       "Partner                              0.534195    0.355325\n",
       "Promo_friends                        0.353522    0.183789\n",
       "Phone                                0.903709    0.902922\n",
       "Contract_period                      5.747193    1.728558\n",
       "Group_visits                         0.464103    0.268615\n",
       "Age                                 29.976523   26.989632\n",
       "Avg_additional_charges_total       158.445715  115.082899\n",
       "Month_to_end_contract                5.283089    1.662582\n",
       "Lifetime                             4.711807    0.990575\n",
       "Avg_class_frequency_total            2.024876    1.474995\n",
       "Avg_class_frequency_current_month    2.027882    1.044546"
      ]
     },
     "execution_count": 5,
     "metadata": {},
     "output_type": "execute_result"
    }
   ],
   "source": [
    "data.groupby('Churn').mean().T"
   ]
  },
  {
   "cell_type": "markdown",
   "metadata": {},
   "source": [
    "Исходя из из средних значений признаков можно наметить признаки, которые имеют наибольшее влияние на факт оттока. \n",
    "\n",
    "Так, например **пол**, не имеет влияния на факт оттока. И мужчины, и женщины примерно с одинаковой частотой покидают клуб. Также *не имеют влияния* такие признаки как: начилие телефона, посещение групповых тренировок, возраст.\n",
    "\n",
    "Признаки, которые вероятнее всего влияют на удержание: клиенты от партнеров клуба и клиенты, пришедшие по рекомендациям друзей. Прежде всего потому, что это дает скидки. Также длительность абонемента, длительность посещений.\n",
    "Средние значение не дают полного понимания картины. Посмотрим на распределения. "
   ]
  },
  {
   "cell_type": "markdown",
   "metadata": {},
   "source": [
    "### Cтолбчатые гистограммы и распределения признаков для тех, кто ушёл (отток) и тех, кто остался (не попали в отток);"
   ]
  },
  {
   "cell_type": "code",
   "execution_count": 4,
   "metadata": {
    "scrolled": true
   },
   "outputs": [
    {
     "data": {
      "image/png": "[encoded data removed]",
      "text/plain": [
       "<Figure size 432x288 with 1 Axes>"
      ]
     },
     "metadata": {
      "needs_background": "light"
     },
     "output_type": "display_data"
    },
    {
     "data": {
      "image/png": "[encoded data removed]",
      "text/plain": [
       "<Figure size 432x288 with 1 Axes>"
      ]
     },
     "metadata": {
      "needs_background": "light"
     },
     "output_type": "display_data"
    },
    {
     "data": {
      "image/png": "[encoded data removed]",
      "text/plain": [
       "<Figure size 432x288 with 1 Axes>"
      ]
     },
     "metadata": {
      "needs_background": "light"
     },
     "output_type": "display_data"
    },
    {
     "data": {
      "image/png": "[encoded data removed]",
      "text/plain": [
       "<Figure size 432x288 with 1 Axes>"
      ]
     },
     "metadata": {
      "needs_background": "light"
     },
     "output_type": "display_data"
    },
    {
     "data": {
      "image/png": "[encoded data removed]",
      "text/plain": [
       "<Figure size 432x288 with 1 Axes>"
      ]
     },
     "metadata": {
      "needs_background": "light"
     },
     "output_type": "display_data"
    },
    {
     "data": {
      "image/png": "[encoded data removed]",
      "text/plain": [
       "<Figure size 432x288 with 1 Axes>"
      ]
     },
     "metadata": {
      "needs_background": "light"
     },
     "output_type": "display_data"
    },
    {
     "data": {
      "image/png": "[encoded data removed]",
      "text/plain": [
       "<Figure size 432x288 with 1 Axes>"
      ]
     },
     "metadata": {
      "needs_background": "light"
     },
     "output_type": "display_data"
    },
    {
     "data": {
      "image/png": "[encoded data removed]",
      "text/plain": [
       "<Figure size 432x288 with 1 Axes>"
      ]
     },
     "metadata": {
      "needs_background": "light"
     },
     "output_type": "display_data"
    },
    {
     "data": {
      "image/png": "[encoded data removed]",
      "text/plain": [
       "<Figure size 432x288 with 1 Axes>"
      ]
     },
     "metadata": {
      "needs_background": "light"
     },
     "output_type": "display_data"
    },
    {
     "data": {
      "image/png": "[encoded data removed]",
      "text/plain": [
       "<Figure size 432x288 with 1 Axes>"
      ]
     },
     "metadata": {
      "needs_background": "light"
     },
     "output_type": "display_data"
    },
    {
     "data": {
      "image/png": "[encoded data removed]",
      "text/plain": [
       "<Figure size 432x288 with 1 Axes>"
      ]
     },
     "metadata": {
      "needs_background": "light"
     },
     "output_type": "display_data"
    },
    {
     "data": {
      "image/png": "[encoded data removed]",
      "text/plain": [
       "<Figure size 432x288 with 1 Axes>"
      ]
     },
     "metadata": {
      "needs_background": "light"
     },
     "output_type": "display_data"
    },
    {
     "data": {
      "image/png": "[encoded data removed]",
      "text/plain": [
       "<Figure size 432x288 with 1 Axes>"
      ]
     },
     "metadata": {
      "needs_background": "light"
     },
     "output_type": "display_data"
    },
    {
     "data": {
      "image/png": "[encoded data removed]",
      "text/plain": [
       "<Figure size 432x288 with 1 Axes>"
      ]
     },
     "metadata": {
      "needs_background": "light"
     },
     "output_type": "display_data"
    }
   ],
   "source": [
    "for column in data:\n",
    "    ax = sns.histplot(data=data, \n",
    "                 x = column, \n",
    "                 hue ='Churn', \n",
    "                 alpha=0.5,\n",
    "                 palette = \"tab10\"\n",
    "                )\n",
    "    ax.set_title(f'Распределение по признаку {column}')\n",
    "    ax.set_ylabel('Количество')\n",
    "    plt.show()"
   ]
  },
  {
   "cell_type": "markdown",
   "metadata": {},
   "source": [
    "Распределение признаков на гистограммах в разрезе ушедших/оставшихся интересно проанализировать с точки зрения влияния некоторых признаков на факт ухода.\n",
    "\n",
    "Так, например, подавляющее большинство тех, кто живет рядом с клубом, не уходят из него и исправно продолжают занятия. Стоит учитывать это.\n",
    "\n",
    "Факт партнерства или \"дружбы\" с другим клиентом не оказывает особого влияния.\n",
    "\n",
    "Длительность абонемента показывает, что те, кто берет более долгие контракты, намного реже  покидают клуб.\n",
    "Групповые тренировки тоже благотворно влияют на удержание.\n",
    "Распределение по возрасту говорит о том, что клиенты старше более дисциплинированы, чем молодые, но на факт возраста клиента мы не можем повлиять, поэтому не стоит учитывать этот признак.\n",
    "\n",
    "Признаки по средним посещениям показывают, что постоянные клиенты посещают клуб чаще и больше тех, кто ушел. Это важное замечание. \n",
    "\n",
    "И также стоит обратить внимание на время с момента первого обращения в фитнес-центр и месяц до окончания контракта - они ярко показывают, что те, кто отваливается делают это в первый или второй месяц посещений."
   ]
  },
  {
   "cell_type": "markdown",
   "metadata": {},
   "source": [
    "## Матрица корреляций признаков. <a name=\"paragraph3\"></a>"
   ]
  },
  {
   "cell_type": "markdown",
   "metadata": {},
   "source": [
    "Взглянем за зависимость признаков."
   ]
  },
  {
   "cell_type": "code",
   "execution_count": 8,
   "metadata": {},
   "outputs": [
    {
     "data": {
      "image/png": "[encoded data removed]",
      "text/plain": [
       "<Figure size 1440x720 with 2 Axes>"
      ]
     },
     "metadata": {
      "needs_background": "light"
     },
     "output_type": "display_data"
    }
   ],
   "source": [
    "cm = data.corr()\n",
    "fig, ax = plt.subplots(figsize=(20, 10))\n",
    "sns.heatmap(cm, annot = True, square=True, linewidths=.8)\n",
    "ax.set_title('Матрица корреляций признаков')\n",
    "plt.show()"
   ]
  },
  {
   "cell_type": "markdown",
   "metadata": {},
   "source": [
    "Признаки частоты посещений в среднем и за последний месяц сильно коррелируют. Необходимо один из них убрать, т.к. это может исказить модель машинного обучения. Оставим только посещения в неделю за последний месяц. \n",
    "\n",
    "Также сильно коррелируют длительность абонемента и месяц до окончания абонемента. Оставим признак месяца до окончания контракта."
   ]
  },
  {
   "cell_type": "code",
   "execution_count": 5,
   "metadata": {},
   "outputs": [],
   "source": [
    "data_clean2 = data.drop(['Contract_period', 'Avg_class_frequency_total'], axis = 1)"
   ]
  },
  {
   "cell_type": "markdown",
   "metadata": {},
   "source": [
    "## Построение модели прогнозирования оттока клиентов <a name=\"paragraph4\"></a>"
   ]
  },
  {
   "cell_type": "markdown",
   "metadata": {},
   "source": [
    "Разбиваем данные в соотношении 80 и 20."
   ]
  },
  {
   "cell_type": "code",
   "execution_count": 6,
   "metadata": {},
   "outputs": [],
   "source": [
    "X = data_clean2.drop('Churn', axis = 1)\n",
    "y = data_clean2['Churn']"
   ]
  },
  {
   "cell_type": "code",
   "execution_count": 7,
   "metadata": {},
   "outputs": [],
   "source": [
    "X_train, X_test, y_train, y_test = train_test_split(X, y, test_size=0.2, random_state=0)"
   ]
  },
  {
   "cell_type": "markdown",
   "metadata": {},
   "source": [
    "### Обучаем логистической регрессией"
   ]
  },
  {
   "cell_type": "code",
   "execution_count": 8,
   "metadata": {},
   "outputs": [],
   "source": [
    "model = LogisticRegression(solver='liblinear')\n",
    "model.fit(X_train, y_train)\n",
    "lr_pred = model.predict(X_test) \n",
    "lr_probas = model.predict_proba(X_test)[:,1] "
   ]
  },
  {
   "cell_type": "markdown",
   "metadata": {},
   "source": [
    "### Обучаем случайным лесом"
   ]
  },
  {
   "cell_type": "code",
   "execution_count": 9,
   "metadata": {},
   "outputs": [],
   "source": [
    "rf_model = RandomForestClassifier(n_estimators = 100, random_state = 0)\n",
    "rf_model.fit(X_train, y_train)\n",
    "rf_pred = rf_model.predict(X_test)\n",
    "rf_probas = rf_model.predict_proba(X_test)[:, 1]"
   ]
  },
  {
   "cell_type": "markdown",
   "metadata": {},
   "source": [
    "###\tОцениваем метрики accuracy, precision и recall для обеих моделей на валидационной выборке."
   ]
  },
  {
   "cell_type": "code",
   "execution_count": 10,
   "metadata": {},
   "outputs": [],
   "source": [
    "def print_all_metrics(y_true, y_pred, y_proba, title='Метрики классификации'):\n",
    "    print(title)\n",
    "    print('\\tAccuracy (Доля правильных ответов): {:.2f}'.format(accuracy_score(y_true, y_pred)))\n",
    "    print('\\tPrecision (Точность): {:.2f}'.format(precision_score(y_true, y_pred)))\n",
    "    print('\\tRecall (Полнота): {:.2f}'.format(recall_score(y_true, y_pred)))"
   ]
  },
  {
   "cell_type": "code",
   "execution_count": 11,
   "metadata": {},
   "outputs": [
    {
     "name": "stdout",
     "output_type": "stream",
     "text": [
      "Метрики для модели логистической регрессии:\n",
      "\tAccuracy (Доля правильных ответов): 0.90\n",
      "\tPrecision (Точность): 0.80\n",
      "\tRecall (Полнота): 0.79\n"
     ]
    }
   ],
   "source": [
    "print_all_metrics(\n",
    "    y_test,\n",
    "    lr_pred,\n",
    "    lr_probas,\n",
    "    title='Метрики для модели логистической регрессии:',\n",
    ")"
   ]
  },
  {
   "cell_type": "code",
   "execution_count": 12,
   "metadata": {},
   "outputs": [
    {
     "name": "stdout",
     "output_type": "stream",
     "text": [
      "Метрики для модели случайного леса:\n",
      "\tAccuracy (Доля правильных ответов): 0.91\n",
      "\tPrecision (Точность): 0.83\n",
      "\tRecall (Полнота): 0.79\n"
     ]
    }
   ],
   "source": [
    "print_all_metrics(\n",
    "    y_test,\n",
    "    rf_pred,\n",
    "    rf_probas, \n",
    "    title = 'Метрики для модели случайного леса:'\n",
    ")"
   ]
  },
  {
   "cell_type": "markdown",
   "metadata": {},
   "source": [
    "Результаты схожи. Но лучше себя проявила модель случайного леса."
   ]
  },
  {
   "cell_type": "markdown",
   "metadata": {},
   "source": [
    "## Кластеризация клиентов <a name=\"paragraph5\"></a>"
   ]
  },
  {
   "cell_type": "markdown",
   "metadata": {},
   "source": [
    "Проведем кластеризацию с целью сегментации клиентов на классы. Это поможет сформировать группы клиентов со схожим поведением и впоследствии поможет применять более индивидуальный подход к удержанию клиентов."
   ]
  },
  {
   "cell_type": "code",
   "execution_count": 13,
   "metadata": {},
   "outputs": [],
   "source": [
    "data_cut = data.drop('Churn', axis = 1) # отсечем целевую переменную, оставим только признаки"
   ]
  },
  {
   "cell_type": "markdown",
   "metadata": {},
   "source": [
    "###  Стандартизация данных."
   ]
  },
  {
   "cell_type": "code",
   "execution_count": 14,
   "metadata": {},
   "outputs": [],
   "source": [
    "scaler = StandardScaler() # создаём объект класса scaler (нормализатор)\n",
    "x_sc = scaler.fit_transform(data_cut) # обучаем нормализатор и преобразуем набор данных "
   ]
  },
  {
   "cell_type": "markdown",
   "metadata": {},
   "source": [
    "### Вычисляем матрицу расстояний между всеми признаками и рисуем дендрограмму"
   ]
  },
  {
   "cell_type": "code",
   "execution_count": 15,
   "metadata": {},
   "outputs": [],
   "source": [
    "linked = linkage(x_sc, method = 'ward') # матрица расстояний"
   ]
  },
  {
   "cell_type": "code",
   "execution_count": 20,
   "metadata": {},
   "outputs": [
    {
     "data": {
      "image/png": "[encoded data removed]",
      "text/plain": [
       "<Figure size 1080x720 with 1 Axes>"
      ]
     },
     "metadata": {
      "needs_background": "light"
     },
     "output_type": "display_data"
    }
   ],
   "source": [
    "plt.figure(figsize=(15, 10))  \n",
    "dendrogram(linked, orientation='top')\n",
    "plt.show() "
   ]
  },
  {
   "cell_type": "markdown",
   "metadata": {},
   "source": [
    "Дендрограмма цветами предложила нам раздение на 4 кластера.\n",
    "\n",
    "Попробуем пойти по другому пути."
   ]
  },
  {
   "cell_type": "markdown",
   "metadata": {},
   "source": [
    "### •\tКластеризация на основании алгоритма K-Means"
   ]
  },
  {
   "cell_type": "code",
   "execution_count": 16,
   "metadata": {},
   "outputs": [],
   "source": [
    "km = KMeans(n_clusters = 5, random_state=0) # задаём число кластеров, равное 5\n",
    "labels = km.fit_predict(x_sc)"
   ]
  },
  {
   "cell_type": "markdown",
   "metadata": {},
   "source": [
    "### Cредние значения признаков для кластеров"
   ]
  },
  {
   "cell_type": "code",
   "execution_count": 17,
   "metadata": {},
   "outputs": [
    {
     "data": {
      "text/html": [
       "<div>\n",
       "<style scoped>\n",
       "    .dataframe tbody tr th:only-of-type {\n",
       "        vertical-align: middle;\n",
       "    }\n",
       "\n",
       "    .dataframe tbody tr th {\n",
       "        vertical-align: top;\n",
       "    }\n",
       "\n",
       "    .dataframe thead th {\n",
       "        text-align: right;\n",
       "    }\n",
       "</style>\n",
       "<table border=\"1\" class=\"dataframe\">\n",
       "  <thead>\n",
       "    <tr style=\"text-align: right;\">\n",
       "      <th>cluster_km</th>\n",
       "      <th>0</th>\n",
       "      <th>1</th>\n",
       "      <th>2</th>\n",
       "      <th>3</th>\n",
       "      <th>4</th>\n",
       "    </tr>\n",
       "  </thead>\n",
       "  <tbody>\n",
       "    <tr>\n",
       "      <td>gender</td>\n",
       "      <td>0.502473</td>\n",
       "      <td>0.522078</td>\n",
       "      <td>0.495050</td>\n",
       "      <td>0.485737</td>\n",
       "      <td>0.560335</td>\n",
       "    </tr>\n",
       "    <tr>\n",
       "      <td>Near_Location</td>\n",
       "      <td>0.959446</td>\n",
       "      <td>0.862338</td>\n",
       "      <td>0.000000</td>\n",
       "      <td>1.000000</td>\n",
       "      <td>0.976105</td>\n",
       "    </tr>\n",
       "    <tr>\n",
       "      <td>Partner</td>\n",
       "      <td>0.783383</td>\n",
       "      <td>0.470130</td>\n",
       "      <td>0.463366</td>\n",
       "      <td>0.350238</td>\n",
       "      <td>0.356033</td>\n",
       "    </tr>\n",
       "    <tr>\n",
       "      <td>Promo_friends</td>\n",
       "      <td>0.574679</td>\n",
       "      <td>0.306494</td>\n",
       "      <td>0.079208</td>\n",
       "      <td>0.240095</td>\n",
       "      <td>0.229391</td>\n",
       "    </tr>\n",
       "    <tr>\n",
       "      <td>Phone</td>\n",
       "      <td>1.000000</td>\n",
       "      <td>0.000000</td>\n",
       "      <td>1.000000</td>\n",
       "      <td>1.000000</td>\n",
       "      <td>0.998805</td>\n",
       "    </tr>\n",
       "    <tr>\n",
       "      <td>Contract_period</td>\n",
       "      <td>10.884273</td>\n",
       "      <td>4.787013</td>\n",
       "      <td>2.352475</td>\n",
       "      <td>1.948494</td>\n",
       "      <td>2.665472</td>\n",
       "    </tr>\n",
       "    <tr>\n",
       "      <td>Group_visits</td>\n",
       "      <td>0.543027</td>\n",
       "      <td>0.425974</td>\n",
       "      <td>0.215842</td>\n",
       "      <td>0.341521</td>\n",
       "      <td>0.473118</td>\n",
       "    </tr>\n",
       "    <tr>\n",
       "      <td>Age</td>\n",
       "      <td>29.980218</td>\n",
       "      <td>29.301299</td>\n",
       "      <td>28.477228</td>\n",
       "      <td>28.167987</td>\n",
       "      <td>30.127838</td>\n",
       "    </tr>\n",
       "    <tr>\n",
       "      <td>Avg_additional_charges_total</td>\n",
       "      <td>160.706969</td>\n",
       "      <td>143.957664</td>\n",
       "      <td>135.457501</td>\n",
       "      <td>131.622204</td>\n",
       "      <td>161.724258</td>\n",
       "    </tr>\n",
       "    <tr>\n",
       "      <td>Month_to_end_contract</td>\n",
       "      <td>9.950544</td>\n",
       "      <td>4.475325</td>\n",
       "      <td>2.198020</td>\n",
       "      <td>1.856577</td>\n",
       "      <td>2.455197</td>\n",
       "    </tr>\n",
       "    <tr>\n",
       "      <td>Lifetime</td>\n",
       "      <td>4.738872</td>\n",
       "      <td>3.924675</td>\n",
       "      <td>2.809901</td>\n",
       "      <td>2.440571</td>\n",
       "      <td>4.896057</td>\n",
       "    </tr>\n",
       "    <tr>\n",
       "      <td>Avg_class_frequency_total</td>\n",
       "      <td>1.983305</td>\n",
       "      <td>1.847220</td>\n",
       "      <td>1.660461</td>\n",
       "      <td>1.247634</td>\n",
       "      <td>2.851531</td>\n",
       "    </tr>\n",
       "    <tr>\n",
       "      <td>Avg_class_frequency_current_month</td>\n",
       "      <td>1.976225</td>\n",
       "      <td>1.716369</td>\n",
       "      <td>1.477324</td>\n",
       "      <td>1.012983</td>\n",
       "      <td>2.849473</td>\n",
       "    </tr>\n",
       "  </tbody>\n",
       "</table>\n",
       "</div>"
      ],
      "text/plain": [
       "cluster_km                                  0           1           2  \\\n",
       "gender                               0.502473    0.522078    0.495050   \n",
       "Near_Location                        0.959446    0.862338    0.000000   \n",
       "Partner                              0.783383    0.470130    0.463366   \n",
       "Promo_friends                        0.574679    0.306494    0.079208   \n",
       "Phone                                1.000000    0.000000    1.000000   \n",
       "Contract_period                     10.884273    4.787013    2.352475   \n",
       "Group_visits                         0.543027    0.425974    0.215842   \n",
       "Age                                 29.980218   29.301299   28.477228   \n",
       "Avg_additional_charges_total       160.706969  143.957664  135.457501   \n",
       "Month_to_end_contract                9.950544    4.475325    2.198020   \n",
       "Lifetime                             4.738872    3.924675    2.809901   \n",
       "Avg_class_frequency_total            1.983305    1.847220    1.660461   \n",
       "Avg_class_frequency_current_month    1.976225    1.716369    1.477324   \n",
       "\n",
       "cluster_km                                  3           4  \n",
       "gender                               0.485737    0.560335  \n",
       "Near_Location                        1.000000    0.976105  \n",
       "Partner                              0.350238    0.356033  \n",
       "Promo_friends                        0.240095    0.229391  \n",
       "Phone                                1.000000    0.998805  \n",
       "Contract_period                      1.948494    2.665472  \n",
       "Group_visits                         0.341521    0.473118  \n",
       "Age                                 28.167987   30.127838  \n",
       "Avg_additional_charges_total       131.622204  161.724258  \n",
       "Month_to_end_contract                1.856577    2.455197  \n",
       "Lifetime                             2.440571    4.896057  \n",
       "Avg_class_frequency_total            1.247634    2.851531  \n",
       "Avg_class_frequency_current_month    1.012983    2.849473  "
      ]
     },
     "execution_count": 17,
     "metadata": {},
     "output_type": "execute_result"
    }
   ],
   "source": [
    "data_cut['cluster_km'] = labels\n",
    "\n",
    "# выводим статистику по средним значениям наших признаков по кластеру\n",
    "data_cut.groupby('cluster_km').mean().T\n"
   ]
  },
  {
   "cell_type": "markdown",
   "metadata": {},
   "source": [
    "### Распределения признаков для кластеров"
   ]
  },
  {
   "cell_type": "code",
   "execution_count": 18,
   "metadata": {},
   "outputs": [
    {
     "data": {
      "text/plain": [
       "Index(['gender', 'Near_Location', 'Partner', 'Promo_friends', 'Phone',\n",
       "       'Contract_period', 'Group_visits', 'Age',\n",
       "       'Avg_additional_charges_total', 'Month_to_end_contract', 'Lifetime',\n",
       "       'Avg_class_frequency_total', 'Avg_class_frequency_current_month',\n",
       "       'cluster_km'],\n",
       "      dtype='object')"
      ]
     },
     "execution_count": 18,
     "metadata": {},
     "output_type": "execute_result"
    }
   ],
   "source": [
    "data_cut.columns"
   ]
  },
  {
   "cell_type": "markdown",
   "metadata": {},
   "source": [
    "Создам списки признаков для построения разных графиков."
   ]
  },
  {
   "cell_type": "code",
   "execution_count": 19,
   "metadata": {},
   "outputs": [],
   "source": [
    "list_1 = ['gender', 'Near_Location', 'Partner', 'Promo_friends', 'Phone',\n",
    "       'Contract_period', 'Group_visits']\n",
    "list_2 = ['Age', 'Avg_additional_charges_total', 'Month_to_end_contract', 'Lifetime',\n",
    "       'Avg_class_frequency_total', 'Avg_class_frequency_current_month']"
   ]
  },
  {
   "cell_type": "code",
   "execution_count": 25,
   "metadata": {
    "scrolled": true
   },
   "outputs": [
    {
     "data": {
      "image/png": "[encoded data removed]",
      "text/plain": [
       "<Figure size 720x576 with 1 Axes>"
      ]
     },
     "metadata": {
      "needs_background": "light"
     },
     "output_type": "display_data"
    },
    {
     "data": {
      "image/png": "[encoded data removed]",
      "text/plain": [
       "<Figure size 432x288 with 1 Axes>"
      ]
     },
     "metadata": {
      "needs_background": "light"
     },
     "output_type": "display_data"
    },
    {
     "data": {
      "image/png": "[encoded data removed]",
      "text/plain": [
       "<Figure size 432x288 with 1 Axes>"
      ]
     },
     "metadata": {
      "needs_background": "light"
     },
     "output_type": "display_data"
    },
    {
     "data": {
      "image/png": "[encoded data removed]",
      "text/plain": [
       "<Figure size 432x288 with 1 Axes>"
      ]
     },
     "metadata": {
      "needs_background": "light"
     },
     "output_type": "display_data"
    },
    {
     "data": {
      "image/png": "[encoded data removed]",
      "text/plain": [
       "<Figure size 432x288 with 1 Axes>"
      ]
     },
     "metadata": {
      "needs_background": "light"
     },
     "output_type": "display_data"
    },
    {
     "data": {
      "image/png": "[encoded data removed]",
      "text/plain": [
       "<Figure size 432x288 with 1 Axes>"
      ]
     },
     "metadata": {
      "needs_background": "light"
     },
     "output_type": "display_data"
    },
    {
     "data": {
      "image/png": "[encoded data removed]",
      "text/plain": [
       "<Figure size 432x288 with 1 Axes>"
      ]
     },
     "metadata": {
      "needs_background": "light"
     },
     "output_type": "display_data"
    }
   ],
   "source": [
    "plt.figure(figsize=(10, 8))\n",
    "for column in list_1:\n",
    "    ax=sns.countplot(data=data_cut, \n",
    "                 x = column, \n",
    "                 hue = 'cluster_km', \n",
    "                 alpha=0.5,\n",
    "                 palette = \"tab10\"\n",
    "                )\n",
    "    ax.set_title(f'Распределение по признаку {column}')\n",
    "    ax.set_ylabel('Количество')\n",
    "    plt.show()\n",
    "    plt.show()"
   ]
  },
  {
   "cell_type": "code",
   "execution_count": 35,
   "metadata": {
    "scrolled": true
   },
   "outputs": [
    {
     "data": {
      "image/png": "[encoded data removed]",
      "text/plain": [
       "<Figure size 432x360 with 1 Axes>"
      ]
     },
     "metadata": {
      "needs_background": "light"
     },
     "output_type": "display_data"
    },
    {
     "data": {
      "image/png": "[encoded data removed]",
      "text/plain": [
       "<Figure size 432x288 with 1 Axes>"
      ]
     },
     "metadata": {
      "needs_background": "light"
     },
     "output_type": "display_data"
    },
    {
     "data": {
      "image/png": "[encoded data removed]",
      "text/plain": [
       "<Figure size 432x288 with 1 Axes>"
      ]
     },
     "metadata": {
      "needs_background": "light"
     },
     "output_type": "display_data"
    },
    {
     "data": {
      "image/png": "[encoded data removed]",
      "text/plain": [
       "<Figure size 432x288 with 1 Axes>"
      ]
     },
     "metadata": {
      "needs_background": "light"
     },
     "output_type": "display_data"
    },
    {
     "data": {
      "image/png": "[encoded data removed]",
      "text/plain": [
       "<Figure size 432x288 with 1 Axes>"
      ]
     },
     "metadata": {
      "needs_background": "light"
     },
     "output_type": "display_data"
    },
    {
     "data": {
      "image/png": "[encoded data removed]",
      "text/plain": [
       "<Figure size 432x288 with 1 Axes>"
      ]
     },
     "metadata": {
      "needs_background": "light"
     },
     "output_type": "display_data"
    }
   ],
   "source": [
    "plt.figure(figsize=(6, 5))\n",
    "for column in list_2:\n",
    "    ax=sns.boxplot(data=data_cut, \n",
    "                 x = 'cluster_km', \n",
    "                 y = column,\n",
    "                 palette = \"tab10\"\n",
    "                )\n",
    "    ax.set_title(f'Распределение по признаку {column}')\n",
    "    ax.set_xlabel('Кластер')\n",
    "    ax.set_ylabel('Количество')\n",
    "    plt.show()\n",
    "    plt.show()"
   ]
  },
  {
   "cell_type": "code",
   "execution_count": 36,
   "metadata": {},
   "outputs": [],
   "source": [
    "data['cluster_km'] = labels"
   ]
  },
  {
   "cell_type": "markdown",
   "metadata": {},
   "source": [
    "### Доля оттока по кластерам."
   ]
  },
  {
   "cell_type": "code",
   "execution_count": 37,
   "metadata": {},
   "outputs": [
    {
     "data": {
      "text/html": [
       "<div>\n",
       "<style scoped>\n",
       "    .dataframe tbody tr th:only-of-type {\n",
       "        vertical-align: middle;\n",
       "    }\n",
       "\n",
       "    .dataframe tbody tr th {\n",
       "        vertical-align: top;\n",
       "    }\n",
       "\n",
       "    .dataframe thead th {\n",
       "        text-align: right;\n",
       "    }\n",
       "</style>\n",
       "<table border=\"1\" class=\"dataframe\">\n",
       "  <thead>\n",
       "    <tr style=\"text-align: right;\">\n",
       "      <th>cluster_km</th>\n",
       "      <th>0</th>\n",
       "      <th>1</th>\n",
       "      <th>2</th>\n",
       "      <th>3</th>\n",
       "      <th>4</th>\n",
       "    </tr>\n",
       "  </thead>\n",
       "  <tbody>\n",
       "    <tr>\n",
       "      <td>gender</td>\n",
       "      <td>0.502473</td>\n",
       "      <td>0.522078</td>\n",
       "      <td>0.495050</td>\n",
       "      <td>0.485737</td>\n",
       "      <td>0.560335</td>\n",
       "    </tr>\n",
       "    <tr>\n",
       "      <td>Near_Location</td>\n",
       "      <td>0.959446</td>\n",
       "      <td>0.862338</td>\n",
       "      <td>0.000000</td>\n",
       "      <td>1.000000</td>\n",
       "      <td>0.976105</td>\n",
       "    </tr>\n",
       "    <tr>\n",
       "      <td>Partner</td>\n",
       "      <td>0.783383</td>\n",
       "      <td>0.470130</td>\n",
       "      <td>0.463366</td>\n",
       "      <td>0.350238</td>\n",
       "      <td>0.356033</td>\n",
       "    </tr>\n",
       "    <tr>\n",
       "      <td>Promo_friends</td>\n",
       "      <td>0.574679</td>\n",
       "      <td>0.306494</td>\n",
       "      <td>0.079208</td>\n",
       "      <td>0.240095</td>\n",
       "      <td>0.229391</td>\n",
       "    </tr>\n",
       "    <tr>\n",
       "      <td>Phone</td>\n",
       "      <td>1.000000</td>\n",
       "      <td>0.000000</td>\n",
       "      <td>1.000000</td>\n",
       "      <td>1.000000</td>\n",
       "      <td>0.998805</td>\n",
       "    </tr>\n",
       "    <tr>\n",
       "      <td>Contract_period</td>\n",
       "      <td>10.884273</td>\n",
       "      <td>4.787013</td>\n",
       "      <td>2.352475</td>\n",
       "      <td>1.948494</td>\n",
       "      <td>2.665472</td>\n",
       "    </tr>\n",
       "    <tr>\n",
       "      <td>Group_visits</td>\n",
       "      <td>0.543027</td>\n",
       "      <td>0.425974</td>\n",
       "      <td>0.215842</td>\n",
       "      <td>0.341521</td>\n",
       "      <td>0.473118</td>\n",
       "    </tr>\n",
       "    <tr>\n",
       "      <td>Age</td>\n",
       "      <td>29.980218</td>\n",
       "      <td>29.301299</td>\n",
       "      <td>28.477228</td>\n",
       "      <td>28.167987</td>\n",
       "      <td>30.127838</td>\n",
       "    </tr>\n",
       "    <tr>\n",
       "      <td>Avg_additional_charges_total</td>\n",
       "      <td>160.706969</td>\n",
       "      <td>143.957664</td>\n",
       "      <td>135.457501</td>\n",
       "      <td>131.622204</td>\n",
       "      <td>161.724258</td>\n",
       "    </tr>\n",
       "    <tr>\n",
       "      <td>Month_to_end_contract</td>\n",
       "      <td>9.950544</td>\n",
       "      <td>4.475325</td>\n",
       "      <td>2.198020</td>\n",
       "      <td>1.856577</td>\n",
       "      <td>2.455197</td>\n",
       "    </tr>\n",
       "    <tr>\n",
       "      <td>Lifetime</td>\n",
       "      <td>4.738872</td>\n",
       "      <td>3.924675</td>\n",
       "      <td>2.809901</td>\n",
       "      <td>2.440571</td>\n",
       "      <td>4.896057</td>\n",
       "    </tr>\n",
       "    <tr>\n",
       "      <td>Avg_class_frequency_total</td>\n",
       "      <td>1.983305</td>\n",
       "      <td>1.847220</td>\n",
       "      <td>1.660461</td>\n",
       "      <td>1.247634</td>\n",
       "      <td>2.851531</td>\n",
       "    </tr>\n",
       "    <tr>\n",
       "      <td>Avg_class_frequency_current_month</td>\n",
       "      <td>1.976225</td>\n",
       "      <td>1.716369</td>\n",
       "      <td>1.477324</td>\n",
       "      <td>1.012983</td>\n",
       "      <td>2.849473</td>\n",
       "    </tr>\n",
       "    <tr>\n",
       "      <td>Churn</td>\n",
       "      <td>0.027695</td>\n",
       "      <td>0.267532</td>\n",
       "      <td>0.443564</td>\n",
       "      <td>0.514263</td>\n",
       "      <td>0.068100</td>\n",
       "    </tr>\n",
       "  </tbody>\n",
       "</table>\n",
       "</div>"
      ],
      "text/plain": [
       "cluster_km                                  0           1           2  \\\n",
       "gender                               0.502473    0.522078    0.495050   \n",
       "Near_Location                        0.959446    0.862338    0.000000   \n",
       "Partner                              0.783383    0.470130    0.463366   \n",
       "Promo_friends                        0.574679    0.306494    0.079208   \n",
       "Phone                                1.000000    0.000000    1.000000   \n",
       "Contract_period                     10.884273    4.787013    2.352475   \n",
       "Group_visits                         0.543027    0.425974    0.215842   \n",
       "Age                                 29.980218   29.301299   28.477228   \n",
       "Avg_additional_charges_total       160.706969  143.957664  135.457501   \n",
       "Month_to_end_contract                9.950544    4.475325    2.198020   \n",
       "Lifetime                             4.738872    3.924675    2.809901   \n",
       "Avg_class_frequency_total            1.983305    1.847220    1.660461   \n",
       "Avg_class_frequency_current_month    1.976225    1.716369    1.477324   \n",
       "Churn                                0.027695    0.267532    0.443564   \n",
       "\n",
       "cluster_km                                  3           4  \n",
       "gender                               0.485737    0.560335  \n",
       "Near_Location                        1.000000    0.976105  \n",
       "Partner                              0.350238    0.356033  \n",
       "Promo_friends                        0.240095    0.229391  \n",
       "Phone                                1.000000    0.998805  \n",
       "Contract_period                      1.948494    2.665472  \n",
       "Group_visits                         0.341521    0.473118  \n",
       "Age                                 28.167987   30.127838  \n",
       "Avg_additional_charges_total       131.622204  161.724258  \n",
       "Month_to_end_contract                1.856577    2.455197  \n",
       "Lifetime                             2.440571    4.896057  \n",
       "Avg_class_frequency_total            1.247634    2.851531  \n",
       "Avg_class_frequency_current_month    1.012983    2.849473  \n",
       "Churn                                0.514263    0.068100  "
      ]
     },
     "execution_count": 37,
     "metadata": {},
     "output_type": "execute_result"
    }
   ],
   "source": [
    "data.groupby('cluster_km').mean().T"
   ]
  },
  {
   "cell_type": "markdown",
   "metadata": {},
   "source": [
    "Опишем полученные кластеры.\n",
    "\n",
    "Самые надежные - это кластеры 0 и 4. Доля оттока по ним менее 10%. Самые ненадежные 2 и 3.\n",
    "\n",
    "\n",
    "**0 Кластер.** Живут близко к клубу, покупают сразу длительные абонементы, посещают клуб около 2х раз в неделю, очень много клиентов пришли по партнерским акциям или по приглашению друзей.\n",
    "\n",
    "**1 Кластер.** Берут абонементы на 1-6 месяцев. Посещают в среднем 2 раза в неделю. В целом показатели похожи на Кластер 0. Но доля оттока выше, потому что в этом кластере клиенты, которые не оставили свой номер телефона и не в курсе новостей клуба. \n",
    "\n",
    "**2 Кластер.** Клиенты этого кластера живут далеко от клуба. Берут короткие абонементы на 1 месяц, посещают в среднем 1,5-2 раза в неделю и отваливаются в связи с удаленностью.\n",
    "\n",
    "**3 Кластер.** Самые молодые клиенты в этом кластере, отваливаются после первого месяца посещений. Ходят в среднем 1 раз в неделю, хотя и живут близко. Стоит пристально рассмотреть этот кластер и привлечь клиентов новыми акциями и предложениями.\n",
    "\n",
    "**4 Кластер.** Завсегдатаи клуба. Старые клиенты, которые давно и стабильно ходят. Посещений с среднем 3 в неделю, живут поблизости. Берут короткие абонементы, но не покидают клуб несмотря на это."
   ]
  },
  {
   "cell_type": "markdown",
   "metadata": {},
   "source": [
    "## Выводы. <a name=\"paragraph6\"></a>"
   ]
  },
  {
   "cell_type": "markdown",
   "metadata": {},
   "source": [
    "В начале своего спортивного пути многие склонны к быстрому началу и к такому же быстрому концу. \n",
    "Анализ наиболее важных признаков, влияющих на отток показал, что наибольший вес имеют удаленность клуба, наличие телефона клиента, длительность контракта, средние количества посещений клуба.\n",
    "\n",
    "Для удержания клиентов в клубе следовало бы ежемесячно отслеживать частоту посещений клуба, в случае резкого начала и резкого конца, необходимо поощрить клиента бесплатной тренировкой или значительной скидкой на случай возвращения. Бесплатная тренировка даст возможность проанализировать ошибки резкого старта с профессионалом и скорректировать программу на длительный срок.\n",
    "\n",
    "Обязательно отслеживать наличие номера телефона в анкете клиента. \n",
    "\n",
    "Активно рекламировать клуб в районе, где тот находится. Сюдя по данным, много постоянных посетителей среди тех, кто живет или работает поблизости.\n",
    "\n",
    "Для новых клиентов есть смысл предлагать также скидки на занятия с тренером или бонусные групповые тренировки, которые помогут комфортно влиться в фитнес и не разочароваться на ранних этапах."
   ]
  }
 ],
 "metadata": {
  "ExecuteTimeLog": [
   {
    "duration": 793,
    "start_time": "2021-07-03T17:30:23.846Z"
   },
   {
    "duration": 29,
    "start_time": "2021-07-03T17:30:59.567Z"
   },
   {
    "duration": 39,
    "start_time": "2021-07-03T17:31:03.655Z"
   },
   {
    "duration": 76,
    "start_time": "2021-07-03T17:32:40.311Z"
   },
   {
    "duration": 3,
    "start_time": "2021-07-03T17:35:51.416Z"
   },
   {
    "duration": 3,
    "start_time": "2021-07-03T17:35:55.359Z"
   },
   {
    "duration": 23,
    "start_time": "2021-07-03T17:36:34.323Z"
   },
   {
    "duration": 731,
    "start_time": "2021-07-04T19:57:04.091Z"
   },
   {
    "duration": 31,
    "start_time": "2021-07-04T19:57:04.864Z"
   },
   {
    "duration": 39,
    "start_time": "2021-07-04T19:57:05.669Z"
   },
   {
    "duration": 17,
    "start_time": "2021-07-04T19:57:13.367Z"
   },
   {
    "duration": 723,
    "start_time": "2021-07-04T20:01:13.606Z"
   },
   {
    "duration": 32,
    "start_time": "2021-07-04T20:21:14.102Z"
   },
   {
    "duration": 2648,
    "start_time": "2021-07-04T20:21:24.593Z"
   },
   {
    "duration": 2692,
    "start_time": "2021-07-04T20:22:08.620Z"
   },
   {
    "duration": 2920,
    "start_time": "2021-07-04T20:22:31.766Z"
   },
   {
    "duration": 3463,
    "start_time": "2021-07-04T20:22:42.093Z"
   },
   {
    "duration": 3429,
    "start_time": "2021-07-04T20:23:57.353Z"
   },
   {
    "duration": 1698,
    "start_time": "2021-07-04T20:27:39.295Z"
   },
   {
    "duration": 405,
    "start_time": "2021-07-04T20:28:42.624Z"
   },
   {
    "duration": 5709,
    "start_time": "2021-07-04T20:28:49.274Z"
   },
   {
    "duration": 676,
    "start_time": "2021-07-04T20:32:40.682Z"
   },
   {
    "duration": 1824,
    "start_time": "2021-07-04T20:32:49.713Z"
   },
   {
    "duration": 1514,
    "start_time": "2021-07-04T20:33:01.195Z"
   },
   {
    "duration": 1583,
    "start_time": "2021-07-04T20:33:07.791Z"
   },
   {
    "duration": 1672,
    "start_time": "2021-07-04T20:36:09.320Z"
   },
   {
    "duration": 1757,
    "start_time": "2021-07-04T20:36:18.726Z"
   },
   {
    "duration": 1744,
    "start_time": "2021-07-04T20:36:27.184Z"
   },
   {
    "duration": 1853,
    "start_time": "2021-07-04T20:36:37.645Z"
   },
   {
    "duration": 2086,
    "start_time": "2021-07-04T20:36:49.035Z"
   },
   {
    "duration": 1898,
    "start_time": "2021-07-04T20:37:31.586Z"
   },
   {
    "duration": 74,
    "start_time": "2021-07-04T21:04:34.769Z"
   },
   {
    "duration": 6,
    "start_time": "2021-07-04T21:04:55.646Z"
   },
   {
    "duration": 8,
    "start_time": "2021-07-04T21:04:56.338Z"
   },
   {
    "duration": 35,
    "start_time": "2021-07-04T21:05:58.334Z"
   },
   {
    "duration": 5,
    "start_time": "2021-07-04T21:15:56.052Z"
   },
   {
    "duration": 53,
    "start_time": "2021-07-04T21:17:03.522Z"
   },
   {
    "duration": 58,
    "start_time": "2021-07-04T21:17:19.492Z"
   },
   {
    "duration": 12,
    "start_time": "2021-07-04T21:18:31.908Z"
   },
   {
    "duration": 1165,
    "start_time": "2021-07-04T21:21:24.341Z"
   },
   {
    "duration": 8,
    "start_time": "2021-07-04T21:24:50.707Z"
   },
   {
    "duration": 1166,
    "start_time": "2021-07-04T21:24:52.349Z"
   },
   {
    "duration": 1045,
    "start_time": "2021-07-04T21:26:14.767Z"
   },
   {
    "duration": 5,
    "start_time": "2021-07-04T21:28:14.890Z"
   },
   {
    "duration": 278,
    "start_time": "2021-07-04T21:29:15.260Z"
   },
   {
    "duration": 12,
    "start_time": "2021-07-04T21:29:27.440Z"
   },
   {
    "duration": 300,
    "start_time": "2021-07-04T21:30:36.320Z"
   },
   {
    "duration": 278,
    "start_time": "2021-07-04T21:39:31.493Z"
   },
   {
    "duration": 4,
    "start_time": "2021-07-04T21:53:21.905Z"
   },
   {
    "duration": 518,
    "start_time": "2021-07-04T21:53:29.909Z"
   },
   {
    "duration": 11,
    "start_time": "2021-07-04T21:53:36.362Z"
   },
   {
    "duration": 105,
    "start_time": "2021-07-04T21:54:14.552Z"
   },
   {
    "duration": 131,
    "start_time": "2021-07-04T22:15:45.624Z"
   },
   {
    "duration": 11,
    "start_time": "2021-07-04T22:16:03.682Z"
   },
   {
    "duration": 267,
    "start_time": "2021-07-04T22:16:50.688Z"
   },
   {
    "duration": 10,
    "start_time": "2021-07-04T22:16:53.738Z"
   },
   {
    "duration": 10,
    "start_time": "2021-07-04T22:17:04.308Z"
   },
   {
    "duration": 49,
    "start_time": "2021-07-04T22:21:47.526Z"
   },
   {
    "duration": 12,
    "start_time": "2021-07-04T22:21:51.024Z"
   },
   {
    "duration": 4,
    "start_time": "2021-07-04T22:24:12.466Z"
   },
   {
    "duration": 11,
    "start_time": "2021-07-04T22:24:15.194Z"
   },
   {
    "duration": 5,
    "start_time": "2021-07-04T22:27:17.477Z"
   },
   {
    "duration": 11,
    "start_time": "2021-07-04T22:27:18.002Z"
   },
   {
    "duration": 11,
    "start_time": "2021-07-04T22:27:19.211Z"
   },
   {
    "duration": 347,
    "start_time": "2021-07-05T16:47:37.830Z"
   },
   {
    "duration": 1601,
    "start_time": "2021-07-05T16:47:43.146Z"
   },
   {
    "duration": 29,
    "start_time": "2021-07-05T16:47:44.749Z"
   },
   {
    "duration": 21,
    "start_time": "2021-07-05T16:47:44.781Z"
   },
   {
    "duration": 6,
    "start_time": "2021-07-05T16:47:48.832Z"
   },
   {
    "duration": 6,
    "start_time": "2021-07-05T16:48:21.699Z"
   },
   {
    "duration": 126,
    "start_time": "2021-07-05T16:51:31.061Z"
   },
   {
    "duration": 4,
    "start_time": "2021-07-05T16:51:36.035Z"
   },
   {
    "duration": 8,
    "start_time": "2021-07-05T16:52:20.472Z"
   },
   {
    "duration": 9,
    "start_time": "2021-07-05T16:52:50.117Z"
   },
   {
    "duration": 5,
    "start_time": "2021-07-05T17:13:47.441Z"
   },
   {
    "duration": 1370,
    "start_time": "2021-07-05T17:14:50.871Z"
   },
   {
    "duration": 785,
    "start_time": "2021-07-05T17:14:58.291Z"
   },
   {
    "duration": 745,
    "start_time": "2021-07-05T17:16:13.091Z"
   },
   {
    "duration": 140294,
    "start_time": "2021-07-05T17:16:36.109Z"
   },
   {
    "duration": 326,
    "start_time": "2021-07-05T17:34:26.080Z"
   },
   {
    "duration": 23,
    "start_time": "2021-07-05T17:34:56.722Z"
   },
   {
    "duration": 1477,
    "start_time": "2021-07-05T17:35:05.089Z"
   },
   {
    "duration": 6,
    "start_time": "2021-07-05T17:35:10.680Z"
   },
   {
    "duration": 39,
    "start_time": "2021-07-05T17:36:24.097Z"
   },
   {
    "duration": 273,
    "start_time": "2021-07-05T18:02:33.293Z"
   },
   {
    "duration": 269,
    "start_time": "2021-07-05T18:06:10.052Z"
   },
   {
    "duration": 256,
    "start_time": "2021-07-05T18:06:19.231Z"
   },
   {
    "duration": 306,
    "start_time": "2021-07-05T18:08:01.918Z"
   },
   {
    "duration": 5,
    "start_time": "2021-07-05T19:01:51.299Z"
   },
   {
    "duration": 27,
    "start_time": "2021-07-05T19:01:52.629Z"
   },
   {
    "duration": 17,
    "start_time": "2021-07-05T19:01:52.867Z"
   },
   {
    "duration": 75,
    "start_time": "2021-07-05T19:01:55.187Z"
   },
   {
    "duration": 27,
    "start_time": "2021-07-05T19:01:57.665Z"
   },
   {
    "duration": 2943,
    "start_time": "2021-07-05T19:02:17.734Z"
   },
   {
    "duration": 8477,
    "start_time": "2021-07-05T19:14:08.273Z"
   },
   {
    "duration": 8470,
    "start_time": "2021-07-05T19:14:08.282Z"
   },
   {
    "duration": 8467,
    "start_time": "2021-07-05T19:14:08.286Z"
   },
   {
    "duration": 1508,
    "start_time": "2021-07-05T19:14:31.889Z"
   },
   {
    "duration": 27,
    "start_time": "2021-07-05T19:14:37.722Z"
   },
   {
    "duration": 21,
    "start_time": "2021-07-05T19:14:38.384Z"
   },
   {
    "duration": 75,
    "start_time": "2021-07-05T19:14:40.466Z"
   },
   {
    "duration": 22,
    "start_time": "2021-07-05T19:14:42.208Z"
   },
   {
    "duration": 1822,
    "start_time": "2021-07-05T19:15:02.039Z"
   },
   {
    "duration": 6,
    "start_time": "2021-07-05T19:15:04.606Z"
   },
   {
    "duration": 7,
    "start_time": "2021-07-05T19:15:04.979Z"
   },
   {
    "duration": 48,
    "start_time": "2021-07-05T19:15:05.751Z"
   },
   {
    "duration": 493,
    "start_time": "2021-07-05T19:15:06.519Z"
   },
   {
    "duration": 4,
    "start_time": "2021-07-05T19:15:07.257Z"
   },
   {
    "duration": 10,
    "start_time": "2021-07-05T19:15:07.633Z"
   },
   {
    "duration": 10,
    "start_time": "2021-07-05T19:15:08.029Z"
   },
   {
    "duration": 5,
    "start_time": "2021-07-05T19:15:10.139Z"
   },
   {
    "duration": 8,
    "start_time": "2021-07-05T19:15:10.985Z"
   },
   {
    "duration": 804,
    "start_time": "2021-07-05T19:15:11.739Z"
   },
   {
    "duration": 134805,
    "start_time": "2021-07-05T19:15:12.545Z"
   },
   {
    "duration": 1983,
    "start_time": "2021-07-05T19:19:31.282Z"
   },
   {
    "duration": 26,
    "start_time": "2021-07-05T19:19:34.518Z"
   },
   {
    "duration": 438,
    "start_time": "2021-07-05T19:19:37.210Z"
   },
   {
    "duration": 351,
    "start_time": "2021-07-05T19:20:01.255Z"
   },
   {
    "duration": 281,
    "start_time": "2021-07-05T19:20:42.694Z"
   },
   {
    "duration": 258,
    "start_time": "2021-07-05T19:21:16.063Z"
   },
   {
    "duration": 4798,
    "start_time": "2021-07-05T19:22:29.249Z"
   },
   {
    "duration": 254,
    "start_time": "2021-07-05T19:22:38.094Z"
   },
   {
    "duration": 1457,
    "start_time": "2021-07-05T19:22:57.249Z"
   },
   {
    "duration": 27,
    "start_time": "2021-07-05T19:23:00.045Z"
   },
   {
    "duration": 22,
    "start_time": "2021-07-05T19:23:01.195Z"
   },
   {
    "duration": 75,
    "start_time": "2021-07-05T19:23:05.929Z"
   },
   {
    "duration": 24,
    "start_time": "2021-07-05T19:23:07.303Z"
   },
   {
    "duration": 1797,
    "start_time": "2021-07-05T19:23:11.527Z"
   },
   {
    "duration": 6,
    "start_time": "2021-07-05T19:23:22.043Z"
   },
   {
    "duration": 9,
    "start_time": "2021-07-05T19:23:22.491Z"
   },
   {
    "duration": 56,
    "start_time": "2021-07-05T19:23:23.603Z"
   },
   {
    "duration": 493,
    "start_time": "2021-07-05T19:23:24.364Z"
   },
   {
    "duration": 6,
    "start_time": "2021-07-05T19:23:25.423Z"
   },
   {
    "duration": 11,
    "start_time": "2021-07-05T19:23:26.276Z"
   },
   {
    "duration": 11,
    "start_time": "2021-07-05T19:23:26.583Z"
   },
   {
    "duration": 6,
    "start_time": "2021-07-05T19:23:29.015Z"
   },
   {
    "duration": 8,
    "start_time": "2021-07-05T19:23:29.854Z"
   },
   {
    "duration": 746,
    "start_time": "2021-07-05T19:23:31.246Z"
   },
   {
    "duration": 1976,
    "start_time": "2021-07-05T19:23:32.984Z"
   },
   {
    "duration": 29,
    "start_time": "2021-07-05T19:23:34.963Z"
   },
   {
    "duration": 664,
    "start_time": "2021-07-05T19:23:35.424Z"
   },
   {
    "duration": 411,
    "start_time": "2021-07-05T19:25:45.869Z"
   },
   {
    "duration": 2998,
    "start_time": "2021-07-05T19:25:57.674Z"
   },
   {
    "duration": 6441,
    "start_time": "2021-07-05T19:26:40.805Z"
   },
   {
    "duration": 7289,
    "start_time": "2021-07-05T19:30:17.019Z"
   },
   {
    "duration": 6680,
    "start_time": "2021-07-05T19:30:58.658Z"
   },
   {
    "duration": 10815,
    "start_time": "2021-07-05T19:32:28.871Z"
   },
   {
    "duration": 8512,
    "start_time": "2021-07-05T19:41:11.863Z"
   },
   {
    "duration": 537,
    "start_time": "2021-07-05T19:45:06.566Z"
   },
   {
    "duration": 9442,
    "start_time": "2021-07-05T19:45:15.713Z"
   },
   {
    "duration": 294601,
    "start_time": "2021-07-05T19:46:51.281Z"
   },
   {
    "duration": 8399,
    "start_time": "2021-07-05T19:51:37.486Z"
   },
   {
    "duration": 5,
    "start_time": "2021-07-05T19:51:53.935Z"
   },
   {
    "duration": 20,
    "start_time": "2021-07-05T19:52:14.729Z"
   },
   {
    "duration": 25,
    "start_time": "2021-07-05T19:52:58.249Z"
   },
   {
    "duration": 19,
    "start_time": "2021-07-05T19:53:05.881Z"
   },
   {
    "duration": 1098,
    "start_time": "2021-07-05T19:53:32.244Z"
   },
   {
    "duration": 388396,
    "start_time": "2021-07-05T19:55:01.442Z"
   },
   {
    "duration": 8500,
    "start_time": "2021-07-05T20:01:21.341Z"
   },
   {
    "duration": 8499,
    "start_time": "2021-07-05T20:01:21.344Z"
   },
   {
    "duration": 6830,
    "start_time": "2021-07-05T20:01:31.645Z"
   },
   {
    "duration": 7341,
    "start_time": "2021-07-05T20:01:51.796Z"
   },
   {
    "duration": 7179,
    "start_time": "2021-07-05T20:02:26.227Z"
   },
   {
    "duration": 11337,
    "start_time": "2021-07-05T20:04:52.372Z"
   },
   {
    "duration": 27,
    "start_time": "2021-07-05T20:05:55.707Z"
   },
   {
    "duration": 1141,
    "start_time": "2021-07-06T15:06:52.881Z"
   },
   {
    "duration": 22,
    "start_time": "2021-07-06T15:06:54.024Z"
   },
   {
    "duration": 14,
    "start_time": "2021-07-06T15:06:54.542Z"
   },
   {
    "duration": 41,
    "start_time": "2021-07-06T15:06:57.613Z"
   },
   {
    "duration": 11,
    "start_time": "2021-07-06T15:06:59.912Z"
   },
   {
    "duration": 353,
    "start_time": "2021-07-06T15:16:43.236Z"
   },
   {
    "duration": 1293,
    "start_time": "2021-07-06T19:44:23.883Z"
   },
   {
    "duration": 22,
    "start_time": "2021-07-06T19:44:25.178Z"
   },
   {
    "duration": 13,
    "start_time": "2021-07-06T19:44:25.202Z"
   },
   {
    "duration": 44,
    "start_time": "2021-07-06T19:44:28.070Z"
   },
   {
    "duration": 11,
    "start_time": "2021-07-06T19:44:29.530Z"
   },
   {
    "duration": 350,
    "start_time": "2021-07-06T19:44:31.563Z"
   },
   {
    "duration": 3015,
    "start_time": "2021-07-06T19:44:55.949Z"
   },
   {
    "duration": 1600,
    "start_time": "2021-07-06T19:45:31.170Z"
   },
   {
    "duration": 25,
    "start_time": "2021-07-06T19:45:32.773Z"
   },
   {
    "duration": 21,
    "start_time": "2021-07-06T19:45:33.395Z"
   },
   {
    "duration": 70,
    "start_time": "2021-07-06T19:45:35.167Z"
   },
   {
    "duration": 14,
    "start_time": "2021-07-06T19:45:36.700Z"
   },
   {
    "duration": 347,
    "start_time": "2021-07-06T19:45:38.280Z"
   },
   {
    "duration": 1272,
    "start_time": "2021-07-06T19:46:48.841Z"
   },
   {
    "duration": 3955,
    "start_time": "2021-07-06T19:47:52.195Z"
   },
   {
    "duration": 1111,
    "start_time": "2021-07-06T19:48:16.516Z"
   },
   {
    "duration": 21,
    "start_time": "2021-07-06T19:48:17.628Z"
   },
   {
    "duration": 14,
    "start_time": "2021-07-06T19:48:18.000Z"
   },
   {
    "duration": 3925,
    "start_time": "2021-07-06T19:48:26.066Z"
   },
   {
    "duration": 1096,
    "start_time": "2021-07-06T19:53:19.764Z"
   },
   {
    "duration": 1082,
    "start_time": "2021-07-06T19:54:16.177Z"
   },
   {
    "duration": 4,
    "start_time": "2021-07-06T20:56:15.481Z"
   },
   {
    "duration": 4,
    "start_time": "2021-07-06T20:56:34.136Z"
   },
   {
    "duration": 6,
    "start_time": "2021-07-06T20:56:34.878Z"
   },
   {
    "duration": 21,
    "start_time": "2021-07-06T20:56:39.430Z"
   },
   {
    "duration": 301,
    "start_time": "2021-07-06T20:56:41.065Z"
   },
   {
    "duration": 3,
    "start_time": "2021-07-06T20:56:42.347Z"
   },
   {
    "duration": 7,
    "start_time": "2021-07-06T20:56:48.623Z"
   },
   {
    "duration": 7,
    "start_time": "2021-07-06T20:56:51.095Z"
   },
   {
    "duration": 4,
    "start_time": "2021-07-06T20:58:03.273Z"
   },
   {
    "duration": 4,
    "start_time": "2021-07-06T20:58:10.445Z"
   },
   {
    "duration": 9,
    "start_time": "2021-07-06T20:58:10.451Z"
   },
   {
    "duration": 22,
    "start_time": "2021-07-06T20:58:11.624Z"
   },
   {
    "duration": 287,
    "start_time": "2021-07-06T20:58:14.588Z"
   },
   {
    "duration": 3,
    "start_time": "2021-07-06T20:58:15.446Z"
   },
   {
    "duration": 7,
    "start_time": "2021-07-06T20:58:31.926Z"
   },
   {
    "duration": 8,
    "start_time": "2021-07-06T20:58:33.457Z"
   },
   {
    "duration": 4,
    "start_time": "2021-07-06T21:00:18.726Z"
   },
   {
    "duration": 5,
    "start_time": "2021-07-06T21:00:19.687Z"
   },
   {
    "duration": 547,
    "start_time": "2021-07-06T21:00:22.622Z"
   },
   {
    "duration": 72829,
    "start_time": "2021-07-06T21:00:24.147Z"
   },
   {
    "duration": 1233,
    "start_time": "2021-07-06T21:01:36.978Z"
   },
   {
    "duration": 13,
    "start_time": "2021-07-06T21:01:38.213Z"
   },
   {
    "duration": 1127,
    "start_time": "2021-07-06T21:07:26.972Z"
   },
   {
    "duration": 13,
    "start_time": "2021-07-06T21:07:30.005Z"
   },
   {
    "duration": 6199,
    "start_time": "2021-07-06T21:07:34.794Z"
   },
   {
    "duration": 4,
    "start_time": "2021-07-06T21:17:36.772Z"
   },
   {
    "duration": 12,
    "start_time": "2021-07-06T21:17:38.276Z"
   },
   {
    "duration": 2759,
    "start_time": "2021-07-06T21:23:19.489Z"
   },
   {
    "duration": 327,
    "start_time": "2021-07-06T21:23:52.200Z"
   },
   {
    "duration": 3557,
    "start_time": "2021-07-06T21:24:22.442Z"
   },
   {
    "duration": 1914,
    "start_time": "2021-07-06T21:47:54.254Z"
   },
   {
    "duration": 1321,
    "start_time": "2021-07-07T12:05:59.443Z"
   },
   {
    "duration": 20,
    "start_time": "2021-07-07T12:06:00.767Z"
   },
   {
    "duration": 28,
    "start_time": "2021-07-07T12:06:00.789Z"
   },
   {
    "duration": 55,
    "start_time": "2021-07-07T12:06:00.819Z"
   },
   {
    "duration": 9,
    "start_time": "2021-07-07T12:06:00.875Z"
   },
   {
    "duration": 9,
    "start_time": "2021-07-07T12:06:00.886Z"
   },
   {
    "duration": 489,
    "start_time": "2021-07-07T12:06:00.897Z"
   },
   {
    "duration": 3,
    "start_time": "2021-07-07T12:06:01.385Z"
   },
   {
    "duration": 3,
    "start_time": "2021-07-07T12:06:01.386Z"
   },
   {
    "duration": 2,
    "start_time": "2021-07-07T12:06:01.388Z"
   },
   {
    "duration": 2,
    "start_time": "2021-07-07T12:06:01.389Z"
   },
   {
    "duration": 0,
    "start_time": "2021-07-07T12:06:01.392Z"
   },
   {
    "duration": -1,
    "start_time": "2021-07-07T12:06:01.393Z"
   },
   {
    "duration": -5,
    "start_time": "2021-07-07T12:06:01.398Z"
   },
   {
    "duration": -7,
    "start_time": "2021-07-07T12:06:01.401Z"
   },
   {
    "duration": -8,
    "start_time": "2021-07-07T12:06:01.403Z"
   },
   {
    "duration": -8,
    "start_time": "2021-07-07T12:06:01.404Z"
   },
   {
    "duration": -26,
    "start_time": "2021-07-07T12:06:01.423Z"
   },
   {
    "duration": -29,
    "start_time": "2021-07-07T12:06:01.426Z"
   },
   {
    "duration": -29,
    "start_time": "2021-07-07T12:06:01.427Z"
   },
   {
    "duration": -32,
    "start_time": "2021-07-07T12:06:01.431Z"
   },
   {
    "duration": -33,
    "start_time": "2021-07-07T12:06:01.433Z"
   },
   {
    "duration": -34,
    "start_time": "2021-07-07T12:06:01.435Z"
   },
   {
    "duration": -34,
    "start_time": "2021-07-07T12:06:01.436Z"
   },
   {
    "duration": -36,
    "start_time": "2021-07-07T12:06:01.438Z"
   },
   {
    "duration": 2783,
    "start_time": "2021-07-07T12:08:19.067Z"
   },
   {
    "duration": 1140,
    "start_time": "2021-07-07T12:10:16.162Z"
   },
   {
    "duration": 21,
    "start_time": "2021-07-07T12:10:17.304Z"
   },
   {
    "duration": 13,
    "start_time": "2021-07-07T12:10:17.327Z"
   },
   {
    "duration": 51,
    "start_time": "2021-07-07T12:10:17.342Z"
   },
   {
    "duration": 9,
    "start_time": "2021-07-07T12:10:17.395Z"
   },
   {
    "duration": 16,
    "start_time": "2021-07-07T12:10:17.405Z"
   },
   {
    "duration": 5540,
    "start_time": "2021-07-07T12:10:17.423Z"
   },
   {
    "duration": 1650,
    "start_time": "2021-07-07T12:10:22.967Z"
   },
   {
    "duration": 4,
    "start_time": "2021-07-07T12:10:24.619Z"
   },
   {
    "duration": 5,
    "start_time": "2021-07-07T12:10:24.640Z"
   },
   {
    "duration": 20,
    "start_time": "2021-07-07T12:10:24.646Z"
   },
   {
    "duration": 37,
    "start_time": "2021-07-07T12:10:24.668Z"
   },
   {
    "duration": 289,
    "start_time": "2021-07-07T12:10:24.707Z"
   },
   {
    "duration": 3,
    "start_time": "2021-07-07T12:10:24.997Z"
   },
   {
    "duration": 11,
    "start_time": "2021-07-07T12:10:25.002Z"
   },
   {
    "duration": 10,
    "start_time": "2021-07-07T12:10:25.015Z"
   },
   {
    "duration": 19,
    "start_time": "2021-07-07T12:10:25.026Z"
   },
   {
    "duration": 17,
    "start_time": "2021-07-07T12:10:25.046Z"
   },
   {
    "duration": 525,
    "start_time": "2021-07-07T12:10:25.064Z"
   },
   {
    "duration": 80829,
    "start_time": "2021-07-07T12:10:25.590Z"
   },
   {
    "duration": 1828,
    "start_time": "2021-07-07T12:11:46.421Z"
   },
   {
    "duration": 12,
    "start_time": "2021-07-07T12:11:48.251Z"
   },
   {
    "duration": 6503,
    "start_time": "2021-07-07T12:11:48.266Z"
   },
   {
    "duration": 4,
    "start_time": "2021-07-07T12:11:54.771Z"
   },
   {
    "duration": 17,
    "start_time": "2021-07-07T12:11:54.777Z"
   },
   {
    "duration": 1552,
    "start_time": "2021-07-07T21:27:05.901Z"
   },
   {
    "duration": 27,
    "start_time": "2021-07-07T21:27:07.456Z"
   },
   {
    "duration": 22,
    "start_time": "2021-07-07T21:27:07.485Z"
   },
   {
    "duration": 75,
    "start_time": "2021-07-07T21:27:09.970Z"
   },
   {
    "duration": 12,
    "start_time": "2021-07-07T21:27:48.907Z"
   },
   {
    "duration": 13,
    "start_time": "2021-07-07T21:28:44.200Z"
   },
   {
    "duration": 11,
    "start_time": "2021-07-07T21:28:47.932Z"
   },
   {
    "duration": 13,
    "start_time": "2021-07-07T21:28:51.258Z"
   },
   {
    "duration": 11,
    "start_time": "2021-07-07T21:28:57.942Z"
   },
   {
    "duration": 433,
    "start_time": "2021-07-07T21:58:22.027Z"
   },
   {
    "duration": 6,
    "start_time": "2021-07-07T21:58:41.488Z"
   },
   {
    "duration": 5,
    "start_time": "2021-07-07T21:58:43.652Z"
   },
   {
    "duration": 9,
    "start_time": "2021-07-07T21:58:46.220Z"
   },
   {
    "duration": 55,
    "start_time": "2021-07-07T21:58:47.012Z"
   },
   {
    "duration": 465,
    "start_time": "2021-07-07T21:58:47.946Z"
   },
   {
    "duration": 5,
    "start_time": "2021-07-07T21:58:50.048Z"
   },
   {
    "duration": 10,
    "start_time": "2021-07-07T21:58:50.424Z"
   },
   {
    "duration": 13,
    "start_time": "2021-07-07T21:58:51.287Z"
   },
   {
    "duration": 6,
    "start_time": "2021-07-07T21:58:54.512Z"
   },
   {
    "duration": 11,
    "start_time": "2021-07-07T21:58:56.052Z"
   },
   {
    "duration": 812,
    "start_time": "2021-07-07T21:58:58.055Z"
   },
   {
    "duration": 1754,
    "start_time": "2021-07-07T21:59:00.550Z"
   },
   {
    "duration": 22,
    "start_time": "2021-07-07T21:59:08.893Z"
   },
   {
    "duration": 6,
    "start_time": "2021-07-07T22:03:00.193Z"
   },
   {
    "duration": 2174,
    "start_time": "2021-07-07T22:04:17.181Z"
   },
   {
    "duration": 4,
    "start_time": "2021-07-07T22:05:47.947Z"
   },
   {
    "duration": 267,
    "start_time": "2021-07-07T22:05:58.118Z"
   },
   {
    "duration": 5157,
    "start_time": "2021-07-07T22:06:20.024Z"
   },
   {
    "duration": 276,
    "start_time": "2021-07-07T22:06:33.476Z"
   },
   {
    "duration": 1472,
    "start_time": "2021-07-07T22:06:47.602Z"
   },
   {
    "duration": 27,
    "start_time": "2021-07-07T22:06:49.077Z"
   },
   {
    "duration": 21,
    "start_time": "2021-07-07T22:06:49.107Z"
   },
   {
    "duration": 6845,
    "start_time": "2021-07-07T22:06:58.880Z"
   },
   {
    "duration": 5,
    "start_time": "2021-07-07T22:07:05.728Z"
   },
   {
    "duration": 5,
    "start_time": "2021-07-07T22:07:06.937Z"
   },
   {
    "duration": 8,
    "start_time": "2021-07-07T22:07:09.105Z"
   },
   {
    "duration": 51,
    "start_time": "2021-07-07T22:07:10.077Z"
   },
   {
    "duration": 494,
    "start_time": "2021-07-07T22:07:11.320Z"
   },
   {
    "duration": 5,
    "start_time": "2021-07-07T22:07:12.277Z"
   },
   {
    "duration": 12,
    "start_time": "2021-07-07T22:07:13.096Z"
   },
   {
    "duration": 11,
    "start_time": "2021-07-07T22:07:13.595Z"
   },
   {
    "duration": 6,
    "start_time": "2021-07-07T22:07:16.357Z"
   },
   {
    "duration": 9,
    "start_time": "2021-07-07T22:07:17.510Z"
   },
   {
    "duration": 797,
    "start_time": "2021-07-07T22:07:18.876Z"
   },
   {
    "duration": 1844,
    "start_time": "2021-07-07T22:07:23.661Z"
   },
   {
    "duration": 21,
    "start_time": "2021-07-07T22:07:26.451Z"
   },
   {
    "duration": 5,
    "start_time": "2021-07-07T22:07:30.694Z"
   },
   {
    "duration": 4,
    "start_time": "2021-07-07T22:07:31.929Z"
   },
   {
    "duration": 4582,
    "start_time": "2021-07-07T22:07:34.710Z"
   },
   {
    "duration": 6926,
    "start_time": "2021-07-07T22:07:46.371Z"
   },
   {
    "duration": 6703,
    "start_time": "2021-07-07T22:07:56.792Z"
   },
   {
    "duration": 6659,
    "start_time": "2021-07-07T22:08:08.650Z"
   },
   {
    "duration": 730,
    "start_time": "2021-07-07T22:09:18.852Z"
   },
   {
    "duration": 2327,
    "start_time": "2021-07-07T22:09:35.362Z"
   },
   {
    "duration": 1261,
    "start_time": "2021-07-07T22:09:48.948Z"
   },
   {
    "duration": 2384,
    "start_time": "2021-07-07T22:16:06.308Z"
   },
   {
    "duration": 1329,
    "start_time": "2021-07-07T22:17:38.496Z"
   },
   {
    "duration": 9067,
    "start_time": "2021-07-07T22:19:52.185Z"
   },
   {
    "duration": 9019,
    "start_time": "2021-07-07T22:27:53.036Z"
   },
   {
    "duration": 9018,
    "start_time": "2021-07-07T22:27:53.042Z"
   },
   {
    "duration": 89,
    "start_time": "2021-07-07T22:30:04.043Z"
   },
   {
    "duration": 1209,
    "start_time": "2021-07-07T22:30:13.945Z"
   },
   {
    "duration": 1996,
    "start_time": "2021-07-07T22:30:44.774Z"
   },
   {
    "duration": 2173,
    "start_time": "2021-07-07T22:31:43.591Z"
   },
   {
    "duration": 2010,
    "start_time": "2021-07-07T22:31:49.956Z"
   },
   {
    "duration": 4,
    "start_time": "2021-07-07T22:39:16.050Z"
   },
   {
    "duration": 21,
    "start_time": "2021-07-07T22:39:18.480Z"
   }
  ],
  "celltoolbar": "Необработанный формат ячейки",
  "kernelspec": {
   "display_name": "Python 3 (ipykernel)",
   "language": "python",
   "name": "python3"
  },
  "language_info": {
   "codemirror_mode": {
    "name": "ipython",
    "version": 3
   },
   "file_extension": ".py",
   "mimetype": "text/x-python",
   "name": "python",
   "nbconvert_exporter": "python",
   "pygments_lexer": "ipython3",
   "version": "3.9.6"
  },
  "toc": {
   "base_numbering": 1,
   "nav_menu": {
    "height": "318px",
    "width": "547px"
   },
   "number_sections": true,
   "sideBar": true,
   "skip_h1_title": true,
   "title_cell": "Table of Contents",
   "title_sidebar": "Contents",
   "toc_cell": false,
   "toc_position": {},
   "toc_section_display": true,
   "toc_window_display": false
  }
 },
 "nbformat": 4,
 "nbformat_minor": 4
}
